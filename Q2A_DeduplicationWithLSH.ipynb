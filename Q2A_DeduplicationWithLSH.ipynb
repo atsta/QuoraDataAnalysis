{
  "nbformat": 4,
  "nbformat_minor": 0,
  "metadata": {
    "colab": {
      "name": "Q2A.ipynb",
      "provenance": [],
      "collapsed_sections": [],
      "toc_visible": true
    },
    "kernelspec": {
      "display_name": "Python 3",
      "name": "python3"
    },
    "widgets": {
      "application/vnd.jupyter.widget-state+json": {
        "38094b98b2a446ffb10472e141622607": {
          "model_module": "@jupyter-widgets/controls",
          "model_name": "HBoxModel",
          "state": {
            "_view_name": "HBoxView",
            "_dom_classes": [],
            "_model_name": "HBoxModel",
            "_view_module": "@jupyter-widgets/controls",
            "_model_module_version": "1.5.0",
            "_view_count": null,
            "_view_module_version": "1.5.0",
            "box_style": "",
            "layout": "IPY_MODEL_215565239b294dad904de23bc6e3e7eb",
            "_model_module": "@jupyter-widgets/controls",
            "children": [
              "IPY_MODEL_ce336b4e81b640c58abe99caacb86a83",
              "IPY_MODEL_843d7391a3044edea4ec81e2746d3942"
            ]
          }
        },
        "215565239b294dad904de23bc6e3e7eb": {
          "model_module": "@jupyter-widgets/base",
          "model_name": "LayoutModel",
          "state": {
            "_view_name": "LayoutView",
            "grid_template_rows": null,
            "right": null,
            "justify_content": null,
            "_view_module": "@jupyter-widgets/base",
            "overflow": null,
            "_model_module_version": "1.2.0",
            "_view_count": null,
            "flex_flow": null,
            "width": null,
            "min_width": null,
            "border": null,
            "align_items": null,
            "bottom": null,
            "_model_module": "@jupyter-widgets/base",
            "top": null,
            "grid_column": null,
            "overflow_y": null,
            "overflow_x": null,
            "grid_auto_flow": null,
            "grid_area": null,
            "grid_template_columns": null,
            "flex": null,
            "_model_name": "LayoutModel",
            "justify_items": null,
            "grid_row": null,
            "max_height": null,
            "align_content": null,
            "visibility": null,
            "align_self": null,
            "height": null,
            "min_height": null,
            "padding": null,
            "grid_auto_rows": null,
            "grid_gap": null,
            "max_width": null,
            "order": null,
            "_view_module_version": "1.2.0",
            "grid_template_areas": null,
            "object_position": null,
            "object_fit": null,
            "grid_auto_columns": null,
            "margin": null,
            "display": null,
            "left": null
          }
        },
        "ce336b4e81b640c58abe99caacb86a83": {
          "model_module": "@jupyter-widgets/controls",
          "model_name": "FloatProgressModel",
          "state": {
            "_view_name": "ProgressView",
            "style": "IPY_MODEL_23b56e762b884809bd36c121c48dadf1",
            "_dom_classes": [],
            "description": "100%",
            "_model_name": "FloatProgressModel",
            "bar_style": "success",
            "max": 531990,
            "_view_module": "@jupyter-widgets/controls",
            "_model_module_version": "1.5.0",
            "value": 531990,
            "_view_count": null,
            "_view_module_version": "1.5.0",
            "orientation": "horizontal",
            "min": 0,
            "description_tooltip": null,
            "_model_module": "@jupyter-widgets/controls",
            "layout": "IPY_MODEL_7e379b4e998947478cec7447517069ed"
          }
        },
        "843d7391a3044edea4ec81e2746d3942": {
          "model_module": "@jupyter-widgets/controls",
          "model_name": "HTMLModel",
          "state": {
            "_view_name": "HTMLView",
            "style": "IPY_MODEL_e3cc6a99895c48e781926a65b0b4cb8c",
            "_dom_classes": [],
            "description": "",
            "_model_name": "HTMLModel",
            "placeholder": "​",
            "_view_module": "@jupyter-widgets/controls",
            "_model_module_version": "1.5.0",
            "value": " 531990/531990 [00:59&lt;00:00, 8941.58it/s]",
            "_view_count": null,
            "_view_module_version": "1.5.0",
            "description_tooltip": null,
            "_model_module": "@jupyter-widgets/controls",
            "layout": "IPY_MODEL_0fe00fc5e8ab40079085f86a2b2de4b9"
          }
        },
        "23b56e762b884809bd36c121c48dadf1": {
          "model_module": "@jupyter-widgets/controls",
          "model_name": "ProgressStyleModel",
          "state": {
            "_view_name": "StyleView",
            "_model_name": "ProgressStyleModel",
            "description_width": "initial",
            "_view_module": "@jupyter-widgets/base",
            "_model_module_version": "1.5.0",
            "_view_count": null,
            "_view_module_version": "1.2.0",
            "bar_color": null,
            "_model_module": "@jupyter-widgets/controls"
          }
        },
        "7e379b4e998947478cec7447517069ed": {
          "model_module": "@jupyter-widgets/base",
          "model_name": "LayoutModel",
          "state": {
            "_view_name": "LayoutView",
            "grid_template_rows": null,
            "right": null,
            "justify_content": null,
            "_view_module": "@jupyter-widgets/base",
            "overflow": null,
            "_model_module_version": "1.2.0",
            "_view_count": null,
            "flex_flow": null,
            "width": null,
            "min_width": null,
            "border": null,
            "align_items": null,
            "bottom": null,
            "_model_module": "@jupyter-widgets/base",
            "top": null,
            "grid_column": null,
            "overflow_y": null,
            "overflow_x": null,
            "grid_auto_flow": null,
            "grid_area": null,
            "grid_template_columns": null,
            "flex": null,
            "_model_name": "LayoutModel",
            "justify_items": null,
            "grid_row": null,
            "max_height": null,
            "align_content": null,
            "visibility": null,
            "align_self": null,
            "height": null,
            "min_height": null,
            "padding": null,
            "grid_auto_rows": null,
            "grid_gap": null,
            "max_width": null,
            "order": null,
            "_view_module_version": "1.2.0",
            "grid_template_areas": null,
            "object_position": null,
            "object_fit": null,
            "grid_auto_columns": null,
            "margin": null,
            "display": null,
            "left": null
          }
        },
        "e3cc6a99895c48e781926a65b0b4cb8c": {
          "model_module": "@jupyter-widgets/controls",
          "model_name": "DescriptionStyleModel",
          "state": {
            "_view_name": "StyleView",
            "_model_name": "DescriptionStyleModel",
            "description_width": "",
            "_view_module": "@jupyter-widgets/base",
            "_model_module_version": "1.5.0",
            "_view_count": null,
            "_view_module_version": "1.2.0",
            "_model_module": "@jupyter-widgets/controls"
          }
        },
        "0fe00fc5e8ab40079085f86a2b2de4b9": {
          "model_module": "@jupyter-widgets/base",
          "model_name": "LayoutModel",
          "state": {
            "_view_name": "LayoutView",
            "grid_template_rows": null,
            "right": null,
            "justify_content": null,
            "_view_module": "@jupyter-widgets/base",
            "overflow": null,
            "_model_module_version": "1.2.0",
            "_view_count": null,
            "flex_flow": null,
            "width": null,
            "min_width": null,
            "border": null,
            "align_items": null,
            "bottom": null,
            "_model_module": "@jupyter-widgets/base",
            "top": null,
            "grid_column": null,
            "overflow_y": null,
            "overflow_x": null,
            "grid_auto_flow": null,
            "grid_area": null,
            "grid_template_columns": null,
            "flex": null,
            "_model_name": "LayoutModel",
            "justify_items": null,
            "grid_row": null,
            "max_height": null,
            "align_content": null,
            "visibility": null,
            "align_self": null,
            "height": null,
            "min_height": null,
            "padding": null,
            "grid_auto_rows": null,
            "grid_gap": null,
            "max_width": null,
            "order": null,
            "_view_module_version": "1.2.0",
            "grid_template_areas": null,
            "object_position": null,
            "object_fit": null,
            "grid_auto_columns": null,
            "margin": null,
            "display": null,
            "left": null
          }
        },
        "8be4f7079bdb445a97f920029a5e8c47": {
          "model_module": "@jupyter-widgets/controls",
          "model_name": "HBoxModel",
          "state": {
            "_view_name": "HBoxView",
            "_dom_classes": [],
            "_model_name": "HBoxModel",
            "_view_module": "@jupyter-widgets/controls",
            "_model_module_version": "1.5.0",
            "_view_count": null,
            "_view_module_version": "1.5.0",
            "box_style": "",
            "layout": "IPY_MODEL_874734d9354f4abba59b871bd40f1c40",
            "_model_module": "@jupyter-widgets/controls",
            "children": [
              "IPY_MODEL_8caf08ece9a4413dbfa04e57c2eaf068",
              "IPY_MODEL_508381954ae641f3b1862897e3d901b2"
            ]
          }
        },
        "874734d9354f4abba59b871bd40f1c40": {
          "model_module": "@jupyter-widgets/base",
          "model_name": "LayoutModel",
          "state": {
            "_view_name": "LayoutView",
            "grid_template_rows": null,
            "right": null,
            "justify_content": null,
            "_view_module": "@jupyter-widgets/base",
            "overflow": null,
            "_model_module_version": "1.2.0",
            "_view_count": null,
            "flex_flow": null,
            "width": null,
            "min_width": null,
            "border": null,
            "align_items": null,
            "bottom": null,
            "_model_module": "@jupyter-widgets/base",
            "top": null,
            "grid_column": null,
            "overflow_y": null,
            "overflow_x": null,
            "grid_auto_flow": null,
            "grid_area": null,
            "grid_template_columns": null,
            "flex": null,
            "_model_name": "LayoutModel",
            "justify_items": null,
            "grid_row": null,
            "max_height": null,
            "align_content": null,
            "visibility": null,
            "align_self": null,
            "height": null,
            "min_height": null,
            "padding": null,
            "grid_auto_rows": null,
            "grid_gap": null,
            "max_width": null,
            "order": null,
            "_view_module_version": "1.2.0",
            "grid_template_areas": null,
            "object_position": null,
            "object_fit": null,
            "grid_auto_columns": null,
            "margin": null,
            "display": null,
            "left": null
          }
        },
        "8caf08ece9a4413dbfa04e57c2eaf068": {
          "model_module": "@jupyter-widgets/controls",
          "model_name": "FloatProgressModel",
          "state": {
            "_view_name": "ProgressView",
            "style": "IPY_MODEL_9184052e71df49cc939da9c23e752cfe",
            "_dom_classes": [],
            "description": "100%",
            "_model_name": "FloatProgressModel",
            "bar_style": "success",
            "max": 5374,
            "_view_module": "@jupyter-widgets/controls",
            "_model_module_version": "1.5.0",
            "value": 5374,
            "_view_count": null,
            "_view_module_version": "1.5.0",
            "orientation": "horizontal",
            "min": 0,
            "description_tooltip": null,
            "_model_module": "@jupyter-widgets/controls",
            "layout": "IPY_MODEL_f81b13af6133472692fd5752d8213a6b"
          }
        },
        "508381954ae641f3b1862897e3d901b2": {
          "model_module": "@jupyter-widgets/controls",
          "model_name": "HTMLModel",
          "state": {
            "_view_name": "HTMLView",
            "style": "IPY_MODEL_ee31dcc11cf243a58fb4219a0f801281",
            "_dom_classes": [],
            "description": "",
            "_model_name": "HTMLModel",
            "placeholder": "​",
            "_view_module": "@jupyter-widgets/controls",
            "_model_module_version": "1.5.0",
            "value": " 5374/5374 [00:55&lt;00:00, 96.10it/s]",
            "_view_count": null,
            "_view_module_version": "1.5.0",
            "description_tooltip": null,
            "_model_module": "@jupyter-widgets/controls",
            "layout": "IPY_MODEL_d52c825a390447f1b6eff4e2523c17be"
          }
        },
        "9184052e71df49cc939da9c23e752cfe": {
          "model_module": "@jupyter-widgets/controls",
          "model_name": "ProgressStyleModel",
          "state": {
            "_view_name": "StyleView",
            "_model_name": "ProgressStyleModel",
            "description_width": "initial",
            "_view_module": "@jupyter-widgets/base",
            "_model_module_version": "1.5.0",
            "_view_count": null,
            "_view_module_version": "1.2.0",
            "bar_color": null,
            "_model_module": "@jupyter-widgets/controls"
          }
        },
        "f81b13af6133472692fd5752d8213a6b": {
          "model_module": "@jupyter-widgets/base",
          "model_name": "LayoutModel",
          "state": {
            "_view_name": "LayoutView",
            "grid_template_rows": null,
            "right": null,
            "justify_content": null,
            "_view_module": "@jupyter-widgets/base",
            "overflow": null,
            "_model_module_version": "1.2.0",
            "_view_count": null,
            "flex_flow": null,
            "width": null,
            "min_width": null,
            "border": null,
            "align_items": null,
            "bottom": null,
            "_model_module": "@jupyter-widgets/base",
            "top": null,
            "grid_column": null,
            "overflow_y": null,
            "overflow_x": null,
            "grid_auto_flow": null,
            "grid_area": null,
            "grid_template_columns": null,
            "flex": null,
            "_model_name": "LayoutModel",
            "justify_items": null,
            "grid_row": null,
            "max_height": null,
            "align_content": null,
            "visibility": null,
            "align_self": null,
            "height": null,
            "min_height": null,
            "padding": null,
            "grid_auto_rows": null,
            "grid_gap": null,
            "max_width": null,
            "order": null,
            "_view_module_version": "1.2.0",
            "grid_template_areas": null,
            "object_position": null,
            "object_fit": null,
            "grid_auto_columns": null,
            "margin": null,
            "display": null,
            "left": null
          }
        },
        "ee31dcc11cf243a58fb4219a0f801281": {
          "model_module": "@jupyter-widgets/controls",
          "model_name": "DescriptionStyleModel",
          "state": {
            "_view_name": "StyleView",
            "_model_name": "DescriptionStyleModel",
            "description_width": "",
            "_view_module": "@jupyter-widgets/base",
            "_model_module_version": "1.5.0",
            "_view_count": null,
            "_view_module_version": "1.2.0",
            "_model_module": "@jupyter-widgets/controls"
          }
        },
        "d52c825a390447f1b6eff4e2523c17be": {
          "model_module": "@jupyter-widgets/base",
          "model_name": "LayoutModel",
          "state": {
            "_view_name": "LayoutView",
            "grid_template_rows": null,
            "right": null,
            "justify_content": null,
            "_view_module": "@jupyter-widgets/base",
            "overflow": null,
            "_model_module_version": "1.2.0",
            "_view_count": null,
            "flex_flow": null,
            "width": null,
            "min_width": null,
            "border": null,
            "align_items": null,
            "bottom": null,
            "_model_module": "@jupyter-widgets/base",
            "top": null,
            "grid_column": null,
            "overflow_y": null,
            "overflow_x": null,
            "grid_auto_flow": null,
            "grid_area": null,
            "grid_template_columns": null,
            "flex": null,
            "_model_name": "LayoutModel",
            "justify_items": null,
            "grid_row": null,
            "max_height": null,
            "align_content": null,
            "visibility": null,
            "align_self": null,
            "height": null,
            "min_height": null,
            "padding": null,
            "grid_auto_rows": null,
            "grid_gap": null,
            "max_width": null,
            "order": null,
            "_view_module_version": "1.2.0",
            "grid_template_areas": null,
            "object_position": null,
            "object_fit": null,
            "grid_auto_columns": null,
            "margin": null,
            "display": null,
            "left": null
          }
        },
        "e512bc29a62e49aaa0b4ddde7f2063ae": {
          "model_module": "@jupyter-widgets/controls",
          "model_name": "HBoxModel",
          "state": {
            "_view_name": "HBoxView",
            "_dom_classes": [],
            "_model_name": "HBoxModel",
            "_view_module": "@jupyter-widgets/controls",
            "_model_module_version": "1.5.0",
            "_view_count": null,
            "_view_module_version": "1.5.0",
            "box_style": "",
            "layout": "IPY_MODEL_342662ceeab9439b8201ff83b63bb77f",
            "_model_module": "@jupyter-widgets/controls",
            "children": [
              "IPY_MODEL_cc44f9b96a234591a387f21e999d6e33",
              "IPY_MODEL_c1dd5092ea27475f8fecfc207cd700e3"
            ]
          }
        },
        "342662ceeab9439b8201ff83b63bb77f": {
          "model_module": "@jupyter-widgets/base",
          "model_name": "LayoutModel",
          "state": {
            "_view_name": "LayoutView",
            "grid_template_rows": null,
            "right": null,
            "justify_content": null,
            "_view_module": "@jupyter-widgets/base",
            "overflow": null,
            "_model_module_version": "1.2.0",
            "_view_count": null,
            "flex_flow": null,
            "width": null,
            "min_width": null,
            "border": null,
            "align_items": null,
            "bottom": null,
            "_model_module": "@jupyter-widgets/base",
            "top": null,
            "grid_column": null,
            "overflow_y": null,
            "overflow_x": null,
            "grid_auto_flow": null,
            "grid_area": null,
            "grid_template_columns": null,
            "flex": null,
            "_model_name": "LayoutModel",
            "justify_items": null,
            "grid_row": null,
            "max_height": null,
            "align_content": null,
            "visibility": null,
            "align_self": null,
            "height": null,
            "min_height": null,
            "padding": null,
            "grid_auto_rows": null,
            "grid_gap": null,
            "max_width": null,
            "order": null,
            "_view_module_version": "1.2.0",
            "grid_template_areas": null,
            "object_position": null,
            "object_fit": null,
            "grid_auto_columns": null,
            "margin": null,
            "display": null,
            "left": null
          }
        },
        "cc44f9b96a234591a387f21e999d6e33": {
          "model_module": "@jupyter-widgets/controls",
          "model_name": "FloatProgressModel",
          "state": {
            "_view_name": "ProgressView",
            "style": "IPY_MODEL_a44b72dc350344c6a6a1d63c00ca2c66",
            "_dom_classes": [],
            "description": "100%",
            "_model_name": "FloatProgressModel",
            "bar_style": "success",
            "max": 531990,
            "_view_module": "@jupyter-widgets/controls",
            "_model_module_version": "1.5.0",
            "value": 531990,
            "_view_count": null,
            "_view_module_version": "1.5.0",
            "orientation": "horizontal",
            "min": 0,
            "description_tooltip": null,
            "_model_module": "@jupyter-widgets/controls",
            "layout": "IPY_MODEL_86864d012e8d4964ab687d1d25c2b5b0"
          }
        },
        "c1dd5092ea27475f8fecfc207cd700e3": {
          "model_module": "@jupyter-widgets/controls",
          "model_name": "HTMLModel",
          "state": {
            "_view_name": "HTMLView",
            "style": "IPY_MODEL_0a44f9b4523b41368c42c8e17bad9c50",
            "_dom_classes": [],
            "description": "",
            "_model_name": "HTMLModel",
            "placeholder": "​",
            "_view_module": "@jupyter-widgets/controls",
            "_model_module_version": "1.5.0",
            "value": " 531990/531990 [08:10&lt;00:00, 1083.73it/s]",
            "_view_count": null,
            "_view_module_version": "1.5.0",
            "description_tooltip": null,
            "_model_module": "@jupyter-widgets/controls",
            "layout": "IPY_MODEL_6e34c5d90fc349dca77f97136dad37a3"
          }
        },
        "a44b72dc350344c6a6a1d63c00ca2c66": {
          "model_module": "@jupyter-widgets/controls",
          "model_name": "ProgressStyleModel",
          "state": {
            "_view_name": "StyleView",
            "_model_name": "ProgressStyleModel",
            "description_width": "initial",
            "_view_module": "@jupyter-widgets/base",
            "_model_module_version": "1.5.0",
            "_view_count": null,
            "_view_module_version": "1.2.0",
            "bar_color": null,
            "_model_module": "@jupyter-widgets/controls"
          }
        },
        "86864d012e8d4964ab687d1d25c2b5b0": {
          "model_module": "@jupyter-widgets/base",
          "model_name": "LayoutModel",
          "state": {
            "_view_name": "LayoutView",
            "grid_template_rows": null,
            "right": null,
            "justify_content": null,
            "_view_module": "@jupyter-widgets/base",
            "overflow": null,
            "_model_module_version": "1.2.0",
            "_view_count": null,
            "flex_flow": null,
            "width": null,
            "min_width": null,
            "border": null,
            "align_items": null,
            "bottom": null,
            "_model_module": "@jupyter-widgets/base",
            "top": null,
            "grid_column": null,
            "overflow_y": null,
            "overflow_x": null,
            "grid_auto_flow": null,
            "grid_area": null,
            "grid_template_columns": null,
            "flex": null,
            "_model_name": "LayoutModel",
            "justify_items": null,
            "grid_row": null,
            "max_height": null,
            "align_content": null,
            "visibility": null,
            "align_self": null,
            "height": null,
            "min_height": null,
            "padding": null,
            "grid_auto_rows": null,
            "grid_gap": null,
            "max_width": null,
            "order": null,
            "_view_module_version": "1.2.0",
            "grid_template_areas": null,
            "object_position": null,
            "object_fit": null,
            "grid_auto_columns": null,
            "margin": null,
            "display": null,
            "left": null
          }
        },
        "0a44f9b4523b41368c42c8e17bad9c50": {
          "model_module": "@jupyter-widgets/controls",
          "model_name": "DescriptionStyleModel",
          "state": {
            "_view_name": "StyleView",
            "_model_name": "DescriptionStyleModel",
            "description_width": "",
            "_view_module": "@jupyter-widgets/base",
            "_model_module_version": "1.5.0",
            "_view_count": null,
            "_view_module_version": "1.2.0",
            "_model_module": "@jupyter-widgets/controls"
          }
        },
        "6e34c5d90fc349dca77f97136dad37a3": {
          "model_module": "@jupyter-widgets/base",
          "model_name": "LayoutModel",
          "state": {
            "_view_name": "LayoutView",
            "grid_template_rows": null,
            "right": null,
            "justify_content": null,
            "_view_module": "@jupyter-widgets/base",
            "overflow": null,
            "_model_module_version": "1.2.0",
            "_view_count": null,
            "flex_flow": null,
            "width": null,
            "min_width": null,
            "border": null,
            "align_items": null,
            "bottom": null,
            "_model_module": "@jupyter-widgets/base",
            "top": null,
            "grid_column": null,
            "overflow_y": null,
            "overflow_x": null,
            "grid_auto_flow": null,
            "grid_area": null,
            "grid_template_columns": null,
            "flex": null,
            "_model_name": "LayoutModel",
            "justify_items": null,
            "grid_row": null,
            "max_height": null,
            "align_content": null,
            "visibility": null,
            "align_self": null,
            "height": null,
            "min_height": null,
            "padding": null,
            "grid_auto_rows": null,
            "grid_gap": null,
            "max_width": null,
            "order": null,
            "_view_module_version": "1.2.0",
            "grid_template_areas": null,
            "object_position": null,
            "object_fit": null,
            "grid_auto_columns": null,
            "margin": null,
            "display": null,
            "left": null
          }
        },
        "9b1273d227b64b90afcbf505c55908e8": {
          "model_module": "@jupyter-widgets/controls",
          "model_name": "HBoxModel",
          "state": {
            "_view_name": "HBoxView",
            "_dom_classes": [],
            "_model_name": "HBoxModel",
            "_view_module": "@jupyter-widgets/controls",
            "_model_module_version": "1.5.0",
            "_view_count": null,
            "_view_module_version": "1.5.0",
            "box_style": "",
            "layout": "IPY_MODEL_e1f5591a08fd48b9ab80f8d14e59d72e",
            "_model_module": "@jupyter-widgets/controls",
            "children": [
              "IPY_MODEL_9a7a4afef9dc4bf79bb0cb97700243b4",
              "IPY_MODEL_c2e5e8b44cc24a419292a28408a73e68"
            ]
          }
        },
        "e1f5591a08fd48b9ab80f8d14e59d72e": {
          "model_module": "@jupyter-widgets/base",
          "model_name": "LayoutModel",
          "state": {
            "_view_name": "LayoutView",
            "grid_template_rows": null,
            "right": null,
            "justify_content": null,
            "_view_module": "@jupyter-widgets/base",
            "overflow": null,
            "_model_module_version": "1.2.0",
            "_view_count": null,
            "flex_flow": null,
            "width": null,
            "min_width": null,
            "border": null,
            "align_items": null,
            "bottom": null,
            "_model_module": "@jupyter-widgets/base",
            "top": null,
            "grid_column": null,
            "overflow_y": null,
            "overflow_x": null,
            "grid_auto_flow": null,
            "grid_area": null,
            "grid_template_columns": null,
            "flex": null,
            "_model_name": "LayoutModel",
            "justify_items": null,
            "grid_row": null,
            "max_height": null,
            "align_content": null,
            "visibility": null,
            "align_self": null,
            "height": null,
            "min_height": null,
            "padding": null,
            "grid_auto_rows": null,
            "grid_gap": null,
            "max_width": null,
            "order": null,
            "_view_module_version": "1.2.0",
            "grid_template_areas": null,
            "object_position": null,
            "object_fit": null,
            "grid_auto_columns": null,
            "margin": null,
            "display": null,
            "left": null
          }
        },
        "9a7a4afef9dc4bf79bb0cb97700243b4": {
          "model_module": "@jupyter-widgets/controls",
          "model_name": "FloatProgressModel",
          "state": {
            "_view_name": "ProgressView",
            "style": "IPY_MODEL_5c38edaa066547538d4d7cc3fbdd911d",
            "_dom_classes": [],
            "description": "100%",
            "_model_name": "FloatProgressModel",
            "bar_style": "success",
            "max": 5374,
            "_view_module": "@jupyter-widgets/controls",
            "_model_module_version": "1.5.0",
            "value": 5374,
            "_view_count": null,
            "_view_module_version": "1.5.0",
            "orientation": "horizontal",
            "min": 0,
            "description_tooltip": null,
            "_model_module": "@jupyter-widgets/controls",
            "layout": "IPY_MODEL_c8ea39dd305946ab98b4828dcdd45209"
          }
        },
        "c2e5e8b44cc24a419292a28408a73e68": {
          "model_module": "@jupyter-widgets/controls",
          "model_name": "HTMLModel",
          "state": {
            "_view_name": "HTMLView",
            "style": "IPY_MODEL_20682d2728fa4d70ae86b8526b92694a",
            "_dom_classes": [],
            "description": "",
            "_model_name": "HTMLModel",
            "placeholder": "​",
            "_view_module": "@jupyter-widgets/controls",
            "_model_module_version": "1.5.0",
            "value": " 5374/5374 [00:21&lt;00:00, 253.79it/s]",
            "_view_count": null,
            "_view_module_version": "1.5.0",
            "description_tooltip": null,
            "_model_module": "@jupyter-widgets/controls",
            "layout": "IPY_MODEL_d1d4db284fa04b4da578939f6392e1ec"
          }
        },
        "5c38edaa066547538d4d7cc3fbdd911d": {
          "model_module": "@jupyter-widgets/controls",
          "model_name": "ProgressStyleModel",
          "state": {
            "_view_name": "StyleView",
            "_model_name": "ProgressStyleModel",
            "description_width": "initial",
            "_view_module": "@jupyter-widgets/base",
            "_model_module_version": "1.5.0",
            "_view_count": null,
            "_view_module_version": "1.2.0",
            "bar_color": null,
            "_model_module": "@jupyter-widgets/controls"
          }
        },
        "c8ea39dd305946ab98b4828dcdd45209": {
          "model_module": "@jupyter-widgets/base",
          "model_name": "LayoutModel",
          "state": {
            "_view_name": "LayoutView",
            "grid_template_rows": null,
            "right": null,
            "justify_content": null,
            "_view_module": "@jupyter-widgets/base",
            "overflow": null,
            "_model_module_version": "1.2.0",
            "_view_count": null,
            "flex_flow": null,
            "width": null,
            "min_width": null,
            "border": null,
            "align_items": null,
            "bottom": null,
            "_model_module": "@jupyter-widgets/base",
            "top": null,
            "grid_column": null,
            "overflow_y": null,
            "overflow_x": null,
            "grid_auto_flow": null,
            "grid_area": null,
            "grid_template_columns": null,
            "flex": null,
            "_model_name": "LayoutModel",
            "justify_items": null,
            "grid_row": null,
            "max_height": null,
            "align_content": null,
            "visibility": null,
            "align_self": null,
            "height": null,
            "min_height": null,
            "padding": null,
            "grid_auto_rows": null,
            "grid_gap": null,
            "max_width": null,
            "order": null,
            "_view_module_version": "1.2.0",
            "grid_template_areas": null,
            "object_position": null,
            "object_fit": null,
            "grid_auto_columns": null,
            "margin": null,
            "display": null,
            "left": null
          }
        },
        "20682d2728fa4d70ae86b8526b92694a": {
          "model_module": "@jupyter-widgets/controls",
          "model_name": "DescriptionStyleModel",
          "state": {
            "_view_name": "StyleView",
            "_model_name": "DescriptionStyleModel",
            "description_width": "",
            "_view_module": "@jupyter-widgets/base",
            "_model_module_version": "1.5.0",
            "_view_count": null,
            "_view_module_version": "1.2.0",
            "_model_module": "@jupyter-widgets/controls"
          }
        },
        "d1d4db284fa04b4da578939f6392e1ec": {
          "model_module": "@jupyter-widgets/base",
          "model_name": "LayoutModel",
          "state": {
            "_view_name": "LayoutView",
            "grid_template_rows": null,
            "right": null,
            "justify_content": null,
            "_view_module": "@jupyter-widgets/base",
            "overflow": null,
            "_model_module_version": "1.2.0",
            "_view_count": null,
            "flex_flow": null,
            "width": null,
            "min_width": null,
            "border": null,
            "align_items": null,
            "bottom": null,
            "_model_module": "@jupyter-widgets/base",
            "top": null,
            "grid_column": null,
            "overflow_y": null,
            "overflow_x": null,
            "grid_auto_flow": null,
            "grid_area": null,
            "grid_template_columns": null,
            "flex": null,
            "_model_name": "LayoutModel",
            "justify_items": null,
            "grid_row": null,
            "max_height": null,
            "align_content": null,
            "visibility": null,
            "align_self": null,
            "height": null,
            "min_height": null,
            "padding": null,
            "grid_auto_rows": null,
            "grid_gap": null,
            "max_width": null,
            "order": null,
            "_view_module_version": "1.2.0",
            "grid_template_areas": null,
            "object_position": null,
            "object_fit": null,
            "grid_auto_columns": null,
            "margin": null,
            "display": null,
            "left": null
          }
        },
        "b525bb81a0d442449c6061e5b7e31be1": {
          "model_module": "@jupyter-widgets/controls",
          "model_name": "HBoxModel",
          "state": {
            "_view_name": "HBoxView",
            "_dom_classes": [],
            "_model_name": "HBoxModel",
            "_view_module": "@jupyter-widgets/controls",
            "_model_module_version": "1.5.0",
            "_view_count": null,
            "_view_module_version": "1.5.0",
            "box_style": "",
            "layout": "IPY_MODEL_3208145444d449a5965b825ada367bfa",
            "_model_module": "@jupyter-widgets/controls",
            "children": [
              "IPY_MODEL_cd5b87bc9b7c429586fee9d7c3c95ae4",
              "IPY_MODEL_85aa3c19f25145d9a0ab41d2147ab9e4"
            ]
          }
        },
        "3208145444d449a5965b825ada367bfa": {
          "model_module": "@jupyter-widgets/base",
          "model_name": "LayoutModel",
          "state": {
            "_view_name": "LayoutView",
            "grid_template_rows": null,
            "right": null,
            "justify_content": null,
            "_view_module": "@jupyter-widgets/base",
            "overflow": null,
            "_model_module_version": "1.2.0",
            "_view_count": null,
            "flex_flow": null,
            "width": null,
            "min_width": null,
            "border": null,
            "align_items": null,
            "bottom": null,
            "_model_module": "@jupyter-widgets/base",
            "top": null,
            "grid_column": null,
            "overflow_y": null,
            "overflow_x": null,
            "grid_auto_flow": null,
            "grid_area": null,
            "grid_template_columns": null,
            "flex": null,
            "_model_name": "LayoutModel",
            "justify_items": null,
            "grid_row": null,
            "max_height": null,
            "align_content": null,
            "visibility": null,
            "align_self": null,
            "height": null,
            "min_height": null,
            "padding": null,
            "grid_auto_rows": null,
            "grid_gap": null,
            "max_width": null,
            "order": null,
            "_view_module_version": "1.2.0",
            "grid_template_areas": null,
            "object_position": null,
            "object_fit": null,
            "grid_auto_columns": null,
            "margin": null,
            "display": null,
            "left": null
          }
        },
        "cd5b87bc9b7c429586fee9d7c3c95ae4": {
          "model_module": "@jupyter-widgets/controls",
          "model_name": "FloatProgressModel",
          "state": {
            "_view_name": "ProgressView",
            "style": "IPY_MODEL_79d706833e1a4a47b95bd943d016eb76",
            "_dom_classes": [],
            "description": "100%",
            "_model_name": "FloatProgressModel",
            "bar_style": "success",
            "max": 531990,
            "_view_module": "@jupyter-widgets/controls",
            "_model_module_version": "1.5.0",
            "value": 531990,
            "_view_count": null,
            "_view_module_version": "1.5.0",
            "orientation": "horizontal",
            "min": 0,
            "description_tooltip": null,
            "_model_module": "@jupyter-widgets/controls",
            "layout": "IPY_MODEL_c1f0ea56d7b3443288422f43656d6466"
          }
        },
        "85aa3c19f25145d9a0ab41d2147ab9e4": {
          "model_module": "@jupyter-widgets/controls",
          "model_name": "HTMLModel",
          "state": {
            "_view_name": "HTMLView",
            "style": "IPY_MODEL_7b3af99968934ccb9e163d688edb0829",
            "_dom_classes": [],
            "description": "",
            "_model_name": "HTMLModel",
            "placeholder": "​",
            "_view_module": "@jupyter-widgets/controls",
            "_model_module_version": "1.5.0",
            "value": " 531990/531990 [00:17&lt;00:00, 30745.64it/s]",
            "_view_count": null,
            "_view_module_version": "1.5.0",
            "description_tooltip": null,
            "_model_module": "@jupyter-widgets/controls",
            "layout": "IPY_MODEL_9d631d8c45784702a7c47bd11768a092"
          }
        },
        "79d706833e1a4a47b95bd943d016eb76": {
          "model_module": "@jupyter-widgets/controls",
          "model_name": "ProgressStyleModel",
          "state": {
            "_view_name": "StyleView",
            "_model_name": "ProgressStyleModel",
            "description_width": "initial",
            "_view_module": "@jupyter-widgets/base",
            "_model_module_version": "1.5.0",
            "_view_count": null,
            "_view_module_version": "1.2.0",
            "bar_color": null,
            "_model_module": "@jupyter-widgets/controls"
          }
        },
        "c1f0ea56d7b3443288422f43656d6466": {
          "model_module": "@jupyter-widgets/base",
          "model_name": "LayoutModel",
          "state": {
            "_view_name": "LayoutView",
            "grid_template_rows": null,
            "right": null,
            "justify_content": null,
            "_view_module": "@jupyter-widgets/base",
            "overflow": null,
            "_model_module_version": "1.2.0",
            "_view_count": null,
            "flex_flow": null,
            "width": null,
            "min_width": null,
            "border": null,
            "align_items": null,
            "bottom": null,
            "_model_module": "@jupyter-widgets/base",
            "top": null,
            "grid_column": null,
            "overflow_y": null,
            "overflow_x": null,
            "grid_auto_flow": null,
            "grid_area": null,
            "grid_template_columns": null,
            "flex": null,
            "_model_name": "LayoutModel",
            "justify_items": null,
            "grid_row": null,
            "max_height": null,
            "align_content": null,
            "visibility": null,
            "align_self": null,
            "height": null,
            "min_height": null,
            "padding": null,
            "grid_auto_rows": null,
            "grid_gap": null,
            "max_width": null,
            "order": null,
            "_view_module_version": "1.2.0",
            "grid_template_areas": null,
            "object_position": null,
            "object_fit": null,
            "grid_auto_columns": null,
            "margin": null,
            "display": null,
            "left": null
          }
        },
        "7b3af99968934ccb9e163d688edb0829": {
          "model_module": "@jupyter-widgets/controls",
          "model_name": "DescriptionStyleModel",
          "state": {
            "_view_name": "StyleView",
            "_model_name": "DescriptionStyleModel",
            "description_width": "",
            "_view_module": "@jupyter-widgets/base",
            "_model_module_version": "1.5.0",
            "_view_count": null,
            "_view_module_version": "1.2.0",
            "_model_module": "@jupyter-widgets/controls"
          }
        },
        "9d631d8c45784702a7c47bd11768a092": {
          "model_module": "@jupyter-widgets/base",
          "model_name": "LayoutModel",
          "state": {
            "_view_name": "LayoutView",
            "grid_template_rows": null,
            "right": null,
            "justify_content": null,
            "_view_module": "@jupyter-widgets/base",
            "overflow": null,
            "_model_module_version": "1.2.0",
            "_view_count": null,
            "flex_flow": null,
            "width": null,
            "min_width": null,
            "border": null,
            "align_items": null,
            "bottom": null,
            "_model_module": "@jupyter-widgets/base",
            "top": null,
            "grid_column": null,
            "overflow_y": null,
            "overflow_x": null,
            "grid_auto_flow": null,
            "grid_area": null,
            "grid_template_columns": null,
            "flex": null,
            "_model_name": "LayoutModel",
            "justify_items": null,
            "grid_row": null,
            "max_height": null,
            "align_content": null,
            "visibility": null,
            "align_self": null,
            "height": null,
            "min_height": null,
            "padding": null,
            "grid_auto_rows": null,
            "grid_gap": null,
            "max_width": null,
            "order": null,
            "_view_module_version": "1.2.0",
            "grid_template_areas": null,
            "object_position": null,
            "object_fit": null,
            "grid_auto_columns": null,
            "margin": null,
            "display": null,
            "left": null
          }
        }
      }
    }
  },
  "cells": [
    {
      "cell_type": "code",
      "metadata": {
        "id": "ZNB548OE2emb"
      },
      "source": [
        "import pandas as pd\r\n",
        "\r\n",
        "from nltk import wordpunct_tokenize\r\n",
        "from nltk import tokenize\r\n",
        "import numpy as np\r\n",
        "\r\n",
        "import time\r\n",
        "\r\n",
        "from string import digits\r\n",
        "import re"
      ],
      "execution_count": null,
      "outputs": []
    },
    {
      "cell_type": "markdown",
      "metadata": {
        "id": "EA7RlHDf_HeR"
      },
      "source": [
        "#Data Pre-processing"
      ]
    },
    {
      "cell_type": "code",
      "metadata": {
        "id": "-yMXYhT7Zix4"
      },
      "source": [
        "from nltk.corpus import stopwords\r\n",
        "import nltk"
      ],
      "execution_count": null,
      "outputs": []
    },
    {
      "cell_type": "code",
      "metadata": {
        "colab": {
          "base_uri": "https://localhost:8080/"
        },
        "id": "kvoI0YgF1I0O",
        "outputId": "2a5764a2-9074-4d38-8ab0-d1e09b273ee7"
      },
      "source": [
        "nltk.download('stopwords')\r\n",
        "stop_words = set(nltk.corpus.stopwords.words('english'))"
      ],
      "execution_count": null,
      "outputs": [
        {
          "output_type": "stream",
          "text": [
            "[nltk_data] Downloading package stopwords to /root/nltk_data...\n",
            "[nltk_data]   Package stopwords is already up-to-date!\n"
          ],
          "name": "stdout"
        }
      ]
    },
    {
      "cell_type": "markdown",
      "metadata": {
        "id": "cSm9H7Xg_RIF"
      },
      "source": [
        "##Reading"
      ]
    },
    {
      "cell_type": "markdown",
      "metadata": {
        "id": "Fp6r-XEM40xY"
      },
      "source": [
        "Read test corpus "
      ]
    },
    {
      "cell_type": "code",
      "metadata": {
        "id": "vSNozrocH7-n",
        "colab": {
          "base_uri": "https://localhost:8080/"
        },
        "outputId": "9ae041e1-e289-4860-d290-83518f24a02d"
      },
      "source": [
        "corpus_test = pd.read_csv(\"/content/drive/MyDrive/Colab Notebooks/corpusTest.csv\")\n",
        "print(corpus_test.shape)\n",
        "print(corpus_test.head())"
      ],
      "execution_count": null,
      "outputs": [
        {
          "output_type": "stream",
          "text": [
            "(5374, 2)\n",
            "   Id                                            Content\n",
            "0   0              How do I get good marks in college?\\n\n",
            "1   1  Can an android app use SMS only to communicate...\n",
            "2   2  What small detail from an Indian movie do you ...\n",
            "3   3  Why can not Hindu women be the soldier of Hind...\n",
            "4   4  How would you write out twelve lakh twelve tho...\n"
          ],
          "name": "stdout"
        }
      ]
    },
    {
      "cell_type": "markdown",
      "metadata": {
        "id": "o0fXmn-i5QYg"
      },
      "source": [
        "Read train corpus"
      ]
    },
    {
      "cell_type": "code",
      "metadata": {
        "id": "7YT8MrxSI1C0",
        "colab": {
          "base_uri": "https://localhost:8080/"
        },
        "outputId": "2432ca51-3bae-4af8-9901-9cb3481aa9b6"
      },
      "source": [
        "corpus_train = pd.read_csv(\"/content/drive/MyDrive/Colab Notebooks/corpusTrain.csv\")\n",
        "print(corpus_train.shape)\n",
        "print(corpus_train.head())"
      ],
      "execution_count": null,
      "outputs": [
        {
          "output_type": "stream",
          "text": [
            "(531990, 2)\n",
            "   Id                                            Content\n",
            "0   0  How many people are going towards using phones...\n",
            "1   1  What audio format should I use for getting aud...\n",
            "2   2  What is the corporate culture like at Edwards ...\n",
            "3   3        What is the best barbecue in Kansas City?\\n\n",
            "4   4  \"Can I combine the output of two bolts to one ...\n"
          ],
          "name": "stdout"
        }
      ]
    },
    {
      "cell_type": "markdown",
      "metadata": {
        "id": "YXh1eaDc_VdV"
      },
      "source": [
        "##Shallow Cleaning"
      ]
    },
    {
      "cell_type": "code",
      "metadata": {
        "id": "Wvrdrw8iw_Pq"
      },
      "source": [
        "def blank_space(x):\r\n",
        "  return re.sub('[^A-Za-z0-9]+', ' ', x)\r\n",
        "\r\n",
        "def numbers(x):\r\n",
        "  return re.sub(r'[0-9]+', '', x)\r\n",
        "\r\n",
        "def standarize_sentence(x):\r\n",
        "  return ''.join(''.join(word)[:2] for word in x) \r\n",
        "\r\n",
        "def apostrophe_words(x):\r\n",
        "  Apos_dict={\"'s\":\" is\",\"n't\":\" not\",\"'m\":\" am\",\"'ll\":\" will\", \r\n",
        "           \"'d\":\" would\",\"'ve\":\" have\",\"'re\":\" are\"} \r\n",
        "  for key,value in Apos_dict.items(): \r\n",
        "      if key in x: \r\n",
        "          return x.replace(key,value)\r\n",
        "  return x\r\n",
        "\r\n",
        "def split_words(x):\r\n",
        "  return \" \".join([word for word in re.split(\"([A-Z][a-z]+[^A-Z]*)\",x) if word])\r\n",
        "\r\n",
        "def shallow_cleaning(df):\r\n",
        "  remove_digits = str.maketrans('', '', digits)\r\n",
        "  df['Content'] = df['Content'].apply(lambda x: blank_space(str(x)))\r\n",
        "  df['Content'] = df['Content'].apply(lambda x: numbers(str(x)))\r\n",
        "  df['Content'] = df['Content'].apply(lambda x: split_words(str(x)))\r\n",
        "  df['Content'] = df['Content'].apply(lambda x: standarize_sentence(str(x)))\r\n",
        "  df['Content'] = df['Content'].apply(lambda x: apostrophe_words(str(x)))\r\n",
        "  df['Content'] = df['Content'].str.strip()\r\n",
        "  df['Content'] = df['Content'].str.lower()\r\n",
        "  df['Content'].apply(lambda x: [item for item in x if item not in stop_words])\r\n",
        "  return df"
      ],
      "execution_count": null,
      "outputs": []
    },
    {
      "cell_type": "code",
      "metadata": {
        "id": "YzV1Wz2Pb8Ai"
      },
      "source": [
        "corpus_train = shallow_cleaning(corpus_train)\n",
        "corpus_test = shallow_cleaning(corpus_test)"
      ],
      "execution_count": null,
      "outputs": []
    },
    {
      "cell_type": "markdown",
      "metadata": {
        "id": "v5dkImE9_dR3"
      },
      "source": [
        "##Special Characters"
      ]
    },
    {
      "cell_type": "markdown",
      "metadata": {
        "id": "uPYXQcCf7lsk"
      },
      "source": [
        "Remove special characters from \"Content\" column since they do not contribute to the duplicates identification"
      ]
    },
    {
      "cell_type": "code",
      "metadata": {
        "id": "AmeRnYxrceol"
      },
      "source": [
        "spec_chars = [\"!\", '\"', \"#\", \"%\", \"&\", \"'\", \"(\", \")\", \"*\", \"+\", \",\", \"-\", \".\", \"/\", \":\", \";\", \"<\",\n",
        "              \"=\", \">\", \"?\", \"@\", \"[\", \"\\\\\", \"]\", \"^\", \"_\", \"`\", \"{\", \"|\", \"}\", \"~\", \"–\"]\n",
        "\n",
        "for char in spec_chars:\n",
        "    corpus_test['Content'] = corpus_test['Content'].str.replace(char, '')\n",
        "\n",
        "for char in spec_chars:\n",
        "    corpus_train['Content'] = corpus_train['Content'].str.replace(char, '')"
      ],
      "execution_count": null,
      "outputs": []
    },
    {
      "cell_type": "code",
      "metadata": {
        "colab": {
          "base_uri": "https://localhost:8080/"
        },
        "id": "bxMSlltTybm2",
        "outputId": "e9e811e6-0c33-433c-c3bd-87dc43957120"
      },
      "source": [
        "print(corpus_test.head())"
      ],
      "execution_count": null,
      "outputs": [
        {
          "output_type": "stream",
          "text": [
            "   Id                                            Content\n",
            "0   0                how do  i get good marks in college\n",
            "1   1  can an android app use  sms only to communicat...\n",
            "2   2  what small detail from an  indian movie do you...\n",
            "3   3  why can not  hindu women be the soldier of  hi...\n",
            "4   4  how would you write out twelve lakh twelve tho...\n"
          ],
          "name": "stdout"
        }
      ]
    },
    {
      "cell_type": "code",
      "metadata": {
        "colab": {
          "base_uri": "https://localhost:8080/"
        },
        "id": "wvbBxktcydkd",
        "outputId": "b5db91d6-4035-4b9d-bc12-03e09e7c532d"
      },
      "source": [
        "print(corpus_train.head())"
      ],
      "execution_count": null,
      "outputs": [
        {
          "output_type": "stream",
          "text": [
            "   Id                                            Content\n",
            "0   0  how many people are going towards using phones...\n",
            "1   1  what audio format should  i use for getting au...\n",
            "2   2  what is the corporate culture like at  edwards...\n",
            "3   3         what is the best barbecue in  kansas  city\n",
            "4   4  can  i combine the output of two bolts to one ...\n"
          ],
          "name": "stdout"
        }
      ]
    },
    {
      "cell_type": "markdown",
      "metadata": {
        "id": "nBm1BJIVLvk1"
      },
      "source": [
        "##Vectorization"
      ]
    },
    {
      "cell_type": "code",
      "metadata": {
        "id": "vUOrCLRWYyz0"
      },
      "source": [
        "from sklearn.feature_extraction.text import CountVectorizer\r\n",
        "\r\n",
        "vectorizer=CountVectorizer(max_features=10000, stop_words= stop_words)\r\n",
        "\r\n",
        "corpus_compined = pd.DataFrame(corpus_test['Content'].append(corpus_train['Content'], ignore_index = True)) \r\n",
        "temp = corpus_compined['Content']\r\n",
        "\r\n",
        "vectorized_combined_content = vectorizer.fit_transform(temp)\r\n"
      ],
      "execution_count": null,
      "outputs": []
    },
    {
      "cell_type": "code",
      "metadata": {
        "colab": {
          "base_uri": "https://localhost:8080/"
        },
        "id": "rjPPEwRnXorU",
        "outputId": "728d4ad7-8a6c-4767-f198-a275fc3897fa"
      },
      "source": [
        "print(vectorized_combined_content.shape)"
      ],
      "execution_count": null,
      "outputs": [
        {
          "output_type": "stream",
          "text": [
            "(537364, 10000)\n"
          ],
          "name": "stdout"
        }
      ]
    },
    {
      "cell_type": "code",
      "metadata": {
        "id": "Hf5mvq2ka9Pi"
      },
      "source": [
        "vectorizer=CountVectorizer(max_features=10000)\r\n",
        "\r\n",
        "corpus_compined = pd.DataFrame(corpus_test['Content'].append(corpus_train['Content'], ignore_index = True)) \r\n",
        "temp = corpus_compined['Content']\r\n",
        "\r\n",
        "vectorized_combined_content_extended = vectorizer.fit_transform(temp)"
      ],
      "execution_count": null,
      "outputs": []
    },
    {
      "cell_type": "markdown",
      "metadata": {
        "id": "F7fSeW7n8CB6"
      },
      "source": [
        "#MinHash LSH\r\n",
        "http://ekzhu.com/datasketch/lsh.html\r\n"
      ]
    },
    {
      "cell_type": "code",
      "metadata": {
        "id": "pTqFXINK1_jx",
        "colab": {
          "base_uri": "https://localhost:8080/"
        },
        "outputId": "984fa61e-b77f-442d-c225-627e46bb2e3f"
      },
      "source": [
        "!pip install --upgrade datasketch"
      ],
      "execution_count": null,
      "outputs": [
        {
          "output_type": "stream",
          "text": [
            "Requirement already up-to-date: datasketch in /usr/local/lib/python3.6/dist-packages (1.5.3)\n",
            "Requirement already satisfied, skipping upgrade: numpy>=1.11 in /usr/local/lib/python3.6/dist-packages (from datasketch) (1.19.5)\n"
          ],
          "name": "stdout"
        }
      ]
    },
    {
      "cell_type": "code",
      "metadata": {
        "id": "VQouD1G29VtZ"
      },
      "source": [
        "from tqdm import tqdm, tnrange, tqdm_notebook\r\n",
        "from datasketch import MinHash, MinHashLSH"
      ],
      "execution_count": null,
      "outputs": []
    },
    {
      "cell_type": "markdown",
      "metadata": {
        "id": "kUWbcFt_Ap0S"
      },
      "source": [
        "##Map question id to set representation of question"
      ]
    },
    {
      "cell_type": "markdown",
      "metadata": {
        "id": "RsRGjjVhpPBB"
      },
      "source": [
        "The representation is the following. \r\n",
        "For example, if question with id = 19 is \"What is the best barbecue in Kansas City?\", it will be represented as *{'m19': 'What is the best barbecue in Kansas City?'}*. This applies to both train and test corpus. "
      ]
    },
    {
      "cell_type": "code",
      "metadata": {
        "id": "LaTBNsAO5b49",
        "colab": {
          "base_uri": "https://localhost:8080/",
          "height": 117,
          "referenced_widgets": [
            "38094b98b2a446ffb10472e141622607",
            "215565239b294dad904de23bc6e3e7eb",
            "ce336b4e81b640c58abe99caacb86a83",
            "843d7391a3044edea4ec81e2746d3942",
            "23b56e762b884809bd36c121c48dadf1",
            "7e379b4e998947478cec7447517069ed",
            "e3cc6a99895c48e781926a65b0b4cb8c",
            "0fe00fc5e8ab40079085f86a2b2de4b9"
          ]
        },
        "outputId": "59195854-b88b-4cd9-e203-ff1424df00b0"
      },
      "source": [
        "#for train corpus\r\n",
        "train_dict={} \r\n",
        "count = 1\r\n",
        "for question in tqdm_notebook([x for x in corpus_train['Content'] if type(x)==str]):\r\n",
        "    temp = []\r\n",
        "    for shingle in question.split(' '):\r\n",
        "        if shingle not in stop_words:\r\n",
        "            temp.append(shingle)\r\n",
        "    \r\n",
        "    train_dict[\"m{0}\".format(count)] = set(temp)\r\n",
        "    count +=1"
      ],
      "execution_count": 103,
      "outputs": [
        {
          "output_type": "stream",
          "text": [
            "/usr/local/lib/python3.6/dist-packages/ipykernel_launcher.py:4: TqdmDeprecationWarning: This function will be removed in tqdm==5.0.0\n",
            "Please use `tqdm.notebook.tqdm` instead of `tqdm.tqdm_notebook`\n",
            "  after removing the cwd from sys.path.\n"
          ],
          "name": "stderr"
        },
        {
          "output_type": "display_data",
          "data": {
            "application/vnd.jupyter.widget-view+json": {
              "model_id": "38094b98b2a446ffb10472e141622607",
              "version_minor": 0,
              "version_major": 2
            },
            "text/plain": [
              "HBox(children=(FloatProgress(value=0.0, max=531990.0), HTML(value='')))"
            ]
          },
          "metadata": {
            "tags": []
          }
        },
        {
          "output_type": "stream",
          "text": [
            "\n"
          ],
          "name": "stdout"
        }
      ]
    },
    {
      "cell_type": "code",
      "metadata": {
        "id": "eM7l-TDt_nQv",
        "colab": {
          "base_uri": "https://localhost:8080/",
          "height": 117,
          "referenced_widgets": [
            "8be4f7079bdb445a97f920029a5e8c47",
            "874734d9354f4abba59b871bd40f1c40",
            "8caf08ece9a4413dbfa04e57c2eaf068",
            "508381954ae641f3b1862897e3d901b2",
            "9184052e71df49cc939da9c23e752cfe",
            "f81b13af6133472692fd5752d8213a6b",
            "ee31dcc11cf243a58fb4219a0f801281",
            "d52c825a390447f1b6eff4e2523c17be"
          ]
        },
        "outputId": "44cd53c1-4888-4a51-9002-a13f27fae395"
      },
      "source": [
        "#for test corpus\r\n",
        "test_dict={}\r\n",
        "count=1\r\n",
        "\r\n",
        "for question in tqdm_notebook([x for x in corpus_test['Content'] if type(x)==str]):\r\n",
        "    temp = []\r\n",
        "    for shingle in question.split(' '):\r\n",
        "        if shingle not in stop_words:\r\n",
        "            temp.append(shingle)\r\n",
        "\r\n",
        "    test_dict[\"m{0}\".format(count)] = set(temp)\r\n",
        "    count += 1"
      ],
      "execution_count": 104,
      "outputs": [
        {
          "output_type": "stream",
          "text": [
            "/usr/local/lib/python3.6/dist-packages/ipykernel_launcher.py:5: TqdmDeprecationWarning: This function will be removed in tqdm==5.0.0\n",
            "Please use `tqdm.notebook.tqdm` instead of `tqdm.tqdm_notebook`\n",
            "  \"\"\"\n"
          ],
          "name": "stderr"
        },
        {
          "output_type": "display_data",
          "data": {
            "application/vnd.jupyter.widget-view+json": {
              "model_id": "8be4f7079bdb445a97f920029a5e8c47",
              "version_minor": 0,
              "version_major": 2
            },
            "text/plain": [
              "HBox(children=(FloatProgress(value=0.0, max=5374.0), HTML(value='')))"
            ]
          },
          "metadata": {
            "tags": []
          }
        },
        {
          "output_type": "stream",
          "text": [
            "\n"
          ],
          "name": "stdout"
        }
      ]
    },
    {
      "cell_type": "code",
      "metadata": {
        "id": "RZ-FvIR_IPvN"
      },
      "source": [
        "prem_list = [16, 32, 64]\r\n",
        "l = [0, 0, 0]\r\n",
        "minhash_lsh_res = {'#Permutations': prem_list, 'BuildTime':l,'QueryTime':l, 'TotalTime':l, 'Candidate Duplicates':l}\r\n",
        "\r\n",
        "minhash_lsh = pd.DataFrame(minhash_lsh_res)"
      ],
      "execution_count": 105,
      "outputs": []
    },
    {
      "cell_type": "markdown",
      "metadata": {
        "id": "4Aq6I2PEA8OD"
      },
      "source": [
        "##Create minHash signatures: map question to MinHash signatures\r\n",
        "\r\n"
      ]
    },
    {
      "cell_type": "code",
      "metadata": {
        "id": "oNXPZ0YMA66W"
      },
      "source": [
        "num_perm = 64"
      ],
      "execution_count": 120,
      "outputs": []
    },
    {
      "cell_type": "code",
      "metadata": {
        "id": "F-7TGb2rBD2t",
        "colab": {
          "base_uri": "https://localhost:8080/",
          "height": 0,
          "referenced_widgets": [
            "e512bc29a62e49aaa0b4ddde7f2063ae",
            "342662ceeab9439b8201ff83b63bb77f",
            "cc44f9b96a234591a387f21e999d6e33",
            "c1dd5092ea27475f8fecfc207cd700e3",
            "a44b72dc350344c6a6a1d63c00ca2c66",
            "86864d012e8d4964ab687d1d25c2b5b0",
            "0a44f9b4523b41368c42c8e17bad9c50",
            "6e34c5d90fc349dca77f97136dad37a3"
          ]
        },
        "outputId": "fb113a58-0298-4469-ee16-477efe36ea64"
      },
      "source": [
        "min_train_dict = {}\r\n",
        "count = 1\r\n",
        "\r\n",
        "start = time.time() \r\n",
        "\r\n",
        "for val in tqdm_notebook(train_dict.values()): \r\n",
        "    m = MinHash(num_perm=num_perm)\r\n",
        "    for shingle in val:\r\n",
        "        m.update(shingle.encode('utf8'))\r\n",
        "\r\n",
        "    min_train_dict[\"m{}\".format(count)] = m\r\n",
        "    count += 1\r\n",
        "\r\n",
        "end = time.time()\r\n",
        " \r\n",
        "for i in range(3):\r\n",
        "  if minhash_lsh['#Permutations'][i] == num_perm:\r\n",
        "    minhash_lsh['BuildTime'][i] = minhash_lsh['BuildTime'][i] + (end - start)"
      ],
      "execution_count": 121,
      "outputs": [
        {
          "output_type": "stream",
          "text": [
            "/usr/local/lib/python3.6/dist-packages/ipykernel_launcher.py:6: TqdmDeprecationWarning: This function will be removed in tqdm==5.0.0\n",
            "Please use `tqdm.notebook.tqdm` instead of `tqdm.tqdm_notebook`\n",
            "  \n"
          ],
          "name": "stderr"
        },
        {
          "output_type": "display_data",
          "data": {
            "application/vnd.jupyter.widget-view+json": {
              "model_id": "e512bc29a62e49aaa0b4ddde7f2063ae",
              "version_minor": 0,
              "version_major": 2
            },
            "text/plain": [
              "HBox(children=(FloatProgress(value=0.0, max=531990.0), HTML(value='')))"
            ]
          },
          "metadata": {
            "tags": []
          }
        },
        {
          "output_type": "stream",
          "text": [
            "\n"
          ],
          "name": "stdout"
        }
      ]
    },
    {
      "cell_type": "code",
      "metadata": {
        "id": "oBAsyPEY7Fhy",
        "colab": {
          "base_uri": "https://localhost:8080/",
          "height": 0,
          "referenced_widgets": [
            "9b1273d227b64b90afcbf505c55908e8",
            "e1f5591a08fd48b9ab80f8d14e59d72e",
            "9a7a4afef9dc4bf79bb0cb97700243b4",
            "c2e5e8b44cc24a419292a28408a73e68",
            "5c38edaa066547538d4d7cc3fbdd911d",
            "c8ea39dd305946ab98b4828dcdd45209",
            "20682d2728fa4d70ae86b8526b92694a",
            "d1d4db284fa04b4da578939f6392e1ec"
          ]
        },
        "outputId": "8823c143-489e-4852-d470-a5309fa57452"
      },
      "source": [
        "min_test_dict = {}\r\n",
        "count = 1\r\n",
        "\r\n",
        "start = time.time() \r\n",
        "\r\n",
        "for val in tqdm_notebook(test_dict.values()): \r\n",
        "    m = MinHash(num_perm=num_perm)\r\n",
        "    for shingle in val:\r\n",
        "        m.update(shingle.encode('utf8'))\r\n",
        "\r\n",
        "    min_test_dict[\"m{}\".format(count)] = m\r\n",
        "    count += 1\r\n",
        "\r\n",
        "end = time.time()\r\n",
        " \r\n",
        "for i in range(3):\r\n",
        "  if minhash_lsh['#Permutations'][i] == num_perm:\r\n",
        "    minhash_lsh['BuildTime'][i] = minhash_lsh['BuildTime'][i] + (end - start)"
      ],
      "execution_count": 122,
      "outputs": [
        {
          "output_type": "stream",
          "text": [
            "/usr/local/lib/python3.6/dist-packages/ipykernel_launcher.py:6: TqdmDeprecationWarning: This function will be removed in tqdm==5.0.0\n",
            "Please use `tqdm.notebook.tqdm` instead of `tqdm.tqdm_notebook`\n",
            "  \n"
          ],
          "name": "stderr"
        },
        {
          "output_type": "display_data",
          "data": {
            "application/vnd.jupyter.widget-view+json": {
              "model_id": "9b1273d227b64b90afcbf505c55908e8",
              "version_minor": 0,
              "version_major": 2
            },
            "text/plain": [
              "HBox(children=(FloatProgress(value=0.0, max=5374.0), HTML(value='')))"
            ]
          },
          "metadata": {
            "tags": []
          }
        },
        {
          "output_type": "stream",
          "text": [
            "\n"
          ],
          "name": "stdout"
        }
      ]
    },
    {
      "cell_type": "markdown",
      "metadata": {
        "id": "F7z8FKaoBVqf"
      },
      "source": [
        "##Create LSH index"
      ]
    },
    {
      "cell_type": "markdown",
      "metadata": {
        "id": "o9VezoWj9zhH"
      },
      "source": [
        "\r\n",
        "We loop through the MinHash signatures created in the train and test dictionary and apply to them a fixed number of hash functions. We then bucket those hash functions into bands. \r\n",
        "Datasketch stores these in a dictionary format, where the key is 'm'+ question id and the values are all the questions deemed similar based on the defined threshold. "
      ]
    },
    {
      "cell_type": "code",
      "metadata": {
        "id": "yeKloi-7IEoW",
        "colab": {
          "base_uri": "https://localhost:8080/",
          "height": 0,
          "referenced_widgets": [
            "b525bb81a0d442449c6061e5b7e31be1",
            "3208145444d449a5965b825ada367bfa",
            "cd5b87bc9b7c429586fee9d7c3c95ae4",
            "85aa3c19f25145d9a0ab41d2147ab9e4",
            "79d706833e1a4a47b95bd943d016eb76",
            "c1f0ea56d7b3443288422f43656d6466",
            "7b3af99968934ccb9e163d688edb0829",
            "9d631d8c45784702a7c47bd11768a092"
          ]
        },
        "outputId": "b45da6fd-293e-473e-cf08-bd8f157a7604"
      },
      "source": [
        "start = time.time() \r\n",
        "\r\n",
        "lsh = MinHashLSH(threshold=0.8, num_perm=num_perm)\r\n",
        "\r\n",
        "for key in tqdm_notebook(min_train_dict.keys()):\r\n",
        "    lsh.insert(key,min_train_dict[key])\r\n",
        "\r\n",
        "end = time.time()\r\n",
        " \r\n",
        "for i in range(3):\r\n",
        "  if minhash_lsh['#Permutations'][i] == num_perm:\r\n",
        "    minhash_lsh['BuildTime'][i] = minhash_lsh['BuildTime'][i] + (end - start)"
      ],
      "execution_count": 123,
      "outputs": [
        {
          "output_type": "stream",
          "text": [
            "/usr/local/lib/python3.6/dist-packages/ipykernel_launcher.py:5: TqdmDeprecationWarning: This function will be removed in tqdm==5.0.0\n",
            "Please use `tqdm.notebook.tqdm` instead of `tqdm.tqdm_notebook`\n",
            "  \"\"\"\n"
          ],
          "name": "stderr"
        },
        {
          "output_type": "display_data",
          "data": {
            "application/vnd.jupyter.widget-view+json": {
              "model_id": "b525bb81a0d442449c6061e5b7e31be1",
              "version_minor": 0,
              "version_major": 2
            },
            "text/plain": [
              "HBox(children=(FloatProgress(value=0.0, max=531990.0), HTML(value='')))"
            ]
          },
          "metadata": {
            "tags": []
          }
        },
        {
          "output_type": "stream",
          "text": [
            "\n"
          ],
          "name": "stdout"
        }
      ]
    },
    {
      "cell_type": "markdown",
      "metadata": {
        "id": "SXiomwycCCxL"
      },
      "source": [
        "##Create candidate pairs"
      ]
    },
    {
      "cell_type": "code",
      "metadata": {
        "id": "CxQKLBHQI2oH"
      },
      "source": [
        "def create_cand_pairs():\r\n",
        "  l = []\r\n",
        "\r\n",
        "  #query the test corpus\r\n",
        "  for query in min_test_dict.keys():\r\n",
        "    bucket = lsh.query(min_test_dict[query])\r\n",
        "    if len(bucket) > 0: \r\n",
        "      l.append(query)\r\n",
        "\r\n",
        "  return l\r\n",
        "  \r\n",
        "start = time.time()\r\n",
        "        \r\n",
        "cand_pairs = create_cand_pairs()\r\n",
        "\r\n",
        "end = time.time()\r\n",
        "\r\n",
        "for i in range(3):\r\n",
        "  if minhash_lsh['#Permutations'][i] == num_perm:\r\n",
        "    minhash_lsh['QueryTime'][i] = minhash_lsh['QueryTime'][i] + (end - start)\r\n",
        "    k = i\r\n",
        "    break\r\n",
        "\r\n",
        "minhash_lsh['TotalTime'][k] = minhash_lsh['BuildTime'][k] + minhash_lsh['QueryTime'][k]\r\n",
        "minhash_lsh['Candidate Duplicates'][k] = len(cand_pairs)"
      ],
      "execution_count": 124,
      "outputs": []
    },
    {
      "cell_type": "code",
      "metadata": {
        "id": "j_ujHWc8EcpK",
        "colab": {
          "base_uri": "https://localhost:8080/"
        },
        "outputId": "fdea7b9b-95e5-4f64-fa22-ce1fda795831"
      },
      "source": [
        "print(\"LSH Jaccard #Duplicates = \" + str(len(cand_pairs))) \r\n",
        "print(\"Build Time = \" + str(minhash_lsh['BuildTime'][k])) \r\n",
        "print(\"Query Time = \" + str(minhash_lsh['QueryTime'][k])) "
      ],
      "execution_count": 125,
      "outputs": [
        {
          "output_type": "stream",
          "text": [
            "LSH Jaccard #Duplicates = 920\n",
            "Build Time = 502\n",
            "Query Time = 0\n"
          ],
          "name": "stdout"
        }
      ]
    },
    {
      "cell_type": "code",
      "metadata": {
        "id": "dLqV23PQaum0",
        "colab": {
          "base_uri": "https://localhost:8080/",
          "height": 142
        },
        "outputId": "9730963a-b847-4613-c3c6-3c621e9e0297"
      },
      "source": [
        "minhash_lsh"
      ],
      "execution_count": 126,
      "outputs": [
        {
          "output_type": "execute_result",
          "data": {
            "text/html": [
              "<div>\n",
              "<style scoped>\n",
              "    .dataframe tbody tr th:only-of-type {\n",
              "        vertical-align: middle;\n",
              "    }\n",
              "\n",
              "    .dataframe tbody tr th {\n",
              "        vertical-align: top;\n",
              "    }\n",
              "\n",
              "    .dataframe thead th {\n",
              "        text-align: right;\n",
              "    }\n",
              "</style>\n",
              "<table border=\"1\" class=\"dataframe\">\n",
              "  <thead>\n",
              "    <tr style=\"text-align: right;\">\n",
              "      <th></th>\n",
              "      <th>#Permutations</th>\n",
              "      <th>BuildTime</th>\n",
              "      <th>QueryTime</th>\n",
              "      <th>TotalTime</th>\n",
              "      <th>Candidate Duplicates</th>\n",
              "    </tr>\n",
              "  </thead>\n",
              "  <tbody>\n",
              "    <tr>\n",
              "      <th>0</th>\n",
              "      <td>16</td>\n",
              "      <td>276</td>\n",
              "      <td>0</td>\n",
              "      <td>276</td>\n",
              "      <td>954</td>\n",
              "    </tr>\n",
              "    <tr>\n",
              "      <th>1</th>\n",
              "      <td>32</td>\n",
              "      <td>357</td>\n",
              "      <td>0</td>\n",
              "      <td>357</td>\n",
              "      <td>857</td>\n",
              "    </tr>\n",
              "    <tr>\n",
              "      <th>2</th>\n",
              "      <td>64</td>\n",
              "      <td>502</td>\n",
              "      <td>0</td>\n",
              "      <td>502</td>\n",
              "      <td>920</td>\n",
              "    </tr>\n",
              "  </tbody>\n",
              "</table>\n",
              "</div>"
            ],
            "text/plain": [
              "   #Permutations  BuildTime  QueryTime  TotalTime  Candidate Duplicates\n",
              "0             16        276          0        276                   954\n",
              "1             32        357          0        357                   857\n",
              "2             64        502          0        502                   920"
            ]
          },
          "metadata": {
            "tags": []
          },
          "execution_count": 126
        }
      ]
    },
    {
      "cell_type": "markdown",
      "metadata": {
        "id": "CXssFOGGhlar"
      },
      "source": [
        "#Random Projection LSH"
      ]
    },
    {
      "cell_type": "markdown",
      "metadata": {
        "id": "I4CT7N3YhvRm"
      },
      "source": [
        "We have used the following LSH cosine-based implementation for the LSH-Cosine requirement: \r\n",
        "http://ethen8181.github.io/machine-learning/recsys/content_based/lsh_text.html#Locality-Sensitive-Hashing-(LSH)---Cosine-Distance"
      ]
    },
    {
      "cell_type": "code",
      "metadata": {
        "id": "BrYlly99u5Jl"
      },
      "source": [
        "k_list = [1, 2, 3, 4, 5, 6, 7, 8, 9, 10]\r\n",
        "l = [0, 0, 0, 0, 0, 0, 0, 0, 0, 0]\r\n",
        "lsh_res = {'Parameter k': k_list, 'BuildTime':l,'QueryTime':l, 'TotalTime':l, 'Candidate Duplicates':l}\r\n",
        "\r\n",
        "random_projection_lsh = pd.DataFrame(lsh_res)"
      ],
      "execution_count": null,
      "outputs": []
    },
    {
      "cell_type": "markdown",
      "metadata": {
        "id": "LD-YsQxe3J0X"
      },
      "source": [
        "First step is to generate a collection of random vectors from the standard Gaussian distribution. Each vector can be used to compute one bit in the bin encoding. We generate 16 vectors, leading to a 16-bit encoding of the bin index for each document."
      ]
    },
    {
      "cell_type": "code",
      "metadata": {
        "id": "22TkUk8piGOm"
      },
      "source": [
        "def generate_random_vectors(dim, n_vectors):\r\n",
        "    return np.random.randn(dim, n_vectors)"
      ],
      "execution_count": null,
      "outputs": []
    },
    {
      "cell_type": "markdown",
      "metadata": {
        "id": "BVrEyV4GkfaY"
      },
      "source": [
        "##Train LSH"
      ]
    },
    {
      "cell_type": "code",
      "metadata": {
        "id": "T2wzN9FMiPLG"
      },
      "source": [
        "from collections import defaultdict\r\n",
        "\r\n",
        "def train_lsh(train_bow, n_vectors, seed=None):    \r\n",
        "    if seed is not None:\r\n",
        "        np.random.seed(seed)\r\n",
        "\r\n",
        "    dim = train_bow.shape[1]\r\n",
        "    random_vectors = generate_random_vectors(dim, n_vectors)  \r\n",
        "\r\n",
        "    bin_indices_bits = train_bow.dot(random_vectors) >= 0\r\n",
        "    powers_of_two = 1 << np.arange(n_vectors - 1, -1, step=-1)\r\n",
        "    bin_indices = bin_indices_bits.dot(powers_of_two)\r\n",
        "\r\n",
        "    table = defaultdict(list)\r\n",
        "    for idx, bin_index in enumerate(bin_indices):\r\n",
        "        table[bin_index].append(idx)\r\n",
        "    \r\n",
        "    model = {'table': table,\r\n",
        "             'random_vectors': random_vectors,\r\n",
        "             'bin_indices': bin_indices,\r\n",
        "             'bin_indices_bits': bin_indices_bits}\r\n",
        "             \r\n",
        "    return model"
      ],
      "execution_count": null,
      "outputs": []
    },
    {
      "cell_type": "markdown",
      "metadata": {
        "id": "CRO6RLHfkkhI"
      },
      "source": [
        "##Search Nearby Bins"
      ]
    },
    {
      "cell_type": "code",
      "metadata": {
        "id": "cvJoaCApiZ4P"
      },
      "source": [
        "from itertools import combinations\r\n",
        "\r\n",
        "def search_nearby_bins(query_bin_bits, table, search_radius, candidate_set):\r\n",
        "  \r\n",
        "    if candidate_set is None:\r\n",
        "        candidate_set = set()\r\n",
        "\r\n",
        "    n_vectors = query_bin_bits.shape[0]\r\n",
        "    powers_of_two = 1 << np.arange(n_vectors - 1, -1, step=-1)\r\n",
        "\r\n",
        "    for different_bits in combinations(range(n_vectors), search_radius):\r\n",
        "        index = list(different_bits)\r\n",
        "        alternate_bits = query_bin_bits.copy()\r\n",
        "        alternate_bits[index] = np.logical_not(alternate_bits[index])\r\n",
        "\r\n",
        "        nearby_bin = alternate_bits.dot(powers_of_two)\r\n",
        "\r\n",
        "        if nearby_bin in table:\r\n",
        "            candidate_set.update(table[nearby_bin])\r\n",
        "\r\n",
        "    return candidate_set"
      ],
      "execution_count": null,
      "outputs": []
    },
    {
      "cell_type": "markdown",
      "metadata": {
        "id": "H5TeCDWgkosz"
      },
      "source": [
        "##Get Nearest Neighbors"
      ]
    },
    {
      "cell_type": "code",
      "metadata": {
        "id": "n3NqHHatjXE3"
      },
      "source": [
        "from sklearn.metrics.pairwise import pairwise_distances\r\n",
        "\r\n",
        "def get_nearest_neighbors(train_bow, query_vector, model, max_search_radius):\r\n",
        "    table = model['table']\r\n",
        "    random_vectors = model['random_vectors']\r\n",
        "\r\n",
        "    bin_index_bits = np.ravel(query_vector.dot(random_vectors) >= 0)\r\n",
        "\r\n",
        "    candidate_set = set()\r\n",
        "    for search_radius in range(max_search_radius + 1):\r\n",
        "        candidate_set = search_nearby_bins(bin_index_bits, table, search_radius, candidate_set)\r\n",
        "\r\n",
        "    candidate_list = list(candidate_set)\r\n",
        "    candidates = train_bow[candidate_list]\r\n",
        "    distance = pairwise_distances(candidates, query_vector, metric='cosine').flatten()\r\n",
        "    \r\n",
        "    distance_col = 'distance'\r\n",
        "    nearest_neighbors = pd.DataFrame({\r\n",
        "        'id': candidate_list, distance_col: distance\r\n",
        "    }).sort_values(distance_col).reset_index(drop=True)\r\n",
        "    \r\n",
        "    return nearest_neighbors"
      ],
      "execution_count": null,
      "outputs": []
    },
    {
      "cell_type": "markdown",
      "metadata": {
        "id": "O-n8lyf6kzhj"
      },
      "source": [
        "##Query LSH"
      ]
    },
    {
      "cell_type": "code",
      "metadata": {
        "id": "7d0WnOBkoloW"
      },
      "source": [
        "k = 1"
      ],
      "execution_count": null,
      "outputs": []
    },
    {
      "cell_type": "code",
      "metadata": {
        "id": "MKXdTBVBAXah"
      },
      "source": [
        "start = time.time() \r\n",
        "# build the model\r\n",
        "n_vectors = k\r\n",
        "model = train_lsh(vectorized_combined_content, n_vectors, seed=143)\r\n",
        "\r\n",
        "end = time.time()\r\n",
        "build_time = end - start\r\n",
        "\r\n",
        "lsh_cands = []\r\n",
        "\r\n",
        "start = time.time() \r\n",
        "\r\n",
        "for i in range(5374):\r\n",
        "  query_vector = vectorized_combined_content[i]\r\n",
        "    \r\n",
        "  nearest_neighbors = get_nearest_neighbors(vectorized_combined_content, query_vector, model, 0)\r\n",
        "\r\n",
        "  num_candidates = nearest_neighbors.shape[0]\r\n",
        "  count = 0 \r\n",
        "\r\n",
        "  for l in range(num_candidates): \r\n",
        "    if nearest_neighbors['distance'][l] < 0.2 and nearest_neighbors['id'][l] >= 5374: \r\n",
        "      count = count + 1\r\n",
        "    if count >= 1: \r\n",
        "      lsh_cands.append(i)\r\n",
        "      break\r\n",
        "\r\n",
        "end = time.time()\r\n",
        "query_time = end - start"
      ],
      "execution_count": null,
      "outputs": []
    },
    {
      "cell_type": "code",
      "metadata": {
        "id": "m-9vuXOEo8kq"
      },
      "source": [
        "random_projection_lsh['QueryTime'][k-1] = query_time\r\n",
        "random_projection_lsh['BuildTime'][k-1] = build_time\r\n",
        "random_projection_lsh['TotalTime'][k-1] = query_time + build_time\r\n",
        "random_projection_lsh['Candidate Duplicates'][k-1] = len(lsh_cands)"
      ],
      "execution_count": null,
      "outputs": []
    },
    {
      "cell_type": "code",
      "metadata": {
        "id": "w5KjxkP_pZ4U"
      },
      "source": [
        "random_projection_lsh"
      ],
      "execution_count": null,
      "outputs": []
    },
    {
      "cell_type": "markdown",
      "metadata": {
        "id": "GjSS64Pfu_fN"
      },
      "source": [
        "#Exact Cosine Similarity\r\n",
        "https://scikit-learn.org/stable/modules/generated/sklearn.metrics.pairwise.cosine_similarity.html"
      ]
    },
    {
      "cell_type": "code",
      "metadata": {
        "id": "Jx-zFgcDg2i9"
      },
      "source": [
        "from sklearn.metrics.pairwise import cosine_similarity"
      ],
      "execution_count": null,
      "outputs": []
    },
    {
      "cell_type": "code",
      "metadata": {
        "id": "0Oo06bCjYd2Z"
      },
      "source": [
        "dupcs_exact_cosine = []\r\n",
        "query_time_exact_cosine = 0"
      ],
      "execution_count": null,
      "outputs": []
    },
    {
      "cell_type": "code",
      "metadata": {
        "id": "UIyAG_F3frRl"
      },
      "source": [
        "def check_threshold(res):\r\n",
        "  for i in range(len(res)):\r\n",
        "    for c in res[i]:\r\n",
        "      if c >= 0.8 and i not in dupcs_exact_cosine: \r\n",
        "        dupcs_exact_cosine.append(i)\r\n",
        "        break"
      ],
      "execution_count": null,
      "outputs": []
    },
    {
      "cell_type": "code",
      "metadata": {
        "id": "IrKYGizdufCs"
      },
      "source": [
        "start = time.time() \r\n",
        "res = cosine_similarity(vectorized_combined_content_extended[0:500], vectorized_combined_content_extended[5374:])\r\n",
        "check_threshold(res)\r\n",
        "end = time.time()\r\n",
        "query_time_exact_cosine = query_time_exact_cosine + (end - start)"
      ],
      "execution_count": null,
      "outputs": []
    },
    {
      "cell_type": "code",
      "metadata": {
        "colab": {
          "base_uri": "https://localhost:8080/"
        },
        "id": "5vwj-1BhaxjK",
        "outputId": "01d2cf95-10c6-4337-c5c4-0f059655bd77"
      },
      "source": [
        "print(\"Duplicates found until test data row 500: \" + str(len(dupcs_exact_cosine)))"
      ],
      "execution_count": null,
      "outputs": [
        {
          "output_type": "stream",
          "text": [
            "Duplicates found until test data row 500: 183\n"
          ],
          "name": "stdout"
        }
      ]
    },
    {
      "cell_type": "code",
      "metadata": {
        "id": "nhd9DH2IBsFq"
      },
      "source": [
        "start = time.time() \r\n",
        "res = cosine_similarity(vectorized_combined_content_extended[500:1100], vectorized_combined_content_extended[5374:])\r\n",
        "check_threshold(res)\r\n",
        "end = time.time()\r\n",
        "query_time_exact_cosine = query_time_exact_cosine + (end - start)"
      ],
      "execution_count": null,
      "outputs": []
    },
    {
      "cell_type": "code",
      "metadata": {
        "colab": {
          "base_uri": "https://localhost:8080/"
        },
        "id": "AmUc8HrGfYH8",
        "outputId": "5424d141-08fc-4d66-c9cc-c7396ad8a5bb"
      },
      "source": [
        "print(\"Duplicates found until test data row 1100: \" + str(len(dupcs_exact_cosine)))"
      ],
      "execution_count": null,
      "outputs": [
        {
          "output_type": "stream",
          "text": [
            "Duplicates found until test data row 1100: 344\n"
          ],
          "name": "stdout"
        }
      ]
    },
    {
      "cell_type": "code",
      "metadata": {
        "id": "02YkG2rhDa37"
      },
      "source": [
        "start = time.time() \r\n",
        "res = cosine_similarity(vectorized_combined_content_extended[1100:1700], vectorized_combined_content_extended[5374:])\r\n",
        "check_threshold(res)\r\n",
        "end = time.time()\r\n",
        "query_time_exact_cosine = query_time_exact_cosine + (end - start)"
      ],
      "execution_count": null,
      "outputs": []
    },
    {
      "cell_type": "code",
      "metadata": {
        "colab": {
          "base_uri": "https://localhost:8080/"
        },
        "id": "7Sy37Z2Jfarx",
        "outputId": "0a2f3f91-29dc-4979-f538-14a04eda0a34"
      },
      "source": [
        "print(\"Duplicates found until train data row 1700: \" + str(len(dupcs_exact_cosine)))"
      ],
      "execution_count": null,
      "outputs": [
        {
          "output_type": "stream",
          "text": [
            "Duplicates found until train data row 1700: 436\n"
          ],
          "name": "stdout"
        }
      ]
    },
    {
      "cell_type": "code",
      "metadata": {
        "id": "xaeuWEluIfFB"
      },
      "source": [
        "start = time.time() \r\n",
        "res = cosine_similarity(vectorized_combined_content_extended[1700:2400], vectorized_combined_content_extended[5374:])\r\n",
        "check_threshold(res)\r\n",
        "end = time.time()\r\n",
        "query_time_exact_cosine = query_time_exact_cosine + (end - start)"
      ],
      "execution_count": null,
      "outputs": []
    },
    {
      "cell_type": "code",
      "metadata": {
        "colab": {
          "base_uri": "https://localhost:8080/"
        },
        "id": "_nYjjSOJffrb",
        "outputId": "d906de4e-7c44-42ea-a71c-4fd27d6f8590"
      },
      "source": [
        "print(\"Duplicates found until test data row 2400: \" + str(len(dupcs_exact_cosine)))"
      ],
      "execution_count": null,
      "outputs": [
        {
          "output_type": "stream",
          "text": [
            "Duplicates found until test data row 2400: 528\n"
          ],
          "name": "stdout"
        }
      ]
    },
    {
      "cell_type": "code",
      "metadata": {
        "id": "tfO--wrGJbZc"
      },
      "source": [
        "start = time.time() \r\n",
        "res = cosine_similarity(vectorized_combined_content_extended[2400:3100], vectorized_combined_content_extended[5374:])\r\n",
        "check_threshold(res)\r\n",
        "end = time.time()\r\n",
        "query_time_exact_cosine = query_time_exact_cosine + (end - start)"
      ],
      "execution_count": null,
      "outputs": []
    },
    {
      "cell_type": "code",
      "metadata": {
        "colab": {
          "base_uri": "https://localhost:8080/"
        },
        "id": "5Q2HXI_urhHy",
        "outputId": "0db679a9-6a06-4a06-ddf6-96f5ad9b269f"
      },
      "source": [
        "print(\"Duplicates found until test data row 3100: \" + str(len(dupcs_exact_cosine)))"
      ],
      "execution_count": null,
      "outputs": [
        {
          "output_type": "stream",
          "text": [
            "Duplicates found until test data row 3100: 593\n"
          ],
          "name": "stdout"
        }
      ]
    },
    {
      "cell_type": "code",
      "metadata": {
        "id": "lkVIGfIdr77L"
      },
      "source": [
        "start = time.time() \r\n",
        "res = cosine_similarity(vectorized_combined_content_extended[3100:4000], vectorized_combined_content_extended[5374:])\r\n",
        "check_threshold(res)\r\n",
        "end = time.time()\r\n",
        "query_time_exact_cosine = query_time_exact_cosine + (end - start)"
      ],
      "execution_count": null,
      "outputs": []
    },
    {
      "cell_type": "code",
      "metadata": {
        "colab": {
          "base_uri": "https://localhost:8080/"
        },
        "id": "bkdfNsy0r8MN",
        "outputId": "10fb9b68-2c00-4818-b92e-3ba9ac109248"
      },
      "source": [
        "print(\"Duplicates found until test data row 4000: \" + str(len(dupcs_exact_cosine)))"
      ],
      "execution_count": null,
      "outputs": [
        {
          "output_type": "stream",
          "text": [
            "Duplicates found until test data row 4000: 703\n"
          ],
          "name": "stdout"
        }
      ]
    },
    {
      "cell_type": "code",
      "metadata": {
        "id": "VC9ovZCKr8mh"
      },
      "source": [
        "start = time.time() \r\n",
        "res = cosine_similarity(vectorized_combined_content_extended[4000:4700], vectorized_combined_content_extended[5374:])\r\n",
        "check_threshold(res)\r\n",
        "end = time.time()\r\n",
        "query_time_exact_cosine = query_time_exact_cosine + (end - start)"
      ],
      "execution_count": null,
      "outputs": []
    },
    {
      "cell_type": "code",
      "metadata": {
        "colab": {
          "base_uri": "https://localhost:8080/"
        },
        "id": "koG1DgXTr8uX",
        "outputId": "e9f9961e-122c-4d36-db91-b26e9d200d35"
      },
      "source": [
        "print(\"Duplicates found until test data row 4700: \" + str(len(dupcs_exact_cosine)))"
      ],
      "execution_count": null,
      "outputs": [
        {
          "output_type": "stream",
          "text": [
            "Duplicates found until test data row 4700: 727\n"
          ],
          "name": "stdout"
        }
      ]
    },
    {
      "cell_type": "code",
      "metadata": {
        "id": "M_B9lnFhs7Yn"
      },
      "source": [
        "start = time.time() \r\n",
        "res = cosine_similarity(vectorized_combined_content_extended[4700:5374], vectorized_combined_content_extended[5374:])\r\n",
        "check_threshold(res)\r\n",
        "end = time.time()\r\n",
        "query_time_exact_cosine = query_time_exact_cosine + (end - start)"
      ],
      "execution_count": null,
      "outputs": []
    },
    {
      "cell_type": "code",
      "metadata": {
        "colab": {
          "base_uri": "https://localhost:8080/"
        },
        "id": "mc2Gvq2wJGcI",
        "outputId": "feb54ece-0a4b-453a-940a-3617bbe5c335"
      },
      "source": [
        "print(\"Duplicates identified with exact cosine: \" + str(len(dupcs_exact_cosine)))\r\n",
        "print(\"Total query time with exact cosine: \" + str(query_time_exact_cosine) + \" s\")"
      ],
      "execution_count": null,
      "outputs": [
        {
          "output_type": "stream",
          "text": [
            "Duplicates identified with exact cosine: 739\n",
            "Total query time with exact cosine: 532.7807335853577 s\n"
          ],
          "name": "stdout"
        }
      ]
    },
    {
      "cell_type": "code",
      "metadata": {
        "colab": {
          "base_uri": "https://localhost:8080/"
        },
        "id": "NWeJRq5rtm8_",
        "outputId": "e7d8addf-8b71-457f-a2bb-74f5c9213a6e"
      },
      "source": [
        "print(dupcs_exact_cosine[0:100])"
      ],
      "execution_count": null,
      "outputs": [
        {
          "output_type": "stream",
          "text": [
            "[0, 2, 5, 7, 9, 12, 18, 22, 23, 28, 29, 31, 35, 40, 43, 49, 50, 51, 52, 54, 57, 59, 60, 61, 65, 67, 72, 73, 76, 80, 91, 92, 94, 95, 101, 104, 107, 108, 110, 114, 115, 116, 117, 118, 123, 129, 133, 135, 137, 138, 144, 149, 156, 159, 161, 164, 166, 167, 169, 172, 177, 178, 180, 181, 183, 184, 186, 189, 193, 199, 200, 201, 202, 203, 208, 214, 219, 220, 222, 224, 227, 233, 234, 236, 238, 239, 240, 244, 246, 248, 252, 259, 264, 271, 272, 273, 274, 277, 280, 285]\n"
          ],
          "name": "stdout"
        }
      ]
    },
    {
      "cell_type": "markdown",
      "metadata": {
        "id": "AwWAqoiovLUk"
      },
      "source": [
        "#Exact Jaccard Similarity"
      ]
    },
    {
      "cell_type": "code",
      "metadata": {
        "id": "S9rVpSaz3555"
      },
      "source": [
        "def jaccard(list1, list2):\r\n",
        "  intersection = len(list(set(list1).intersection(list2)))\r\n",
        "  union = (len(list1) + len(list2)) - intersection\r\n",
        "  return float(\"{:.2f}\".format(float(intersection) / union))"
      ],
      "execution_count": null,
      "outputs": []
    },
    {
      "cell_type": "code",
      "metadata": {
        "id": "ee9gH22K9ZSW"
      },
      "source": [
        "splitted_train_corpus = []\r\n",
        "\r\n",
        "for j in range(len(corpus_train)):\r\n",
        "  splitted_train_corpus.append(corpus_train['Content'][j].split(\" \"))"
      ],
      "execution_count": null,
      "outputs": []
    },
    {
      "cell_type": "code",
      "metadata": {
        "id": "kc-EGgj2dfaz"
      },
      "source": [
        "jaccard_dups = 0\r\n",
        "jaccard_query_time = 0"
      ],
      "execution_count": null,
      "outputs": []
    },
    {
      "cell_type": "code",
      "metadata": {
        "id": "A2TBHuDP8-FM",
        "colab": {
          "base_uri": "https://localhost:8080/"
        },
        "outputId": "8e1a7b25-0bd8-4807-a68d-0af0e885ceb0"
      },
      "source": [
        "start_time = time.time()\r\n",
        "\r\n",
        "l = len(corpus_train)\r\n",
        "m = len(corpus_test)\r\n",
        "\r\n",
        "for i in range(5000, 5374):\r\n",
        "  for j in range(l):\r\n",
        "    j = jaccard(corpus_test['Content'][i].split(\" \"), splitted_train_corpus[j])\r\n",
        "    if j >= 0.8: \r\n",
        "      jaccard_dups = jaccard_dups + 1\r\n",
        "      break\r\n",
        "\r\n",
        "end_time = time.time()\r\n",
        "jaccard_query_time = jaccard_query_time + (end_time-start_time)\r\n",
        "\r\n",
        "print(\"Duplicates identified with exact jaccard: \" + str(jaccard_dups))\r\n",
        "print(\"Total query time with exact jaccard: \" + str(jaccard_query_time) + \" s\")"
      ],
      "execution_count": null,
      "outputs": [
        {
          "output_type": "stream",
          "text": [
            "Duplicates identified with exact jaccard: 370\n",
            "Total query time with exact jaccard: 25148.03971886635 s\n"
          ],
          "name": "stdout"
        }
      ]
    }
  ]
}