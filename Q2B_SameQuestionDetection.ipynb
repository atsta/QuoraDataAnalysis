{
  "nbformat": 4,
  "nbformat_minor": 0,
  "metadata": {
    "colab": {
      "name": "Q2B_SameQuestionDetection.ipynb",
      "provenance": [],
      "collapsed_sections": [],
      "toc_visible": true
    },
    "kernelspec": {
      "display_name": "Python 3",
      "name": "python3"
    }
  },
  "cells": [
    {
      "cell_type": "markdown",
      "metadata": {
        "id": "5zmIEOLnP5F1"
      },
      "source": [
        "# **Question 2b:** Same Question Detection\n",
        "\n",
        "\n",
        "---\n",
        "\n",
        "\n",
        "**Imports**\n",
        "\n",
        "Import needed libraries and download packages \"punkt\" and \"popular\""
      ]
    },
    {
      "cell_type": "code",
      "metadata": {
        "id": "fJCslfHF1p_U"
      },
      "source": [
        "import pandas as pd\n",
        "from sklearn.feature_extraction.text import TfidfVectorizer\n",
        "from nltk.corpus import stopwords\n",
        "from sklearn import linear_model\n",
        "import numpy as np\n",
        "import time\n",
        "import sys\n",
        "from sklearn.model_selection import train_test_split\n",
        "import scipy\n",
        "from sklearn.metrics import log_loss\n",
        "import xgboost as xgb\n",
        "from sklearn.metrics import accuracy_score\n",
        "from sklearn.metrics import roc_auc_score\n",
        "from sklearn.model_selection import cross_validate\n",
        "from string import digits\n",
        "import re\n",
        "from sklearn.decomposition import TruncatedSVD\n",
        "import seaborn as sns\n",
        "import matplotlib.pyplot as plt\n",
        "import os;\n",
        "import warnings"
      ],
      "execution_count": null,
      "outputs": []
    },
    {
      "cell_type": "code",
      "metadata": {
        "colab": {
          "base_uri": "https://localhost:8080/"
        },
        "id": "wyuDeq1JS564",
        "outputId": "d07af458-b376-4c1d-fb23-8a3a8ff9e050"
      },
      "source": [
        "import nltk\n",
        "from nltk.tokenize import word_tokenize\n",
        "from nltk.stem import PorterStemmer\n",
        "\n",
        "nltk.download('punkt')\n",
        "nltk.download('popular')"
      ],
      "execution_count": null,
      "outputs": [
        {
          "output_type": "stream",
          "text": [
            "[nltk_data] Downloading package punkt to /root/nltk_data...\n",
            "[nltk_data]   Unzipping tokenizers/punkt.zip.\n",
            "[nltk_data] Downloading collection 'popular'\n",
            "[nltk_data]    | \n",
            "[nltk_data]    | Downloading package cmudict to /root/nltk_data...\n",
            "[nltk_data]    |   Unzipping corpora/cmudict.zip.\n",
            "[nltk_data]    | Downloading package gazetteers to /root/nltk_data...\n",
            "[nltk_data]    |   Unzipping corpora/gazetteers.zip.\n",
            "[nltk_data]    | Downloading package genesis to /root/nltk_data...\n",
            "[nltk_data]    |   Unzipping corpora/genesis.zip.\n",
            "[nltk_data]    | Downloading package gutenberg to /root/nltk_data...\n",
            "[nltk_data]    |   Unzipping corpora/gutenberg.zip.\n",
            "[nltk_data]    | Downloading package inaugural to /root/nltk_data...\n",
            "[nltk_data]    |   Unzipping corpora/inaugural.zip.\n",
            "[nltk_data]    | Downloading package movie_reviews to\n",
            "[nltk_data]    |     /root/nltk_data...\n",
            "[nltk_data]    |   Unzipping corpora/movie_reviews.zip.\n",
            "[nltk_data]    | Downloading package names to /root/nltk_data...\n",
            "[nltk_data]    |   Unzipping corpora/names.zip.\n",
            "[nltk_data]    | Downloading package shakespeare to /root/nltk_data...\n",
            "[nltk_data]    |   Unzipping corpora/shakespeare.zip.\n",
            "[nltk_data]    | Downloading package stopwords to /root/nltk_data...\n",
            "[nltk_data]    |   Unzipping corpora/stopwords.zip.\n",
            "[nltk_data]    | Downloading package treebank to /root/nltk_data...\n",
            "[nltk_data]    |   Unzipping corpora/treebank.zip.\n",
            "[nltk_data]    | Downloading package twitter_samples to\n",
            "[nltk_data]    |     /root/nltk_data...\n",
            "[nltk_data]    |   Unzipping corpora/twitter_samples.zip.\n",
            "[nltk_data]    | Downloading package omw to /root/nltk_data...\n",
            "[nltk_data]    |   Unzipping corpora/omw.zip.\n",
            "[nltk_data]    | Downloading package wordnet to /root/nltk_data...\n",
            "[nltk_data]    |   Unzipping corpora/wordnet.zip.\n",
            "[nltk_data]    | Downloading package wordnet_ic to /root/nltk_data...\n",
            "[nltk_data]    |   Unzipping corpora/wordnet_ic.zip.\n",
            "[nltk_data]    | Downloading package words to /root/nltk_data...\n",
            "[nltk_data]    |   Unzipping corpora/words.zip.\n",
            "[nltk_data]    | Downloading package maxent_ne_chunker to\n",
            "[nltk_data]    |     /root/nltk_data...\n",
            "[nltk_data]    |   Unzipping chunkers/maxent_ne_chunker.zip.\n",
            "[nltk_data]    | Downloading package punkt to /root/nltk_data...\n",
            "[nltk_data]    |   Package punkt is already up-to-date!\n",
            "[nltk_data]    | Downloading package snowball_data to\n",
            "[nltk_data]    |     /root/nltk_data...\n",
            "[nltk_data]    | Downloading package averaged_perceptron_tagger to\n",
            "[nltk_data]    |     /root/nltk_data...\n",
            "[nltk_data]    |   Unzipping taggers/averaged_perceptron_tagger.zip.\n",
            "[nltk_data]    | \n",
            "[nltk_data]  Done downloading collection popular\n"
          ],
          "name": "stdout"
        },
        {
          "output_type": "execute_result",
          "data": {
            "text/plain": [
              "True"
            ]
          },
          "metadata": {
            "tags": []
          },
          "execution_count": 3
        }
      ]
    },
    {
      "cell_type": "markdown",
      "metadata": {
        "id": "asl5Nq5HQRPD"
      },
      "source": [
        "Mount google drive"
      ]
    },
    {
      "cell_type": "code",
      "metadata": {
        "colab": {
          "base_uri": "https://localhost:8080/"
        },
        "id": "ddp9-owKlTG_",
        "outputId": "f232eabd-787a-45e1-8e0f-684b709c8cbf"
      },
      "source": [
        "from google.colab import drive\n",
        "drive.mount('/content/drive')"
      ],
      "execution_count": null,
      "outputs": [
        {
          "output_type": "stream",
          "text": [
            "Mounted at /content/drive\n"
          ],
          "name": "stdout"
        }
      ]
    },
    {
      "cell_type": "markdown",
      "metadata": {
        "id": "4x9AycmOQYin"
      },
      "source": [
        "Read train data in dataframe from csv file."
      ]
    },
    {
      "cell_type": "code",
      "metadata": {
        "colab": {
          "base_uri": "https://localhost:8080/",
          "height": 204
        },
        "id": "AA28_XWcu6X0",
        "outputId": "9d5e8568-670a-41ee-ef59-83e2b2ef8478"
      },
      "source": [
        "df = pd.read_csv(\"/content/drive/MyDrive/University/datasets2020/datasets/q2b/train.csv\")\n",
        "df.head()"
      ],
      "execution_count": null,
      "outputs": [
        {
          "output_type": "execute_result",
          "data": {
            "text/html": [
              "<div>\n",
              "<style scoped>\n",
              "    .dataframe tbody tr th:only-of-type {\n",
              "        vertical-align: middle;\n",
              "    }\n",
              "\n",
              "    .dataframe tbody tr th {\n",
              "        vertical-align: top;\n",
              "    }\n",
              "\n",
              "    .dataframe thead th {\n",
              "        text-align: right;\n",
              "    }\n",
              "</style>\n",
              "<table border=\"1\" class=\"dataframe\">\n",
              "  <thead>\n",
              "    <tr style=\"text-align: right;\">\n",
              "      <th></th>\n",
              "      <th>Id</th>\n",
              "      <th>Question1</th>\n",
              "      <th>Question2</th>\n",
              "      <th>IsDuplicate</th>\n",
              "    </tr>\n",
              "  </thead>\n",
              "  <tbody>\n",
              "    <tr>\n",
              "      <th>0</th>\n",
              "      <td>0</td>\n",
              "      <td>What is the step by step guide to invest in sh...</td>\n",
              "      <td>What is the step by step guide to invest in sh...</td>\n",
              "      <td>0</td>\n",
              "    </tr>\n",
              "    <tr>\n",
              "      <th>1</th>\n",
              "      <td>1</td>\n",
              "      <td>What is the story of Kohinoor (Koh-i-Noor) Dia...</td>\n",
              "      <td>What would happen if the Indian government sto...</td>\n",
              "      <td>0</td>\n",
              "    </tr>\n",
              "    <tr>\n",
              "      <th>2</th>\n",
              "      <td>2</td>\n",
              "      <td>How can I increase the speed of my internet co...</td>\n",
              "      <td>How can Internet speed be increased by hacking...</td>\n",
              "      <td>0</td>\n",
              "    </tr>\n",
              "    <tr>\n",
              "      <th>3</th>\n",
              "      <td>3</td>\n",
              "      <td>Why am I mentally very lonely? How can I solve...</td>\n",
              "      <td>Find the remainder when [math]23^{24}[/math] i...</td>\n",
              "      <td>0</td>\n",
              "    </tr>\n",
              "    <tr>\n",
              "      <th>4</th>\n",
              "      <td>4</td>\n",
              "      <td>Which one dissolve in water quikly sugar, salt...</td>\n",
              "      <td>Which fish would survive in salt water?</td>\n",
              "      <td>0</td>\n",
              "    </tr>\n",
              "  </tbody>\n",
              "</table>\n",
              "</div>"
            ],
            "text/plain": [
              "   Id  ... IsDuplicate\n",
              "0   0  ...           0\n",
              "1   1  ...           0\n",
              "2   2  ...           0\n",
              "3   3  ...           0\n",
              "4   4  ...           0\n",
              "\n",
              "[5 rows x 4 columns]"
            ]
          },
          "metadata": {
            "tags": []
          },
          "execution_count": 5
        }
      ]
    },
    {
      "cell_type": "markdown",
      "metadata": {
        "id": "LkvC77YpQfSI"
      },
      "source": [
        "Read test data in dataframe from csv file."
      ]
    },
    {
      "cell_type": "code",
      "metadata": {
        "colab": {
          "base_uri": "https://localhost:8080/",
          "height": 204
        },
        "id": "rLrEXt9Mvk7h",
        "outputId": "365acd5b-eb22-4837-bb5e-4e65f4256a62"
      },
      "source": [
        "df_test = pd.read_csv(\"/content/drive/MyDrive/University/datasets2020/datasets/q2b/test_without_labels.csv\")\n",
        "df_test.head()"
      ],
      "execution_count": null,
      "outputs": [
        {
          "output_type": "execute_result",
          "data": {
            "text/html": [
              "<div>\n",
              "<style scoped>\n",
              "    .dataframe tbody tr th:only-of-type {\n",
              "        vertical-align: middle;\n",
              "    }\n",
              "\n",
              "    .dataframe tbody tr th {\n",
              "        vertical-align: top;\n",
              "    }\n",
              "\n",
              "    .dataframe thead th {\n",
              "        text-align: right;\n",
              "    }\n",
              "</style>\n",
              "<table border=\"1\" class=\"dataframe\">\n",
              "  <thead>\n",
              "    <tr style=\"text-align: right;\">\n",
              "      <th></th>\n",
              "      <th>Id</th>\n",
              "      <th>Question1</th>\n",
              "      <th>Question2</th>\n",
              "    </tr>\n",
              "  </thead>\n",
              "  <tbody>\n",
              "    <tr>\n",
              "      <th>0</th>\n",
              "      <td>283003</td>\n",
              "      <td>What can someone do if they've lost the wirele...</td>\n",
              "      <td>What is the best USB wireless mouse that can b...</td>\n",
              "    </tr>\n",
              "    <tr>\n",
              "      <th>1</th>\n",
              "      <td>283004</td>\n",
              "      <td>Why India need to elect Prime minister?</td>\n",
              "      <td>Is prime minister of India elected or appointed?</td>\n",
              "    </tr>\n",
              "    <tr>\n",
              "      <th>2</th>\n",
              "      <td>283005</td>\n",
              "      <td>How can I make money online with free of cost?</td>\n",
              "      <td>How can I make money online for free?</td>\n",
              "    </tr>\n",
              "    <tr>\n",
              "      <th>3</th>\n",
              "      <td>283006</td>\n",
              "      <td>Does MDMA affect the first and higher order mo...</td>\n",
              "      <td>Do antipsychotics affect the first and higher ...</td>\n",
              "    </tr>\n",
              "    <tr>\n",
              "      <th>4</th>\n",
              "      <td>283007</td>\n",
              "      <td>I am a Saudi National and have \"SR 3 million\" ...</td>\n",
              "      <td>Where should I invest money to get high returns?</td>\n",
              "    </tr>\n",
              "  </tbody>\n",
              "</table>\n",
              "</div>"
            ],
            "text/plain": [
              "       Id  ...                                          Question2\n",
              "0  283003  ...  What is the best USB wireless mouse that can b...\n",
              "1  283004  ...   Is prime minister of India elected or appointed?\n",
              "2  283005  ...              How can I make money online for free?\n",
              "3  283006  ...  Do antipsychotics affect the first and higher ...\n",
              "4  283007  ...   Where should I invest money to get high returns?\n",
              "\n",
              "[5 rows x 3 columns]"
            ]
          },
          "metadata": {
            "tags": []
          },
          "execution_count": 6
        }
      ]
    },
    {
      "cell_type": "markdown",
      "metadata": {
        "id": "7E0yfi9jRAVd"
      },
      "source": [
        "Discard rows from csv containing NaN values, since these rows cannot actually provide us with any useful knowledge."
      ]
    },
    {
      "cell_type": "code",
      "metadata": {
        "colab": {
          "base_uri": "https://localhost:8080/",
          "height": 111
        },
        "id": "CY1o8CepCLJd",
        "outputId": "6cab5474-0ec2-464c-ed7f-511b05d99ff8"
      },
      "source": [
        "df[df.isnull().any(axis=1)]"
      ],
      "execution_count": null,
      "outputs": [
        {
          "output_type": "execute_result",
          "data": {
            "text/html": [
              "<div>\n",
              "<style scoped>\n",
              "    .dataframe tbody tr th:only-of-type {\n",
              "        vertical-align: middle;\n",
              "    }\n",
              "\n",
              "    .dataframe tbody tr th {\n",
              "        vertical-align: top;\n",
              "    }\n",
              "\n",
              "    .dataframe thead th {\n",
              "        text-align: right;\n",
              "    }\n",
              "</style>\n",
              "<table border=\"1\" class=\"dataframe\">\n",
              "  <thead>\n",
              "    <tr style=\"text-align: right;\">\n",
              "      <th></th>\n",
              "      <th>Id</th>\n",
              "      <th>Question1</th>\n",
              "      <th>Question2</th>\n",
              "      <th>IsDuplicate</th>\n",
              "    </tr>\n",
              "  </thead>\n",
              "  <tbody>\n",
              "    <tr>\n",
              "      <th>105780</th>\n",
              "      <td>105780</td>\n",
              "      <td>How can I develop android app?</td>\n",
              "      <td>NaN</td>\n",
              "      <td>0</td>\n",
              "    </tr>\n",
              "    <tr>\n",
              "      <th>201841</th>\n",
              "      <td>201841</td>\n",
              "      <td>How can I create an Android app?</td>\n",
              "      <td>NaN</td>\n",
              "      <td>0</td>\n",
              "    </tr>\n",
              "  </tbody>\n",
              "</table>\n",
              "</div>"
            ],
            "text/plain": [
              "            Id                         Question1 Question2  IsDuplicate\n",
              "105780  105780    How can I develop android app?       NaN            0\n",
              "201841  201841  How can I create an Android app?       NaN            0"
            ]
          },
          "metadata": {
            "tags": []
          },
          "execution_count": 7
        }
      ]
    },
    {
      "cell_type": "code",
      "metadata": {
        "colab": {
          "base_uri": "https://localhost:8080/"
        },
        "id": "va-5uuQJCR-J",
        "outputId": "35b9b308-1cf1-4b85-ee2c-5a54c42798f3"
      },
      "source": [
        "df = df.dropna()\n",
        "df.shape"
      ],
      "execution_count": null,
      "outputs": [
        {
          "output_type": "execute_result",
          "data": {
            "text/plain": [
              "(283002, 4)"
            ]
          },
          "metadata": {
            "tags": []
          },
          "execution_count": 8
        }
      ]
    },
    {
      "cell_type": "markdown",
      "metadata": {
        "id": "Y3Wff3dZQh68"
      },
      "source": [
        "Graphic representation of duplicate and non duplicate questions in train set data"
      ]
    },
    {
      "cell_type": "code",
      "metadata": {
        "colab": {
          "base_uri": "https://localhost:8080/",
          "height": 297
        },
        "id": "jzO0kwnsaiRp",
        "outputId": "4a693a0d-1bd0-4460-a5a1-7c87e82d2ca2"
      },
      "source": [
        "# Bar chart\n",
        "plt.subplot(1, 2, 1)\n",
        "df.groupby('IsDuplicate')['Id'].count().plot.bar()\n",
        "plt.grid(False)\n",
        "plt.title('Duplicate Count')\n",
        "plt.subplots_adjust(right=1.9)\n",
        "\n",
        "# Pie Chart\n",
        "plt.subplot(1, 2, 2)\n",
        "values = [df[df['IsDuplicate']==0].shape[0], df[df['IsDuplicate']==1].shape[0]]\n",
        "labels = ['Is not duplicate questions', 'Is duplicate questions']\n",
        "\n",
        "plt.pie(values, labels=labels, autopct='%1.1f%%', shadow=True)\n",
        "plt.title('Duplicate Distribution')\n",
        "plt.tight_layout()\n",
        "plt.subplots_adjust(right=1.9)\n",
        "plt.show()"
      ],
      "execution_count": null,
      "outputs": [
        {
          "output_type": "display_data",
          "data": {
            "image/png": "[encoded data removed]",
            "text/plain": [
              "<Figure size 432x288 with 2 Axes>"
            ]
          },
          "metadata": {
            "tags": [],
            "needs_background": "light"
          }
        }
      ]
    },
    {
      "cell_type": "markdown",
      "metadata": {
        "id": "YHUYBvsSRi2J"
      },
      "source": [
        "Find the percentage of unique questions in the dataset."
      ]
    },
    {
      "cell_type": "code",
      "metadata": {
        "colab": {
          "base_uri": "https://localhost:8080/"
        },
        "id": "FWOtaKJJBsXy",
        "outputId": "24be9e96-eda6-4198-cac1-4cf8269a5537"
      },
      "source": [
        "qids = pd.Series((df['Question1'].astype(str)).tolist() + (df['Question2'].astype(str)).tolist())\n",
        "uniq = len(np.unique(qids))\n",
        "print('Total number of unique questions is {}'.format(uniq))\n",
        "#Number of questions that repeated than 1 time\n",
        "cnt = qids.value_counts()\n",
        "more_than_one = len(cnt[cnt.values > 1])\n",
        "print('Number of questions that repeated more than 1 time is {}'.format(more_than_one))\n",
        "print('The maximum number of times a question occured is {}'.format(max(cnt)))"
      ],
      "execution_count": null,
      "outputs": [
        {
          "output_type": "stream",
          "text": [
            "Total number of unique questions is 402690\n",
            "Number of questions that repeated more than 1 time is 73402\n",
            "The maximum number of times a question occured is 112\n"
          ],
          "name": "stdout"
        }
      ]
    },
    {
      "cell_type": "markdown",
      "metadata": {
        "id": "fZ113Z9eYW4N"
      },
      "source": [
        "Graphic representation of unique questions in the dataset."
      ]
    },
    {
      "cell_type": "code",
      "metadata": {
        "colab": {
          "base_uri": "https://localhost:8080/",
          "height": 281
        },
        "id": "53dUhmsDDv95",
        "outputId": "0bc4e654-7726-496e-b3d3-9abdc0cf0aec"
      },
      "source": [
        "x = ['unique questions','repeated questions']\n",
        "y = [uniq, more_than_one]\n",
        "plt.subplot(1, 2, 1)\n",
        "plt.bar(x,y)\n",
        "plt.grid(False)\n",
        "plt.title('No of unique and repeated questions')\n",
        "plt.subplots_adjust(right=1.9)"
      ],
      "execution_count": null,
      "outputs": [
        {
          "output_type": "display_data",
          "data": {
            "image/png": "[encoded data removed]",
            "text/plain": [
              "<Figure size 432x288 with 1 Axes>"
            ]
          },
          "metadata": {
            "tags": [],
            "needs_background": "light"
          }
        }
      ]
    },
    {
      "cell_type": "markdown",
      "metadata": {
        "id": "DsBk8T1jcX46"
      },
      "source": [
        "## **Feature Extraction**\n",
        "\n",
        "\n",
        "---\n",
        "\n",
        "\n",
        "Before the cleaning process of the data, we proceed to extract from them some features.\n",
        "\n",
        "\n",
        "*   ***q1len*** = Length of q1\n",
        "*   ***q2len*** = Length of q2\n",
        "*   ***q1_n_words*** = Number of words in Question 1\n",
        "*   ***q2_n_words*** = Number of words in Question 2\n",
        "*   ***word_Common*** = (Number of common unique words in Question 1 and Question 2)\n",
        "*   ***word_Total*** =(Total num of words in Question 1 + Total num of words in Question 2)\n",
        "*   ***word_share*** = (word_common)/(word_Total)\n",
        "\n",
        "\n"
      ]
    },
    {
      "cell_type": "markdown",
      "metadata": {
        "id": "6o5nOxrBfeAx"
      },
      "source": [
        "### **Feature extraction - Train data**"
      ]
    },
    {
      "cell_type": "code",
      "metadata": {
        "colab": {
          "base_uri": "https://localhost:8080/",
          "height": 289
        },
        "id": "FxCLwD3WGIqa",
        "outputId": "4f2f940d-129b-4634-b05d-03c5870d719e"
      },
      "source": [
        "def common_wrd(row):\n",
        "    x = set(row['Question1'].lower().strip().split(\" \")) \n",
        "    y = set(row['Question2'].lower().strip().split(\" \"))\n",
        "    return 1.0 * len(x & y)\n",
        "\n",
        "def total(row):\n",
        "    set1 = set(row['Question1'].lower().strip().split(\" \"))\n",
        "    set2 = set(row['Question2'].lower().strip().split(\" \"))\n",
        "    return 1.0 * (len(set1) + len(set2))\n",
        "\n",
        "def word_share(row):\n",
        "    x = float(row['word_common'])/float(row['word_total'])\n",
        "    return  x\n",
        "\n",
        "############################################\n",
        "#######      Feature Extraction      #######\n",
        "############################################\n",
        "\n",
        "#for train data\n",
        "df['q1len'] = (df['Question1'].astype(str)).apply(lambda x: len(x))\n",
        "df['q2len'] = (df['Question2'].astype(str)).apply(lambda x: len(x))\n",
        "df['q1_n_words'] = (df['Question1'].astype(str)).apply(lambda x: len(x.split(\" \")))\n",
        "df['q2_n_words'] = (df['Question2'].astype(str)).apply(lambda x: len(x.split(\" \")))\n",
        "df['q1_n_stopwords'] = df['Question1'].apply(lambda x: len([c for c in str(x).lower().split() if c in stopwords.words('english')]))\n",
        "df['q2_n_stopwords'] = df['Question2'].apply(lambda x: len([c for c in str(x).lower().split() if c in stopwords.words('english')]))\n",
        "df['word_common'] = (df.astype(str)).apply(common_wrd,axis=1)\n",
        "df['word_total'] = (df.astype(str)).apply(total,axis=1)\n",
        "df['word_share'] = (df.astype(str)).apply(word_share,axis=1)\n",
        "df.to_csv(\"data_with_out_preprocess.csv\", index=False)\n",
        "df.head()"
      ],
      "execution_count": null,
      "outputs": [
        {
          "output_type": "execute_result",
          "data": {
            "text/html": [
              "<div>\n",
              "<style scoped>\n",
              "    .dataframe tbody tr th:only-of-type {\n",
              "        vertical-align: middle;\n",
              "    }\n",
              "\n",
              "    .dataframe tbody tr th {\n",
              "        vertical-align: top;\n",
              "    }\n",
              "\n",
              "    .dataframe thead th {\n",
              "        text-align: right;\n",
              "    }\n",
              "</style>\n",
              "<table border=\"1\" class=\"dataframe\">\n",
              "  <thead>\n",
              "    <tr style=\"text-align: right;\">\n",
              "      <th></th>\n",
              "      <th>Id</th>\n",
              "      <th>Question1</th>\n",
              "      <th>Question2</th>\n",
              "      <th>IsDuplicate</th>\n",
              "      <th>q1len</th>\n",
              "      <th>q2len</th>\n",
              "      <th>q1_n_words</th>\n",
              "      <th>q2_n_words</th>\n",
              "      <th>q1_n_stopwords</th>\n",
              "      <th>q2_n_stopwords</th>\n",
              "      <th>word_common</th>\n",
              "      <th>word_total</th>\n",
              "      <th>word_share</th>\n",
              "    </tr>\n",
              "  </thead>\n",
              "  <tbody>\n",
              "    <tr>\n",
              "      <th>0</th>\n",
              "      <td>0</td>\n",
              "      <td>What is the step by step guide to invest in sh...</td>\n",
              "      <td>What is the step by step guide to invest in sh...</td>\n",
              "      <td>0</td>\n",
              "      <td>66</td>\n",
              "      <td>57</td>\n",
              "      <td>14</td>\n",
              "      <td>12</td>\n",
              "      <td>7</td>\n",
              "      <td>6</td>\n",
              "      <td>10.0</td>\n",
              "      <td>23.0</td>\n",
              "      <td>0.434783</td>\n",
              "    </tr>\n",
              "    <tr>\n",
              "      <th>1</th>\n",
              "      <td>1</td>\n",
              "      <td>What is the story of Kohinoor (Koh-i-Noor) Dia...</td>\n",
              "      <td>What would happen if the Indian government sto...</td>\n",
              "      <td>0</td>\n",
              "      <td>51</td>\n",
              "      <td>88</td>\n",
              "      <td>8</td>\n",
              "      <td>13</td>\n",
              "      <td>4</td>\n",
              "      <td>4</td>\n",
              "      <td>4.0</td>\n",
              "      <td>20.0</td>\n",
              "      <td>0.200000</td>\n",
              "    </tr>\n",
              "    <tr>\n",
              "      <th>2</th>\n",
              "      <td>2</td>\n",
              "      <td>How can I increase the speed of my internet co...</td>\n",
              "      <td>How can Internet speed be increased by hacking...</td>\n",
              "      <td>0</td>\n",
              "      <td>73</td>\n",
              "      <td>59</td>\n",
              "      <td>14</td>\n",
              "      <td>10</td>\n",
              "      <td>8</td>\n",
              "      <td>5</td>\n",
              "      <td>4.0</td>\n",
              "      <td>24.0</td>\n",
              "      <td>0.166667</td>\n",
              "    </tr>\n",
              "    <tr>\n",
              "      <th>3</th>\n",
              "      <td>3</td>\n",
              "      <td>Why am I mentally very lonely? How can I solve...</td>\n",
              "      <td>Find the remainder when [math]23^{24}[/math] i...</td>\n",
              "      <td>0</td>\n",
              "      <td>50</td>\n",
              "      <td>65</td>\n",
              "      <td>11</td>\n",
              "      <td>9</td>\n",
              "      <td>7</td>\n",
              "      <td>4</td>\n",
              "      <td>0.0</td>\n",
              "      <td>19.0</td>\n",
              "      <td>0.000000</td>\n",
              "    </tr>\n",
              "    <tr>\n",
              "      <th>4</th>\n",
              "      <td>4</td>\n",
              "      <td>Which one dissolve in water quikly sugar, salt...</td>\n",
              "      <td>Which fish would survive in salt water?</td>\n",
              "      <td>0</td>\n",
              "      <td>76</td>\n",
              "      <td>39</td>\n",
              "      <td>13</td>\n",
              "      <td>7</td>\n",
              "      <td>3</td>\n",
              "      <td>2</td>\n",
              "      <td>2.0</td>\n",
              "      <td>20.0</td>\n",
              "      <td>0.100000</td>\n",
              "    </tr>\n",
              "  </tbody>\n",
              "</table>\n",
              "</div>"
            ],
            "text/plain": [
              "   Id  ... word_share\n",
              "0   0  ...   0.434783\n",
              "1   1  ...   0.200000\n",
              "2   2  ...   0.166667\n",
              "3   3  ...   0.000000\n",
              "4   4  ...   0.100000\n",
              "\n",
              "[5 rows x 13 columns]"
            ]
          },
          "metadata": {
            "tags": []
          },
          "execution_count": 12
        }
      ]
    },
    {
      "cell_type": "markdown",
      "metadata": {
        "id": "8N5_Du7Ne2W1"
      },
      "source": [
        "###**Feature extraction - Test data**"
      ]
    },
    {
      "cell_type": "code",
      "metadata": {
        "colab": {
          "base_uri": "https://localhost:8080/",
          "height": 289
        },
        "id": "DXYxQClRbRgx",
        "outputId": "669e930d-3a01-4ec3-84ec-dd4feb36db93"
      },
      "source": [
        "#for test data\n",
        "df_test['q1len'] = (df_test['Question1'].astype(str)).apply(lambda x: len(x))\n",
        "df_test['q2len'] = (df_test['Question2'].astype(str)).apply(lambda x: len(x))\n",
        "df_test['q1_n_words'] = (df_test['Question1'].astype(str)).apply(lambda x: len(x.split(\" \")))\n",
        "df_test['q2_n_words'] = (df_test['Question2'].astype(str)).apply(lambda x: len(x.split(\" \")))\n",
        "df_test['q1_n_stopwords'] = df_test['Question1'].apply(lambda x: len([c for c in str(x).lower().split() if c in stopwords.words('english')]))\n",
        "df_test['q2_n_stopwords'] = df_test['Question2'].apply(lambda x: len([c for c in str(x).lower().split() if c in stopwords.words('english')]))\n",
        "df_test['word_common'] = (df_test.astype(str)).apply(common_wrd,axis=1)\n",
        "df_test['word_total'] = (df_test.astype(str)).apply(total,axis=1)\n",
        "df_test['word_share'] = (df_test.astype(str)).apply(word_share,axis=1)\n",
        "df_test.to_csv(\"test_data_with_out_preprocess.csv\", index=False)\n",
        "df_test.head()"
      ],
      "execution_count": null,
      "outputs": [
        {
          "output_type": "execute_result",
          "data": {
            "text/html": [
              "<div>\n",
              "<style scoped>\n",
              "    .dataframe tbody tr th:only-of-type {\n",
              "        vertical-align: middle;\n",
              "    }\n",
              "\n",
              "    .dataframe tbody tr th {\n",
              "        vertical-align: top;\n",
              "    }\n",
              "\n",
              "    .dataframe thead th {\n",
              "        text-align: right;\n",
              "    }\n",
              "</style>\n",
              "<table border=\"1\" class=\"dataframe\">\n",
              "  <thead>\n",
              "    <tr style=\"text-align: right;\">\n",
              "      <th></th>\n",
              "      <th>Id</th>\n",
              "      <th>Question1</th>\n",
              "      <th>Question2</th>\n",
              "      <th>q1len</th>\n",
              "      <th>q2len</th>\n",
              "      <th>q1_n_words</th>\n",
              "      <th>q2_n_words</th>\n",
              "      <th>q1_n_stopwords</th>\n",
              "      <th>q2_n_stopwords</th>\n",
              "      <th>word_common</th>\n",
              "      <th>word_total</th>\n",
              "      <th>word_share</th>\n",
              "    </tr>\n",
              "  </thead>\n",
              "  <tbody>\n",
              "    <tr>\n",
              "      <th>0</th>\n",
              "      <td>283003</td>\n",
              "      <td>What can someone do if they've lost the wirele...</td>\n",
              "      <td>What is the best USB wireless mouse that can b...</td>\n",
              "      <td>100</td>\n",
              "      <td>77</td>\n",
              "      <td>17</td>\n",
              "      <td>18</td>\n",
              "      <td>8</td>\n",
              "      <td>11</td>\n",
              "      <td>6.0</td>\n",
              "      <td>34.0</td>\n",
              "      <td>0.176471</td>\n",
              "    </tr>\n",
              "    <tr>\n",
              "      <th>1</th>\n",
              "      <td>283004</td>\n",
              "      <td>Why India need to elect Prime minister?</td>\n",
              "      <td>Is prime minister of India elected or appointed?</td>\n",
              "      <td>39</td>\n",
              "      <td>48</td>\n",
              "      <td>7</td>\n",
              "      <td>8</td>\n",
              "      <td>2</td>\n",
              "      <td>3</td>\n",
              "      <td>2.0</td>\n",
              "      <td>15.0</td>\n",
              "      <td>0.133333</td>\n",
              "    </tr>\n",
              "    <tr>\n",
              "      <th>2</th>\n",
              "      <td>283005</td>\n",
              "      <td>How can I make money online with free of cost?</td>\n",
              "      <td>How can I make money online for free?</td>\n",
              "      <td>46</td>\n",
              "      <td>37</td>\n",
              "      <td>10</td>\n",
              "      <td>8</td>\n",
              "      <td>5</td>\n",
              "      <td>4</td>\n",
              "      <td>6.0</td>\n",
              "      <td>18.0</td>\n",
              "      <td>0.333333</td>\n",
              "    </tr>\n",
              "    <tr>\n",
              "      <th>3</th>\n",
              "      <td>283006</td>\n",
              "      <td>Does MDMA affect the first and higher order mo...</td>\n",
              "      <td>Do antipsychotics affect the first and higher ...</td>\n",
              "      <td>113</td>\n",
              "      <td>121</td>\n",
              "      <td>18</td>\n",
              "      <td>18</td>\n",
              "      <td>5</td>\n",
              "      <td>5</td>\n",
              "      <td>16.0</td>\n",
              "      <td>36.0</td>\n",
              "      <td>0.444444</td>\n",
              "    </tr>\n",
              "    <tr>\n",
              "      <th>4</th>\n",
              "      <td>283007</td>\n",
              "      <td>I am a Saudi National and have \"SR 3 million\" ...</td>\n",
              "      <td>Where should I invest money to get high returns?</td>\n",
              "      <td>148</td>\n",
              "      <td>48</td>\n",
              "      <td>29</td>\n",
              "      <td>9</td>\n",
              "      <td>13</td>\n",
              "      <td>4</td>\n",
              "      <td>3.0</td>\n",
              "      <td>37.0</td>\n",
              "      <td>0.081081</td>\n",
              "    </tr>\n",
              "  </tbody>\n",
              "</table>\n",
              "</div>"
            ],
            "text/plain": [
              "       Id  ... word_share\n",
              "0  283003  ...   0.176471\n",
              "1  283004  ...   0.133333\n",
              "2  283005  ...   0.333333\n",
              "3  283006  ...   0.444444\n",
              "4  283007  ...   0.081081\n",
              "\n",
              "[5 rows x 12 columns]"
            ]
          },
          "metadata": {
            "tags": []
          },
          "execution_count": 13
        }
      ]
    },
    {
      "cell_type": "markdown",
      "metadata": {
        "id": "hpbF3W2VKMXj"
      },
      "source": [
        "### **Shared words - graphic representation**\n",
        "\n",
        "We can see below that the shared words increase significantly when the questions are similar. This can be considered as a rise in the probability of two questions being similar, if they share some same words."
      ]
    },
    {
      "cell_type": "code",
      "metadata": {
        "colab": {
          "base_uri": "https://localhost:8080/",
          "height": 404
        },
        "id": "JqknquXIJsuP",
        "outputId": "3cfb53c9-5e31-4f71-ebbb-ece3722f56cc"
      },
      "source": [
        "plt.figure(figsize=(6,6))\n",
        "sns.violinplot(x='IsDuplicate',y='word_share',data=df)\n",
        "plt.title('Shared words between questions')\n",
        "plt.show()"
      ],
      "execution_count": null,
      "outputs": [
        {
          "output_type": "display_data",
          "data": {
            "image/png": "[encoded data removed]",
            "text/plain": [
              "<Figure size 432x432 with 1 Axes>"
            ]
          },
          "metadata": {
            "tags": [],
            "needs_background": "light"
          }
        }
      ]
    },
    {
      "cell_type": "markdown",
      "metadata": {
        "id": "i_KTCu3vKGce"
      },
      "source": [
        "### **Word commoness - Graphic representation** \n",
        "\n",
        "In contrast to the shared words depicted in the graph above, we see that the common words between the two questions we compare, seem to be overlapping in both true duplicate questions and non duplicate. Thus, we can not extract any information from this particular feature."
      ]
    },
    {
      "cell_type": "code",
      "metadata": {
        "colab": {
          "base_uri": "https://localhost:8080/",
          "height": 405
        },
        "id": "MuoMBoI7KFnJ",
        "outputId": "e06cbf14-efa2-4a3a-a914-4a783db58f00"
      },
      "source": [
        "warnings.simplefilter(action='ignore', category=FutureWarning)\n",
        "plt.figure(figsize=(18,6))\n",
        "plt.subplot(1,2,1)\n",
        "sns.violinplot(x='IsDuplicate',y='word_common',data=df)\n",
        "plt.subplot(1,2,2)\n",
        "sns.distplot(df[df['IsDuplicate'] == 1]['word_common'],color='red',label='similar')\n",
        "sns.distplot(df[df['IsDuplicate'] == 0]['word_common'],color='blue',label='disimilar')\n",
        "plt.title('Common words between questions')\n",
        "plt.show()"
      ],
      "execution_count": null,
      "outputs": [
        {
          "output_type": "display_data",
          "data": {
            "image/png": "[encoded data removed]",
            "text/plain": [
              "<Figure size 1296x432 with 2 Axes>"
            ]
          },
          "metadata": {
            "tags": [],
            "needs_background": "light"
          }
        }
      ]
    },
    {
      "cell_type": "markdown",
      "metadata": {
        "id": "VIIrk2qVfsH0"
      },
      "source": [
        "### **Feature correlation matrix**"
      ]
    },
    {
      "cell_type": "code",
      "metadata": {
        "colab": {
          "base_uri": "https://localhost:8080/",
          "height": 569
        },
        "id": "eQZ2QYhgssMD",
        "outputId": "04c0fe71-fbe5-49da-8387-fa239f3cdaaf"
      },
      "source": [
        "# Correlation matrix\n",
        "f, ax = plt.subplots(figsize=(10, 8))\n",
        "corr = df.corr()\n",
        "sns.heatmap(corr, ax=ax)\n",
        "plt.title(\"Correlation matrix\")\n",
        "plt.show()"
      ],
      "execution_count": null,
      "outputs": [
        {
          "output_type": "display_data",
          "data": {
            "image/png": "[encoded data removed]",
            "text/plain": [
              "<Figure size 720x576 with 2 Axes>"
            ]
          },
          "metadata": {
            "tags": [],
            "needs_background": "light"
          }
        }
      ]
    },
    {
      "cell_type": "markdown",
      "metadata": {
        "id": "VmL0wDRih_Ou"
      },
      "source": [
        "Store train data in csv with extracted features before proceeding with the preprocess"
      ]
    },
    {
      "cell_type": "code",
      "metadata": {
        "colab": {
          "base_uri": "https://localhost:8080/",
          "height": 289
        },
        "id": "SlCXWJUWm5cv",
        "outputId": "e034fe00-973e-4d96-ad17-6d5dce2f25a1"
      },
      "source": [
        "df = pd.read_csv(\"/content/data_with_out_preprocess.csv\")\n",
        "df.head() "
      ],
      "execution_count": null,
      "outputs": [
        {
          "output_type": "execute_result",
          "data": {
            "text/html": [
              "<div>\n",
              "<style scoped>\n",
              "    .dataframe tbody tr th:only-of-type {\n",
              "        vertical-align: middle;\n",
              "    }\n",
              "\n",
              "    .dataframe tbody tr th {\n",
              "        vertical-align: top;\n",
              "    }\n",
              "\n",
              "    .dataframe thead th {\n",
              "        text-align: right;\n",
              "    }\n",
              "</style>\n",
              "<table border=\"1\" class=\"dataframe\">\n",
              "  <thead>\n",
              "    <tr style=\"text-align: right;\">\n",
              "      <th></th>\n",
              "      <th>Id</th>\n",
              "      <th>Question1</th>\n",
              "      <th>Question2</th>\n",
              "      <th>IsDuplicate</th>\n",
              "      <th>q1len</th>\n",
              "      <th>q2len</th>\n",
              "      <th>q1_n_words</th>\n",
              "      <th>q2_n_words</th>\n",
              "      <th>q1_n_stopwords</th>\n",
              "      <th>q2_n_stopwords</th>\n",
              "      <th>word_common</th>\n",
              "      <th>word_total</th>\n",
              "      <th>word_share</th>\n",
              "    </tr>\n",
              "  </thead>\n",
              "  <tbody>\n",
              "    <tr>\n",
              "      <th>0</th>\n",
              "      <td>0</td>\n",
              "      <td>What is the step by step guide to invest in sh...</td>\n",
              "      <td>What is the step by step guide to invest in sh...</td>\n",
              "      <td>0</td>\n",
              "      <td>66</td>\n",
              "      <td>57</td>\n",
              "      <td>14</td>\n",
              "      <td>12</td>\n",
              "      <td>7</td>\n",
              "      <td>6</td>\n",
              "      <td>10.0</td>\n",
              "      <td>23.0</td>\n",
              "      <td>0.434783</td>\n",
              "    </tr>\n",
              "    <tr>\n",
              "      <th>1</th>\n",
              "      <td>1</td>\n",
              "      <td>What is the story of Kohinoor (Koh-i-Noor) Dia...</td>\n",
              "      <td>What would happen if the Indian government sto...</td>\n",
              "      <td>0</td>\n",
              "      <td>51</td>\n",
              "      <td>88</td>\n",
              "      <td>8</td>\n",
              "      <td>13</td>\n",
              "      <td>4</td>\n",
              "      <td>4</td>\n",
              "      <td>4.0</td>\n",
              "      <td>20.0</td>\n",
              "      <td>0.200000</td>\n",
              "    </tr>\n",
              "    <tr>\n",
              "      <th>2</th>\n",
              "      <td>2</td>\n",
              "      <td>How can I increase the speed of my internet co...</td>\n",
              "      <td>How can Internet speed be increased by hacking...</td>\n",
              "      <td>0</td>\n",
              "      <td>73</td>\n",
              "      <td>59</td>\n",
              "      <td>14</td>\n",
              "      <td>10</td>\n",
              "      <td>8</td>\n",
              "      <td>5</td>\n",
              "      <td>4.0</td>\n",
              "      <td>24.0</td>\n",
              "      <td>0.166667</td>\n",
              "    </tr>\n",
              "    <tr>\n",
              "      <th>3</th>\n",
              "      <td>3</td>\n",
              "      <td>Why am I mentally very lonely? How can I solve...</td>\n",
              "      <td>Find the remainder when [math]23^{24}[/math] i...</td>\n",
              "      <td>0</td>\n",
              "      <td>50</td>\n",
              "      <td>65</td>\n",
              "      <td>11</td>\n",
              "      <td>9</td>\n",
              "      <td>7</td>\n",
              "      <td>4</td>\n",
              "      <td>0.0</td>\n",
              "      <td>19.0</td>\n",
              "      <td>0.000000</td>\n",
              "    </tr>\n",
              "    <tr>\n",
              "      <th>4</th>\n",
              "      <td>4</td>\n",
              "      <td>Which one dissolve in water quikly sugar, salt...</td>\n",
              "      <td>Which fish would survive in salt water?</td>\n",
              "      <td>0</td>\n",
              "      <td>76</td>\n",
              "      <td>39</td>\n",
              "      <td>13</td>\n",
              "      <td>7</td>\n",
              "      <td>3</td>\n",
              "      <td>2</td>\n",
              "      <td>2.0</td>\n",
              "      <td>20.0</td>\n",
              "      <td>0.100000</td>\n",
              "    </tr>\n",
              "  </tbody>\n",
              "</table>\n",
              "</div>"
            ],
            "text/plain": [
              "   Id  ... word_share\n",
              "0   0  ...   0.434783\n",
              "1   1  ...   0.200000\n",
              "2   2  ...   0.166667\n",
              "3   3  ...   0.000000\n",
              "4   4  ...   0.100000\n",
              "\n",
              "[5 rows x 13 columns]"
            ]
          },
          "metadata": {
            "tags": []
          },
          "execution_count": 17
        }
      ]
    },
    {
      "cell_type": "markdown",
      "metadata": {
        "id": "hqKQVk4piQpa"
      },
      "source": [
        "Store test data in csv with extracted features before proceeding with the preprocess"
      ]
    },
    {
      "cell_type": "code",
      "metadata": {
        "colab": {
          "base_uri": "https://localhost:8080/",
          "height": 289
        },
        "id": "NPCCMvTJnEEV",
        "outputId": "2b43461a-0495-4ebc-a12f-ffc4752f64c4"
      },
      "source": [
        "df_test = pd.read_csv(\"/content/test_data_with_out_preprocess.csv\")\n",
        "df_test.head() "
      ],
      "execution_count": null,
      "outputs": [
        {
          "output_type": "execute_result",
          "data": {
            "text/html": [
              "<div>\n",
              "<style scoped>\n",
              "    .dataframe tbody tr th:only-of-type {\n",
              "        vertical-align: middle;\n",
              "    }\n",
              "\n",
              "    .dataframe tbody tr th {\n",
              "        vertical-align: top;\n",
              "    }\n",
              "\n",
              "    .dataframe thead th {\n",
              "        text-align: right;\n",
              "    }\n",
              "</style>\n",
              "<table border=\"1\" class=\"dataframe\">\n",
              "  <thead>\n",
              "    <tr style=\"text-align: right;\">\n",
              "      <th></th>\n",
              "      <th>Id</th>\n",
              "      <th>Question1</th>\n",
              "      <th>Question2</th>\n",
              "      <th>q1len</th>\n",
              "      <th>q2len</th>\n",
              "      <th>q1_n_words</th>\n",
              "      <th>q2_n_words</th>\n",
              "      <th>q1_n_stopwords</th>\n",
              "      <th>q2_n_stopwords</th>\n",
              "      <th>word_common</th>\n",
              "      <th>word_total</th>\n",
              "      <th>word_share</th>\n",
              "    </tr>\n",
              "  </thead>\n",
              "  <tbody>\n",
              "    <tr>\n",
              "      <th>0</th>\n",
              "      <td>283003</td>\n",
              "      <td>What can someone do if they've lost the wirele...</td>\n",
              "      <td>What is the best USB wireless mouse that can b...</td>\n",
              "      <td>100</td>\n",
              "      <td>77</td>\n",
              "      <td>17</td>\n",
              "      <td>18</td>\n",
              "      <td>8</td>\n",
              "      <td>11</td>\n",
              "      <td>6.0</td>\n",
              "      <td>34.0</td>\n",
              "      <td>0.176471</td>\n",
              "    </tr>\n",
              "    <tr>\n",
              "      <th>1</th>\n",
              "      <td>283004</td>\n",
              "      <td>Why India need to elect Prime minister?</td>\n",
              "      <td>Is prime minister of India elected or appointed?</td>\n",
              "      <td>39</td>\n",
              "      <td>48</td>\n",
              "      <td>7</td>\n",
              "      <td>8</td>\n",
              "      <td>2</td>\n",
              "      <td>3</td>\n",
              "      <td>2.0</td>\n",
              "      <td>15.0</td>\n",
              "      <td>0.133333</td>\n",
              "    </tr>\n",
              "    <tr>\n",
              "      <th>2</th>\n",
              "      <td>283005</td>\n",
              "      <td>How can I make money online with free of cost?</td>\n",
              "      <td>How can I make money online for free?</td>\n",
              "      <td>46</td>\n",
              "      <td>37</td>\n",
              "      <td>10</td>\n",
              "      <td>8</td>\n",
              "      <td>5</td>\n",
              "      <td>4</td>\n",
              "      <td>6.0</td>\n",
              "      <td>18.0</td>\n",
              "      <td>0.333333</td>\n",
              "    </tr>\n",
              "    <tr>\n",
              "      <th>3</th>\n",
              "      <td>283006</td>\n",
              "      <td>Does MDMA affect the first and higher order mo...</td>\n",
              "      <td>Do antipsychotics affect the first and higher ...</td>\n",
              "      <td>113</td>\n",
              "      <td>121</td>\n",
              "      <td>18</td>\n",
              "      <td>18</td>\n",
              "      <td>5</td>\n",
              "      <td>5</td>\n",
              "      <td>16.0</td>\n",
              "      <td>36.0</td>\n",
              "      <td>0.444444</td>\n",
              "    </tr>\n",
              "    <tr>\n",
              "      <th>4</th>\n",
              "      <td>283007</td>\n",
              "      <td>I am a Saudi National and have \"SR 3 million\" ...</td>\n",
              "      <td>Where should I invest money to get high returns?</td>\n",
              "      <td>148</td>\n",
              "      <td>48</td>\n",
              "      <td>29</td>\n",
              "      <td>9</td>\n",
              "      <td>13</td>\n",
              "      <td>4</td>\n",
              "      <td>3.0</td>\n",
              "      <td>37.0</td>\n",
              "      <td>0.081081</td>\n",
              "    </tr>\n",
              "  </tbody>\n",
              "</table>\n",
              "</div>"
            ],
            "text/plain": [
              "       Id  ... word_share\n",
              "0  283003  ...   0.176471\n",
              "1  283004  ...   0.133333\n",
              "2  283005  ...   0.333333\n",
              "3  283006  ...   0.444444\n",
              "4  283007  ...   0.081081\n",
              "\n",
              "[5 rows x 12 columns]"
            ]
          },
          "metadata": {
            "tags": []
          },
          "execution_count": 18
        }
      ]
    },
    {
      "cell_type": "markdown",
      "metadata": {
        "id": "DeDqP4ZIndSX"
      },
      "source": [
        "## **Data Preprocess**\n",
        "\n",
        "\n",
        "---"
      ]
    },
    {
      "cell_type": "markdown",
      "metadata": {
        "id": "qg0IhRIibYSU"
      },
      "source": [
        "###**Text Data Cleaning**\n",
        "\n",
        ">For the data cleaning process, we included the following: \n",
        "* Remove all special characters and punctuation\n",
        "* Remove any leading (spaces at the beginning) and trailing (spaces at the end) characters (space is the default leading character to remove)\n",
        "* Split words\n",
        "* Lowered all capital letters  \n",
        "\n",
        ">Both train and test data are preprocessed in the same exact way.\n",
        "\n",
        ">(reference link: [python-efficient-text-data-cleaning](https://www.geeksforgeeks.org/python-efficient-text-data-cleaning/)"
      ]
    },
    {
      "cell_type": "markdown",
      "metadata": {
        "id": "2zSXfEMugYdD"
      },
      "source": [
        "---\n",
        "\n",
        "### Stemming\n",
        ">"
      ]
    },
    {
      "cell_type": "code",
      "metadata": {
        "id": "iLW6IhloJlGF"
      },
      "source": [
        "def shallow_cleaning(df):\n",
        "  remove_digits = str.maketrans('', '', digits)\n",
        "  df['Question1'] = pd.DataFrame(df['Question1'].astype(str)).replace('[^\\w\\s]', '')\n",
        "  df['Question1'] = pd.DataFrame(df['Question1'].str.strip())\n",
        "  df['Question1'] = pd.DataFrame(df['Question1'].str.lower())\n",
        "  df['Question1'] = pd.DataFrame(df['Question1'].str.split())\n",
        "\n",
        "  df['Question2'] = pd.DataFrame(df['Question2'].astype(str)).replace('[^\\w\\s]', ' ')\n",
        "  df['Question2'] = pd.DataFrame(df['Question2'].str.strip())\n",
        "  df['Question2'] = pd.DataFrame(df['Question2'].str.lower())\n",
        "  df['Question2'] = pd.DataFrame(df['Question2'].str.split())\n",
        "  return df\n",
        "\n",
        "def stem(df):\n",
        "  porter = PorterStemmer()\n",
        "  df['Question1'] = (df['Question1'].astype(str)).apply(lambda x: word_tokenize(x))\n",
        "  df['Question1'] = df['Question1'].apply(lambda x: [porter.stem(word) for word in x])\n",
        "  df['Question1'] = df['Question1'].apply(lambda x: ' '.join(str(word) for word in x))\n",
        "\n",
        "  df['Question2'] = (df['Question2'].astype(str)).apply(lambda x: word_tokenize(x))\n",
        "  df['Question2'] = df['Question2'].apply(lambda x: [porter.stem(word) for word in x])\n",
        "  df['Question2'] = df['Question2'].apply(lambda x: ' '.join(str(word) for word in x))\n",
        "  return df\n"
      ],
      "execution_count": null,
      "outputs": []
    },
    {
      "cell_type": "code",
      "metadata": {
        "id": "kBVBuw-Hzasu"
      },
      "source": [
        "df = shallow_cleaning(df)\n",
        "df_test = shallow_cleaning(df_test)"
      ],
      "execution_count": null,
      "outputs": []
    },
    {
      "cell_type": "code",
      "metadata": {
        "id": "yboxjJ5hJaPW"
      },
      "source": [
        "df = stem(df)\n",
        "df_test = stem(df_test)"
      ],
      "execution_count": null,
      "outputs": []
    },
    {
      "cell_type": "markdown",
      "metadata": {
        "id": "gLI3iHOoi5K3"
      },
      "source": [
        "Store processed train and test data to CSV's"
      ]
    },
    {
      "cell_type": "code",
      "metadata": {
        "id": "Mboydk4KnmNH"
      },
      "source": [
        "df_test.to_csv(\"train_data_processed.csv\", index=False)\n",
        "df_test.to_csv(\"test_data_processed.csv\", index=False)"
      ],
      "execution_count": null,
      "outputs": []
    },
    {
      "cell_type": "markdown",
      "metadata": {
        "id": "P_Pl5_rAnJG4"
      },
      "source": [
        "### **Standardization**\n",
        "Standardization of a dataset is a common requirement for many machine learning estimators: they might behave badly if the individual features do not more or less look like standard normally distributed data (e.g. Gaussian with 0 mean and unit variance).\n",
        "\n",
        "For instance many elements used in the objective function of a learning algorithm (such as the RBF kernel of Support Vector Machines or the L1 and L2 regularizers of linear models) assume that all features are centered around 0 and have variance in the same order. If a feature has a variance that is orders of magnitude larger that others, it might dominate the objective function and make the estimator unable to learn from other features correctly as expected.\n",
        "\n",
        "All the features extracted earlier from the dataset corpus, is do not necessarily follow the normal distribution curve, which is proved to enhance the algorithms learning  process, as explained in the previous paragraphs."
      ]
    },
    {
      "cell_type": "code",
      "metadata": {
        "colab": {
          "base_uri": "https://localhost:8080/"
        },
        "id": "POKgNj3ka8bG",
        "outputId": "8d69d029-6a14-4893-dc44-6a958924f0a2"
      },
      "source": [
        "# Standardize stats features\n",
        "from sklearn.preprocessing import StandardScaler\n",
        "\n",
        "# question length\n",
        "num_words =  StandardScaler()\n",
        "X_train_num_words_q1 = num_words.fit_transform(df['q1len'].values.reshape(-1, 1))\n",
        "X_train_num_words_q2 = num_words.fit_transform(df['q2len'].values.reshape(-1, 1))\n",
        "X_test_num_words_q1 = num_words.transform(df_test['q1len'].values.reshape(-1, 1))\n",
        "X_test_num_words_q2 = num_words.transform(df_test['q2len'].values.reshape(-1, 1))\n",
        "\n",
        "\n",
        "# number of unique words\n",
        "num_unique_words =  StandardScaler()\n",
        "X_train_num_unique_words_q1 = num_unique_words.fit_transform(df['q1_n_words'].values.reshape(-1, 1))\n",
        "X_train_num_unique_words_q2 = num_unique_words.fit_transform(df['q2_n_words'].values.reshape(-1, 1))\n",
        "X_test_num_unique_words_q1 = num_unique_words.transform(df_test['q1_n_words'].values.reshape(-1, 1))\n",
        "X_test_num_unique_words_q2 = num_unique_words.transform(df_test['q2_n_words'].values.reshape(-1, 1))\n",
        "\n",
        "\n",
        "# common words\n",
        "num_char =  StandardScaler()\n",
        "X_train_word_common = num_char.fit_transform(df['word_common'].values.reshape(-1, 1))\n",
        "X_test_word_common = num_char.transform(df_test['word_common'].values.reshape(-1, 1))\n",
        "\n",
        "# total words\n",
        "num_char =  StandardScaler()\n",
        "X_train_word_total = num_char.fit_transform(df['word_total'].values.reshape(-1, 1))\n",
        "X_test_word_total = num_char.transform(df_test['word_total'].values.reshape(-1, 1))\n",
        "\n",
        "# shared words\n",
        "num_char =  StandardScaler()\n",
        "X_train_word_share = num_char.fit_transform(df['word_share'].values.reshape(-1, 1))\n",
        "X_test_word_share = num_char.transform(df_test['word_share'].values.reshape(-1, 1))\n",
        "\n",
        "# number of stopwords\n",
        "num_stopwords =  StandardScaler()\n",
        "X_train_num_stopwords_q1 = num_stopwords.fit_transform(df['q1_n_stopwords'].values.reshape(-1, 1))\n",
        "X_train_num_stopwords_q2 = num_stopwords.fit_transform(df['q2_n_stopwords'].values.reshape(-1, 1))\n",
        "X_test_num_stopwords_q1 = num_stopwords.transform(df_test['q1_n_stopwords'].values.reshape(-1, 1))\n",
        "X_test_num_stopwords_q2 = num_stopwords.transform(df_test['q2_n_stopwords'].values.reshape(-1, 1))\n",
        "\n",
        "#print shapes\n",
        "print(X_train_num_stopwords_q1.shape, X_train_num_stopwords_q2.shape)\n",
        "print(X_train_num_unique_words_q1.shape, X_train_num_unique_words_q2.shape)\n",
        "print(X_train_num_words_q1.shape, X_train_num_words_q2.shape)\n",
        "print(X_train_word_common.shape)\n",
        "print(X_train_word_total.shape)\n",
        "print(X_train_word_share.shape)"
      ],
      "execution_count": null,
      "outputs": [
        {
          "output_type": "stream",
          "text": [
            "(283002, 1) (283002, 1)\n",
            "(283002, 1) (283002, 1)\n",
            "(283002, 1) (283002, 1)\n",
            "(283002, 1)\n",
            "(283002, 1)\n",
            "(283002, 1)\n"
          ],
          "name": "stdout"
        }
      ]
    },
    {
      "cell_type": "markdown",
      "metadata": {
        "id": "e7qcks_jj7gy"
      },
      "source": [
        "Methods for file creation and statistics calculation"
      ]
    },
    {
      "cell_type": "code",
      "metadata": {
        "id": "Zh5H514zCIea"
      },
      "source": [
        "def create_file(data, prediction, filename):\n",
        "  res_df = pd.DataFrame(data)\n",
        "  res_df['Predicted'] = prediction\n",
        "  res_df.to_csv(filename+\".csv\", columns=['Id', 'Predicted'], index=False)\n",
        "  return res_df\n",
        "\n",
        "res_mean = pd.DataFrame([])\n",
        "res_mean = res_mean.rename_axis('Statistic Measure', axis=1)\n",
        "columnNum=0\n",
        "def calculate_statistic_metrics(res, res_mean, columnName, columnNum):\n",
        "  temp_df = pd.DataFrame([])\n",
        "  accuracy_mean = pd.Series(res['test_accuracy'].mean(), name='Accuracy')\n",
        "  precision_mean = pd.Series(res['test_precision_macro'].mean(), name='Precision')\n",
        "  recall_mean = pd.Series(res['test_recall_macro'].mean(), name='Recall')\n",
        "  F1_mean = pd.Series(res['test_f1_macro'].mean(), name='F-measure')\n",
        "  temp_df = temp_df.append(accuracy_mean)\n",
        "  temp_df = temp_df.append(precision_mean)\n",
        "  temp_df = temp_df.append(recall_mean)\n",
        "  temp_df = temp_df.append(F1_mean)\n",
        "  res_mean[columnName] = temp_df[0]\n",
        "  res_mean = res_mean.rename(columns={columnNum:columnName})\n",
        "  return res_mean"
      ],
      "execution_count": null,
      "outputs": []
    },
    {
      "cell_type": "markdown",
      "metadata": {
        "id": "phx0zNPGkOba"
      },
      "source": [
        "Method used to create the Bag of Words."
      ]
    },
    {
      "cell_type": "code",
      "metadata": {
        "id": "-0vEv7w1vx3F"
      },
      "source": [
        "def getBOW(df, min_df = 100,ngrams = 1,analyzer = 'word'):\n",
        "  BOW = TfidfVectorizer( ngram_range=(1,ngrams), lowercase=True, stop_words=stopwords.words('english'))\n",
        "\n",
        "  bow_df = pd.DataFrame(pd.concat((df['Question1'],df['Question2'])).unique(), columns=['Concatenated'])\n",
        "\n",
        "  BOW.fit(bow_df['Concatenated'].values.astype('U'))\n",
        "  print('Vocabulary size is {}'.format(len(BOW.vocabulary_)))\n",
        "  return BOW"
      ],
      "execution_count": null,
      "outputs": []
    },
    {
      "cell_type": "markdown",
      "metadata": {
        "id": "my9Ryybuqhos"
      },
      "source": [
        "##**Detect Duplicate Questions Task**\n",
        "\n",
        "\n",
        "---\n",
        "\n",
        "In general for each classification algorithm, the process we follow is the same. \n",
        "\n",
        "\n",
        "1.   Create the bag of words for Question1 and Question2 of the train data \n",
        "2.   Stack the aforementioned BoWs along with the extracted features from the test data, in order to create a single array containing all the information we have available.\n",
        "3. Initialize the classifier of our choice with its specific parameters. The latter were decided after multiple experiments.\n",
        "4. Apply 5-Fold Cross Validation over the model to evaluate its learning.\n",
        "5. Fit train data in the model.\n",
        "6. Make predictions for the test data.\n",
        "\n",
        "\n"
      ]
    },
    {
      "cell_type": "markdown",
      "metadata": {
        "id": "65fmukn7D1FQ"
      },
      "source": [
        "###**Logistic Regression**\n",
        "\n",
        ">Logistic regression is common and is a useful regression method for solving the binary classification problems like the problem at hand (are questions duplicate or not). It is one of the most simple and commonly used Machine Learning algorithms for two-class classification. It is easy to implement and can be used as the baseline for any binary classification problem. Its basic fundamental concepts are also constructive in deep learning. Logistic regression describes and estimates the relationship between one dependent binary variable and independent variables.\n",
        "Some of the properties of Logistic regression are:\n",
        "*   The dependent variable in logistic regression follows Bernoulli Distribution.\n",
        "*   Estimation is done through maximum likelihood.\n",
        "*   No [R Square](https://www.investopedia.com/terms/r/r-squared.asp), Model fitness is calculated through Concordance, [KS-Statistics](https://en.wikipedia.org/wiki/Kolmogorov%E2%80%93Smirnov_test).\n",
        "\n",
        ">**5-Fold Cross Validation:**  \n",
        "The 5-fold cross validation test for this algorithm\n",
        "(Logistic Regression) as shown in the statistic measure array above, gives \n",
        "accuracy ~79% for the model. The precision (the ratio of correctly predicted \n",
        "positive observations to the total predicted positive observations) is ~78% and \n",
        "the models recall (the ratio of correctly predicted positive observations to the \n",
        "all observations in actual class - yes) is ~76,5%. To catch a better glimpse of \n",
        "our models performance, f-measure (the weighted average of Precision and \n",
        "Recall) is ~77%. All in all, the predictions that the model ends up making with\n",
        " this train data is quite reliable.\n",
        "\n",
        "\n"
      ]
    },
    {
      "cell_type": "code",
      "metadata": {
        "colab": {
          "base_uri": "https://localhost:8080/",
          "height": 309
        },
        "id": "7zk5DRz_4fS8",
        "outputId": "6872584c-1996-4b33-a35b-48ce98faaca5"
      },
      "source": [
        "def logisticRegression(min_df = 100,ngrams = 1,analyzer = 'word',train = df, test=df_test):\n",
        "  start_time = time.time()\n",
        "  print('BOW and logistic regression')\n",
        "  BOW = getBOW(train, min_df=min_df,ngrams = ngrams,analyzer = analyzer)\n",
        "  trainq1_trans = BOW.transform(train['Question1'].values.astype('U'))\n",
        "  trainq2_trans = BOW.transform(train['Question2'].values.astype('U'))\n",
        "  labels = train['IsDuplicate'].values\n",
        "\n",
        "  # stack the train feature arrays horizontally (i.e. column wise) \n",
        "  # with the bow of the train data to make a single array\n",
        "  X = scipy.sparse.hstack((\n",
        "      trainq1_trans,\n",
        "      trainq2_trans,\n",
        "      X_train_num_words_q1,\n",
        "      X_train_num_words_q2,\n",
        "      X_train_num_unique_words_q1,\n",
        "      X_train_num_unique_words_q2,\n",
        "      X_train_num_stopwords_q1,\n",
        "      X_train_num_stopwords_q2,\n",
        "      X_train_word_share,\n",
        "      X_train_word_common,\n",
        "      X_train_word_total,\n",
        "      \n",
        "  ))\n",
        "  y = labels\n",
        "\n",
        "  model = linear_model.LogisticRegression(n_jobs=-1,C=0.5)\n",
        "\n",
        "  print('5-Fold Cross Validation')\n",
        "  scoring=['accuracy','precision_macro', 'recall_macro', 'f1_macro']\n",
        "  scores = cross_validate(model, X, y, cv=5, n_jobs=4, scoring=scoring) \n",
        "  lgr_res = pd.DataFrame.from_dict(scores) \n",
        "  res = calculate_statistic_metrics(lgr_res, res_mean, 'Logistic Regression', columnNum)       \n",
        "  \n",
        "  print('fitting ...')\n",
        "  model.fit(X,y)\n",
        "\n",
        "  BOW = getBOW(train, min_df=min_df,ngrams = ngrams,analyzer = analyzer)\n",
        "  testq1_trans = BOW.transform(test['Question1'].values.astype('U'))\n",
        "  testq2_trans = BOW.transform(test['Question2'].values.astype('U'))\n",
        "  \n",
        "  # stack the test feature arrays horizontally (i.e. column wise) \n",
        "  # with the bow of the test data to make a single array\n",
        "  X_test = scipy.sparse.hstack((\n",
        "    testq1_trans,\n",
        "    testq2_trans,\n",
        "    X_test_num_words_q1,\n",
        "    X_test_num_words_q2,\n",
        "    X_test_num_unique_words_q1,\n",
        "    X_test_num_unique_words_q2,\n",
        "    X_test_num_stopwords_q1,\n",
        "    X_test_num_stopwords_q2,\n",
        "    X_test_word_share,\n",
        "    X_test_word_common,\n",
        "    X_test_word_total,\n",
        "  ))\n",
        "  \n",
        "  print('predicting ...')\n",
        "  y_pred = model.predict(X_test)\n",
        "\n",
        "  lgr_pred_df = create_file(test, y_pred, 'LGR_pred')\n",
        "\n",
        "  end_time =time.time()\n",
        "  print(\"total time elapsed is {}\".format(end_time-start_time))\n",
        "\n",
        "  return \n",
        "\n",
        "logisticRegression(ngrams=3)"
      ],
      "execution_count": null,
      "outputs": [
        {
          "output_type": "stream",
          "text": [
            "BOW and logistic regression\n",
            "Vocabulary size is 2240231\n",
            "(283002, 4480471) (283002,)\n",
            "5-Fold Cross Validation\n"
          ],
          "name": "stdout"
        },
        {
          "output_type": "display_data",
          "data": {
            "text/html": [
              "<div>\n",
              "<style scoped>\n",
              "    .dataframe tbody tr th:only-of-type {\n",
              "        vertical-align: middle;\n",
              "    }\n",
              "\n",
              "    .dataframe tbody tr th {\n",
              "        vertical-align: top;\n",
              "    }\n",
              "\n",
              "    .dataframe thead th {\n",
              "        text-align: right;\n",
              "    }\n",
              "</style>\n",
              "<table border=\"1\" class=\"dataframe\">\n",
              "  <thead>\n",
              "    <tr style=\"text-align: right;\">\n",
              "      <th>Statistic Measure</th>\n",
              "      <th>Logistic Regression</th>\n",
              "    </tr>\n",
              "  </thead>\n",
              "  <tbody>\n",
              "    <tr>\n",
              "      <th>Accuracy</th>\n",
              "      <td>0.792645</td>\n",
              "    </tr>\n",
              "    <tr>\n",
              "      <th>Precision</th>\n",
              "      <td>0.780977</td>\n",
              "    </tr>\n",
              "    <tr>\n",
              "      <th>Recall</th>\n",
              "      <td>0.767595</td>\n",
              "    </tr>\n",
              "    <tr>\n",
              "      <th>F-measure</th>\n",
              "      <td>0.772910</td>\n",
              "    </tr>\n",
              "  </tbody>\n",
              "</table>\n",
              "</div>"
            ],
            "text/plain": [
              "Statistic Measure  Logistic Regression\n",
              "Accuracy                      0.792645\n",
              "Precision                     0.780977\n",
              "Recall                        0.767595\n",
              "F-measure                     0.772910"
            ]
          },
          "metadata": {
            "tags": []
          }
        },
        {
          "output_type": "stream",
          "text": [
            "fitting ...\n",
            "Vocabulary size is 2240231\n",
            "predicting ...\n",
            "total time elapsed is 574.5763568878174\n"
          ],
          "name": "stdout"
        }
      ]
    },
    {
      "cell_type": "markdown",
      "metadata": {
        "id": "QBFlYPkCDtuy"
      },
      "source": [
        "###**Linear SVM**\n",
        "\n",
        ">In this experiment we used the Linear SVM classifier with SGD (stochastic gradient descent) training. The estimator [SGDClassifier](http://scikit-learn.org/stable/modules/generated/sklearn.linear_model.SGDClassifier.html) implements regularized linear models with SGD learning: the gradient of the loss is estimated each sample at a time and the model is updated along the way with a decreasing strength schedule (aka learning rate). We use the default loss function, hinge, which gives a linear SVM and penalty l2 which is the standard regularizer for linear SVM models. \n",
        "\n",
        ">**5-Fold Cross Validation:** This classifier gives ~78% accuracy. The precision \n",
        "measure, meaning the true positive predictions it makes from the total \n",
        "number of positives it returned, is ~77% and the recall (the number of true \n",
        "positives divided by the total number of true positives and false negatives) \n",
        "is ~76%. All in all, our models has f-measure ~76%, which is quite reasonable.\n"
      ]
    },
    {
      "cell_type": "code",
      "metadata": {
        "colab": {
          "base_uri": "https://localhost:8080/",
          "height": 292
        },
        "id": "jyfZCjtTDvtV",
        "outputId": "d858d07b-66a0-470a-8d3e-fba999b7743c"
      },
      "source": [
        "def linearSVM(min_df = 100,ngrams = 1,analyzer = 'word',train = df, test = df_test):\r\n",
        "  start_time = time.time()\r\n",
        "  print('BOW and Linear SVM')\r\n",
        "  BOW = getBOW(train, min_df=min_df,ngrams = ngrams,analyzer = analyzer)\r\n",
        "  trainq1_trans = BOW.transform(train['Question1'].values.astype('U'))\r\n",
        "  trainq2_trans = BOW.transform(train['Question2'].values.astype('U'))\r\n",
        "  labels = train['IsDuplicate'].values\r\n",
        "\r\n",
        "  # stack the train feature arrays horizontally (i.e. column wise) \r\n",
        "  # with the bow of the train data to make a single array\r\n",
        "  X = scipy.sparse.hstack((\r\n",
        "      trainq1_trans,\r\n",
        "      trainq2_trans,\r\n",
        "      X_train_num_words_q1,\r\n",
        "      X_train_num_words_q2,\r\n",
        "      X_train_num_unique_words_q1,\r\n",
        "      X_train_num_unique_words_q2,\r\n",
        "      X_train_num_stopwords_q1,\r\n",
        "      X_train_num_stopwords_q2,\r\n",
        "      X_train_word_share,\r\n",
        "      X_train_word_common,\r\n",
        "      X_train_word_total,\r\n",
        "      \r\n",
        "  ))\r\n",
        "  y = labels  \r\n",
        "\r\n",
        "  model = linear_model.SGDClassifier(n_jobs=-1, penalty='l2', loss='hinge')\r\n",
        "\r\n",
        "  print('5-Fold Cross Validation')\r\n",
        "  scoring=['accuracy','precision_macro', 'recall_macro', 'f1_macro']\r\n",
        "  scores = cross_validate(model, X, y, cv=5, n_jobs=4, scoring=scoring) \r\n",
        "  svm_res = pd.DataFrame.from_dict(scores) \r\n",
        "  res = calculate_statistic_metrics(svm_res, res_mean, 'SVM', columnNum)\r\n",
        "  display(res)        \r\n",
        "  \r\n",
        "  print('fitting ...')\r\n",
        "  model.fit(X,y)\r\n",
        "\r\n",
        "  BOW = getBOW(train, min_df=min_df,ngrams = ngrams,analyzer = analyzer)\r\n",
        "  testq1_trans = BOW.transform(test['Question1'].values.astype('U'))\r\n",
        "  testq2_trans = BOW.transform(test['Question2'].values.astype('U'))\r\n",
        "\r\n",
        "  # stack the test feature arrays horizontally (i.e. column wise) \r\n",
        "  #with the bow of the test data to make a single array\r\n",
        "  X_test = scipy.sparse.hstack((\r\n",
        "    testq1_trans,\r\n",
        "    testq2_trans,\r\n",
        "    X_test_num_words_q1,\r\n",
        "    X_test_num_words_q2,\r\n",
        "    X_test_num_unique_words_q1,\r\n",
        "    X_test_num_unique_words_q2,\r\n",
        "    X_test_num_stopwords_q1,\r\n",
        "    X_test_num_stopwords_q2,\r\n",
        "    X_test_word_share,\r\n",
        "    X_test_word_common,\r\n",
        "    X_test_word_total,\r\n",
        "  ))\r\n",
        "  print('predicting ...')\r\n",
        "  y_pred = model.predict(X_test)\r\n",
        "\r\n",
        "  svm_pred_df = create_file(test, y_pred, 'SVM_pred')\r\n",
        "\r\n",
        "  end_time = time.time()\r\n",
        "  print(\"total time elapsed is {}\".format(end_time-start_time))\r\n",
        "  \r\n",
        "  return \r\n",
        "\r\n",
        "linearSVM(ngrams=2)"
      ],
      "execution_count": null,
      "outputs": [
        {
          "output_type": "stream",
          "text": [
            "BOW and Linear SVM\n",
            "Vocabulary size is 932545\n",
            "5-Fold Cross Validation\n"
          ],
          "name": "stdout"
        },
        {
          "output_type": "display_data",
          "data": {
            "text/html": [
              "<div>\n",
              "<style scoped>\n",
              "    .dataframe tbody tr th:only-of-type {\n",
              "        vertical-align: middle;\n",
              "    }\n",
              "\n",
              "    .dataframe tbody tr th {\n",
              "        vertical-align: top;\n",
              "    }\n",
              "\n",
              "    .dataframe thead th {\n",
              "        text-align: right;\n",
              "    }\n",
              "</style>\n",
              "<table border=\"1\" class=\"dataframe\">\n",
              "  <thead>\n",
              "    <tr style=\"text-align: right;\">\n",
              "      <th>Statistic Measure</th>\n",
              "      <th>Logistic Regression</th>\n",
              "      <th>SVM</th>\n",
              "    </tr>\n",
              "  </thead>\n",
              "  <tbody>\n",
              "    <tr>\n",
              "      <th>Accuracy</th>\n",
              "      <td>0.792645</td>\n",
              "      <td>0.783252</td>\n",
              "    </tr>\n",
              "    <tr>\n",
              "      <th>Precision</th>\n",
              "      <td>0.780977</td>\n",
              "      <td>0.769909</td>\n",
              "    </tr>\n",
              "    <tr>\n",
              "      <th>Recall</th>\n",
              "      <td>0.767595</td>\n",
              "      <td>0.759067</td>\n",
              "    </tr>\n",
              "    <tr>\n",
              "      <th>F-measure</th>\n",
              "      <td>0.772910</td>\n",
              "      <td>0.763441</td>\n",
              "    </tr>\n",
              "  </tbody>\n",
              "</table>\n",
              "</div>"
            ],
            "text/plain": [
              "Statistic Measure  Logistic Regression       SVM\n",
              "Accuracy                      0.792645  0.783252\n",
              "Precision                     0.780977  0.769909\n",
              "Recall                        0.767595  0.759067\n",
              "F-measure                     0.772910  0.763441"
            ]
          },
          "metadata": {
            "tags": []
          }
        },
        {
          "output_type": "stream",
          "text": [
            "fitting ...\n",
            "Vocabulary size is 932545\n",
            "predicting ...\n",
            "total time elapsed is 77.75392889976501\n"
          ],
          "name": "stdout"
        }
      ]
    },
    {
      "cell_type": "markdown",
      "metadata": {
        "id": "YOWEk7pIHnQz"
      },
      "source": [
        "### **XGBoost**\n",
        "\n",
        ">[XGBoost](https://xgboost.readthedocs.io/en/latest/python/python_intro.html) is well known to provide better solutions than other machine learning algorithms. In fact, since its inception, it has become the \"state-of-the-art” machine learning algorithm to deal with structured data. XGBoost (Extreme Gradient Boosting) belongs to a family of boosting algorithms and uses the gradient boosting (GBM) framework at its core. It is an optimized distributed gradient boosting library. \n",
        "Boosting is a sequential technique which works on the principle of an ensemble. It combines a set of weak learners and delivers improved prediction accuracy. At any instant t, the model outcomes are weighed based on the outcomes of previous instant t-1. The outcomes predicted correctly are given a lower weight and the ones miss-classified are weighted higher. Note that a weak learner is one which is slightly better than random guessing. For example, a decision tree whose predictions are slightly better than 50%.\n",
        "\n",
        ">**5-Fold Cross Validation:** This method returns the accuracy ~80%, which is the \n",
        "best of the three tested. The precision is ~79% and the recall (actual \n",
        "predicted positives) ~78.5%. Last the f-measure is ~78.5%.\n"
      ]
    },
    {
      "cell_type": "code",
      "metadata": {
        "id": "5S3ms6JPHmRA"
      },
      "source": [
        "import xgboost as xgb"
      ],
      "execution_count": null,
      "outputs": []
    },
    {
      "cell_type": "code",
      "metadata": {
        "colab": {
          "base_uri": "https://localhost:8080/",
          "height": 292
        },
        "id": "iUVk3iVRHwbH",
        "outputId": "0258f430-d37e-4a8d-9320-ad5257285563"
      },
      "source": [
        "def train_params(min_df = 100,ngrams = 1,analyzer = 'word',train = df, test = df_test):\r\n",
        "  start_time = time.time()\r\n",
        "  print('BOW and XGBoost')\r\n",
        "  BOW = getBOW(train, min_df=min_df,ngrams = ngrams,analyzer = analyzer)\r\n",
        "  trainq1_trans = BOW.transform(train['Question1'].values.astype('U'))\r\n",
        "  trainq2_trans = BOW.transform(train['Question2'].values.astype('U'))\r\n",
        "  labels = train['IsDuplicate'].values\r\n",
        "\r\n",
        "  # stack the train feature arrays horizontally (i.e. column wise) \r\n",
        "  # with the bow of the train data to make a single array\r\n",
        "  X = scipy.sparse.hstack((\r\n",
        "      trainq1_trans,\r\n",
        "      trainq2_trans,\r\n",
        "      X_train_num_words_q1,\r\n",
        "      X_train_num_words_q2,\r\n",
        "      X_train_num_unique_words_q1,\r\n",
        "      X_train_num_unique_words_q2,\r\n",
        "      X_train_num_stopwords_q1,\r\n",
        "      X_train_num_stopwords_q2,\r\n",
        "      X_train_word_share,\r\n",
        "      X_train_word_common,\r\n",
        "      X_train_word_total,    \r\n",
        "  ))\r\n",
        "  y = labels  \r\n",
        "\r\n",
        "  model =  xgb.XGBClassifier( learning_rate =0.1, n_estimators=1000, max_depth=6, \r\n",
        "                             min_child_weight=1, gamma=0, subsample=0.8, colsample_bytree=0.8, \r\n",
        "                             objective= 'binary:logistic', nthread=-1, scale_pos_weight=1, seed=27, eval_metric='error')\r\n",
        "  print('5-Fold Cross Validation')\r\n",
        "  scoring=['accuracy','precision_macro', 'recall_macro', 'f1_macro']\r\n",
        "  scores = cross_validate(model, X, y, cv=5, n_jobs=-1, scoring=scoring) \r\n",
        "  xgb_res = pd.DataFrame.from_dict(scores) \r\n",
        "  res = calculate_statistic_metrics(xgb_res, res_mean, 'XGB', columnNum)\r\n",
        "  display(res)        \r\n",
        "  \r\n",
        "  print('fitting ...')\r\n",
        "  model.fit(X,y)\r\n",
        "\r\n",
        "  BOW = getBOW(train, min_df=min_df,ngrams = ngrams,analyzer = analyzer)\r\n",
        "  testq1_trans = BOW.transform(test['Question1'].values.astype('U'))\r\n",
        "  testq2_trans = BOW.transform(test['Question2'].values.astype('U'))\r\n",
        "\r\n",
        "  # stack the test feature arrays horizontally (i.e. column wise) \r\n",
        "  # with the bow of the test data to make a single array\r\n",
        "  X_test = scipy.sparse.hstack((\r\n",
        "    testq1_trans,\r\n",
        "    testq2_trans,\r\n",
        "    X_test_num_words_q1,\r\n",
        "    X_test_num_words_q2,\r\n",
        "    X_test_num_unique_words_q1,\r\n",
        "    X_test_num_unique_words_q2,\r\n",
        "    X_test_num_stopwords_q1,\r\n",
        "    X_test_num_stopwords_q2,\r\n",
        "    X_test_word_share,\r\n",
        "    X_test_word_common,\r\n",
        "    X_test_word_total,\r\n",
        "  ))\r\n",
        "  print('predicting ...')\r\n",
        "  y_pred = model.predict(X_test)\r\n",
        "\r\n",
        "  xgb_pred_df = create_file(test, y_pred, 'XGB_pred')\r\n",
        "\r\n",
        "  end_time = time.time()\r\n",
        "  print(\"total time elapsed is {}\".format(end_time-start_time))\r\n",
        "\r\n",
        "  return \r\n",
        "\r\n",
        "train_params(ngrams=1)"
      ],
      "execution_count": null,
      "outputs": [
        {
          "output_type": "stream",
          "text": [
            "BOW and XGBoost\n",
            "Vocabulary size is 57887\n",
            "5-Fold Cross Validation\n"
          ],
          "name": "stdout"
        },
        {
          "output_type": "display_data",
          "data": {
            "text/html": [
              "<div>\n",
              "<style scoped>\n",
              "    .dataframe tbody tr th:only-of-type {\n",
              "        vertical-align: middle;\n",
              "    }\n",
              "\n",
              "    .dataframe tbody tr th {\n",
              "        vertical-align: top;\n",
              "    }\n",
              "\n",
              "    .dataframe thead th {\n",
              "        text-align: right;\n",
              "    }\n",
              "</style>\n",
              "<table border=\"1\" class=\"dataframe\">\n",
              "  <thead>\n",
              "    <tr style=\"text-align: right;\">\n",
              "      <th>Statistic Measure</th>\n",
              "      <th>Logistic Regression</th>\n",
              "      <th>SVM</th>\n",
              "      <th>XGB</th>\n",
              "    </tr>\n",
              "  </thead>\n",
              "  <tbody>\n",
              "    <tr>\n",
              "      <th>Accuracy</th>\n",
              "      <td>0.792645</td>\n",
              "      <td>0.783252</td>\n",
              "      <td>0.802411</td>\n",
              "    </tr>\n",
              "    <tr>\n",
              "      <th>Precision</th>\n",
              "      <td>0.780977</td>\n",
              "      <td>0.769909</td>\n",
              "      <td>0.789027</td>\n",
              "    </tr>\n",
              "    <tr>\n",
              "      <th>Recall</th>\n",
              "      <td>0.767595</td>\n",
              "      <td>0.759067</td>\n",
              "      <td>0.785513</td>\n",
              "    </tr>\n",
              "    <tr>\n",
              "      <th>F-measure</th>\n",
              "      <td>0.772910</td>\n",
              "      <td>0.763441</td>\n",
              "      <td>0.787161</td>\n",
              "    </tr>\n",
              "  </tbody>\n",
              "</table>\n",
              "</div>"
            ],
            "text/plain": [
              "Statistic Measure  Logistic Regression       SVM       XGB\n",
              "Accuracy                      0.792645  0.783252  0.802411\n",
              "Precision                     0.780977  0.769909  0.789027\n",
              "Recall                        0.767595  0.759067  0.785513\n",
              "F-measure                     0.772910  0.763441  0.787161"
            ]
          },
          "metadata": {
            "tags": []
          }
        },
        {
          "output_type": "stream",
          "text": [
            "fitting ...\n",
            "Vocabulary size is 57887\n",
            "predicting ...\n",
            "total time elapsed is 5100.600019931793\n"
          ],
          "name": "stdout"
        }
      ]
    }
  ]
}