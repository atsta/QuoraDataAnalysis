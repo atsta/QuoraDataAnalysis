{
  "nbformat": 4,
  "nbformat_minor": 0,
  "metadata": {
    "colab": {
      "name": "Q2B_SameQuestionDetection.ipynb",
      "provenance": [],
      "collapsed_sections": [],
      "toc_visible": true
    },
    "kernelspec": {
      "display_name": "Python 3",
      "name": "python3"
    }
  },
  "cells": [
    {
      "cell_type": "code",
      "metadata": {
        "id": "fJCslfHF1p_U"
      },
      "source": [
        "import pandas as pd\n",
        "from sklearn.feature_extraction.text import TfidfVectorizer\n",
        "from nltk.corpus import stopwords\n",
        "from sklearn import linear_model\n",
        "import numpy as np\n",
        "import time\n",
        "import sys\n",
        "from sklearn.model_selection import train_test_split\n",
        "import scipy\n",
        "from sklearn.metrics import log_loss\n",
        "import xgboost as xgb\n",
        "from sklearn.metrics import accuracy_score\n",
        "from sklearn.metrics import roc_auc_score\n",
        "from sklearn.model_selection import cross_validate\n",
        "from string import digits\n",
        "import re\n",
        "from sklearn.decomposition import TruncatedSVD\n",
        "import seaborn as sns\n",
        "import matplotlib.pyplot as plt\n",
        "import os;"
      ],
      "execution_count": 1,
      "outputs": []
    },
    {
      "cell_type": "code",
      "metadata": {
        "colab": {
          "base_uri": "https://localhost:8080/"
        },
        "id": "wyuDeq1JS564",
        "outputId": "8140ce78-1368-43e9-d702-77e5d06b5d29"
      },
      "source": [
        "import nltk\n",
        "\n",
        "nltk.download('punkt')\n",
        "nltk.download('popular')"
      ],
      "execution_count": 2,
      "outputs": [
        {
          "output_type": "stream",
          "text": [
            "[nltk_data] Downloading package punkt to /root/nltk_data...\n",
            "[nltk_data]   Unzipping tokenizers/punkt.zip.\n",
            "[nltk_data] Downloading collection 'popular'\n",
            "[nltk_data]    | \n",
            "[nltk_data]    | Downloading package cmudict to /root/nltk_data...\n",
            "[nltk_data]    |   Unzipping corpora/cmudict.zip.\n",
            "[nltk_data]    | Downloading package gazetteers to /root/nltk_data...\n",
            "[nltk_data]    |   Unzipping corpora/gazetteers.zip.\n",
            "[nltk_data]    | Downloading package genesis to /root/nltk_data...\n",
            "[nltk_data]    |   Unzipping corpora/genesis.zip.\n",
            "[nltk_data]    | Downloading package gutenberg to /root/nltk_data...\n",
            "[nltk_data]    |   Unzipping corpora/gutenberg.zip.\n",
            "[nltk_data]    | Downloading package inaugural to /root/nltk_data...\n",
            "[nltk_data]    |   Unzipping corpora/inaugural.zip.\n",
            "[nltk_data]    | Downloading package movie_reviews to\n",
            "[nltk_data]    |     /root/nltk_data...\n",
            "[nltk_data]    |   Unzipping corpora/movie_reviews.zip.\n",
            "[nltk_data]    | Downloading package names to /root/nltk_data...\n",
            "[nltk_data]    |   Unzipping corpora/names.zip.\n",
            "[nltk_data]    | Downloading package shakespeare to /root/nltk_data...\n",
            "[nltk_data]    |   Unzipping corpora/shakespeare.zip.\n",
            "[nltk_data]    | Downloading package stopwords to /root/nltk_data...\n",
            "[nltk_data]    |   Unzipping corpora/stopwords.zip.\n",
            "[nltk_data]    | Downloading package treebank to /root/nltk_data...\n",
            "[nltk_data]    |   Unzipping corpora/treebank.zip.\n",
            "[nltk_data]    | Downloading package twitter_samples to\n",
            "[nltk_data]    |     /root/nltk_data...\n",
            "[nltk_data]    |   Unzipping corpora/twitter_samples.zip.\n",
            "[nltk_data]    | Downloading package omw to /root/nltk_data...\n",
            "[nltk_data]    |   Unzipping corpora/omw.zip.\n",
            "[nltk_data]    | Downloading package wordnet to /root/nltk_data...\n",
            "[nltk_data]    |   Unzipping corpora/wordnet.zip.\n",
            "[nltk_data]    | Downloading package wordnet_ic to /root/nltk_data...\n",
            "[nltk_data]    |   Unzipping corpora/wordnet_ic.zip.\n",
            "[nltk_data]    | Downloading package words to /root/nltk_data...\n",
            "[nltk_data]    |   Unzipping corpora/words.zip.\n",
            "[nltk_data]    | Downloading package maxent_ne_chunker to\n",
            "[nltk_data]    |     /root/nltk_data...\n",
            "[nltk_data]    |   Unzipping chunkers/maxent_ne_chunker.zip.\n",
            "[nltk_data]    | Downloading package punkt to /root/nltk_data...\n",
            "[nltk_data]    |   Package punkt is already up-to-date!\n",
            "[nltk_data]    | Downloading package snowball_data to\n",
            "[nltk_data]    |     /root/nltk_data...\n",
            "[nltk_data]    | Downloading package averaged_perceptron_tagger to\n",
            "[nltk_data]    |     /root/nltk_data...\n",
            "[nltk_data]    |   Unzipping taggers/averaged_perceptron_tagger.zip.\n",
            "[nltk_data]    | \n",
            "[nltk_data]  Done downloading collection popular\n"
          ],
          "name": "stdout"
        },
        {
          "output_type": "execute_result",
          "data": {
            "text/plain": [
              "True"
            ]
          },
          "metadata": {
            "tags": []
          },
          "execution_count": 2
        }
      ]
    },
    {
      "cell_type": "code",
      "metadata": {
        "colab": {
          "base_uri": "https://localhost:8080/"
        },
        "id": "ddp9-owKlTG_",
        "outputId": "088766a0-7029-4ffb-9d16-34eff4db7d50"
      },
      "source": [
        "from google.colab import drive\n",
        "drive.mount('/content/drive')"
      ],
      "execution_count": 4,
      "outputs": [
        {
          "output_type": "stream",
          "text": [
            "Mounted at /content/drive\n"
          ],
          "name": "stdout"
        }
      ]
    },
    {
      "cell_type": "code",
      "metadata": {
        "colab": {
          "base_uri": "https://localhost:8080/",
          "height": 204
        },
        "id": "AA28_XWcu6X0",
        "outputId": "2e05f565-1b6c-4beb-a7d9-2cdffb6d75fd"
      },
      "source": [
        "df = pd.read_csv(\"/content/drive/MyDrive/University/datasets2020/datasets/q2b/train.csv\")\n",
        "df.head()"
      ],
      "execution_count": 5,
      "outputs": [
        {
          "output_type": "execute_result",
          "data": {
            "text/html": [
              "<div>\n",
              "<style scoped>\n",
              "    .dataframe tbody tr th:only-of-type {\n",
              "        vertical-align: middle;\n",
              "    }\n",
              "\n",
              "    .dataframe tbody tr th {\n",
              "        vertical-align: top;\n",
              "    }\n",
              "\n",
              "    .dataframe thead th {\n",
              "        text-align: right;\n",
              "    }\n",
              "</style>\n",
              "<table border=\"1\" class=\"dataframe\">\n",
              "  <thead>\n",
              "    <tr style=\"text-align: right;\">\n",
              "      <th></th>\n",
              "      <th>Id</th>\n",
              "      <th>Question1</th>\n",
              "      <th>Question2</th>\n",
              "      <th>IsDuplicate</th>\n",
              "    </tr>\n",
              "  </thead>\n",
              "  <tbody>\n",
              "    <tr>\n",
              "      <th>0</th>\n",
              "      <td>0</td>\n",
              "      <td>What is the step by step guide to invest in sh...</td>\n",
              "      <td>What is the step by step guide to invest in sh...</td>\n",
              "      <td>0</td>\n",
              "    </tr>\n",
              "    <tr>\n",
              "      <th>1</th>\n",
              "      <td>1</td>\n",
              "      <td>What is the story of Kohinoor (Koh-i-Noor) Dia...</td>\n",
              "      <td>What would happen if the Indian government sto...</td>\n",
              "      <td>0</td>\n",
              "    </tr>\n",
              "    <tr>\n",
              "      <th>2</th>\n",
              "      <td>2</td>\n",
              "      <td>How can I increase the speed of my internet co...</td>\n",
              "      <td>How can Internet speed be increased by hacking...</td>\n",
              "      <td>0</td>\n",
              "    </tr>\n",
              "    <tr>\n",
              "      <th>3</th>\n",
              "      <td>3</td>\n",
              "      <td>Why am I mentally very lonely? How can I solve...</td>\n",
              "      <td>Find the remainder when [math]23^{24}[/math] i...</td>\n",
              "      <td>0</td>\n",
              "    </tr>\n",
              "    <tr>\n",
              "      <th>4</th>\n",
              "      <td>4</td>\n",
              "      <td>Which one dissolve in water quikly sugar, salt...</td>\n",
              "      <td>Which fish would survive in salt water?</td>\n",
              "      <td>0</td>\n",
              "    </tr>\n",
              "  </tbody>\n",
              "</table>\n",
              "</div>"
            ],
            "text/plain": [
              "   Id  ... IsDuplicate\n",
              "0   0  ...           0\n",
              "1   1  ...           0\n",
              "2   2  ...           0\n",
              "3   3  ...           0\n",
              "4   4  ...           0\n",
              "\n",
              "[5 rows x 4 columns]"
            ]
          },
          "metadata": {
            "tags": []
          },
          "execution_count": 5
        }
      ]
    },
    {
      "cell_type": "code",
      "metadata": {
        "colab": {
          "base_uri": "https://localhost:8080/",
          "height": 204
        },
        "id": "rLrEXt9Mvk7h",
        "outputId": "2d98215a-09e2-48ff-a42c-69ffa954a5e9"
      },
      "source": [
        "df_test = pd.read_csv(\"/content/drive/MyDrive/University/datasets2020/datasets/q2b/test_without_labels.csv\")\n",
        "df_test.head()"
      ],
      "execution_count": 6,
      "outputs": [
        {
          "output_type": "execute_result",
          "data": {
            "text/html": [
              "<div>\n",
              "<style scoped>\n",
              "    .dataframe tbody tr th:only-of-type {\n",
              "        vertical-align: middle;\n",
              "    }\n",
              "\n",
              "    .dataframe tbody tr th {\n",
              "        vertical-align: top;\n",
              "    }\n",
              "\n",
              "    .dataframe thead th {\n",
              "        text-align: right;\n",
              "    }\n",
              "</style>\n",
              "<table border=\"1\" class=\"dataframe\">\n",
              "  <thead>\n",
              "    <tr style=\"text-align: right;\">\n",
              "      <th></th>\n",
              "      <th>Id</th>\n",
              "      <th>Question1</th>\n",
              "      <th>Question2</th>\n",
              "    </tr>\n",
              "  </thead>\n",
              "  <tbody>\n",
              "    <tr>\n",
              "      <th>0</th>\n",
              "      <td>283003</td>\n",
              "      <td>What can someone do if they've lost the wirele...</td>\n",
              "      <td>What is the best USB wireless mouse that can b...</td>\n",
              "    </tr>\n",
              "    <tr>\n",
              "      <th>1</th>\n",
              "      <td>283004</td>\n",
              "      <td>Why India need to elect Prime minister?</td>\n",
              "      <td>Is prime minister of India elected or appointed?</td>\n",
              "    </tr>\n",
              "    <tr>\n",
              "      <th>2</th>\n",
              "      <td>283005</td>\n",
              "      <td>How can I make money online with free of cost?</td>\n",
              "      <td>How can I make money online for free?</td>\n",
              "    </tr>\n",
              "    <tr>\n",
              "      <th>3</th>\n",
              "      <td>283006</td>\n",
              "      <td>Does MDMA affect the first and higher order mo...</td>\n",
              "      <td>Do antipsychotics affect the first and higher ...</td>\n",
              "    </tr>\n",
              "    <tr>\n",
              "      <th>4</th>\n",
              "      <td>283007</td>\n",
              "      <td>I am a Saudi National and have \"SR 3 million\" ...</td>\n",
              "      <td>Where should I invest money to get high returns?</td>\n",
              "    </tr>\n",
              "  </tbody>\n",
              "</table>\n",
              "</div>"
            ],
            "text/plain": [
              "       Id  ...                                          Question2\n",
              "0  283003  ...  What is the best USB wireless mouse that can b...\n",
              "1  283004  ...   Is prime minister of India elected or appointed?\n",
              "2  283005  ...              How can I make money online for free?\n",
              "3  283006  ...  Do antipsychotics affect the first and higher ...\n",
              "4  283007  ...   Where should I invest money to get high returns?\n",
              "\n",
              "[5 rows x 3 columns]"
            ]
          },
          "metadata": {
            "tags": []
          },
          "execution_count": 6
        }
      ]
    },
    {
      "cell_type": "code",
      "metadata": {
        "colab": {
          "base_uri": "https://localhost:8080/",
          "height": 297
        },
        "id": "jzO0kwnsaiRp",
        "outputId": "a09066a1-84e5-43a1-c24a-cc54736c5567"
      },
      "source": [
        "# Bar chart\n",
        "plt.subplot(1, 2, 1)\n",
        "df.groupby('IsDuplicate')['Id'].count().plot.bar()\n",
        "plt.grid(True)\n",
        "plt.title('Duplicate Count')\n",
        "plt.subplots_adjust(right=1.9)\n",
        "\n",
        "# Pie Chart\n",
        "plt.subplot(1, 2, 2)\n",
        "values = [df[df['IsDuplicate']==0].shape[0], df[df['IsDuplicate']==1].shape[0]]\n",
        "labels = ['Is not duplicate questions', 'Is duplicate questions']\n",
        "\n",
        "plt.pie(values, labels=labels, autopct='%1.1f%%', shadow=True)\n",
        "plt.title('Duplicate Distribution')\n",
        "plt.tight_layout()\n",
        "plt.subplots_adjust(right=1.9)\n",
        "plt.show()"
      ],
      "execution_count": 7,
      "outputs": [
        {
          "output_type": "display_data",
          "data": {
            "image/png": "[encoded data removed]",
            "text/plain": [
              "<Figure size 432x288 with 2 Axes>"
            ]
          },
          "metadata": {
            "tags": [],
            "needs_background": "light"
          }
        }
      ]
    },
    {
      "cell_type": "code",
      "metadata": {
        "colab": {
          "base_uri": "https://localhost:8080/",
          "height": 111
        },
        "id": "CY1o8CepCLJd",
        "outputId": "7cf569df-5a33-45e5-d95f-769479e3ffec"
      },
      "source": [
        "df[df.isnull().any(axis=1)]"
      ],
      "execution_count": 8,
      "outputs": [
        {
          "output_type": "execute_result",
          "data": {
            "text/html": [
              "<div>\n",
              "<style scoped>\n",
              "    .dataframe tbody tr th:only-of-type {\n",
              "        vertical-align: middle;\n",
              "    }\n",
              "\n",
              "    .dataframe tbody tr th {\n",
              "        vertical-align: top;\n",
              "    }\n",
              "\n",
              "    .dataframe thead th {\n",
              "        text-align: right;\n",
              "    }\n",
              "</style>\n",
              "<table border=\"1\" class=\"dataframe\">\n",
              "  <thead>\n",
              "    <tr style=\"text-align: right;\">\n",
              "      <th></th>\n",
              "      <th>Id</th>\n",
              "      <th>Question1</th>\n",
              "      <th>Question2</th>\n",
              "      <th>IsDuplicate</th>\n",
              "    </tr>\n",
              "  </thead>\n",
              "  <tbody>\n",
              "    <tr>\n",
              "      <th>105780</th>\n",
              "      <td>105780</td>\n",
              "      <td>How can I develop android app?</td>\n",
              "      <td>NaN</td>\n",
              "      <td>0</td>\n",
              "    </tr>\n",
              "    <tr>\n",
              "      <th>201841</th>\n",
              "      <td>201841</td>\n",
              "      <td>How can I create an Android app?</td>\n",
              "      <td>NaN</td>\n",
              "      <td>0</td>\n",
              "    </tr>\n",
              "  </tbody>\n",
              "</table>\n",
              "</div>"
            ],
            "text/plain": [
              "            Id                         Question1 Question2  IsDuplicate\n",
              "105780  105780    How can I develop android app?       NaN            0\n",
              "201841  201841  How can I create an Android app?       NaN            0"
            ]
          },
          "metadata": {
            "tags": []
          },
          "execution_count": 8
        }
      ]
    },
    {
      "cell_type": "code",
      "metadata": {
        "colab": {
          "base_uri": "https://localhost:8080/"
        },
        "id": "va-5uuQJCR-J",
        "outputId": "e7e24c62-09d0-4782-c804-cfdc10688862"
      },
      "source": [
        "df = df.dropna()\n",
        "df.shape"
      ],
      "execution_count": 9,
      "outputs": [
        {
          "output_type": "execute_result",
          "data": {
            "text/plain": [
              "(283002, 4)"
            ]
          },
          "metadata": {
            "tags": []
          },
          "execution_count": 9
        }
      ]
    },
    {
      "cell_type": "code",
      "metadata": {
        "colab": {
          "base_uri": "https://localhost:8080/"
        },
        "id": "FWOtaKJJBsXy",
        "outputId": "ba58a338-ff5d-4945-e552-46ac196bc8b4"
      },
      "source": [
        "qids = pd.Series((df['Question1'].astype(str)).tolist() + (df['Question2'].astype(str)).tolist())\n",
        "uniq = len(np.unique(qids))\n",
        "print('Total number of unique questions is {}'.format(uniq))\n",
        "#Number of questions that repeated than 1 time\n",
        "cnt = qids.value_counts()\n",
        "more1 = len(cnt[cnt.values > 1])\n",
        "print('Number of questions that repeated more than 1 time is {} which is {}%'.format(more1,(more1/(len(cnt))*100)))\n",
        "print('The maximum number of times a question occured is {}'.format(max(cnt)))"
      ],
      "execution_count": 10,
      "outputs": [
        {
          "output_type": "stream",
          "text": [
            "Total number of unique questions is 402690\n",
            "Number of questions that repeated more than 1 time is 73402 which is 18.22791725645037%\n",
            "The maximum number of times a question occured is 112\n"
          ],
          "name": "stdout"
        }
      ]
    },
    {
      "cell_type": "code",
      "metadata": {
        "colab": {
          "base_uri": "https://localhost:8080/",
          "height": 297
        },
        "id": "53dUhmsDDv95",
        "outputId": "61d5fb3b-5442-45ee-d0c8-7d0e2e51b337"
      },
      "source": [
        "x = ['unique questions','repeated questions']\n",
        "y = [uniq,more1]\n",
        "plt.subplot(1, 2, 1)\n",
        "plt.bar(x,y)\n",
        "plt.grid(True)\n",
        "plt.title('No of unique and repeated questions')\n",
        "plt.subplots_adjust(right=1.9)\n",
        "\n",
        "# Pie Chart\n",
        "plt.subplot(1, 2, 2)\n",
        "plt.pie(y, labels=x, autopct='%1.1f%%', shadow=True)\n",
        "plt.title('Distribution of unique questions')\n",
        "plt.tight_layout()\n",
        "plt.subplots_adjust(right=1.9)\n",
        "plt.show()"
      ],
      "execution_count": 11,
      "outputs": [
        {
          "output_type": "display_data",
          "data": {
            "image/png": "[encoded data removed]",
            "text/plain": [
              "<Figure size 432x288 with 2 Axes>"
            ]
          },
          "metadata": {
            "tags": [],
            "needs_background": "light"
          }
        }
      ]
    },
    {
      "cell_type": "markdown",
      "metadata": {
        "id": "DsBk8T1jcX46"
      },
      "source": [
        "## **Feature Extraction**"
      ]
    },
    {
      "cell_type": "code",
      "metadata": {
        "colab": {
          "base_uri": "https://localhost:8080/",
          "height": 589
        },
        "id": "FxCLwD3WGIqa",
        "outputId": "0a5d6fc2-54e2-442a-e36c-67a99b5ce708"
      },
      "source": [
        "if os.path.isfile('/content/not_preprocessed_data.csv'):\n",
        "    data = pd.read_csv(\"/content/not_preprocessed_data.csv\",encoding='latin-1')\n",
        "else:\n",
        "    def common_wrd(row):\n",
        "        x = set(row['Question1'].lower().strip().split(\" \")) \n",
        "        y = set(row['Question2'].lower().strip().split(\" \"))\n",
        "        return 1.0 * len(x & y)\n",
        "\n",
        "\n",
        "    def total(row):\n",
        "        set1 = set(row['Question1'].lower().strip().split(\" \"))\n",
        "        set2 = set(row['Question2'].lower().strip().split(\" \"))\n",
        "        return 1.0 * (len(set1) + len(set2))\n",
        "\n",
        "    def word_share(row):\n",
        "        x = float(row['word_common'])/float(row['word_total'])\n",
        "        return  x\n",
        "\n",
        "############################################\n",
        "    \n",
        "    df['q1len'] = (df['Question1'].astype(str)).apply(lambda x: len(x))\n",
        "    df['q2len'] = (df['Question2'].astype(str)).apply(lambda x: len(x))\n",
        "    df['q1_n_words'] = (df['Question1'].astype(str)).apply(lambda x: len(x.split(\" \")))\n",
        "    df['q2_n_words'] = (df['Question2'].astype(str)).apply(lambda x: len(x.split(\" \")))\n",
        "    df['q1_n_stopwords'] = df['Question1'].apply(lambda x: len([c for c in str(x).lower().split() if c in stopwords.words('english')]))\n",
        "    df['q2_n_stopwords'] = df['Question2'].apply(lambda x: len([c for c in str(x).lower().split() if c in stopwords.words('english')]))\n",
        "    df['word_common'] = (df.astype(str)).apply(common_wrd,axis=1)\n",
        "    df['word_total'] = (df.astype(str)).apply(total,axis=1)\n",
        "    df['word_share'] = (df.astype(str)).apply(word_share,axis=1)\n",
        "    df.to_csv(\"data_with_out_preprocess.csv\", index=False)\n",
        "    display(df)"
      ],
      "execution_count": 13,
      "outputs": [
        {
          "output_type": "display_data",
          "data": {
            "text/html": [
              "<div>\n",
              "<style scoped>\n",
              "    .dataframe tbody tr th:only-of-type {\n",
              "        vertical-align: middle;\n",
              "    }\n",
              "\n",
              "    .dataframe tbody tr th {\n",
              "        vertical-align: top;\n",
              "    }\n",
              "\n",
              "    .dataframe thead th {\n",
              "        text-align: right;\n",
              "    }\n",
              "</style>\n",
              "<table border=\"1\" class=\"dataframe\">\n",
              "  <thead>\n",
              "    <tr style=\"text-align: right;\">\n",
              "      <th></th>\n",
              "      <th>Id</th>\n",
              "      <th>Question1</th>\n",
              "      <th>Question2</th>\n",
              "      <th>IsDuplicate</th>\n",
              "      <th>q1len</th>\n",
              "      <th>q2len</th>\n",
              "      <th>q1_n_words</th>\n",
              "      <th>q2_n_words</th>\n",
              "      <th>q1_n_stopwords</th>\n",
              "      <th>q2_n_stopwords</th>\n",
              "      <th>word_common</th>\n",
              "      <th>word_total</th>\n",
              "      <th>word_share</th>\n",
              "    </tr>\n",
              "  </thead>\n",
              "  <tbody>\n",
              "    <tr>\n",
              "      <th>0</th>\n",
              "      <td>0</td>\n",
              "      <td>What is the step by step guide to invest in sh...</td>\n",
              "      <td>What is the step by step guide to invest in sh...</td>\n",
              "      <td>0</td>\n",
              "      <td>66</td>\n",
              "      <td>57</td>\n",
              "      <td>14</td>\n",
              "      <td>12</td>\n",
              "      <td>7</td>\n",
              "      <td>6</td>\n",
              "      <td>10.0</td>\n",
              "      <td>23.0</td>\n",
              "      <td>0.434783</td>\n",
              "    </tr>\n",
              "    <tr>\n",
              "      <th>1</th>\n",
              "      <td>1</td>\n",
              "      <td>What is the story of Kohinoor (Koh-i-Noor) Dia...</td>\n",
              "      <td>What would happen if the Indian government sto...</td>\n",
              "      <td>0</td>\n",
              "      <td>51</td>\n",
              "      <td>88</td>\n",
              "      <td>8</td>\n",
              "      <td>13</td>\n",
              "      <td>4</td>\n",
              "      <td>4</td>\n",
              "      <td>4.0</td>\n",
              "      <td>20.0</td>\n",
              "      <td>0.200000</td>\n",
              "    </tr>\n",
              "    <tr>\n",
              "      <th>2</th>\n",
              "      <td>2</td>\n",
              "      <td>How can I increase the speed of my internet co...</td>\n",
              "      <td>How can Internet speed be increased by hacking...</td>\n",
              "      <td>0</td>\n",
              "      <td>73</td>\n",
              "      <td>59</td>\n",
              "      <td>14</td>\n",
              "      <td>10</td>\n",
              "      <td>8</td>\n",
              "      <td>5</td>\n",
              "      <td>4.0</td>\n",
              "      <td>24.0</td>\n",
              "      <td>0.166667</td>\n",
              "    </tr>\n",
              "    <tr>\n",
              "      <th>3</th>\n",
              "      <td>3</td>\n",
              "      <td>Why am I mentally very lonely? How can I solve...</td>\n",
              "      <td>Find the remainder when [math]23^{24}[/math] i...</td>\n",
              "      <td>0</td>\n",
              "      <td>50</td>\n",
              "      <td>65</td>\n",
              "      <td>11</td>\n",
              "      <td>9</td>\n",
              "      <td>7</td>\n",
              "      <td>4</td>\n",
              "      <td>0.0</td>\n",
              "      <td>19.0</td>\n",
              "      <td>0.000000</td>\n",
              "    </tr>\n",
              "    <tr>\n",
              "      <th>4</th>\n",
              "      <td>4</td>\n",
              "      <td>Which one dissolve in water quikly sugar, salt...</td>\n",
              "      <td>Which fish would survive in salt water?</td>\n",
              "      <td>0</td>\n",
              "      <td>76</td>\n",
              "      <td>39</td>\n",
              "      <td>13</td>\n",
              "      <td>7</td>\n",
              "      <td>3</td>\n",
              "      <td>2</td>\n",
              "      <td>2.0</td>\n",
              "      <td>20.0</td>\n",
              "      <td>0.100000</td>\n",
              "    </tr>\n",
              "    <tr>\n",
              "      <th>...</th>\n",
              "      <td>...</td>\n",
              "      <td>...</td>\n",
              "      <td>...</td>\n",
              "      <td>...</td>\n",
              "      <td>...</td>\n",
              "      <td>...</td>\n",
              "      <td>...</td>\n",
              "      <td>...</td>\n",
              "      <td>...</td>\n",
              "      <td>...</td>\n",
              "      <td>...</td>\n",
              "      <td>...</td>\n",
              "      <td>...</td>\n",
              "    </tr>\n",
              "    <tr>\n",
              "      <th>282999</th>\n",
              "      <td>282999</td>\n",
              "      <td>What is the highest gallantry award in India?</td>\n",
              "      <td>India's PM Mr Modi has polled highest votes fr...</td>\n",
              "      <td>0</td>\n",
              "      <td>45</td>\n",
              "      <td>146</td>\n",
              "      <td>8</td>\n",
              "      <td>27</td>\n",
              "      <td>4</td>\n",
              "      <td>10</td>\n",
              "      <td>3.0</td>\n",
              "      <td>35.0</td>\n",
              "      <td>0.085714</td>\n",
              "    </tr>\n",
              "    <tr>\n",
              "      <th>283000</th>\n",
              "      <td>283000</td>\n",
              "      <td>Who are your favorite Quorans?</td>\n",
              "      <td>Who are some of your favorite Quorans and why?</td>\n",
              "      <td>1</td>\n",
              "      <td>30</td>\n",
              "      <td>46</td>\n",
              "      <td>5</td>\n",
              "      <td>9</td>\n",
              "      <td>3</td>\n",
              "      <td>6</td>\n",
              "      <td>4.0</td>\n",
              "      <td>14.0</td>\n",
              "      <td>0.285714</td>\n",
              "    </tr>\n",
              "    <tr>\n",
              "      <th>283001</th>\n",
              "      <td>283001</td>\n",
              "      <td>What is the best way to add your websites back...</td>\n",
              "      <td>What is the best way to add your websites back...</td>\n",
              "      <td>0</td>\n",
              "      <td>60</td>\n",
              "      <td>60</td>\n",
              "      <td>12</td>\n",
              "      <td>12</td>\n",
              "      <td>6</td>\n",
              "      <td>6</td>\n",
              "      <td>11.0</td>\n",
              "      <td>24.0</td>\n",
              "      <td>0.458333</td>\n",
              "    </tr>\n",
              "    <tr>\n",
              "      <th>283002</th>\n",
              "      <td>283002</td>\n",
              "      <td>How old is too old to start medical school?</td>\n",
              "      <td>What age is too old to get a medical MD?</td>\n",
              "      <td>1</td>\n",
              "      <td>43</td>\n",
              "      <td>40</td>\n",
              "      <td>9</td>\n",
              "      <td>10</td>\n",
              "      <td>4</td>\n",
              "      <td>5</td>\n",
              "      <td>5.0</td>\n",
              "      <td>18.0</td>\n",
              "      <td>0.277778</td>\n",
              "    </tr>\n",
              "    <tr>\n",
              "      <th>283003</th>\n",
              "      <td>283003</td>\n",
              "      <td>What can someone do if they've lost the wirele...</td>\n",
              "      <td>What is the best USB wireless mouse that can b...</td>\n",
              "      <td>0</td>\n",
              "      <td>100</td>\n",
              "      <td>77</td>\n",
              "      <td>17</td>\n",
              "      <td>18</td>\n",
              "      <td>8</td>\n",
              "      <td>11</td>\n",
              "      <td>6.0</td>\n",
              "      <td>34.0</td>\n",
              "      <td>0.176471</td>\n",
              "    </tr>\n",
              "  </tbody>\n",
              "</table>\n",
              "<p>283002 rows × 13 columns</p>\n",
              "</div>"
            ],
            "text/plain": [
              "            Id  ... word_share\n",
              "0            0  ...   0.434783\n",
              "1            1  ...   0.200000\n",
              "2            2  ...   0.166667\n",
              "3            3  ...   0.000000\n",
              "4            4  ...   0.100000\n",
              "...        ...  ...        ...\n",
              "282999  282999  ...   0.085714\n",
              "283000  283000  ...   0.285714\n",
              "283001  283001  ...   0.458333\n",
              "283002  283002  ...   0.277778\n",
              "283003  283003  ...   0.176471\n",
              "\n",
              "[283002 rows x 13 columns]"
            ]
          },
          "metadata": {
            "tags": []
          }
        }
      ]
    },
    {
      "cell_type": "code",
      "metadata": {
        "colab": {
          "base_uri": "https://localhost:8080/",
          "height": 572
        },
        "id": "DXYxQClRbRgx",
        "outputId": "93c5cdb2-492e-4ecd-cfb9-1fba1719e034"
      },
      "source": [
        "    df_test['q1len'] = (df_test['Question1'].astype(str)).apply(lambda x: len(x))\n",
        "    df_test['q2len'] = (df_test['Question2'].astype(str)).apply(lambda x: len(x))\n",
        "    df_test['q1_n_words'] = (df_test['Question1'].astype(str)).apply(lambda x: len(x.split(\" \")))\n",
        "    df_test['q2_n_words'] = (df_test['Question2'].astype(str)).apply(lambda x: len(x.split(\" \")))\n",
        "    df_test['q1_n_stopwords'] = df_test['Question1'].apply(lambda x: len([c for c in str(x).lower().split() if c in stopwords.words('english')]))\n",
        "    df_test['q2_n_stopwords'] = df_test['Question2'].apply(lambda x: len([c for c in str(x).lower().split() if c in stopwords.words('english')]))\n",
        "    df_test['word_common'] = (df_test.astype(str)).apply(common_wrd,axis=1)\n",
        "    df_test['word_total'] = (df_test.astype(str)).apply(total,axis=1)\n",
        "    df_test['word_share'] = (df_test.astype(str)).apply(word_share,axis=1)\n",
        "    df_test.to_csv(\"test_data_with_out_preprocess.csv\", index=False)\n",
        "    display(df_test)"
      ],
      "execution_count": 14,
      "outputs": [
        {
          "output_type": "display_data",
          "data": {
            "text/html": [
              "<div>\n",
              "<style scoped>\n",
              "    .dataframe tbody tr th:only-of-type {\n",
              "        vertical-align: middle;\n",
              "    }\n",
              "\n",
              "    .dataframe tbody tr th {\n",
              "        vertical-align: top;\n",
              "    }\n",
              "\n",
              "    .dataframe thead th {\n",
              "        text-align: right;\n",
              "    }\n",
              "</style>\n",
              "<table border=\"1\" class=\"dataframe\">\n",
              "  <thead>\n",
              "    <tr style=\"text-align: right;\">\n",
              "      <th></th>\n",
              "      <th>Id</th>\n",
              "      <th>Question1</th>\n",
              "      <th>Question2</th>\n",
              "      <th>q1len</th>\n",
              "      <th>q2len</th>\n",
              "      <th>q1_n_words</th>\n",
              "      <th>q2_n_words</th>\n",
              "      <th>q1_n_stopwords</th>\n",
              "      <th>q2_n_stopwords</th>\n",
              "      <th>word_common</th>\n",
              "      <th>word_total</th>\n",
              "      <th>word_share</th>\n",
              "    </tr>\n",
              "  </thead>\n",
              "  <tbody>\n",
              "    <tr>\n",
              "      <th>0</th>\n",
              "      <td>283003</td>\n",
              "      <td>What can someone do if they've lost the wirele...</td>\n",
              "      <td>What is the best USB wireless mouse that can b...</td>\n",
              "      <td>100</td>\n",
              "      <td>77</td>\n",
              "      <td>17</td>\n",
              "      <td>18</td>\n",
              "      <td>8</td>\n",
              "      <td>11</td>\n",
              "      <td>6.0</td>\n",
              "      <td>34.0</td>\n",
              "      <td>0.176471</td>\n",
              "    </tr>\n",
              "    <tr>\n",
              "      <th>1</th>\n",
              "      <td>283004</td>\n",
              "      <td>Why India need to elect Prime minister?</td>\n",
              "      <td>Is prime minister of India elected or appointed?</td>\n",
              "      <td>39</td>\n",
              "      <td>48</td>\n",
              "      <td>7</td>\n",
              "      <td>8</td>\n",
              "      <td>2</td>\n",
              "      <td>3</td>\n",
              "      <td>2.0</td>\n",
              "      <td>15.0</td>\n",
              "      <td>0.133333</td>\n",
              "    </tr>\n",
              "    <tr>\n",
              "      <th>2</th>\n",
              "      <td>283005</td>\n",
              "      <td>How can I make money online with free of cost?</td>\n",
              "      <td>How can I make money online for free?</td>\n",
              "      <td>46</td>\n",
              "      <td>37</td>\n",
              "      <td>10</td>\n",
              "      <td>8</td>\n",
              "      <td>5</td>\n",
              "      <td>4</td>\n",
              "      <td>6.0</td>\n",
              "      <td>18.0</td>\n",
              "      <td>0.333333</td>\n",
              "    </tr>\n",
              "    <tr>\n",
              "      <th>3</th>\n",
              "      <td>283006</td>\n",
              "      <td>Does MDMA affect the first and higher order mo...</td>\n",
              "      <td>Do antipsychotics affect the first and higher ...</td>\n",
              "      <td>113</td>\n",
              "      <td>121</td>\n",
              "      <td>18</td>\n",
              "      <td>18</td>\n",
              "      <td>5</td>\n",
              "      <td>5</td>\n",
              "      <td>16.0</td>\n",
              "      <td>36.0</td>\n",
              "      <td>0.444444</td>\n",
              "    </tr>\n",
              "    <tr>\n",
              "      <th>4</th>\n",
              "      <td>283007</td>\n",
              "      <td>I am a Saudi National and have \"SR 3 million\" ...</td>\n",
              "      <td>Where should I invest money to get high returns?</td>\n",
              "      <td>148</td>\n",
              "      <td>48</td>\n",
              "      <td>29</td>\n",
              "      <td>9</td>\n",
              "      <td>13</td>\n",
              "      <td>4</td>\n",
              "      <td>3.0</td>\n",
              "      <td>37.0</td>\n",
              "      <td>0.081081</td>\n",
              "    </tr>\n",
              "    <tr>\n",
              "      <th>...</th>\n",
              "      <td>...</td>\n",
              "      <td>...</td>\n",
              "      <td>...</td>\n",
              "      <td>...</td>\n",
              "      <td>...</td>\n",
              "      <td>...</td>\n",
              "      <td>...</td>\n",
              "      <td>...</td>\n",
              "      <td>...</td>\n",
              "      <td>...</td>\n",
              "      <td>...</td>\n",
              "      <td>...</td>\n",
              "    </tr>\n",
              "    <tr>\n",
              "      <th>121282</th>\n",
              "      <td>404285</td>\n",
              "      <td>How many keywords are there in the Racket prog...</td>\n",
              "      <td>How many keywords are there in PERL Programmin...</td>\n",
              "      <td>85</td>\n",
              "      <td>79</td>\n",
              "      <td>14</td>\n",
              "      <td>13</td>\n",
              "      <td>7</td>\n",
              "      <td>6</td>\n",
              "      <td>11.0</td>\n",
              "      <td>25.0</td>\n",
              "      <td>0.440000</td>\n",
              "    </tr>\n",
              "    <tr>\n",
              "      <th>121283</th>\n",
              "      <td>404286</td>\n",
              "      <td>Do you believe there is life after death?</td>\n",
              "      <td>Is it true that there is life after death?</td>\n",
              "      <td>41</td>\n",
              "      <td>42</td>\n",
              "      <td>8</td>\n",
              "      <td>9</td>\n",
              "      <td>5</td>\n",
              "      <td>6</td>\n",
              "      <td>5.0</td>\n",
              "      <td>16.0</td>\n",
              "      <td>0.312500</td>\n",
              "    </tr>\n",
              "    <tr>\n",
              "      <th>121284</th>\n",
              "      <td>404287</td>\n",
              "      <td>What is one coin?</td>\n",
              "      <td>What's this coin?</td>\n",
              "      <td>17</td>\n",
              "      <td>17</td>\n",
              "      <td>4</td>\n",
              "      <td>3</td>\n",
              "      <td>2</td>\n",
              "      <td>1</td>\n",
              "      <td>1.0</td>\n",
              "      <td>7.0</td>\n",
              "      <td>0.142857</td>\n",
              "    </tr>\n",
              "    <tr>\n",
              "      <th>121285</th>\n",
              "      <td>404288</td>\n",
              "      <td>What is the approx annual cost of living while...</td>\n",
              "      <td>I am having little hairfall problem but I want...</td>\n",
              "      <td>94</td>\n",
              "      <td>127</td>\n",
              "      <td>17</td>\n",
              "      <td>25</td>\n",
              "      <td>8</td>\n",
              "      <td>12</td>\n",
              "      <td>1.0</td>\n",
              "      <td>40.0</td>\n",
              "      <td>0.025000</td>\n",
              "    </tr>\n",
              "    <tr>\n",
              "      <th>121286</th>\n",
              "      <td>404289</td>\n",
              "      <td>What is like to have sex with cousin?</td>\n",
              "      <td>What is it like to have sex with your cousin?</td>\n",
              "      <td>37</td>\n",
              "      <td>45</td>\n",
              "      <td>8</td>\n",
              "      <td>10</td>\n",
              "      <td>5</td>\n",
              "      <td>7</td>\n",
              "      <td>8.0</td>\n",
              "      <td>18.0</td>\n",
              "      <td>0.444444</td>\n",
              "    </tr>\n",
              "  </tbody>\n",
              "</table>\n",
              "<p>121287 rows × 12 columns</p>\n",
              "</div>"
            ],
            "text/plain": [
              "            Id  ... word_share\n",
              "0       283003  ...   0.176471\n",
              "1       283004  ...   0.133333\n",
              "2       283005  ...   0.333333\n",
              "3       283006  ...   0.444444\n",
              "4       283007  ...   0.081081\n",
              "...        ...  ...        ...\n",
              "121282  404285  ...   0.440000\n",
              "121283  404286  ...   0.312500\n",
              "121284  404287  ...   0.142857\n",
              "121285  404288  ...   0.025000\n",
              "121286  404289  ...   0.444444\n",
              "\n",
              "[121287 rows x 12 columns]"
            ]
          },
          "metadata": {
            "tags": []
          }
        }
      ]
    },
    {
      "cell_type": "markdown",
      "metadata": {
        "id": "hpbF3W2VKMXj"
      },
      "source": [
        "**Shared words**\n",
        "\n",
        "We xan see below that the shared words increase significantly when the questions are similar. This can be considered as a rise in the probability of two questions being similar, if they share some same words."
      ]
    },
    {
      "cell_type": "code",
      "metadata": {
        "colab": {
          "base_uri": "https://localhost:8080/",
          "height": 404
        },
        "id": "JqknquXIJsuP",
        "outputId": "14fbca50-d3cd-4288-e7fa-452a8e507411"
      },
      "source": [
        "plt.figure(figsize=(6,6))\n",
        "sns.violinplot(x='IsDuplicate',y='word_share',data=df)\n",
        "plt.title('Shared words between questions')\n",
        "plt.show()"
      ],
      "execution_count": 15,
      "outputs": [
        {
          "output_type": "display_data",
          "data": {
            "image/png": "[encoded data removed]",
            "text/plain": [
              "<Figure size 432x432 with 1 Axes>"
            ]
          },
          "metadata": {
            "tags": [],
            "needs_background": "light"
          }
        }
      ]
    },
    {
      "cell_type": "markdown",
      "metadata": {
        "id": "i_KTCu3vKGce"
      },
      "source": [
        "**Word commoness** \n",
        "\n",
        "In contrast to the shared words depicted in tthe graph above, we see that the common words between the two questions we compare, seem to be overlapping in both true duplicate questions and non duplicate. Thus, we can not extract any information from this particular feature."
      ]
    },
    {
      "cell_type": "code",
      "metadata": {
        "colab": {
          "base_uri": "https://localhost:8080/",
          "height": 493
        },
        "id": "MuoMBoI7KFnJ",
        "outputId": "4a5011a6-b480-417a-8f1e-1dfec68320d5"
      },
      "source": [
        "plt.figure(figsize=(18,6))\n",
        "plt.subplot(1,2,1)\n",
        "sns.violinplot(x='IsDuplicate',y='word_common',data=df)\n",
        "plt.subplot(1,2,2)\n",
        "sns.distplot(df[df['IsDuplicate'] == 1]['word_common'],color='red',label='similar')\n",
        "sns.distplot(df[df['IsDuplicate'] == 0]['word_common'],color='blue',label='disimilar')\n",
        "plt.title('Common words between questions')\n",
        "plt.show()"
      ],
      "execution_count": 16,
      "outputs": [
        {
          "output_type": "stream",
          "text": [
            "/usr/local/lib/python3.6/dist-packages/seaborn/distributions.py:2557: FutureWarning: `distplot` is a deprecated function and will be removed in a future version. Please adapt your code to use either `displot` (a figure-level function with similar flexibility) or `histplot` (an axes-level function for histograms).\n",
            "  warnings.warn(msg, FutureWarning)\n",
            "/usr/local/lib/python3.6/dist-packages/seaborn/distributions.py:2557: FutureWarning: `distplot` is a deprecated function and will be removed in a future version. Please adapt your code to use either `displot` (a figure-level function with similar flexibility) or `histplot` (an axes-level function for histograms).\n",
            "  warnings.warn(msg, FutureWarning)\n"
          ],
          "name": "stderr"
        },
        {
          "output_type": "display_data",
          "data": {
            "image/png": "[encoded data removed]",
            "text/plain": [
              "<Figure size 1296x432 with 2 Axes>"
            ]
          },
          "metadata": {
            "tags": [],
            "needs_background": "light"
          }
        }
      ]
    },
    {
      "cell_type": "code",
      "metadata": {
        "colab": {
          "base_uri": "https://localhost:8080/",
          "height": 569
        },
        "id": "eQZ2QYhgssMD",
        "outputId": "1bd851d6-8ff1-41e1-ea3a-d2758417b467"
      },
      "source": [
        "# Correlation matrix\n",
        "f, ax = plt.subplots(figsize=(10, 8))\n",
        "corr = df.corr()\n",
        "sns.heatmap(corr, ax=ax)\n",
        "plt.title(\"Correlation matrix\")\n",
        "plt.show()"
      ],
      "execution_count": 18,
      "outputs": [
        {
          "output_type": "display_data",
          "data": {
            "image/png": "[encoded data removed]",
            "text/plain": [
              "<Figure size 720x576 with 2 Axes>"
            ]
          },
          "metadata": {
            "tags": [],
            "needs_background": "light"
          }
        }
      ]
    },
    {
      "cell_type": "code",
      "metadata": {
        "id": "-0vEv7w1vx3F"
      },
      "source": [
        "def getBOW(df, min_df = 100,ngrams = 1,analyzer = 'word'):\n",
        "  # bag of letter sequences (chars)\n",
        "  \"\"\"\n",
        "  BOW = TfidfVectorizer(min_df = min_df, analyzer=analyzer, ngram_range=(1,ngrams), lowercase=True)\n",
        "  \"\"\"\n",
        "#max_features=10000,\n",
        "  BOW = TfidfVectorizer( ngram_range=(1,ngrams), lowercase=True, stop_words=stopwords.words('english'))\n",
        "\n",
        "  bow_df = pd.DataFrame(pd.concat((df['Question1'],df['Question2'])).unique(), columns=['Concatenated'])\n",
        "\n",
        "  BOW.fit(bow_df['Concatenated'].values.astype('U'))\n",
        "  print('Vocabulary size is {}'.format(len(BOW.vocabulary_)))\n",
        "  return BOW"
      ],
      "execution_count": 19,
      "outputs": []
    },
    {
      "cell_type": "code",
      "metadata": {
        "id": "iLW6IhloJlGF"
      },
      "source": [
        "def shallow_cleaning(df):\n",
        "  remove_digits = str.maketrans('', '', digits)\n",
        "  df['Question1'] = pd.DataFrame(df['Question1'].astype(str)).replace('[^\\w\\s]', '')\n",
        "  df['Question1'] = pd.DataFrame(df['Question1'].str.strip())\n",
        "  df['Question1'] = pd.DataFrame(df['Question1'].str.lower())\n",
        "  df['Question1'] = pd.DataFrame(df['Question1'].str.split())\n",
        "\n",
        "  df['Question2'] = pd.DataFrame(df['Question2'].astype(str)).replace('[^\\w\\s]', ' ')\n",
        "  df['Question2'] = pd.DataFrame(df['Question2'].str.strip())\n",
        "  df['Question2'] = pd.DataFrame(df['Question2'].str.lower())\n",
        "  df['Question2'] = pd.DataFrame(df['Question2'].str.split())\n",
        "  return df\n",
        "\n",
        "from nltk.tokenize import word_tokenize\n",
        "from nltk.stem import PorterStemmer\n",
        "\n",
        "def stem(df):\n",
        "  porter = PorterStemmer()\n",
        "  df['Question1'] = (df['Question1'].astype(str)).apply(lambda x: word_tokenize(x))\n",
        "  df['Question1'] = df['Question1'].apply(lambda x: [porter.stem(word) for word in x])\n",
        "  df['Question1'] = df['Question1'].apply(lambda x: ' '.join(str(word) for word in x))\n",
        "\n",
        "  df['Question2'] = (df['Question2'].astype(str)).apply(lambda x: word_tokenize(x))\n",
        "  df['Question2'] = df['Question2'].apply(lambda x: [porter.stem(word) for word in x])\n",
        "  df['Question2'] = df['Question2'].apply(lambda x: ' '.join(str(word) for word in x))\n",
        "  return df\n"
      ],
      "execution_count": 20,
      "outputs": []
    },
    {
      "cell_type": "code",
      "metadata": {
        "colab": {
          "base_uri": "https://localhost:8080/",
          "height": 289
        },
        "id": "SlCXWJUWm5cv",
        "outputId": "60c10fa8-8863-4596-c7a4-9068ab942b81"
      },
      "source": [
        "df = pd.read_csv(\"/content/data_with_out_preprocess.csv\")\n",
        "df.head() "
      ],
      "execution_count": null,
      "outputs": [
        {
          "output_type": "execute_result",
          "data": {
            "text/html": [
              "<div>\n",
              "<style scoped>\n",
              "    .dataframe tbody tr th:only-of-type {\n",
              "        vertical-align: middle;\n",
              "    }\n",
              "\n",
              "    .dataframe tbody tr th {\n",
              "        vertical-align: top;\n",
              "    }\n",
              "\n",
              "    .dataframe thead th {\n",
              "        text-align: right;\n",
              "    }\n",
              "</style>\n",
              "<table border=\"1\" class=\"dataframe\">\n",
              "  <thead>\n",
              "    <tr style=\"text-align: right;\">\n",
              "      <th></th>\n",
              "      <th>Id</th>\n",
              "      <th>Question1</th>\n",
              "      <th>Question2</th>\n",
              "      <th>IsDuplicate</th>\n",
              "      <th>q1len</th>\n",
              "      <th>q2len</th>\n",
              "      <th>q1_n_words</th>\n",
              "      <th>q2_n_words</th>\n",
              "      <th>word_common</th>\n",
              "      <th>word_total</th>\n",
              "      <th>word_share</th>\n",
              "      <th>q1_n_stopwords</th>\n",
              "      <th>q2_n_stopwords</th>\n",
              "    </tr>\n",
              "  </thead>\n",
              "  <tbody>\n",
              "    <tr>\n",
              "      <th>0</th>\n",
              "      <td>0</td>\n",
              "      <td>What is the step by step guide to invest in sh...</td>\n",
              "      <td>What is the step by step guide to invest in sh...</td>\n",
              "      <td>0</td>\n",
              "      <td>66</td>\n",
              "      <td>57</td>\n",
              "      <td>14</td>\n",
              "      <td>12</td>\n",
              "      <td>10.0</td>\n",
              "      <td>23.0</td>\n",
              "      <td>0.434783</td>\n",
              "      <td>7</td>\n",
              "      <td>6</td>\n",
              "    </tr>\n",
              "    <tr>\n",
              "      <th>1</th>\n",
              "      <td>1</td>\n",
              "      <td>What is the story of Kohinoor (Koh-i-Noor) Dia...</td>\n",
              "      <td>What would happen if the Indian government sto...</td>\n",
              "      <td>0</td>\n",
              "      <td>51</td>\n",
              "      <td>88</td>\n",
              "      <td>8</td>\n",
              "      <td>13</td>\n",
              "      <td>4.0</td>\n",
              "      <td>20.0</td>\n",
              "      <td>0.200000</td>\n",
              "      <td>4</td>\n",
              "      <td>4</td>\n",
              "    </tr>\n",
              "    <tr>\n",
              "      <th>2</th>\n",
              "      <td>2</td>\n",
              "      <td>How can I increase the speed of my internet co...</td>\n",
              "      <td>How can Internet speed be increased by hacking...</td>\n",
              "      <td>0</td>\n",
              "      <td>73</td>\n",
              "      <td>59</td>\n",
              "      <td>14</td>\n",
              "      <td>10</td>\n",
              "      <td>4.0</td>\n",
              "      <td>24.0</td>\n",
              "      <td>0.166667</td>\n",
              "      <td>8</td>\n",
              "      <td>5</td>\n",
              "    </tr>\n",
              "    <tr>\n",
              "      <th>3</th>\n",
              "      <td>3</td>\n",
              "      <td>Why am I mentally very lonely? How can I solve...</td>\n",
              "      <td>Find the remainder when [math]23^{24}[/math] i...</td>\n",
              "      <td>0</td>\n",
              "      <td>50</td>\n",
              "      <td>65</td>\n",
              "      <td>11</td>\n",
              "      <td>9</td>\n",
              "      <td>0.0</td>\n",
              "      <td>19.0</td>\n",
              "      <td>0.000000</td>\n",
              "      <td>7</td>\n",
              "      <td>4</td>\n",
              "    </tr>\n",
              "    <tr>\n",
              "      <th>4</th>\n",
              "      <td>4</td>\n",
              "      <td>Which one dissolve in water quikly sugar, salt...</td>\n",
              "      <td>Which fish would survive in salt water?</td>\n",
              "      <td>0</td>\n",
              "      <td>76</td>\n",
              "      <td>39</td>\n",
              "      <td>13</td>\n",
              "      <td>7</td>\n",
              "      <td>2.0</td>\n",
              "      <td>20.0</td>\n",
              "      <td>0.100000</td>\n",
              "      <td>3</td>\n",
              "      <td>2</td>\n",
              "    </tr>\n",
              "  </tbody>\n",
              "</table>\n",
              "</div>"
            ],
            "text/plain": [
              "   Id  ... q2_n_stopwords\n",
              "0   0  ...              6\n",
              "1   1  ...              4\n",
              "2   2  ...              5\n",
              "3   3  ...              4\n",
              "4   4  ...              2\n",
              "\n",
              "[5 rows x 13 columns]"
            ]
          },
          "metadata": {
            "tags": []
          },
          "execution_count": 10
        }
      ]
    },
    {
      "cell_type": "code",
      "metadata": {
        "colab": {
          "base_uri": "https://localhost:8080/",
          "height": 289
        },
        "id": "NPCCMvTJnEEV",
        "outputId": "027ac2da-c0da-4f23-8ae9-f4c801ba99ae"
      },
      "source": [
        "df_test = pd.read_csv(\"/content/test_data_with_out_preprocess.csv\")\n",
        "df_test.head() "
      ],
      "execution_count": null,
      "outputs": [
        {
          "output_type": "execute_result",
          "data": {
            "text/html": [
              "<div>\n",
              "<style scoped>\n",
              "    .dataframe tbody tr th:only-of-type {\n",
              "        vertical-align: middle;\n",
              "    }\n",
              "\n",
              "    .dataframe tbody tr th {\n",
              "        vertical-align: top;\n",
              "    }\n",
              "\n",
              "    .dataframe thead th {\n",
              "        text-align: right;\n",
              "    }\n",
              "</style>\n",
              "<table border=\"1\" class=\"dataframe\">\n",
              "  <thead>\n",
              "    <tr style=\"text-align: right;\">\n",
              "      <th></th>\n",
              "      <th>Id</th>\n",
              "      <th>Question1</th>\n",
              "      <th>Question2</th>\n",
              "      <th>q1len</th>\n",
              "      <th>q2len</th>\n",
              "      <th>q1_n_words</th>\n",
              "      <th>q2_n_words</th>\n",
              "      <th>q1_n_stopwords</th>\n",
              "      <th>q2_n_stopwords</th>\n",
              "      <th>word_common</th>\n",
              "      <th>word_total</th>\n",
              "      <th>word_share</th>\n",
              "    </tr>\n",
              "  </thead>\n",
              "  <tbody>\n",
              "    <tr>\n",
              "      <th>0</th>\n",
              "      <td>283003</td>\n",
              "      <td>What can someone do if they've lost the wirele...</td>\n",
              "      <td>What is the best USB wireless mouse that can b...</td>\n",
              "      <td>100</td>\n",
              "      <td>77</td>\n",
              "      <td>17</td>\n",
              "      <td>18</td>\n",
              "      <td>8</td>\n",
              "      <td>11</td>\n",
              "      <td>6.0</td>\n",
              "      <td>34.0</td>\n",
              "      <td>0.176471</td>\n",
              "    </tr>\n",
              "    <tr>\n",
              "      <th>1</th>\n",
              "      <td>283004</td>\n",
              "      <td>Why India need to elect Prime minister?</td>\n",
              "      <td>Is prime minister of India elected or appointed?</td>\n",
              "      <td>39</td>\n",
              "      <td>48</td>\n",
              "      <td>7</td>\n",
              "      <td>8</td>\n",
              "      <td>2</td>\n",
              "      <td>3</td>\n",
              "      <td>2.0</td>\n",
              "      <td>15.0</td>\n",
              "      <td>0.133333</td>\n",
              "    </tr>\n",
              "    <tr>\n",
              "      <th>2</th>\n",
              "      <td>283005</td>\n",
              "      <td>How can I make money online with free of cost?</td>\n",
              "      <td>How can I make money online for free?</td>\n",
              "      <td>46</td>\n",
              "      <td>37</td>\n",
              "      <td>10</td>\n",
              "      <td>8</td>\n",
              "      <td>5</td>\n",
              "      <td>4</td>\n",
              "      <td>6.0</td>\n",
              "      <td>18.0</td>\n",
              "      <td>0.333333</td>\n",
              "    </tr>\n",
              "    <tr>\n",
              "      <th>3</th>\n",
              "      <td>283006</td>\n",
              "      <td>Does MDMA affect the first and higher order mo...</td>\n",
              "      <td>Do antipsychotics affect the first and higher ...</td>\n",
              "      <td>113</td>\n",
              "      <td>121</td>\n",
              "      <td>18</td>\n",
              "      <td>18</td>\n",
              "      <td>5</td>\n",
              "      <td>5</td>\n",
              "      <td>16.0</td>\n",
              "      <td>36.0</td>\n",
              "      <td>0.444444</td>\n",
              "    </tr>\n",
              "    <tr>\n",
              "      <th>4</th>\n",
              "      <td>283007</td>\n",
              "      <td>I am a Saudi National and have \"SR 3 million\" ...</td>\n",
              "      <td>Where should I invest money to get high returns?</td>\n",
              "      <td>148</td>\n",
              "      <td>48</td>\n",
              "      <td>29</td>\n",
              "      <td>9</td>\n",
              "      <td>13</td>\n",
              "      <td>4</td>\n",
              "      <td>3.0</td>\n",
              "      <td>37.0</td>\n",
              "      <td>0.081081</td>\n",
              "    </tr>\n",
              "  </tbody>\n",
              "</table>\n",
              "</div>"
            ],
            "text/plain": [
              "       Id  ... word_share\n",
              "0  283003  ...   0.176471\n",
              "1  283004  ...   0.133333\n",
              "2  283005  ...   0.333333\n",
              "3  283006  ...   0.444444\n",
              "4  283007  ...   0.081081\n",
              "\n",
              "[5 rows x 12 columns]"
            ]
          },
          "metadata": {
            "tags": []
          },
          "execution_count": 12
        }
      ]
    },
    {
      "cell_type": "code",
      "metadata": {
        "id": "kBVBuw-Hzasu"
      },
      "source": [
        "df = shallow_cleaning(df)\n",
        "df_test = shallow_cleaning(df_test)"
      ],
      "execution_count": 21,
      "outputs": []
    },
    {
      "cell_type": "code",
      "metadata": {
        "id": "yboxjJ5hJaPW"
      },
      "source": [
        "df = stem(df)\n",
        "df_test = stem(df_test)"
      ],
      "execution_count": 22,
      "outputs": []
    },
    {
      "cell_type": "code",
      "metadata": {
        "id": "Mboydk4KnmNH"
      },
      "source": [
        "df_test.to_csv(\"data_processed.csv\", index=False)\n",
        "df_test.to_csv(\"test_data_processed.csv\", index=False)"
      ],
      "execution_count": 23,
      "outputs": []
    },
    {
      "cell_type": "code",
      "metadata": {
        "id": "Zh5H514zCIea"
      },
      "source": [
        "def create_file(data, prediction, filename):\n",
        "  res_df = pd.DataFrame(data)\n",
        "  res_df['Predicted'] = prediction\n",
        "  res_df.to_csv(filename+\".csv\", columns=['Id', 'Predicted'], index=False)\n",
        "  return res_df\n",
        "\n",
        "res_mean = pd.DataFrame([])\n",
        "res_mean = res_mean.rename_axis('Statistic Measure', axis=1)\n",
        "columnNum=0\n",
        "def calculate_statistic_metrics(res, res_mean, columnName, columnNum):\n",
        "  temp_df = pd.DataFrame([])\n",
        "  accuracy_mean = pd.Series(res['test_accuracy'].mean(), name='Accuracy')\n",
        "  precision_mean = pd.Series(res['test_precision_macro'].mean(), name='Precision')\n",
        "  recall_mean = pd.Series(res['test_recall_macro'].mean(), name='Recall')\n",
        "  F1_mean = pd.Series(res['test_f1_macro'].mean(), name='F-measure')\n",
        "  temp_df = temp_df.append(accuracy_mean)\n",
        "  temp_df = temp_df.append(precision_mean)\n",
        "  temp_df = temp_df.append(recall_mean)\n",
        "  temp_df = temp_df.append(F1_mean)\n",
        "  res_mean[columnName] = temp_df[0]\n",
        "  res_mean = res_mean.rename(columns={columnNum:columnName})\n",
        "  return res_mean"
      ],
      "execution_count": 24,
      "outputs": []
    },
    {
      "cell_type": "code",
      "metadata": {
        "colab": {
          "base_uri": "https://localhost:8080/"
        },
        "id": "POKgNj3ka8bG",
        "outputId": "df802294-7b80-48c5-bbd9-8b4537860364"
      },
      "source": [
        "# Standardize stats features\n",
        "from sklearn.preprocessing import StandardScaler\n",
        "\n",
        "# question length\n",
        "num_words =  StandardScaler()\n",
        "X_train_num_words_q1 = num_words.fit_transform(df['q1len'].values.reshape(-1, 1))\n",
        "X_train_num_words_q2 = num_words.fit_transform(df['q2len'].values.reshape(-1, 1))\n",
        "X_test_num_words_q1 = num_words.transform(df_test['q1len'].values.reshape(-1, 1))\n",
        "X_test_num_words_q2 = num_words.transform(df_test['q2len'].values.reshape(-1, 1))\n",
        "\n",
        "\n",
        "# number of unique words\n",
        "num_unique_words =  StandardScaler()\n",
        "X_train_num_unique_words_q1 = num_unique_words.fit_transform(df['q1_n_words'].values.reshape(-1, 1))\n",
        "X_train_num_unique_words_q2 = num_unique_words.fit_transform(df['q2_n_words'].values.reshape(-1, 1))\n",
        "X_test_num_unique_words_q1 = num_unique_words.transform(df_test['q1_n_words'].values.reshape(-1, 1))\n",
        "X_test_num_unique_words_q2 = num_unique_words.transform(df_test['q2_n_words'].values.reshape(-1, 1))\n",
        "\n",
        "\n",
        "# common words\n",
        "num_char =  StandardScaler()\n",
        "X_train_word_common = num_char.fit_transform(df['word_common'].values.reshape(-1, 1))\n",
        "X_test_word_common = num_char.transform(df_test['word_common'].values.reshape(-1, 1))\n",
        "\n",
        "# total words\n",
        "num_char =  StandardScaler()\n",
        "X_train_word_total = num_char.fit_transform(df['word_total'].values.reshape(-1, 1))\n",
        "X_test_word_total = num_char.transform(df_test['word_total'].values.reshape(-1, 1))\n",
        "\n",
        "# shared words\n",
        "num_char =  StandardScaler()\n",
        "X_train_word_share = num_char.fit_transform(df['word_share'].values.reshape(-1, 1))\n",
        "X_test_word_share = num_char.transform(df_test['word_share'].values.reshape(-1, 1))\n",
        "\n",
        "# number of stopwords\n",
        "num_stopwords =  StandardScaler()\n",
        "X_train_num_stopwords_q1 = num_stopwords.fit_transform(df['q1_n_stopwords'].values.reshape(-1, 1))\n",
        "X_train_num_stopwords_q2 = num_stopwords.fit_transform(df['q2_n_stopwords'].values.reshape(-1, 1))\n",
        "X_test_num_stopwords_q1 = num_stopwords.transform(df_test['q1_n_stopwords'].values.reshape(-1, 1))\n",
        "X_test_num_stopwords_q2 = num_stopwords.transform(df_test['q2_n_stopwords'].values.reshape(-1, 1))\n",
        "\n",
        "print()\n"
      ],
      "execution_count": 25,
      "outputs": [
        {
          "output_type": "stream",
          "text": [
            "\n"
          ],
          "name": "stdout"
        }
      ]
    },
    {
      "cell_type": "code",
      "metadata": {
        "colab": {
          "base_uri": "https://localhost:8080/"
        },
        "id": "SCcEo8mSJBJy",
        "outputId": "6d92f6fb-d8fd-4c75-b915-114c3e030511"
      },
      "source": [
        "print(X_train_num_stopwords_q1.shape, X_train_num_stopwords_q2.shape)\n",
        "print(X_train_num_unique_words_q1.shape, X_train_num_unique_words_q2.shape)\n",
        "print(X_train_num_words_q1.shape, X_train_num_words_q2.shape)\n",
        "print(X_train_word_common.shape)\n",
        "print(X_train_word_total.shape)\n",
        "print(X_train_word_share.shape)"
      ],
      "execution_count": 26,
      "outputs": [
        {
          "output_type": "stream",
          "text": [
            "(283002, 1) (283002, 1)\n",
            "(283002, 1) (283002, 1)\n",
            "(283002, 1) (283002, 1)\n",
            "(283002, 1)\n",
            "(283002, 1)\n",
            "(283002, 1)\n"
          ],
          "name": "stdout"
        }
      ]
    },
    {
      "cell_type": "markdown",
      "metadata": {
        "id": "65fmukn7D1FQ"
      },
      "source": [
        "**Logistic Regression**"
      ]
    },
    {
      "cell_type": "code",
      "metadata": {
        "colab": {
          "base_uri": "https://localhost:8080/",
          "height": 326
        },
        "id": "7zk5DRz_4fS8",
        "outputId": "1f0e5aca-6b0e-4abf-bedf-4061083db74d"
      },
      "source": [
        "def train_params(min_df = 100,ngrams = 1,analyzer = 'word',train = df, test=df_test):\n",
        "  start_time = time.time()\n",
        "  print('BOW and logistic regression')\n",
        "  BOW = getBOW(train, min_df=min_df,ngrams = ngrams,analyzer = analyzer)\n",
        "  trainq1_trans = BOW.transform(train['Question1'].values.astype('U'))\n",
        "  trainq2_trans = BOW.transform(train['Question2'].values.astype('U'))\n",
        "  labels = train['IsDuplicate'].values\n",
        "\n",
        "  print(trainq1_trans.shape, trainq2_trans.shape)\n",
        "\n",
        "  # Stacking features \n",
        "\n",
        "  X = scipy.sparse.hstack((\n",
        "      trainq1_trans,\n",
        "      trainq2_trans,\n",
        "      X_train_num_words_q1,\n",
        "      X_train_num_words_q2,\n",
        "      X_train_num_unique_words_q1,\n",
        "      X_train_num_unique_words_q2,\n",
        "      X_train_num_stopwords_q1,\n",
        "      X_train_num_stopwords_q2,\n",
        "      X_train_word_share,\n",
        "      X_train_word_common,\n",
        "      X_train_word_total,\n",
        "      \n",
        "  ))\n",
        "  print(X.shape, labels.shape)\n",
        "\n",
        "  y = labels\n",
        "\n",
        "  model = linear_model.LogisticRegression(n_jobs=4,C=0.5)\n",
        "\n",
        "  print('5-Fold Cross Validation')\n",
        "  scoring=['accuracy','precision_macro', 'recall_macro', 'f1_macro']\n",
        "  scores = cross_validate(model, X, y, cv=5, n_jobs=4, scoring=scoring) \n",
        "  lgr_res = pd.DataFrame.from_dict(scores) \n",
        "  res = calculate_statistic_metrics(lgr_res, res_mean, 'Logistic Regression', columnNum)\n",
        "  display(res)        \n",
        "  \n",
        "  print('fitting ...')\n",
        "  model.fit(X,y)\n",
        "\n",
        "  BOW = getBOW(train, min_df=min_df,ngrams = ngrams,analyzer = analyzer)\n",
        "  testq1_trans = BOW.transform(test['Question1'].values.astype('U'))\n",
        "  testq2_trans = BOW.transform(test['Question2'].values.astype('U'))\n",
        "  \n",
        "  X_test = scipy.sparse.hstack((\n",
        "    testq1_trans,\n",
        "    testq2_trans,\n",
        "    X_test_num_words_q1,\n",
        "    X_test_num_words_q2,\n",
        "    X_test_num_unique_words_q1,\n",
        "    X_test_num_unique_words_q2,\n",
        "    X_test_num_stopwords_q1,\n",
        "    X_test_num_stopwords_q2,\n",
        "    X_test_word_share,\n",
        "    X_test_word_common,\n",
        "    X_test_word_total,\n",
        "  ))\n",
        "  \n",
        "  print('predicting ...')\n",
        "  y_pred = model.predict(X_test)\n",
        "\n",
        "  lgr_pred_df = create_file(test, y_pred, 'LGR_pred')\n",
        "\n",
        "  end_time =time.time()\n",
        "  print(\"total time elapsed is {}\".format(end_time-start_time))\n",
        "\n",
        "  return \n",
        "\n",
        "train_params()"
      ],
      "execution_count": 27,
      "outputs": [
        {
          "output_type": "stream",
          "text": [
            "BOW and logistic regression\n",
            "Vocabulary size is 57887\n",
            "(283002, 57887) (283002, 57887)\n",
            "(283002, 115783) (283002,)\n",
            "5-Fold Cross Validation\n"
          ],
          "name": "stdout"
        },
        {
          "output_type": "display_data",
          "data": {
            "text/html": [
              "<div>\n",
              "<style scoped>\n",
              "    .dataframe tbody tr th:only-of-type {\n",
              "        vertical-align: middle;\n",
              "    }\n",
              "\n",
              "    .dataframe tbody tr th {\n",
              "        vertical-align: top;\n",
              "    }\n",
              "\n",
              "    .dataframe thead th {\n",
              "        text-align: right;\n",
              "    }\n",
              "</style>\n",
              "<table border=\"1\" class=\"dataframe\">\n",
              "  <thead>\n",
              "    <tr style=\"text-align: right;\">\n",
              "      <th>Statistic Measure</th>\n",
              "      <th>Logistic Regression</th>\n",
              "    </tr>\n",
              "  </thead>\n",
              "  <tbody>\n",
              "    <tr>\n",
              "      <th>Accuracy</th>\n",
              "      <td>0.778143</td>\n",
              "    </tr>\n",
              "    <tr>\n",
              "      <th>Precision</th>\n",
              "      <td>0.764295</td>\n",
              "    </tr>\n",
              "    <tr>\n",
              "      <th>Recall</th>\n",
              "      <td>0.753096</td>\n",
              "    </tr>\n",
              "    <tr>\n",
              "      <th>F-measure</th>\n",
              "      <td>0.757612</td>\n",
              "    </tr>\n",
              "  </tbody>\n",
              "</table>\n",
              "</div>"
            ],
            "text/plain": [
              "Statistic Measure  Logistic Regression\n",
              "Accuracy                      0.778143\n",
              "Precision                     0.764295\n",
              "Recall                        0.753096\n",
              "F-measure                     0.757612"
            ]
          },
          "metadata": {
            "tags": []
          }
        },
        {
          "output_type": "stream",
          "text": [
            "fitting ...\n",
            "Vocabulary size is 57887\n",
            "predicting ...\n",
            "total time elapsed is 78.26466965675354\n"
          ],
          "name": "stdout"
        }
      ]
    },
    {
      "cell_type": "markdown",
      "metadata": {
        "id": "QBFlYPkCDtuy"
      },
      "source": [
        "**Linear SVM**"
      ]
    },
    {
      "cell_type": "code",
      "metadata": {
        "colab": {
          "base_uri": "https://localhost:8080/",
          "height": 292
        },
        "id": "jyfZCjtTDvtV",
        "outputId": "eaaa5732-be7a-4257-dac8-8a6784e778f4"
      },
      "source": [
        "def train_params(min_df = 100,ngrams = 1,analyzer = 'word',train = df, test = df_test):\r\n",
        "  start_time = time.time()\r\n",
        "  print('BOW and Linear SVM')\r\n",
        "  BOW = getBOW(train, min_df=min_df,ngrams = ngrams,analyzer = analyzer)\r\n",
        "  trainq1_trans = BOW.transform(train['Question1'].values.astype('U'))\r\n",
        "  trainq2_trans = BOW.transform(train['Question2'].values.astype('U'))\r\n",
        "  labels = train['IsDuplicate'].values\r\n",
        "\r\n",
        "  X = scipy.sparse.hstack((\r\n",
        "      trainq1_trans,\r\n",
        "      trainq2_trans,\r\n",
        "      X_train_num_words_q1,\r\n",
        "      X_train_num_words_q2,\r\n",
        "      X_train_num_unique_words_q1,\r\n",
        "      X_train_num_unique_words_q2,\r\n",
        "      X_train_num_stopwords_q1,\r\n",
        "      X_train_num_stopwords_q2,\r\n",
        "      X_train_word_share,\r\n",
        "      X_train_word_common,\r\n",
        "      X_train_word_total,\r\n",
        "      \r\n",
        "  ))\r\n",
        "  y = labels  \r\n",
        "\r\n",
        "  model = linear_model.SGDClassifier(n_jobs=4, penalty='l2', loss='hinge')\r\n",
        "\r\n",
        "  print('5-Fold Cross Validation')\r\n",
        "  scoring=['accuracy','precision_macro', 'recall_macro', 'f1_macro']\r\n",
        "  scores = cross_validate(model, X, y, cv=5, n_jobs=4, scoring=scoring) \r\n",
        "  svm_res = pd.DataFrame.from_dict(scores) \r\n",
        "  res = calculate_statistic_metrics(svm_res, res_mean, 'SVM', columnNum)\r\n",
        "  display(res)        \r\n",
        "  \r\n",
        "  print('fitting ...')\r\n",
        "  model.fit(X,y)\r\n",
        "\r\n",
        "  BOW = getBOW(train, min_df=min_df,ngrams = ngrams,analyzer = analyzer)\r\n",
        "  testq1_trans = BOW.transform(test['Question1'].values.astype('U'))\r\n",
        "  testq2_trans = BOW.transform(test['Question2'].values.astype('U'))\r\n",
        "  X_test = scipy.sparse.hstack((\r\n",
        "    testq1_trans,\r\n",
        "    testq2_trans,\r\n",
        "    X_test_num_words_q1,\r\n",
        "    X_test_num_words_q2,\r\n",
        "    X_test_num_unique_words_q1,\r\n",
        "    X_test_num_unique_words_q2,\r\n",
        "    X_test_num_stopwords_q1,\r\n",
        "    X_test_num_stopwords_q2,\r\n",
        "    X_test_word_share,\r\n",
        "    X_test_word_common,\r\n",
        "    X_test_word_total,\r\n",
        "  ))\r\n",
        "  print('predicting ...')\r\n",
        "  y_pred = model.predict(X_test)\r\n",
        "\r\n",
        "  svm_pred_df = create_file(test, y_pred, 'SVM_pred')\r\n",
        "\r\n",
        "  end_time = time.time()\r\n",
        "  print(\"total time elapsed is {}\".format(end_time-start_time))\r\n",
        "  \r\n",
        "  return \r\n",
        "\r\n",
        "train_params()"
      ],
      "execution_count": 28,
      "outputs": [
        {
          "output_type": "stream",
          "text": [
            "BOW and Linear SVM\n",
            "Vocabulary size is 57887\n",
            "5-Fold Cross Validation\n"
          ],
          "name": "stdout"
        },
        {
          "output_type": "display_data",
          "data": {
            "text/html": [
              "<div>\n",
              "<style scoped>\n",
              "    .dataframe tbody tr th:only-of-type {\n",
              "        vertical-align: middle;\n",
              "    }\n",
              "\n",
              "    .dataframe tbody tr th {\n",
              "        vertical-align: top;\n",
              "    }\n",
              "\n",
              "    .dataframe thead th {\n",
              "        text-align: right;\n",
              "    }\n",
              "</style>\n",
              "<table border=\"1\" class=\"dataframe\">\n",
              "  <thead>\n",
              "    <tr style=\"text-align: right;\">\n",
              "      <th>Statistic Measure</th>\n",
              "      <th>Logistic Regression</th>\n",
              "      <th>SVM</th>\n",
              "    </tr>\n",
              "  </thead>\n",
              "  <tbody>\n",
              "    <tr>\n",
              "      <th>Accuracy</th>\n",
              "      <td>0.778143</td>\n",
              "      <td>0.776178</td>\n",
              "    </tr>\n",
              "    <tr>\n",
              "      <th>Precision</th>\n",
              "      <td>0.764295</td>\n",
              "      <td>0.761726</td>\n",
              "    </tr>\n",
              "    <tr>\n",
              "      <th>Recall</th>\n",
              "      <td>0.753096</td>\n",
              "      <td>0.753216</td>\n",
              "    </tr>\n",
              "    <tr>\n",
              "      <th>F-measure</th>\n",
              "      <td>0.757612</td>\n",
              "      <td>0.756629</td>\n",
              "    </tr>\n",
              "  </tbody>\n",
              "</table>\n",
              "</div>"
            ],
            "text/plain": [
              "Statistic Measure  Logistic Regression       SVM\n",
              "Accuracy                      0.778143  0.776178\n",
              "Precision                     0.764295  0.761726\n",
              "Recall                        0.753096  0.753216\n",
              "F-measure                     0.757612  0.756629"
            ]
          },
          "metadata": {
            "tags": []
          }
        },
        {
          "output_type": "stream",
          "text": [
            "fitting ...\n",
            "Vocabulary size is 57887\n",
            "predicting ...\n",
            "total time elapsed is 43.71805381774902\n"
          ],
          "name": "stdout"
        }
      ]
    },
    {
      "cell_type": "markdown",
      "metadata": {
        "id": "YOWEk7pIHnQz"
      },
      "source": [
        "**XGBoost**"
      ]
    },
    {
      "cell_type": "code",
      "metadata": {
        "id": "5S3ms6JPHmRA"
      },
      "source": [
        "import xgboost as xgb"
      ],
      "execution_count": 29,
      "outputs": []
    },
    {
      "cell_type": "code",
      "metadata": {
        "colab": {
          "base_uri": "https://localhost:8080/",
          "height": 292
        },
        "id": "iUVk3iVRHwbH",
        "outputId": "89c94d4e-574f-4199-9d3a-9aec7629833b"
      },
      "source": [
        "def train_params(min_df = 100,ngrams = 1,analyzer = 'word',train = df, test = df_test):\r\n",
        "  start_time = time.time()\r\n",
        "  print('BOW and XGBoost')\r\n",
        "  BOW = getBOW(train, min_df=min_df,ngrams = ngrams,analyzer = analyzer)\r\n",
        "  trainq1_trans = BOW.transform(train['Question1'].values.astype('U'))\r\n",
        "  trainq2_trans = BOW.transform(train['Question2'].values.astype('U'))\r\n",
        "  labels = train['IsDuplicate'].values\r\n",
        "\r\n",
        "  X = scipy.sparse.hstack((\r\n",
        "      trainq1_trans,\r\n",
        "      trainq2_trans,\r\n",
        "      X_train_num_words_q1,\r\n",
        "      X_train_num_words_q2,\r\n",
        "      X_train_num_unique_words_q1,\r\n",
        "      X_train_num_unique_words_q2,\r\n",
        "      X_train_num_stopwords_q1,\r\n",
        "      X_train_num_stopwords_q2,\r\n",
        "      X_train_word_share,\r\n",
        "      X_train_word_common,\r\n",
        "      X_train_word_total,\r\n",
        "      \r\n",
        "  ))\r\n",
        "  \r\n",
        "  y = labels  \r\n",
        "\r\n",
        "  model =  xgb.XGBClassifier( learning_rate =0.1, n_estimators=1000, max_depth=6, \r\n",
        "                             min_child_weight=1, gamma=0, subsample=0.8, colsample_bytree=0.8, \r\n",
        "                             objective= 'binary:logistic', nthread=-1, scale_pos_weight=1, seed=27, eval_metric='error')\r\n",
        "  print('5-Fold Cross Validation')\r\n",
        "  scoring=['accuracy','precision_macro', 'recall_macro', 'f1_macro']\r\n",
        "  scores = cross_validate(model, X, y, cv=5, n_jobs=4, scoring=scoring) \r\n",
        "  xgb_res = pd.DataFrame.from_dict(scores) \r\n",
        "  res = calculate_statistic_metrics(xgb_res, res_mean, 'XGB', columnNum)\r\n",
        "  display(res)        \r\n",
        "  \r\n",
        "  print('fitting ...')\r\n",
        "  model.fit(X,y)\r\n",
        "\r\n",
        "  BOW = getBOW(train, min_df=min_df,ngrams = ngrams,analyzer = analyzer)\r\n",
        "  testq1_trans = BOW.transform(test['Question1'].values.astype('U'))\r\n",
        "  testq2_trans = BOW.transform(test['Question2'].values.astype('U'))\r\n",
        "  X_test = scipy.sparse.hstack((\r\n",
        "    testq1_trans,\r\n",
        "    testq2_trans,\r\n",
        "    X_test_num_words_q1,\r\n",
        "    X_test_num_words_q2,\r\n",
        "    X_test_num_unique_words_q1,\r\n",
        "    X_test_num_unique_words_q2,\r\n",
        "    X_test_num_stopwords_q1,\r\n",
        "    X_test_num_stopwords_q2,\r\n",
        "    X_test_word_share,\r\n",
        "    X_test_word_common,\r\n",
        "    X_test_word_total,\r\n",
        "  ))\r\n",
        "  print('predicting ...')\r\n",
        "  y_pred = model.predict(X_test)\r\n",
        "\r\n",
        "  xgb_pred_df = create_file(test, y_pred, 'XGB_pred')\r\n",
        "\r\n",
        "  end_time = time.time()\r\n",
        "  print(\"total time elapsed is {}\".format(end_time-start_time))\r\n",
        "\r\n",
        "  return \r\n",
        "\r\n",
        "train_params()"
      ],
      "execution_count": 30,
      "outputs": [
        {
          "output_type": "stream",
          "text": [
            "BOW and XGBoost\n",
            "Vocabulary size is 57887\n",
            "5-Fold Cross Validation\n"
          ],
          "name": "stdout"
        },
        {
          "output_type": "display_data",
          "data": {
            "text/html": [
              "<div>\n",
              "<style scoped>\n",
              "    .dataframe tbody tr th:only-of-type {\n",
              "        vertical-align: middle;\n",
              "    }\n",
              "\n",
              "    .dataframe tbody tr th {\n",
              "        vertical-align: top;\n",
              "    }\n",
              "\n",
              "    .dataframe thead th {\n",
              "        text-align: right;\n",
              "    }\n",
              "</style>\n",
              "<table border=\"1\" class=\"dataframe\">\n",
              "  <thead>\n",
              "    <tr style=\"text-align: right;\">\n",
              "      <th>Statistic Measure</th>\n",
              "      <th>Logistic Regression</th>\n",
              "      <th>SVM</th>\n",
              "      <th>XGB</th>\n",
              "    </tr>\n",
              "  </thead>\n",
              "  <tbody>\n",
              "    <tr>\n",
              "      <th>Accuracy</th>\n",
              "      <td>0.778143</td>\n",
              "      <td>0.776178</td>\n",
              "      <td>0.802411</td>\n",
              "    </tr>\n",
              "    <tr>\n",
              "      <th>Precision</th>\n",
              "      <td>0.764295</td>\n",
              "      <td>0.761726</td>\n",
              "      <td>0.789027</td>\n",
              "    </tr>\n",
              "    <tr>\n",
              "      <th>Recall</th>\n",
              "      <td>0.753096</td>\n",
              "      <td>0.753216</td>\n",
              "      <td>0.785513</td>\n",
              "    </tr>\n",
              "    <tr>\n",
              "      <th>F-measure</th>\n",
              "      <td>0.757612</td>\n",
              "      <td>0.756629</td>\n",
              "      <td>0.787161</td>\n",
              "    </tr>\n",
              "  </tbody>\n",
              "</table>\n",
              "</div>"
            ],
            "text/plain": [
              "Statistic Measure  Logistic Regression       SVM       XGB\n",
              "Accuracy                      0.778143  0.776178  0.802411\n",
              "Precision                     0.764295  0.761726  0.789027\n",
              "Recall                        0.753096  0.753216  0.785513\n",
              "F-measure                     0.757612  0.756629  0.787161"
            ]
          },
          "metadata": {
            "tags": []
          }
        },
        {
          "output_type": "stream",
          "text": [
            "fitting ...\n",
            "Vocabulary size is 57887\n",
            "predicting ...\n",
            "total time elapsed is 4986.245163679123\n"
          ],
          "name": "stdout"
        }
      ]
    }
  ]
}