{
  "nbformat": 4,
  "nbformat_minor": 0,
  "metadata": {
    "colab": {
      "name": "Q2A.ipynb",
      "provenance": []
    },
    "kernelspec": {
      "name": "python3",
      "display_name": "Python 3"
    }
  },
  "cells": [
    {
      "cell_type": "code",
      "metadata": {
        "id": "ZNB548OE2emb"
      },
      "source": [
        "import pandas as pd "
      ],
      "execution_count": 1,
      "outputs": []
    },
    {
      "cell_type": "code",
      "metadata": {
        "id": "vSNozrocH7-n"
      },
      "source": [
        "corpus_test = pd.read_csv(\"/content/drive/MyDrive/Colab Notebooks/corpusTest.csv\")\n",
        "#corpus_test"
      ],
      "execution_count": 2,
      "outputs": []
    },
    {
      "cell_type": "code",
      "metadata": {
        "id": "7YT8MrxSI1C0"
      },
      "source": [
        "corpus_train = pd.read_csv(\"/content/drive/MyDrive/Colab Notebooks/corpusTrain.csv\")\n",
        "#corpus_train"
      ],
      "execution_count": 3,
      "outputs": []
    },
    {
      "cell_type": "code",
      "metadata": {
        "id": "YzV1Wz2Pb8Ai"
      },
      "source": [
        "corpus_test['Content'] = corpus_test['Content'].str.strip()\n",
        "corpus_test['Content'] = corpus_test['Content'].str.lower()\n",
        "\n",
        "corpus_train['Content'] = corpus_train['Content'].str.strip()\n",
        "corpus_train['Content'] = corpus_train['Content'].str.lower()"
      ],
      "execution_count": 16,
      "outputs": []
    },
    {
      "cell_type": "code",
      "metadata": {
        "id": "AmeRnYxrceol"
      },
      "source": [
        "spec_chars = [\"!\", '\"', \"#\", \"%\", \"&\", \"'\", \"(\", \")\", \"*\", \"+\", \",\", \"-\", \".\", \"/\", \":\", \";\", \"<\",\n",
        "              \"=\", \">\", \"?\", \"@\", \"[\", \"\\\\\", \"]\", \"^\", \"_\", \"`\", \"{\", \"|\", \"}\", \"~\", \"–\"]\n",
        "\n",
        "for char in spec_chars:\n",
        "    corpus_test['Content'] = corpus_test['Content'].str.replace(char, '')\n",
        "\n",
        "for char in spec_chars:\n",
        "    corpus_train['Content'] = corpus_train['Content'].str.replace(char, '')"
      ],
      "execution_count": 17,
      "outputs": []
    },
    {
      "cell_type": "code",
      "metadata": {
        "id": "dvNmkxxgVfIh"
      },
      "source": [
        "from sklearn.feature_extraction.text import CountVectorizer"
      ],
      "execution_count": 18,
      "outputs": []
    },
    {
      "cell_type": "code",
      "metadata": {
        "colab": {
          "base_uri": "https://localhost:8080/"
        },
        "id": "wp_bTw_OVg-g",
        "outputId": "4a54b668-de84-4bbc-8f04-4479f10dbcd5"
      },
      "source": [
        "vectorizer = CountVectorizer(lowercase = True, stop_words = 'english', max_features = 1000)\n",
        "vectorizer.fit(corpus_test['Content'])\n",
        "vectorized_test_content = vectorizer.transform(corpus_test['Content'])\n",
        "print(vectorized_test_content.shape)"
      ],
      "execution_count": 19,
      "outputs": [
        {
          "output_type": "stream",
          "text": [
            "(5374, 1000)\n"
          ],
          "name": "stdout"
        }
      ]
    },
    {
      "cell_type": "code",
      "metadata": {
        "colab": {
          "base_uri": "https://localhost:8080/"
        },
        "id": "giZ0bsM8KAgY",
        "outputId": "992e8af5-a3df-4dd8-d0ef-a43122526a0d"
      },
      "source": [
        "vectorizer = CountVectorizer(lowercase = True, stop_words = 'english', max_features = 1000)\n",
        "vectorizer.fit(corpus_train['Content'])\n",
        "vectorized_train_content = vectorizer.transform(corpus_train['Content'])\n",
        "print(vectorized_train_content.shape)"
      ],
      "execution_count": 6,
      "outputs": [
        {
          "output_type": "stream",
          "text": [
            "(531990, 1000)\n"
          ],
          "name": "stdout"
        }
      ]
    },
    {
      "cell_type": "code",
      "metadata": {
        "colab": {
          "base_uri": "https://localhost:8080/"
        },
        "id": "t172lVSUGcAM",
        "outputId": "96dffdc9-b4e3-45a2-d0f9-e5422f53c7dc"
      },
      "source": [
        "corpus_compined = pd.DataFrame(corpus_test['Content'].append(corpus_train['Content'], ignore_index = True)) \n",
        "corpus_compined['Content']"
      ],
      "execution_count": 7,
      "outputs": [
        {
          "output_type": "execute_result",
          "data": {
            "text/plain": [
              "0                     How do I get good marks in college?\\n\n",
              "1         Can an android app use SMS only to communicate...\n",
              "2         What small detail from an Indian movie do you ...\n",
              "3         Why can not Hindu women be the soldier of Hind...\n",
              "4         How would you write out twelve lakh twelve tho...\n",
              "                                ...                        \n",
              "537359                              Why is SEO important?\\n\n",
              "537360    Who is the best employer for Robotic Process a...\n",
              "537361    Is it possible to cure the holes caused by pim...\n",
              "537362              How many employees does Infosys have?\\n\n",
              "537363    What is the maximum size for an attachment in ...\n",
              "Name: Content, Length: 537364, dtype: object"
            ]
          },
          "metadata": {
            "tags": []
          },
          "execution_count": 7
        }
      ]
    },
    {
      "cell_type": "code",
      "metadata": {
        "id": "cFM4gCczJ_zM"
      },
      "source": [
        "vectorizer = CountVectorizer(lowercase = True, stop_words = 'english', max_features = 1000)\n",
        "vectorizer.fit(corpus_compined['Content'])\n",
        "vectorized_combined_content = vectorizer.transform(corpus_compined['Content'])\n",
        "print(vectorized_combined_content.shape)\n",
        "print(vectorized_combined_content.toarray()[0])"
      ],
      "execution_count": null,
      "outputs": []
    },
    {
      "cell_type": "markdown",
      "metadata": {
        "id": "GjSS64Pfu_fN"
      },
      "source": [
        "Exact Cosine Similarity"
      ]
    },
    {
      "cell_type": "code",
      "metadata": {
        "id": "Jx-zFgcDg2i9"
      },
      "source": [
        "from sklearn.metrics.pairwise import cosine_similarity"
      ],
      "execution_count": 9,
      "outputs": []
    },
    {
      "cell_type": "code",
      "metadata": {
        "colab": {
          "base_uri": "https://localhost:8080/"
        },
        "id": "XutjFOEBniAx",
        "outputId": "71cad0b0-a2e0-4ed8-aa62-4019c2300253"
      },
      "source": [
        "#need to be applied for every train row, index >= 5374\n",
        "c = cosine_similarity(vectorized_combined_content[0], vectorized_combined_content[5374])\n",
        "print(c)"
      ],
      "execution_count": 13,
      "outputs": [
        {
          "output_type": "stream",
          "text": [
            "[[0.]]\n"
          ],
          "name": "stdout"
        }
      ]
    },
    {
      "cell_type": "markdown",
      "metadata": {
        "id": "AwWAqoiovLUk"
      },
      "source": [
        "Exact Jaccard Similarity"
      ]
    },
    {
      "cell_type": "code",
      "metadata": {
        "id": "EoKT9FIsY_4D"
      },
      "source": [
        "import numpy as np\n",
        "from sklearn.metrics import jaccard_score"
      ],
      "execution_count": 11,
      "outputs": []
    },
    {
      "cell_type": "code",
      "metadata": {
        "colab": {
          "base_uri": "https://localhost:8080/"
        },
        "id": "xscLqKQpvQ1s",
        "outputId": "4090bf31-0936-456a-cb25-d0d4dc51b7e1"
      },
      "source": [
        "temp_arr = vectorized_combined_content.toarray()\n",
        "c = jaccard_score(temp_arr[5374], temp_arr[0])\n",
        "print(c)"
      ],
      "execution_count": 20,
      "outputs": [
        {
          "output_type": "stream",
          "text": [
            "0.0\n"
          ],
          "name": "stdout"
        }
      ]
    },
    {
      "cell_type": "markdown",
      "metadata": {
        "id": "6hQEC6VVP11P"
      },
      "source": [
        "MinHash LSH"
      ]
    },
    {
      "cell_type": "code",
      "metadata": {
        "id": "A28ppIbOQBVV"
      },
      "source": [
        "!pip install --upgrade datasketch"
      ],
      "execution_count": null,
      "outputs": []
    },
    {
      "cell_type": "code",
      "metadata": {
        "id": "M5RAFcNHaNOS"
      },
      "source": [
        "from datasketch import MinHash, MinHashLSH"
      ],
      "execution_count": 15,
      "outputs": []
    },
    {
      "cell_type": "code",
      "metadata": {
        "id": "SVpo3yBRP4tj"
      },
      "source": [
        "#minhash before vectorization \n",
        "'''\n",
        "m1 = MinHash(num_perm=128)\n",
        "m2 = MinHash(num_perm=128)\n",
        "m3 = MinHash(num_perm=128)\n",
        "for d in set1:\n",
        "    m1.update(d.encode('utf8'))\n",
        "for d in set2:\n",
        "    m2.update(d.encode('utf8'))\n",
        "for d in set3:\n",
        "    m3.update(d.encode('utf8'))\n",
        "\n",
        "# Create LSH index\n",
        "lsh = MinHashLSH(threshold=0.5, num_perm=128)\n",
        "lsh.insert(\"m2\", m2)\n",
        "lsh.insert(\"m3\", m3)\n",
        "result = lsh.query(m1)\n",
        "print(\"Approximate neighbours with Jaccard similarity > 0.5\", result)\n",
        "'''\n"
      ],
      "execution_count": null,
      "outputs": []
    }
  ]
}