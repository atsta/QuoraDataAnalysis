{
  "nbformat": 4,
  "nbformat_minor": 0,
  "metadata": {
    "colab": {
      "name": "Q2A.ipynb",
      "provenance": [],
      "collapsed_sections": [],
      "toc_visible": true
    },
    "kernelspec": {
      "display_name": "Python 3",
      "name": "python3"
    },
    "widgets": {
      "application/vnd.jupyter.widget-state+json": {
        "d6be82ce53b04ceca4cc21505e3412a3": {
          "model_module": "@jupyter-widgets/controls",
          "model_name": "HBoxModel",
          "state": {
            "_view_name": "HBoxView",
            "_dom_classes": [],
            "_model_name": "HBoxModel",
            "_view_module": "@jupyter-widgets/controls",
            "_model_module_version": "1.5.0",
            "_view_count": null,
            "_view_module_version": "1.5.0",
            "box_style": "",
            "layout": "IPY_MODEL_52a7b8f5453d4bf09584beaf01b397f5",
            "_model_module": "@jupyter-widgets/controls",
            "children": [
              "IPY_MODEL_981bc0c6699f41d697c39b472e955241",
              "IPY_MODEL_958addc1a6ce4cc3b1348778d464ea7d"
            ]
          }
        },
        "52a7b8f5453d4bf09584beaf01b397f5": {
          "model_module": "@jupyter-widgets/base",
          "model_name": "LayoutModel",
          "state": {
            "_view_name": "LayoutView",
            "grid_template_rows": null,
            "right": null,
            "justify_content": null,
            "_view_module": "@jupyter-widgets/base",
            "overflow": null,
            "_model_module_version": "1.2.0",
            "_view_count": null,
            "flex_flow": null,
            "width": null,
            "min_width": null,
            "border": null,
            "align_items": null,
            "bottom": null,
            "_model_module": "@jupyter-widgets/base",
            "top": null,
            "grid_column": null,
            "overflow_y": null,
            "overflow_x": null,
            "grid_auto_flow": null,
            "grid_area": null,
            "grid_template_columns": null,
            "flex": null,
            "_model_name": "LayoutModel",
            "justify_items": null,
            "grid_row": null,
            "max_height": null,
            "align_content": null,
            "visibility": null,
            "align_self": null,
            "height": null,
            "min_height": null,
            "padding": null,
            "grid_auto_rows": null,
            "grid_gap": null,
            "max_width": null,
            "order": null,
            "_view_module_version": "1.2.0",
            "grid_template_areas": null,
            "object_position": null,
            "object_fit": null,
            "grid_auto_columns": null,
            "margin": null,
            "display": null,
            "left": null
          }
        },
        "981bc0c6699f41d697c39b472e955241": {
          "model_module": "@jupyter-widgets/controls",
          "model_name": "FloatProgressModel",
          "state": {
            "_view_name": "ProgressView",
            "style": "IPY_MODEL_d46a205ea4534d6b892e606391c9a4c0",
            "_dom_classes": [],
            "description": "100%",
            "_model_name": "FloatProgressModel",
            "bar_style": "success",
            "max": 531990,
            "_view_module": "@jupyter-widgets/controls",
            "_model_module_version": "1.5.0",
            "value": 531990,
            "_view_count": null,
            "_view_module_version": "1.5.0",
            "orientation": "horizontal",
            "min": 0,
            "description_tooltip": null,
            "_model_module": "@jupyter-widgets/controls",
            "layout": "IPY_MODEL_73ee2266f6284e4ba8db3778efabc135"
          }
        },
        "958addc1a6ce4cc3b1348778d464ea7d": {
          "model_module": "@jupyter-widgets/controls",
          "model_name": "HTMLModel",
          "state": {
            "_view_name": "HTMLView",
            "style": "IPY_MODEL_dc4a0a1100184304ae120a242368d080",
            "_dom_classes": [],
            "description": "",
            "_model_name": "HTMLModel",
            "placeholder": "​",
            "_view_module": "@jupyter-widgets/controls",
            "_model_module_version": "1.5.0",
            "value": " 531990/531990 [00:34&lt;00:00, 15517.15it/s]",
            "_view_count": null,
            "_view_module_version": "1.5.0",
            "description_tooltip": null,
            "_model_module": "@jupyter-widgets/controls",
            "layout": "IPY_MODEL_ca09140e1c404d10b089adcd1c05fdb0"
          }
        },
        "d46a205ea4534d6b892e606391c9a4c0": {
          "model_module": "@jupyter-widgets/controls",
          "model_name": "ProgressStyleModel",
          "state": {
            "_view_name": "StyleView",
            "_model_name": "ProgressStyleModel",
            "description_width": "initial",
            "_view_module": "@jupyter-widgets/base",
            "_model_module_version": "1.5.0",
            "_view_count": null,
            "_view_module_version": "1.2.0",
            "bar_color": null,
            "_model_module": "@jupyter-widgets/controls"
          }
        },
        "73ee2266f6284e4ba8db3778efabc135": {
          "model_module": "@jupyter-widgets/base",
          "model_name": "LayoutModel",
          "state": {
            "_view_name": "LayoutView",
            "grid_template_rows": null,
            "right": null,
            "justify_content": null,
            "_view_module": "@jupyter-widgets/base",
            "overflow": null,
            "_model_module_version": "1.2.0",
            "_view_count": null,
            "flex_flow": null,
            "width": null,
            "min_width": null,
            "border": null,
            "align_items": null,
            "bottom": null,
            "_model_module": "@jupyter-widgets/base",
            "top": null,
            "grid_column": null,
            "overflow_y": null,
            "overflow_x": null,
            "grid_auto_flow": null,
            "grid_area": null,
            "grid_template_columns": null,
            "flex": null,
            "_model_name": "LayoutModel",
            "justify_items": null,
            "grid_row": null,
            "max_height": null,
            "align_content": null,
            "visibility": null,
            "align_self": null,
            "height": null,
            "min_height": null,
            "padding": null,
            "grid_auto_rows": null,
            "grid_gap": null,
            "max_width": null,
            "order": null,
            "_view_module_version": "1.2.0",
            "grid_template_areas": null,
            "object_position": null,
            "object_fit": null,
            "grid_auto_columns": null,
            "margin": null,
            "display": null,
            "left": null
          }
        },
        "dc4a0a1100184304ae120a242368d080": {
          "model_module": "@jupyter-widgets/controls",
          "model_name": "DescriptionStyleModel",
          "state": {
            "_view_name": "StyleView",
            "_model_name": "DescriptionStyleModel",
            "description_width": "",
            "_view_module": "@jupyter-widgets/base",
            "_model_module_version": "1.5.0",
            "_view_count": null,
            "_view_module_version": "1.2.0",
            "_model_module": "@jupyter-widgets/controls"
          }
        },
        "ca09140e1c404d10b089adcd1c05fdb0": {
          "model_module": "@jupyter-widgets/base",
          "model_name": "LayoutModel",
          "state": {
            "_view_name": "LayoutView",
            "grid_template_rows": null,
            "right": null,
            "justify_content": null,
            "_view_module": "@jupyter-widgets/base",
            "overflow": null,
            "_model_module_version": "1.2.0",
            "_view_count": null,
            "flex_flow": null,
            "width": null,
            "min_width": null,
            "border": null,
            "align_items": null,
            "bottom": null,
            "_model_module": "@jupyter-widgets/base",
            "top": null,
            "grid_column": null,
            "overflow_y": null,
            "overflow_x": null,
            "grid_auto_flow": null,
            "grid_area": null,
            "grid_template_columns": null,
            "flex": null,
            "_model_name": "LayoutModel",
            "justify_items": null,
            "grid_row": null,
            "max_height": null,
            "align_content": null,
            "visibility": null,
            "align_self": null,
            "height": null,
            "min_height": null,
            "padding": null,
            "grid_auto_rows": null,
            "grid_gap": null,
            "max_width": null,
            "order": null,
            "_view_module_version": "1.2.0",
            "grid_template_areas": null,
            "object_position": null,
            "object_fit": null,
            "grid_auto_columns": null,
            "margin": null,
            "display": null,
            "left": null
          }
        },
        "ea0e7d32e1cd4deba19c552330362545": {
          "model_module": "@jupyter-widgets/controls",
          "model_name": "HBoxModel",
          "state": {
            "_view_name": "HBoxView",
            "_dom_classes": [],
            "_model_name": "HBoxModel",
            "_view_module": "@jupyter-widgets/controls",
            "_model_module_version": "1.5.0",
            "_view_count": null,
            "_view_module_version": "1.5.0",
            "box_style": "",
            "layout": "IPY_MODEL_7c15abb27878439eb715e9379c73908c",
            "_model_module": "@jupyter-widgets/controls",
            "children": [
              "IPY_MODEL_951a7d203b974b0d9bf9324270865030",
              "IPY_MODEL_96986676302c4bb4b8279a9a51b5f898"
            ]
          }
        },
        "7c15abb27878439eb715e9379c73908c": {
          "model_module": "@jupyter-widgets/base",
          "model_name": "LayoutModel",
          "state": {
            "_view_name": "LayoutView",
            "grid_template_rows": null,
            "right": null,
            "justify_content": null,
            "_view_module": "@jupyter-widgets/base",
            "overflow": null,
            "_model_module_version": "1.2.0",
            "_view_count": null,
            "flex_flow": null,
            "width": null,
            "min_width": null,
            "border": null,
            "align_items": null,
            "bottom": null,
            "_model_module": "@jupyter-widgets/base",
            "top": null,
            "grid_column": null,
            "overflow_y": null,
            "overflow_x": null,
            "grid_auto_flow": null,
            "grid_area": null,
            "grid_template_columns": null,
            "flex": null,
            "_model_name": "LayoutModel",
            "justify_items": null,
            "grid_row": null,
            "max_height": null,
            "align_content": null,
            "visibility": null,
            "align_self": null,
            "height": null,
            "min_height": null,
            "padding": null,
            "grid_auto_rows": null,
            "grid_gap": null,
            "max_width": null,
            "order": null,
            "_view_module_version": "1.2.0",
            "grid_template_areas": null,
            "object_position": null,
            "object_fit": null,
            "grid_auto_columns": null,
            "margin": null,
            "display": null,
            "left": null
          }
        },
        "951a7d203b974b0d9bf9324270865030": {
          "model_module": "@jupyter-widgets/controls",
          "model_name": "FloatProgressModel",
          "state": {
            "_view_name": "ProgressView",
            "style": "IPY_MODEL_218139e3d2a543389baa5b3dd979dcff",
            "_dom_classes": [],
            "description": "100%",
            "_model_name": "FloatProgressModel",
            "bar_style": "success",
            "max": 5374,
            "_view_module": "@jupyter-widgets/controls",
            "_model_module_version": "1.5.0",
            "value": 5374,
            "_view_count": null,
            "_view_module_version": "1.5.0",
            "orientation": "horizontal",
            "min": 0,
            "description_tooltip": null,
            "_model_module": "@jupyter-widgets/controls",
            "layout": "IPY_MODEL_bac634cfd3124bde9129730110a6566c"
          }
        },
        "96986676302c4bb4b8279a9a51b5f898": {
          "model_module": "@jupyter-widgets/controls",
          "model_name": "HTMLModel",
          "state": {
            "_view_name": "HTMLView",
            "style": "IPY_MODEL_f3d3831cbb004d82b7236e7cf52f5d29",
            "_dom_classes": [],
            "description": "",
            "_model_name": "HTMLModel",
            "placeholder": "​",
            "_view_module": "@jupyter-widgets/controls",
            "_model_module_version": "1.5.0",
            "value": " 5374/5374 [00:00&lt;00:00, 6466.96it/s]",
            "_view_count": null,
            "_view_module_version": "1.5.0",
            "description_tooltip": null,
            "_model_module": "@jupyter-widgets/controls",
            "layout": "IPY_MODEL_82d9935c214d4fa6a0faaeed40b6d06d"
          }
        },
        "218139e3d2a543389baa5b3dd979dcff": {
          "model_module": "@jupyter-widgets/controls",
          "model_name": "ProgressStyleModel",
          "state": {
            "_view_name": "StyleView",
            "_model_name": "ProgressStyleModel",
            "description_width": "initial",
            "_view_module": "@jupyter-widgets/base",
            "_model_module_version": "1.5.0",
            "_view_count": null,
            "_view_module_version": "1.2.0",
            "bar_color": null,
            "_model_module": "@jupyter-widgets/controls"
          }
        },
        "bac634cfd3124bde9129730110a6566c": {
          "model_module": "@jupyter-widgets/base",
          "model_name": "LayoutModel",
          "state": {
            "_view_name": "LayoutView",
            "grid_template_rows": null,
            "right": null,
            "justify_content": null,
            "_view_module": "@jupyter-widgets/base",
            "overflow": null,
            "_model_module_version": "1.2.0",
            "_view_count": null,
            "flex_flow": null,
            "width": null,
            "min_width": null,
            "border": null,
            "align_items": null,
            "bottom": null,
            "_model_module": "@jupyter-widgets/base",
            "top": null,
            "grid_column": null,
            "overflow_y": null,
            "overflow_x": null,
            "grid_auto_flow": null,
            "grid_area": null,
            "grid_template_columns": null,
            "flex": null,
            "_model_name": "LayoutModel",
            "justify_items": null,
            "grid_row": null,
            "max_height": null,
            "align_content": null,
            "visibility": null,
            "align_self": null,
            "height": null,
            "min_height": null,
            "padding": null,
            "grid_auto_rows": null,
            "grid_gap": null,
            "max_width": null,
            "order": null,
            "_view_module_version": "1.2.0",
            "grid_template_areas": null,
            "object_position": null,
            "object_fit": null,
            "grid_auto_columns": null,
            "margin": null,
            "display": null,
            "left": null
          }
        },
        "f3d3831cbb004d82b7236e7cf52f5d29": {
          "model_module": "@jupyter-widgets/controls",
          "model_name": "DescriptionStyleModel",
          "state": {
            "_view_name": "StyleView",
            "_model_name": "DescriptionStyleModel",
            "description_width": "",
            "_view_module": "@jupyter-widgets/base",
            "_model_module_version": "1.5.0",
            "_view_count": null,
            "_view_module_version": "1.2.0",
            "_model_module": "@jupyter-widgets/controls"
          }
        },
        "82d9935c214d4fa6a0faaeed40b6d06d": {
          "model_module": "@jupyter-widgets/base",
          "model_name": "LayoutModel",
          "state": {
            "_view_name": "LayoutView",
            "grid_template_rows": null,
            "right": null,
            "justify_content": null,
            "_view_module": "@jupyter-widgets/base",
            "overflow": null,
            "_model_module_version": "1.2.0",
            "_view_count": null,
            "flex_flow": null,
            "width": null,
            "min_width": null,
            "border": null,
            "align_items": null,
            "bottom": null,
            "_model_module": "@jupyter-widgets/base",
            "top": null,
            "grid_column": null,
            "overflow_y": null,
            "overflow_x": null,
            "grid_auto_flow": null,
            "grid_area": null,
            "grid_template_columns": null,
            "flex": null,
            "_model_name": "LayoutModel",
            "justify_items": null,
            "grid_row": null,
            "max_height": null,
            "align_content": null,
            "visibility": null,
            "align_self": null,
            "height": null,
            "min_height": null,
            "padding": null,
            "grid_auto_rows": null,
            "grid_gap": null,
            "max_width": null,
            "order": null,
            "_view_module_version": "1.2.0",
            "grid_template_areas": null,
            "object_position": null,
            "object_fit": null,
            "grid_auto_columns": null,
            "margin": null,
            "display": null,
            "left": null
          }
        },
        "c9067d9ad6fd4d838bde3a7e7f415487": {
          "model_module": "@jupyter-widgets/controls",
          "model_name": "HBoxModel",
          "state": {
            "_view_name": "HBoxView",
            "_dom_classes": [],
            "_model_name": "HBoxModel",
            "_view_module": "@jupyter-widgets/controls",
            "_model_module_version": "1.5.0",
            "_view_count": null,
            "_view_module_version": "1.5.0",
            "box_style": "",
            "layout": "IPY_MODEL_4000edb61607497697200cf5973b8b9e",
            "_model_module": "@jupyter-widgets/controls",
            "children": [
              "IPY_MODEL_6790e07be5244b2aa4244649a218a71a",
              "IPY_MODEL_61598b8147b84492af74e889c9ebec47"
            ]
          }
        },
        "4000edb61607497697200cf5973b8b9e": {
          "model_module": "@jupyter-widgets/base",
          "model_name": "LayoutModel",
          "state": {
            "_view_name": "LayoutView",
            "grid_template_rows": null,
            "right": null,
            "justify_content": null,
            "_view_module": "@jupyter-widgets/base",
            "overflow": null,
            "_model_module_version": "1.2.0",
            "_view_count": null,
            "flex_flow": null,
            "width": null,
            "min_width": null,
            "border": null,
            "align_items": null,
            "bottom": null,
            "_model_module": "@jupyter-widgets/base",
            "top": null,
            "grid_column": null,
            "overflow_y": null,
            "overflow_x": null,
            "grid_auto_flow": null,
            "grid_area": null,
            "grid_template_columns": null,
            "flex": null,
            "_model_name": "LayoutModel",
            "justify_items": null,
            "grid_row": null,
            "max_height": null,
            "align_content": null,
            "visibility": null,
            "align_self": null,
            "height": null,
            "min_height": null,
            "padding": null,
            "grid_auto_rows": null,
            "grid_gap": null,
            "max_width": null,
            "order": null,
            "_view_module_version": "1.2.0",
            "grid_template_areas": null,
            "object_position": null,
            "object_fit": null,
            "grid_auto_columns": null,
            "margin": null,
            "display": null,
            "left": null
          }
        },
        "6790e07be5244b2aa4244649a218a71a": {
          "model_module": "@jupyter-widgets/controls",
          "model_name": "FloatProgressModel",
          "state": {
            "_view_name": "ProgressView",
            "style": "IPY_MODEL_c76cba17f1074b37a9fef95ae5f650a0",
            "_dom_classes": [],
            "description": "100%",
            "_model_name": "FloatProgressModel",
            "bar_style": "success",
            "max": 531990,
            "_view_module": "@jupyter-widgets/controls",
            "_model_module_version": "1.5.0",
            "value": 531990,
            "_view_count": null,
            "_view_module_version": "1.5.0",
            "orientation": "horizontal",
            "min": 0,
            "description_tooltip": null,
            "_model_module": "@jupyter-widgets/controls",
            "layout": "IPY_MODEL_017d52ee004c4036af2775fddfe43ed0"
          }
        },
        "61598b8147b84492af74e889c9ebec47": {
          "model_module": "@jupyter-widgets/controls",
          "model_name": "HTMLModel",
          "state": {
            "_view_name": "HTMLView",
            "style": "IPY_MODEL_1dd36138526c4fe8b9a01afc41fb71ee",
            "_dom_classes": [],
            "description": "",
            "_model_name": "HTMLModel",
            "placeholder": "​",
            "_view_module": "@jupyter-widgets/controls",
            "_model_module_version": "1.5.0",
            "value": " 531990/531990 [05:53&lt;00:00, 1505.43it/s]",
            "_view_count": null,
            "_view_module_version": "1.5.0",
            "description_tooltip": null,
            "_model_module": "@jupyter-widgets/controls",
            "layout": "IPY_MODEL_9833a84141104f4a876d2e81aa1fa564"
          }
        },
        "c76cba17f1074b37a9fef95ae5f650a0": {
          "model_module": "@jupyter-widgets/controls",
          "model_name": "ProgressStyleModel",
          "state": {
            "_view_name": "StyleView",
            "_model_name": "ProgressStyleModel",
            "description_width": "initial",
            "_view_module": "@jupyter-widgets/base",
            "_model_module_version": "1.5.0",
            "_view_count": null,
            "_view_module_version": "1.2.0",
            "bar_color": null,
            "_model_module": "@jupyter-widgets/controls"
          }
        },
        "017d52ee004c4036af2775fddfe43ed0": {
          "model_module": "@jupyter-widgets/base",
          "model_name": "LayoutModel",
          "state": {
            "_view_name": "LayoutView",
            "grid_template_rows": null,
            "right": null,
            "justify_content": null,
            "_view_module": "@jupyter-widgets/base",
            "overflow": null,
            "_model_module_version": "1.2.0",
            "_view_count": null,
            "flex_flow": null,
            "width": null,
            "min_width": null,
            "border": null,
            "align_items": null,
            "bottom": null,
            "_model_module": "@jupyter-widgets/base",
            "top": null,
            "grid_column": null,
            "overflow_y": null,
            "overflow_x": null,
            "grid_auto_flow": null,
            "grid_area": null,
            "grid_template_columns": null,
            "flex": null,
            "_model_name": "LayoutModel",
            "justify_items": null,
            "grid_row": null,
            "max_height": null,
            "align_content": null,
            "visibility": null,
            "align_self": null,
            "height": null,
            "min_height": null,
            "padding": null,
            "grid_auto_rows": null,
            "grid_gap": null,
            "max_width": null,
            "order": null,
            "_view_module_version": "1.2.0",
            "grid_template_areas": null,
            "object_position": null,
            "object_fit": null,
            "grid_auto_columns": null,
            "margin": null,
            "display": null,
            "left": null
          }
        },
        "1dd36138526c4fe8b9a01afc41fb71ee": {
          "model_module": "@jupyter-widgets/controls",
          "model_name": "DescriptionStyleModel",
          "state": {
            "_view_name": "StyleView",
            "_model_name": "DescriptionStyleModel",
            "description_width": "",
            "_view_module": "@jupyter-widgets/base",
            "_model_module_version": "1.5.0",
            "_view_count": null,
            "_view_module_version": "1.2.0",
            "_model_module": "@jupyter-widgets/controls"
          }
        },
        "9833a84141104f4a876d2e81aa1fa564": {
          "model_module": "@jupyter-widgets/base",
          "model_name": "LayoutModel",
          "state": {
            "_view_name": "LayoutView",
            "grid_template_rows": null,
            "right": null,
            "justify_content": null,
            "_view_module": "@jupyter-widgets/base",
            "overflow": null,
            "_model_module_version": "1.2.0",
            "_view_count": null,
            "flex_flow": null,
            "width": null,
            "min_width": null,
            "border": null,
            "align_items": null,
            "bottom": null,
            "_model_module": "@jupyter-widgets/base",
            "top": null,
            "grid_column": null,
            "overflow_y": null,
            "overflow_x": null,
            "grid_auto_flow": null,
            "grid_area": null,
            "grid_template_columns": null,
            "flex": null,
            "_model_name": "LayoutModel",
            "justify_items": null,
            "grid_row": null,
            "max_height": null,
            "align_content": null,
            "visibility": null,
            "align_self": null,
            "height": null,
            "min_height": null,
            "padding": null,
            "grid_auto_rows": null,
            "grid_gap": null,
            "max_width": null,
            "order": null,
            "_view_module_version": "1.2.0",
            "grid_template_areas": null,
            "object_position": null,
            "object_fit": null,
            "grid_auto_columns": null,
            "margin": null,
            "display": null,
            "left": null
          }
        },
        "68a6dfa7fb16464f9b008ce65e3a0e6a": {
          "model_module": "@jupyter-widgets/controls",
          "model_name": "HBoxModel",
          "state": {
            "_view_name": "HBoxView",
            "_dom_classes": [],
            "_model_name": "HBoxModel",
            "_view_module": "@jupyter-widgets/controls",
            "_model_module_version": "1.5.0",
            "_view_count": null,
            "_view_module_version": "1.5.0",
            "box_style": "",
            "layout": "IPY_MODEL_53557d2ffe35406a82af79b538add3fd",
            "_model_module": "@jupyter-widgets/controls",
            "children": [
              "IPY_MODEL_3d4dbd5ff8ae4797aed78c653153941d",
              "IPY_MODEL_15e97e16c4464757abff75a99c634bd0"
            ]
          }
        },
        "53557d2ffe35406a82af79b538add3fd": {
          "model_module": "@jupyter-widgets/base",
          "model_name": "LayoutModel",
          "state": {
            "_view_name": "LayoutView",
            "grid_template_rows": null,
            "right": null,
            "justify_content": null,
            "_view_module": "@jupyter-widgets/base",
            "overflow": null,
            "_model_module_version": "1.2.0",
            "_view_count": null,
            "flex_flow": null,
            "width": null,
            "min_width": null,
            "border": null,
            "align_items": null,
            "bottom": null,
            "_model_module": "@jupyter-widgets/base",
            "top": null,
            "grid_column": null,
            "overflow_y": null,
            "overflow_x": null,
            "grid_auto_flow": null,
            "grid_area": null,
            "grid_template_columns": null,
            "flex": null,
            "_model_name": "LayoutModel",
            "justify_items": null,
            "grid_row": null,
            "max_height": null,
            "align_content": null,
            "visibility": null,
            "align_self": null,
            "height": null,
            "min_height": null,
            "padding": null,
            "grid_auto_rows": null,
            "grid_gap": null,
            "max_width": null,
            "order": null,
            "_view_module_version": "1.2.0",
            "grid_template_areas": null,
            "object_position": null,
            "object_fit": null,
            "grid_auto_columns": null,
            "margin": null,
            "display": null,
            "left": null
          }
        },
        "3d4dbd5ff8ae4797aed78c653153941d": {
          "model_module": "@jupyter-widgets/controls",
          "model_name": "FloatProgressModel",
          "state": {
            "_view_name": "ProgressView",
            "style": "IPY_MODEL_053ee33ca0bd47f6b6557c5e876882b1",
            "_dom_classes": [],
            "description": "100%",
            "_model_name": "FloatProgressModel",
            "bar_style": "success",
            "max": 5374,
            "_view_module": "@jupyter-widgets/controls",
            "_model_module_version": "1.5.0",
            "value": 5374,
            "_view_count": null,
            "_view_module_version": "1.5.0",
            "orientation": "horizontal",
            "min": 0,
            "description_tooltip": null,
            "_model_module": "@jupyter-widgets/controls",
            "layout": "IPY_MODEL_7b14345ac46c4e5d8ac408343a50c8f8"
          }
        },
        "15e97e16c4464757abff75a99c634bd0": {
          "model_module": "@jupyter-widgets/controls",
          "model_name": "HTMLModel",
          "state": {
            "_view_name": "HTMLView",
            "style": "IPY_MODEL_29f6abc0f42f4af0b6c20901a8c09d36",
            "_dom_classes": [],
            "description": "",
            "_model_name": "HTMLModel",
            "placeholder": "​",
            "_view_module": "@jupyter-widgets/controls",
            "_model_module_version": "1.5.0",
            "value": " 5374/5374 [00:04&lt;00:00, 1081.04it/s]",
            "_view_count": null,
            "_view_module_version": "1.5.0",
            "description_tooltip": null,
            "_model_module": "@jupyter-widgets/controls",
            "layout": "IPY_MODEL_741f11cb4c014d86ac0b98b4a523e670"
          }
        },
        "053ee33ca0bd47f6b6557c5e876882b1": {
          "model_module": "@jupyter-widgets/controls",
          "model_name": "ProgressStyleModel",
          "state": {
            "_view_name": "StyleView",
            "_model_name": "ProgressStyleModel",
            "description_width": "initial",
            "_view_module": "@jupyter-widgets/base",
            "_model_module_version": "1.5.0",
            "_view_count": null,
            "_view_module_version": "1.2.0",
            "bar_color": null,
            "_model_module": "@jupyter-widgets/controls"
          }
        },
        "7b14345ac46c4e5d8ac408343a50c8f8": {
          "model_module": "@jupyter-widgets/base",
          "model_name": "LayoutModel",
          "state": {
            "_view_name": "LayoutView",
            "grid_template_rows": null,
            "right": null,
            "justify_content": null,
            "_view_module": "@jupyter-widgets/base",
            "overflow": null,
            "_model_module_version": "1.2.0",
            "_view_count": null,
            "flex_flow": null,
            "width": null,
            "min_width": null,
            "border": null,
            "align_items": null,
            "bottom": null,
            "_model_module": "@jupyter-widgets/base",
            "top": null,
            "grid_column": null,
            "overflow_y": null,
            "overflow_x": null,
            "grid_auto_flow": null,
            "grid_area": null,
            "grid_template_columns": null,
            "flex": null,
            "_model_name": "LayoutModel",
            "justify_items": null,
            "grid_row": null,
            "max_height": null,
            "align_content": null,
            "visibility": null,
            "align_self": null,
            "height": null,
            "min_height": null,
            "padding": null,
            "grid_auto_rows": null,
            "grid_gap": null,
            "max_width": null,
            "order": null,
            "_view_module_version": "1.2.0",
            "grid_template_areas": null,
            "object_position": null,
            "object_fit": null,
            "grid_auto_columns": null,
            "margin": null,
            "display": null,
            "left": null
          }
        },
        "29f6abc0f42f4af0b6c20901a8c09d36": {
          "model_module": "@jupyter-widgets/controls",
          "model_name": "DescriptionStyleModel",
          "state": {
            "_view_name": "StyleView",
            "_model_name": "DescriptionStyleModel",
            "description_width": "",
            "_view_module": "@jupyter-widgets/base",
            "_model_module_version": "1.5.0",
            "_view_count": null,
            "_view_module_version": "1.2.0",
            "_model_module": "@jupyter-widgets/controls"
          }
        },
        "741f11cb4c014d86ac0b98b4a523e670": {
          "model_module": "@jupyter-widgets/base",
          "model_name": "LayoutModel",
          "state": {
            "_view_name": "LayoutView",
            "grid_template_rows": null,
            "right": null,
            "justify_content": null,
            "_view_module": "@jupyter-widgets/base",
            "overflow": null,
            "_model_module_version": "1.2.0",
            "_view_count": null,
            "flex_flow": null,
            "width": null,
            "min_width": null,
            "border": null,
            "align_items": null,
            "bottom": null,
            "_model_module": "@jupyter-widgets/base",
            "top": null,
            "grid_column": null,
            "overflow_y": null,
            "overflow_x": null,
            "grid_auto_flow": null,
            "grid_area": null,
            "grid_template_columns": null,
            "flex": null,
            "_model_name": "LayoutModel",
            "justify_items": null,
            "grid_row": null,
            "max_height": null,
            "align_content": null,
            "visibility": null,
            "align_self": null,
            "height": null,
            "min_height": null,
            "padding": null,
            "grid_auto_rows": null,
            "grid_gap": null,
            "max_width": null,
            "order": null,
            "_view_module_version": "1.2.0",
            "grid_template_areas": null,
            "object_position": null,
            "object_fit": null,
            "grid_auto_columns": null,
            "margin": null,
            "display": null,
            "left": null
          }
        },
        "e6186b95549f4d859256d66af5a2a12c": {
          "model_module": "@jupyter-widgets/controls",
          "model_name": "HBoxModel",
          "state": {
            "_view_name": "HBoxView",
            "_dom_classes": [],
            "_model_name": "HBoxModel",
            "_view_module": "@jupyter-widgets/controls",
            "_model_module_version": "1.5.0",
            "_view_count": null,
            "_view_module_version": "1.5.0",
            "box_style": "",
            "layout": "IPY_MODEL_0df87af89b474e21a69de12488deb692",
            "_model_module": "@jupyter-widgets/controls",
            "children": [
              "IPY_MODEL_e3e55a601a7c416c8bbfff08886ec48e",
              "IPY_MODEL_d2aa42f0118b4c5cb3e2e39bd3bfb3c9"
            ]
          }
        },
        "0df87af89b474e21a69de12488deb692": {
          "model_module": "@jupyter-widgets/base",
          "model_name": "LayoutModel",
          "state": {
            "_view_name": "LayoutView",
            "grid_template_rows": null,
            "right": null,
            "justify_content": null,
            "_view_module": "@jupyter-widgets/base",
            "overflow": null,
            "_model_module_version": "1.2.0",
            "_view_count": null,
            "flex_flow": null,
            "width": null,
            "min_width": null,
            "border": null,
            "align_items": null,
            "bottom": null,
            "_model_module": "@jupyter-widgets/base",
            "top": null,
            "grid_column": null,
            "overflow_y": null,
            "overflow_x": null,
            "grid_auto_flow": null,
            "grid_area": null,
            "grid_template_columns": null,
            "flex": null,
            "_model_name": "LayoutModel",
            "justify_items": null,
            "grid_row": null,
            "max_height": null,
            "align_content": null,
            "visibility": null,
            "align_self": null,
            "height": null,
            "min_height": null,
            "padding": null,
            "grid_auto_rows": null,
            "grid_gap": null,
            "max_width": null,
            "order": null,
            "_view_module_version": "1.2.0",
            "grid_template_areas": null,
            "object_position": null,
            "object_fit": null,
            "grid_auto_columns": null,
            "margin": null,
            "display": null,
            "left": null
          }
        },
        "e3e55a601a7c416c8bbfff08886ec48e": {
          "model_module": "@jupyter-widgets/controls",
          "model_name": "FloatProgressModel",
          "state": {
            "_view_name": "ProgressView",
            "style": "IPY_MODEL_809cb6d30d2b4908a001a950bc4bf5eb",
            "_dom_classes": [],
            "description": "100%",
            "_model_name": "FloatProgressModel",
            "bar_style": "success",
            "max": 531990,
            "_view_module": "@jupyter-widgets/controls",
            "_model_module_version": "1.5.0",
            "value": 531990,
            "_view_count": null,
            "_view_module_version": "1.5.0",
            "orientation": "horizontal",
            "min": 0,
            "description_tooltip": null,
            "_model_module": "@jupyter-widgets/controls",
            "layout": "IPY_MODEL_622f935087e04f33bb3dcb3472f87fc2"
          }
        },
        "d2aa42f0118b4c5cb3e2e39bd3bfb3c9": {
          "model_module": "@jupyter-widgets/controls",
          "model_name": "HTMLModel",
          "state": {
            "_view_name": "HTMLView",
            "style": "IPY_MODEL_b461b450e9284979906ead990fd966cd",
            "_dom_classes": [],
            "description": "",
            "_model_name": "HTMLModel",
            "placeholder": "​",
            "_view_module": "@jupyter-widgets/controls",
            "_model_module_version": "1.5.0",
            "value": " 531990/531990 [00:13&lt;00:00, 40367.21it/s]",
            "_view_count": null,
            "_view_module_version": "1.5.0",
            "description_tooltip": null,
            "_model_module": "@jupyter-widgets/controls",
            "layout": "IPY_MODEL_41d50fda3a5d41729dc749673c72dfa6"
          }
        },
        "809cb6d30d2b4908a001a950bc4bf5eb": {
          "model_module": "@jupyter-widgets/controls",
          "model_name": "ProgressStyleModel",
          "state": {
            "_view_name": "StyleView",
            "_model_name": "ProgressStyleModel",
            "description_width": "initial",
            "_view_module": "@jupyter-widgets/base",
            "_model_module_version": "1.5.0",
            "_view_count": null,
            "_view_module_version": "1.2.0",
            "bar_color": null,
            "_model_module": "@jupyter-widgets/controls"
          }
        },
        "622f935087e04f33bb3dcb3472f87fc2": {
          "model_module": "@jupyter-widgets/base",
          "model_name": "LayoutModel",
          "state": {
            "_view_name": "LayoutView",
            "grid_template_rows": null,
            "right": null,
            "justify_content": null,
            "_view_module": "@jupyter-widgets/base",
            "overflow": null,
            "_model_module_version": "1.2.0",
            "_view_count": null,
            "flex_flow": null,
            "width": null,
            "min_width": null,
            "border": null,
            "align_items": null,
            "bottom": null,
            "_model_module": "@jupyter-widgets/base",
            "top": null,
            "grid_column": null,
            "overflow_y": null,
            "overflow_x": null,
            "grid_auto_flow": null,
            "grid_area": null,
            "grid_template_columns": null,
            "flex": null,
            "_model_name": "LayoutModel",
            "justify_items": null,
            "grid_row": null,
            "max_height": null,
            "align_content": null,
            "visibility": null,
            "align_self": null,
            "height": null,
            "min_height": null,
            "padding": null,
            "grid_auto_rows": null,
            "grid_gap": null,
            "max_width": null,
            "order": null,
            "_view_module_version": "1.2.0",
            "grid_template_areas": null,
            "object_position": null,
            "object_fit": null,
            "grid_auto_columns": null,
            "margin": null,
            "display": null,
            "left": null
          }
        },
        "b461b450e9284979906ead990fd966cd": {
          "model_module": "@jupyter-widgets/controls",
          "model_name": "DescriptionStyleModel",
          "state": {
            "_view_name": "StyleView",
            "_model_name": "DescriptionStyleModel",
            "description_width": "",
            "_view_module": "@jupyter-widgets/base",
            "_model_module_version": "1.5.0",
            "_view_count": null,
            "_view_module_version": "1.2.0",
            "_model_module": "@jupyter-widgets/controls"
          }
        },
        "41d50fda3a5d41729dc749673c72dfa6": {
          "model_module": "@jupyter-widgets/base",
          "model_name": "LayoutModel",
          "state": {
            "_view_name": "LayoutView",
            "grid_template_rows": null,
            "right": null,
            "justify_content": null,
            "_view_module": "@jupyter-widgets/base",
            "overflow": null,
            "_model_module_version": "1.2.0",
            "_view_count": null,
            "flex_flow": null,
            "width": null,
            "min_width": null,
            "border": null,
            "align_items": null,
            "bottom": null,
            "_model_module": "@jupyter-widgets/base",
            "top": null,
            "grid_column": null,
            "overflow_y": null,
            "overflow_x": null,
            "grid_auto_flow": null,
            "grid_area": null,
            "grid_template_columns": null,
            "flex": null,
            "_model_name": "LayoutModel",
            "justify_items": null,
            "grid_row": null,
            "max_height": null,
            "align_content": null,
            "visibility": null,
            "align_self": null,
            "height": null,
            "min_height": null,
            "padding": null,
            "grid_auto_rows": null,
            "grid_gap": null,
            "max_width": null,
            "order": null,
            "_view_module_version": "1.2.0",
            "grid_template_areas": null,
            "object_position": null,
            "object_fit": null,
            "grid_auto_columns": null,
            "margin": null,
            "display": null,
            "left": null
          }
        },
        "074e47a8ac4349c8a86843c2b168e319": {
          "model_module": "@jupyter-widgets/controls",
          "model_name": "HBoxModel",
          "state": {
            "_view_name": "HBoxView",
            "_dom_classes": [],
            "_model_name": "HBoxModel",
            "_view_module": "@jupyter-widgets/controls",
            "_model_module_version": "1.5.0",
            "_view_count": null,
            "_view_module_version": "1.5.0",
            "box_style": "",
            "layout": "IPY_MODEL_0abc90595c114cf8ad5c3e730eaf49a0",
            "_model_module": "@jupyter-widgets/controls",
            "children": [
              "IPY_MODEL_7629bf0ac62b4e73acbbcfef837f897c",
              "IPY_MODEL_7739e46f52e0437b8cbfb7282be2bf5d"
            ]
          }
        },
        "0abc90595c114cf8ad5c3e730eaf49a0": {
          "model_module": "@jupyter-widgets/base",
          "model_name": "LayoutModel",
          "state": {
            "_view_name": "LayoutView",
            "grid_template_rows": null,
            "right": null,
            "justify_content": null,
            "_view_module": "@jupyter-widgets/base",
            "overflow": null,
            "_model_module_version": "1.2.0",
            "_view_count": null,
            "flex_flow": null,
            "width": null,
            "min_width": null,
            "border": null,
            "align_items": null,
            "bottom": null,
            "_model_module": "@jupyter-widgets/base",
            "top": null,
            "grid_column": null,
            "overflow_y": null,
            "overflow_x": null,
            "grid_auto_flow": null,
            "grid_area": null,
            "grid_template_columns": null,
            "flex": null,
            "_model_name": "LayoutModel",
            "justify_items": null,
            "grid_row": null,
            "max_height": null,
            "align_content": null,
            "visibility": null,
            "align_self": null,
            "height": null,
            "min_height": null,
            "padding": null,
            "grid_auto_rows": null,
            "grid_gap": null,
            "max_width": null,
            "order": null,
            "_view_module_version": "1.2.0",
            "grid_template_areas": null,
            "object_position": null,
            "object_fit": null,
            "grid_auto_columns": null,
            "margin": null,
            "display": null,
            "left": null
          }
        },
        "7629bf0ac62b4e73acbbcfef837f897c": {
          "model_module": "@jupyter-widgets/controls",
          "model_name": "FloatProgressModel",
          "state": {
            "_view_name": "ProgressView",
            "style": "IPY_MODEL_dfa573cd2133478e919c30359f54c070",
            "_dom_classes": [],
            "description": "100%",
            "_model_name": "FloatProgressModel",
            "bar_style": "success",
            "max": 5374,
            "_view_module": "@jupyter-widgets/controls",
            "_model_module_version": "1.5.0",
            "value": 5374,
            "_view_count": null,
            "_view_module_version": "1.5.0",
            "orientation": "horizontal",
            "min": 0,
            "description_tooltip": null,
            "_model_module": "@jupyter-widgets/controls",
            "layout": "IPY_MODEL_d36d358bef4a42e3803bd5658b4f165b"
          }
        },
        "7739e46f52e0437b8cbfb7282be2bf5d": {
          "model_module": "@jupyter-widgets/controls",
          "model_name": "HTMLModel",
          "state": {
            "_view_name": "HTMLView",
            "style": "IPY_MODEL_acc6bf97cd2b4dbda8ee6f4064ac5c5e",
            "_dom_classes": [],
            "description": "",
            "_model_name": "HTMLModel",
            "placeholder": "​",
            "_view_module": "@jupyter-widgets/controls",
            "_model_module_version": "1.5.0",
            "value": " 5374/5374 [00:00&lt;00:00, 27965.22it/s]",
            "_view_count": null,
            "_view_module_version": "1.5.0",
            "description_tooltip": null,
            "_model_module": "@jupyter-widgets/controls",
            "layout": "IPY_MODEL_d9aef2765fa046b997d595855526f103"
          }
        },
        "dfa573cd2133478e919c30359f54c070": {
          "model_module": "@jupyter-widgets/controls",
          "model_name": "ProgressStyleModel",
          "state": {
            "_view_name": "StyleView",
            "_model_name": "ProgressStyleModel",
            "description_width": "initial",
            "_view_module": "@jupyter-widgets/base",
            "_model_module_version": "1.5.0",
            "_view_count": null,
            "_view_module_version": "1.2.0",
            "bar_color": null,
            "_model_module": "@jupyter-widgets/controls"
          }
        },
        "d36d358bef4a42e3803bd5658b4f165b": {
          "model_module": "@jupyter-widgets/base",
          "model_name": "LayoutModel",
          "state": {
            "_view_name": "LayoutView",
            "grid_template_rows": null,
            "right": null,
            "justify_content": null,
            "_view_module": "@jupyter-widgets/base",
            "overflow": null,
            "_model_module_version": "1.2.0",
            "_view_count": null,
            "flex_flow": null,
            "width": null,
            "min_width": null,
            "border": null,
            "align_items": null,
            "bottom": null,
            "_model_module": "@jupyter-widgets/base",
            "top": null,
            "grid_column": null,
            "overflow_y": null,
            "overflow_x": null,
            "grid_auto_flow": null,
            "grid_area": null,
            "grid_template_columns": null,
            "flex": null,
            "_model_name": "LayoutModel",
            "justify_items": null,
            "grid_row": null,
            "max_height": null,
            "align_content": null,
            "visibility": null,
            "align_self": null,
            "height": null,
            "min_height": null,
            "padding": null,
            "grid_auto_rows": null,
            "grid_gap": null,
            "max_width": null,
            "order": null,
            "_view_module_version": "1.2.0",
            "grid_template_areas": null,
            "object_position": null,
            "object_fit": null,
            "grid_auto_columns": null,
            "margin": null,
            "display": null,
            "left": null
          }
        },
        "acc6bf97cd2b4dbda8ee6f4064ac5c5e": {
          "model_module": "@jupyter-widgets/controls",
          "model_name": "DescriptionStyleModel",
          "state": {
            "_view_name": "StyleView",
            "_model_name": "DescriptionStyleModel",
            "description_width": "",
            "_view_module": "@jupyter-widgets/base",
            "_model_module_version": "1.5.0",
            "_view_count": null,
            "_view_module_version": "1.2.0",
            "_model_module": "@jupyter-widgets/controls"
          }
        },
        "d9aef2765fa046b997d595855526f103": {
          "model_module": "@jupyter-widgets/base",
          "model_name": "LayoutModel",
          "state": {
            "_view_name": "LayoutView",
            "grid_template_rows": null,
            "right": null,
            "justify_content": null,
            "_view_module": "@jupyter-widgets/base",
            "overflow": null,
            "_model_module_version": "1.2.0",
            "_view_count": null,
            "flex_flow": null,
            "width": null,
            "min_width": null,
            "border": null,
            "align_items": null,
            "bottom": null,
            "_model_module": "@jupyter-widgets/base",
            "top": null,
            "grid_column": null,
            "overflow_y": null,
            "overflow_x": null,
            "grid_auto_flow": null,
            "grid_area": null,
            "grid_template_columns": null,
            "flex": null,
            "_model_name": "LayoutModel",
            "justify_items": null,
            "grid_row": null,
            "max_height": null,
            "align_content": null,
            "visibility": null,
            "align_self": null,
            "height": null,
            "min_height": null,
            "padding": null,
            "grid_auto_rows": null,
            "grid_gap": null,
            "max_width": null,
            "order": null,
            "_view_module_version": "1.2.0",
            "grid_template_areas": null,
            "object_position": null,
            "object_fit": null,
            "grid_auto_columns": null,
            "margin": null,
            "display": null,
            "left": null
          }
        }
      }
    }
  },
  "cells": [
    {
      "cell_type": "code",
      "metadata": {
        "id": "pTqFXINK1_jx",
        "colab": {
          "base_uri": "https://localhost:8080/"
        },
        "outputId": "1fed5f0c-48a4-42eb-e643-4819a2964ab5"
      },
      "source": [
        "!pip install --upgrade datasketch"
      ],
      "execution_count": 1,
      "outputs": [
        {
          "output_type": "stream",
          "text": [
            "Requirement already up-to-date: datasketch in /usr/local/lib/python3.6/dist-packages (1.5.3)\n",
            "Requirement already satisfied, skipping upgrade: numpy>=1.11 in /usr/local/lib/python3.6/dist-packages (from datasketch) (1.19.5)\n"
          ],
          "name": "stdout"
        }
      ]
    },
    {
      "cell_type": "code",
      "metadata": {
        "id": "ZNB548OE2emb"
      },
      "source": [
        "import pandas as pd\r\n",
        "\r\n",
        "from nltk import wordpunct_tokenize\r\n",
        "from nltk import tokenize\r\n",
        "\r\n",
        "from tqdm import tqdm\r\n",
        "from tqdm import tnrange, tqdm_notebook\r\n",
        "from datasketch import MinHash, MinHashLSH\r\n",
        "from tqdm import tqdm\r\n",
        "\r\n",
        "from string import digits\r\n",
        "import re"
      ],
      "execution_count": 2,
      "outputs": []
    },
    {
      "cell_type": "markdown",
      "metadata": {
        "id": "EA7RlHDf_HeR"
      },
      "source": [
        "#Data Pre-processing"
      ]
    },
    {
      "cell_type": "code",
      "metadata": {
        "id": "-yMXYhT7Zix4"
      },
      "source": [
        "from nltk.corpus import stopwords\r\n",
        "import nltk"
      ],
      "execution_count": 3,
      "outputs": []
    },
    {
      "cell_type": "code",
      "metadata": {
        "colab": {
          "base_uri": "https://localhost:8080/"
        },
        "id": "kvoI0YgF1I0O",
        "outputId": "0eaa1682-bac7-4a7e-ec2c-2261b5f79050"
      },
      "source": [
        "nltk.download('stopwords')\r\n",
        "stop_words = set(nltk.corpus.stopwords.words('english'))"
      ],
      "execution_count": 4,
      "outputs": [
        {
          "output_type": "stream",
          "text": [
            "[nltk_data] Downloading package stopwords to /root/nltk_data...\n",
            "[nltk_data]   Package stopwords is already up-to-date!\n"
          ],
          "name": "stdout"
        }
      ]
    },
    {
      "cell_type": "markdown",
      "metadata": {
        "id": "cSm9H7Xg_RIF"
      },
      "source": [
        "##Reading"
      ]
    },
    {
      "cell_type": "code",
      "metadata": {
        "id": "vSNozrocH7-n",
        "colab": {
          "base_uri": "https://localhost:8080/",
          "height": 204
        },
        "outputId": "9274e9cf-13f9-4754-aae3-15ea6cbb4e64"
      },
      "source": [
        "corpus_test = pd.read_csv(\"/content/drive/MyDrive/Colab Notebooks/corpusTest.csv\")\n",
        "corpus_test.shape\n",
        "corpus_test.head()"
      ],
      "execution_count": 5,
      "outputs": [
        {
          "output_type": "execute_result",
          "data": {
            "text/html": [
              "<div>\n",
              "<style scoped>\n",
              "    .dataframe tbody tr th:only-of-type {\n",
              "        vertical-align: middle;\n",
              "    }\n",
              "\n",
              "    .dataframe tbody tr th {\n",
              "        vertical-align: top;\n",
              "    }\n",
              "\n",
              "    .dataframe thead th {\n",
              "        text-align: right;\n",
              "    }\n",
              "</style>\n",
              "<table border=\"1\" class=\"dataframe\">\n",
              "  <thead>\n",
              "    <tr style=\"text-align: right;\">\n",
              "      <th></th>\n",
              "      <th>Id</th>\n",
              "      <th>Content</th>\n",
              "    </tr>\n",
              "  </thead>\n",
              "  <tbody>\n",
              "    <tr>\n",
              "      <th>0</th>\n",
              "      <td>0</td>\n",
              "      <td>How do I get good marks in college?\\n</td>\n",
              "    </tr>\n",
              "    <tr>\n",
              "      <th>1</th>\n",
              "      <td>1</td>\n",
              "      <td>Can an android app use SMS only to communicate...</td>\n",
              "    </tr>\n",
              "    <tr>\n",
              "      <th>2</th>\n",
              "      <td>2</td>\n",
              "      <td>What small detail from an Indian movie do you ...</td>\n",
              "    </tr>\n",
              "    <tr>\n",
              "      <th>3</th>\n",
              "      <td>3</td>\n",
              "      <td>Why can not Hindu women be the soldier of Hind...</td>\n",
              "    </tr>\n",
              "    <tr>\n",
              "      <th>4</th>\n",
              "      <td>4</td>\n",
              "      <td>How would you write out twelve lakh twelve tho...</td>\n",
              "    </tr>\n",
              "  </tbody>\n",
              "</table>\n",
              "</div>"
            ],
            "text/plain": [
              "   Id                                            Content\n",
              "0   0              How do I get good marks in college?\\n\n",
              "1   1  Can an android app use SMS only to communicate...\n",
              "2   2  What small detail from an Indian movie do you ...\n",
              "3   3  Why can not Hindu women be the soldier of Hind...\n",
              "4   4  How would you write out twelve lakh twelve tho..."
            ]
          },
          "metadata": {
            "tags": []
          },
          "execution_count": 5
        }
      ]
    },
    {
      "cell_type": "code",
      "metadata": {
        "id": "7YT8MrxSI1C0",
        "colab": {
          "base_uri": "https://localhost:8080/",
          "height": 204
        },
        "outputId": "e7425ceb-0f62-4302-fc10-07cc28b2aff2"
      },
      "source": [
        "corpus_train = pd.read_csv(\"/content/drive/MyDrive/Colab Notebooks/corpusTrain.csv\")\n",
        "corpus_train.shape\n",
        "corpus_train.head()"
      ],
      "execution_count": 6,
      "outputs": [
        {
          "output_type": "execute_result",
          "data": {
            "text/html": [
              "<div>\n",
              "<style scoped>\n",
              "    .dataframe tbody tr th:only-of-type {\n",
              "        vertical-align: middle;\n",
              "    }\n",
              "\n",
              "    .dataframe tbody tr th {\n",
              "        vertical-align: top;\n",
              "    }\n",
              "\n",
              "    .dataframe thead th {\n",
              "        text-align: right;\n",
              "    }\n",
              "</style>\n",
              "<table border=\"1\" class=\"dataframe\">\n",
              "  <thead>\n",
              "    <tr style=\"text-align: right;\">\n",
              "      <th></th>\n",
              "      <th>Id</th>\n",
              "      <th>Content</th>\n",
              "    </tr>\n",
              "  </thead>\n",
              "  <tbody>\n",
              "    <tr>\n",
              "      <th>0</th>\n",
              "      <td>0</td>\n",
              "      <td>How many people are going towards using phones...</td>\n",
              "    </tr>\n",
              "    <tr>\n",
              "      <th>1</th>\n",
              "      <td>1</td>\n",
              "      <td>What audio format should I use for getting aud...</td>\n",
              "    </tr>\n",
              "    <tr>\n",
              "      <th>2</th>\n",
              "      <td>2</td>\n",
              "      <td>What is the corporate culture like at Edwards ...</td>\n",
              "    </tr>\n",
              "    <tr>\n",
              "      <th>3</th>\n",
              "      <td>3</td>\n",
              "      <td>What is the best barbecue in Kansas City?\\n</td>\n",
              "    </tr>\n",
              "    <tr>\n",
              "      <th>4</th>\n",
              "      <td>4</td>\n",
              "      <td>\"Can I combine the output of two bolts to one ...</td>\n",
              "    </tr>\n",
              "  </tbody>\n",
              "</table>\n",
              "</div>"
            ],
            "text/plain": [
              "   Id                                            Content\n",
              "0   0  How many people are going towards using phones...\n",
              "1   1  What audio format should I use for getting aud...\n",
              "2   2  What is the corporate culture like at Edwards ...\n",
              "3   3        What is the best barbecue in Kansas City?\\n\n",
              "4   4  \"Can I combine the output of two bolts to one ..."
            ]
          },
          "metadata": {
            "tags": []
          },
          "execution_count": 6
        }
      ]
    },
    {
      "cell_type": "code",
      "metadata": {
        "colab": {
          "base_uri": "https://localhost:8080/"
        },
        "id": "RkEpaa2FDLha",
        "outputId": "30675367-108d-49a8-caf0-9d6bca8274c8"
      },
      "source": [
        "corpus_train.shape\r\n"
      ],
      "execution_count": 7,
      "outputs": [
        {
          "output_type": "execute_result",
          "data": {
            "text/plain": [
              "(531990, 2)"
            ]
          },
          "metadata": {
            "tags": []
          },
          "execution_count": 7
        }
      ]
    },
    {
      "cell_type": "markdown",
      "metadata": {
        "id": "YXh1eaDc_VdV"
      },
      "source": [
        "##Shallow Cleaning"
      ]
    },
    {
      "cell_type": "code",
      "metadata": {
        "id": "Wvrdrw8iw_Pq"
      },
      "source": [
        "def blank_space(x):\r\n",
        "  return re.sub('[^A-Za-z0-9]+', ' ', x)\r\n",
        "\r\n",
        "def numbers(x):\r\n",
        "  return re.sub(r'[0-9]+', '', x)\r\n",
        "\r\n",
        "def standarize_sentence(x):\r\n",
        "  return ''.join(''.join(word)[:2] for word in x) \r\n",
        "\r\n",
        "def apostrophe_words(x):\r\n",
        "  Apos_dict={\"'s\":\" is\",\"n't\":\" not\",\"'m\":\" am\",\"'ll\":\" will\", \r\n",
        "           \"'d\":\" would\",\"'ve\":\" have\",\"'re\":\" are\"} \r\n",
        "  for key,value in Apos_dict.items(): \r\n",
        "      if key in x: \r\n",
        "          return x.replace(key,value)\r\n",
        "  return x\r\n",
        "\r\n",
        "def split_words(x):\r\n",
        "  return \" \".join([word for word in re.split(\"([A-Z][a-z]+[^A-Z]*)\",x) if word])\r\n",
        "\r\n",
        "def shallow_cleaning(df):\r\n",
        "  remove_digits = str.maketrans('', '', digits)\r\n",
        "  df['Content'] = df['Content'].apply(lambda x: blank_space(str(x)))\r\n",
        "  df['Content'] = df['Content'].apply(lambda x: numbers(str(x)))\r\n",
        "  df['Content'] = df['Content'].apply(lambda x: split_words(str(x)))\r\n",
        "  df['Content'] = df['Content'].apply(lambda x: standarize_sentence(str(x)))\r\n",
        "  df['Content'] = df['Content'].apply(lambda x: apostrophe_words(str(x)))\r\n",
        "  df['Content'] = df['Content'].str.strip()\r\n",
        "  df['Content'] = df['Content'].str.lower()\r\n",
        "  df['Content'].apply(lambda x: [item for item in x if item not in stop_words])\r\n",
        "  return df"
      ],
      "execution_count": 8,
      "outputs": []
    },
    {
      "cell_type": "code",
      "metadata": {
        "id": "YzV1Wz2Pb8Ai"
      },
      "source": [
        "corpus_train = shallow_cleaning(corpus_train)\n",
        "corpus_test = shallow_cleaning(corpus_test)"
      ],
      "execution_count": 9,
      "outputs": []
    },
    {
      "cell_type": "markdown",
      "metadata": {
        "id": "v5dkImE9_dR3"
      },
      "source": [
        "##Special Characters"
      ]
    },
    {
      "cell_type": "code",
      "metadata": {
        "id": "AmeRnYxrceol"
      },
      "source": [
        "spec_chars = [\"!\", '\"', \"#\", \"%\", \"&\", \"'\", \"(\", \")\", \"*\", \"+\", \",\", \"-\", \".\", \"/\", \":\", \";\", \"<\",\n",
        "              \"=\", \">\", \"?\", \"@\", \"[\", \"\\\\\", \"]\", \"^\", \"_\", \"`\", \"{\", \"|\", \"}\", \"~\", \"–\"]\n",
        "\n",
        "for char in spec_chars:\n",
        "    corpus_test['Content'] = corpus_test['Content'].str.replace(char, '')\n",
        "\n",
        "for char in spec_chars:\n",
        "    corpus_train['Content'] = corpus_train['Content'].str.replace(char, '')"
      ],
      "execution_count": 10,
      "outputs": []
    },
    {
      "cell_type": "code",
      "metadata": {
        "colab": {
          "base_uri": "https://localhost:8080/",
          "height": 204
        },
        "id": "bxMSlltTybm2",
        "outputId": "d23b8f63-edc8-4a76-b851-4d80f7283cd0"
      },
      "source": [
        "corpus_test.head()"
      ],
      "execution_count": 11,
      "outputs": [
        {
          "output_type": "execute_result",
          "data": {
            "text/html": [
              "<div>\n",
              "<style scoped>\n",
              "    .dataframe tbody tr th:only-of-type {\n",
              "        vertical-align: middle;\n",
              "    }\n",
              "\n",
              "    .dataframe tbody tr th {\n",
              "        vertical-align: top;\n",
              "    }\n",
              "\n",
              "    .dataframe thead th {\n",
              "        text-align: right;\n",
              "    }\n",
              "</style>\n",
              "<table border=\"1\" class=\"dataframe\">\n",
              "  <thead>\n",
              "    <tr style=\"text-align: right;\">\n",
              "      <th></th>\n",
              "      <th>Id</th>\n",
              "      <th>Content</th>\n",
              "    </tr>\n",
              "  </thead>\n",
              "  <tbody>\n",
              "    <tr>\n",
              "      <th>0</th>\n",
              "      <td>0</td>\n",
              "      <td>how do  i get good marks in college</td>\n",
              "    </tr>\n",
              "    <tr>\n",
              "      <th>1</th>\n",
              "      <td>1</td>\n",
              "      <td>can an android app use  sms only to communicat...</td>\n",
              "    </tr>\n",
              "    <tr>\n",
              "      <th>2</th>\n",
              "      <td>2</td>\n",
              "      <td>what small detail from an  indian movie do you...</td>\n",
              "    </tr>\n",
              "    <tr>\n",
              "      <th>3</th>\n",
              "      <td>3</td>\n",
              "      <td>why can not  hindu women be the soldier of  hi...</td>\n",
              "    </tr>\n",
              "    <tr>\n",
              "      <th>4</th>\n",
              "      <td>4</td>\n",
              "      <td>how would you write out twelve lakh twelve tho...</td>\n",
              "    </tr>\n",
              "  </tbody>\n",
              "</table>\n",
              "</div>"
            ],
            "text/plain": [
              "   Id                                            Content\n",
              "0   0                how do  i get good marks in college\n",
              "1   1  can an android app use  sms only to communicat...\n",
              "2   2  what small detail from an  indian movie do you...\n",
              "3   3  why can not  hindu women be the soldier of  hi...\n",
              "4   4  how would you write out twelve lakh twelve tho..."
            ]
          },
          "metadata": {
            "tags": []
          },
          "execution_count": 11
        }
      ]
    },
    {
      "cell_type": "code",
      "metadata": {
        "colab": {
          "base_uri": "https://localhost:8080/",
          "height": 204
        },
        "id": "wvbBxktcydkd",
        "outputId": "8184657e-40ca-42b8-8fc9-8b59b1514735"
      },
      "source": [
        "corpus_train.head()"
      ],
      "execution_count": 12,
      "outputs": [
        {
          "output_type": "execute_result",
          "data": {
            "text/html": [
              "<div>\n",
              "<style scoped>\n",
              "    .dataframe tbody tr th:only-of-type {\n",
              "        vertical-align: middle;\n",
              "    }\n",
              "\n",
              "    .dataframe tbody tr th {\n",
              "        vertical-align: top;\n",
              "    }\n",
              "\n",
              "    .dataframe thead th {\n",
              "        text-align: right;\n",
              "    }\n",
              "</style>\n",
              "<table border=\"1\" class=\"dataframe\">\n",
              "  <thead>\n",
              "    <tr style=\"text-align: right;\">\n",
              "      <th></th>\n",
              "      <th>Id</th>\n",
              "      <th>Content</th>\n",
              "    </tr>\n",
              "  </thead>\n",
              "  <tbody>\n",
              "    <tr>\n",
              "      <th>0</th>\n",
              "      <td>0</td>\n",
              "      <td>how many people are going towards using phones...</td>\n",
              "    </tr>\n",
              "    <tr>\n",
              "      <th>1</th>\n",
              "      <td>1</td>\n",
              "      <td>what audio format should  i use for getting au...</td>\n",
              "    </tr>\n",
              "    <tr>\n",
              "      <th>2</th>\n",
              "      <td>2</td>\n",
              "      <td>what is the corporate culture like at  edwards...</td>\n",
              "    </tr>\n",
              "    <tr>\n",
              "      <th>3</th>\n",
              "      <td>3</td>\n",
              "      <td>what is the best barbecue in  kansas  city</td>\n",
              "    </tr>\n",
              "    <tr>\n",
              "      <th>4</th>\n",
              "      <td>4</td>\n",
              "      <td>can  i combine the output of two bolts to one ...</td>\n",
              "    </tr>\n",
              "  </tbody>\n",
              "</table>\n",
              "</div>"
            ],
            "text/plain": [
              "   Id                                            Content\n",
              "0   0  how many people are going towards using phones...\n",
              "1   1  what audio format should  i use for getting au...\n",
              "2   2  what is the corporate culture like at  edwards...\n",
              "3   3         what is the best barbecue in  kansas  city\n",
              "4   4  can  i combine the output of two bolts to one ..."
            ]
          },
          "metadata": {
            "tags": []
          },
          "execution_count": 12
        }
      ]
    },
    {
      "cell_type": "code",
      "metadata": {
        "id": "4KwkM4ld35dZ"
      },
      "source": [
        "#comb_ques = corpus_train['Content'].append(corpus_test['Content']).reset_index()\r\n",
        "#comb_ques.head()"
      ],
      "execution_count": 13,
      "outputs": []
    },
    {
      "cell_type": "markdown",
      "metadata": {
        "id": "nBm1BJIVLvk1"
      },
      "source": [
        "#Vectorization"
      ]
    },
    {
      "cell_type": "code",
      "metadata": {
        "id": "dvNmkxxgVfIh"
      },
      "source": [
        "from sklearn.feature_extraction.text import CountVectorizer"
      ],
      "execution_count": 14,
      "outputs": []
    },
    {
      "cell_type": "code",
      "metadata": {
        "colab": {
          "base_uri": "https://localhost:8080/"
        },
        "id": "wp_bTw_OVg-g",
        "outputId": "33be2b01-4324-4316-9a2a-f1fcb2c197a2"
      },
      "source": [
        "vectorizer = CountVectorizer(lowercase = True, stop_words = 'english', max_features = 10000)\n",
        "vectorizer.fit(corpus_test['Content'])\n",
        "vectorized_test_content = vectorizer.transform(corpus_test['Content'])\n",
        "print(vectorized_test_content.shape)"
      ],
      "execution_count": 15,
      "outputs": [
        {
          "output_type": "stream",
          "text": [
            "(5374, 8380)\n"
          ],
          "name": "stdout"
        }
      ]
    },
    {
      "cell_type": "code",
      "metadata": {
        "colab": {
          "base_uri": "https://localhost:8080/"
        },
        "id": "giZ0bsM8KAgY",
        "outputId": "f070178c-e385-41f4-ccd8-c0ef0c2c6c50"
      },
      "source": [
        "vectorizer = CountVectorizer(lowercase = True, stop_words = 'english', max_features = 10000)\n",
        "vectorizer.fit(corpus_train['Content'])\n",
        "vectorized_train_content = vectorizer.transform(corpus_train['Content'])\n",
        "print(vectorized_train_content.shape)"
      ],
      "execution_count": 16,
      "outputs": [
        {
          "output_type": "stream",
          "text": [
            "(531990, 10000)\n"
          ],
          "name": "stdout"
        }
      ]
    },
    {
      "cell_type": "code",
      "metadata": {
        "id": "t172lVSUGcAM",
        "colab": {
          "base_uri": "https://localhost:8080/"
        },
        "outputId": "0c798ce0-1cb7-4de0-80b6-bbfbb1ceaedf"
      },
      "source": [
        "corpus_compined = pd.DataFrame(corpus_test['Content'].append(corpus_train['Content'], ignore_index = True)) \n",
        "print(len(corpus_compined['Content']))"
      ],
      "execution_count": 17,
      "outputs": [
        {
          "output_type": "stream",
          "text": [
            "537364\n"
          ],
          "name": "stdout"
        }
      ]
    },
    {
      "cell_type": "code",
      "metadata": {
        "colab": {
          "base_uri": "https://localhost:8080/"
        },
        "id": "cFM4gCczJ_zM",
        "outputId": "15d1e043-5761-4dd1-f5bf-e8d02ce769b5"
      },
      "source": [
        "vectorizer = CountVectorizer(lowercase = True, stop_words = 'english', max_features = 10000)\n",
        "vectorizer.fit(corpus_compined['Content'])\n",
        "vectorized_combined_content = vectorizer.transform(corpus_compined['Content'])\n",
        "print(vectorized_combined_content.shape)"
      ],
      "execution_count": 18,
      "outputs": [
        {
          "output_type": "stream",
          "text": [
            "(537364, 10000)\n"
          ],
          "name": "stdout"
        }
      ]
    },
    {
      "cell_type": "markdown",
      "metadata": {
        "id": "F7fSeW7n8CB6"
      },
      "source": [
        "#MinHash LSH"
      ]
    },
    {
      "cell_type": "markdown",
      "metadata": {
        "id": "kUWbcFt_Ap0S"
      },
      "source": [
        "##Map question id (eg 'm23') to set representation of question"
      ]
    },
    {
      "cell_type": "code",
      "metadata": {
        "colab": {
          "base_uri": "https://localhost:8080/",
          "height": 0,
          "referenced_widgets": [
            "d6be82ce53b04ceca4cc21505e3412a3",
            "52a7b8f5453d4bf09584beaf01b397f5",
            "981bc0c6699f41d697c39b472e955241",
            "958addc1a6ce4cc3b1348778d464ea7d",
            "d46a205ea4534d6b892e606391c9a4c0",
            "73ee2266f6284e4ba8db3778efabc135",
            "dc4a0a1100184304ae120a242368d080",
            "ca09140e1c404d10b089adcd1c05fdb0"
          ]
        },
        "id": "LaTBNsAO5b49",
        "outputId": "2a6dfb9a-02cd-4053-83fc-8b9ebb9e4d3e"
      },
      "source": [
        "#for train corpus\r\n",
        "set_dict={} \r\n",
        "count=1\r\n",
        "for question in tqdm_notebook([x for x in corpus_train['Content'] if type(x)==str]):\r\n",
        "    temp_list = []\r\n",
        "    for shingle in question.split(' '):\r\n",
        "        if shingle not in stop_words:\r\n",
        "            temp_list.append(shingle.lower())\r\n",
        "    set_dict[\"m{0}\".format(count)] = set(temp_list)\r\n",
        "    count +=1"
      ],
      "execution_count": 27,
      "outputs": [
        {
          "output_type": "stream",
          "text": [
            "/usr/local/lib/python3.6/dist-packages/ipykernel_launcher.py:4: TqdmDeprecationWarning: This function will be removed in tqdm==5.0.0\n",
            "Please use `tqdm.notebook.tqdm` instead of `tqdm.tqdm_notebook`\n",
            "  after removing the cwd from sys.path.\n"
          ],
          "name": "stderr"
        },
        {
          "output_type": "display_data",
          "data": {
            "application/vnd.jupyter.widget-view+json": {
              "model_id": "d6be82ce53b04ceca4cc21505e3412a3",
              "version_minor": 0,
              "version_major": 2
            },
            "text/plain": [
              "HBox(children=(FloatProgress(value=0.0, max=531990.0), HTML(value='')))"
            ]
          },
          "metadata": {
            "tags": []
          }
        },
        {
          "output_type": "stream",
          "text": [
            "\n"
          ],
          "name": "stdout"
        }
      ]
    },
    {
      "cell_type": "code",
      "metadata": {
        "colab": {
          "base_uri": "https://localhost:8080/",
          "height": 0,
          "referenced_widgets": [
            "ea0e7d32e1cd4deba19c552330362545",
            "7c15abb27878439eb715e9379c73908c",
            "951a7d203b974b0d9bf9324270865030",
            "96986676302c4bb4b8279a9a51b5f898",
            "218139e3d2a543389baa5b3dd979dcff",
            "bac634cfd3124bde9129730110a6566c",
            "f3d3831cbb004d82b7236e7cf52f5d29",
            "82d9935c214d4fa6a0faaeed40b6d06d"
          ]
        },
        "id": "eM7l-TDt_nQv",
        "outputId": "454ea947-5a29-47ee-f659-30347c8838f2"
      },
      "source": [
        "#for test corpus\r\n",
        "set_dict_test={}\r\n",
        "count=1\r\n",
        "for question in tqdm_notebook([x for x in corpus_test['Content'] if type(x)==str]):\r\n",
        "    temp_list = []\r\n",
        "    for shingle in question.split(' '):\r\n",
        "        if shingle not in stop_words:\r\n",
        "            temp_list.append(shingle.lower())\r\n",
        "    set_dict_test[\"m{0}\".format(count)] = set(temp_list)\r\n",
        "    count +=1"
      ],
      "execution_count": 28,
      "outputs": [
        {
          "output_type": "stream",
          "text": [
            "/usr/local/lib/python3.6/dist-packages/ipykernel_launcher.py:4: TqdmDeprecationWarning: This function will be removed in tqdm==5.0.0\n",
            "Please use `tqdm.notebook.tqdm` instead of `tqdm.tqdm_notebook`\n",
            "  after removing the cwd from sys.path.\n"
          ],
          "name": "stderr"
        },
        {
          "output_type": "display_data",
          "data": {
            "application/vnd.jupyter.widget-view+json": {
              "model_id": "ea0e7d32e1cd4deba19c552330362545",
              "version_minor": 0,
              "version_major": 2
            },
            "text/plain": [
              "HBox(children=(FloatProgress(value=0.0, max=5374.0), HTML(value='')))"
            ]
          },
          "metadata": {
            "tags": []
          }
        },
        {
          "output_type": "stream",
          "text": [
            "\n"
          ],
          "name": "stdout"
        }
      ]
    },
    {
      "cell_type": "markdown",
      "metadata": {
        "id": "4Aq6I2PEA8OD"
      },
      "source": [
        "##Create minHash signatures: map question id (eg 'm23') to min hash signatures"
      ]
    },
    {
      "cell_type": "code",
      "metadata": {
        "id": "oNXPZ0YMA66W"
      },
      "source": [
        "num_perm = 32"
      ],
      "execution_count": 29,
      "outputs": []
    },
    {
      "cell_type": "code",
      "metadata": {
        "colab": {
          "base_uri": "https://localhost:8080/",
          "height": 0,
          "referenced_widgets": [
            "c9067d9ad6fd4d838bde3a7e7f415487",
            "4000edb61607497697200cf5973b8b9e",
            "6790e07be5244b2aa4244649a218a71a",
            "61598b8147b84492af74e889c9ebec47",
            "c76cba17f1074b37a9fef95ae5f650a0",
            "017d52ee004c4036af2775fddfe43ed0",
            "1dd36138526c4fe8b9a01afc41fb71ee",
            "9833a84141104f4a876d2e81aa1fa564"
          ]
        },
        "id": "F-7TGb2rBD2t",
        "outputId": "434cd4bb-a304-4e8d-9e84-3f19a5716983"
      },
      "source": [
        "min_dict = {}\r\n",
        "count2 = 1\r\n",
        "for val in tqdm_notebook(set_dict.values()): \r\n",
        "    m = MinHash(num_perm=num_perm)\r\n",
        "    for shingle in val:\r\n",
        "        m.update(shingle.encode('utf8'))\r\n",
        "    min_dict[\"m{}\".format(count2)] = m\r\n",
        "    count2+=1"
      ],
      "execution_count": 30,
      "outputs": [
        {
          "output_type": "stream",
          "text": [
            "/usr/local/lib/python3.6/dist-packages/ipykernel_launcher.py:3: TqdmDeprecationWarning: This function will be removed in tqdm==5.0.0\n",
            "Please use `tqdm.notebook.tqdm` instead of `tqdm.tqdm_notebook`\n",
            "  This is separate from the ipykernel package so we can avoid doing imports until\n"
          ],
          "name": "stderr"
        },
        {
          "output_type": "display_data",
          "data": {
            "application/vnd.jupyter.widget-view+json": {
              "model_id": "c9067d9ad6fd4d838bde3a7e7f415487",
              "version_minor": 0,
              "version_major": 2
            },
            "text/plain": [
              "HBox(children=(FloatProgress(value=0.0, max=531990.0), HTML(value='')))"
            ]
          },
          "metadata": {
            "tags": []
          }
        },
        {
          "output_type": "stream",
          "text": [
            "\n"
          ],
          "name": "stdout"
        }
      ]
    },
    {
      "cell_type": "code",
      "metadata": {
        "colab": {
          "base_uri": "https://localhost:8080/",
          "height": 0,
          "referenced_widgets": [
            "68a6dfa7fb16464f9b008ce65e3a0e6a",
            "53557d2ffe35406a82af79b538add3fd",
            "3d4dbd5ff8ae4797aed78c653153941d",
            "15e97e16c4464757abff75a99c634bd0",
            "053ee33ca0bd47f6b6557c5e876882b1",
            "7b14345ac46c4e5d8ac408343a50c8f8",
            "29f6abc0f42f4af0b6c20901a8c09d36",
            "741f11cb4c014d86ac0b98b4a523e670"
          ]
        },
        "id": "oBAsyPEY7Fhy",
        "outputId": "b93ce55d-49c2-4557-ba94-ae922ddcc6de"
      },
      "source": [
        "min_dict_test = {}\r\n",
        "count2 = 1\r\n",
        "for val in tqdm_notebook(set_dict_test.values()): \r\n",
        "    m = MinHash(num_perm=num_perm)\r\n",
        "    for shingle in val:\r\n",
        "        m.update(shingle.encode('utf8'))\r\n",
        "    min_dict_test[\"m{}\".format(count2)] = m\r\n",
        "    count2+=1"
      ],
      "execution_count": 31,
      "outputs": [
        {
          "output_type": "stream",
          "text": [
            "/usr/local/lib/python3.6/dist-packages/ipykernel_launcher.py:3: TqdmDeprecationWarning: This function will be removed in tqdm==5.0.0\n",
            "Please use `tqdm.notebook.tqdm` instead of `tqdm.tqdm_notebook`\n",
            "  This is separate from the ipykernel package so we can avoid doing imports until\n"
          ],
          "name": "stderr"
        },
        {
          "output_type": "display_data",
          "data": {
            "application/vnd.jupyter.widget-view+json": {
              "model_id": "68a6dfa7fb16464f9b008ce65e3a0e6a",
              "version_minor": 0,
              "version_major": 2
            },
            "text/plain": [
              "HBox(children=(FloatProgress(value=0.0, max=5374.0), HTML(value='')))"
            ]
          },
          "metadata": {
            "tags": []
          }
        },
        {
          "output_type": "stream",
          "text": [
            "\n"
          ],
          "name": "stdout"
        }
      ]
    },
    {
      "cell_type": "markdown",
      "metadata": {
        "id": "F7z8FKaoBVqf"
      },
      "source": [
        "##Create LSH index"
      ]
    },
    {
      "cell_type": "code",
      "metadata": {
        "id": "wbdHA7k7BsOY"
      },
      "source": [
        "lsh = MinHashLSH(threshold=0.8, num_perm=num_perm)"
      ],
      "execution_count": 32,
      "outputs": []
    },
    {
      "cell_type": "code",
      "metadata": {
        "colab": {
          "base_uri": "https://localhost:8080/",
          "height": 117,
          "referenced_widgets": [
            "e6186b95549f4d859256d66af5a2a12c",
            "0df87af89b474e21a69de12488deb692",
            "e3e55a601a7c416c8bbfff08886ec48e",
            "d2aa42f0118b4c5cb3e2e39bd3bfb3c9",
            "809cb6d30d2b4908a001a950bc4bf5eb",
            "622f935087e04f33bb3dcb3472f87fc2",
            "b461b450e9284979906ead990fd966cd",
            "41d50fda3a5d41729dc749673c72dfa6"
          ]
        },
        "id": "yeKloi-7IEoW",
        "outputId": "6bd5b2c7-c8d3-41f2-8b66-c84b30ed8def"
      },
      "source": [
        "#for train corpus\r\n",
        "for key in tqdm_notebook(min_dict.keys()):\r\n",
        "    lsh.insert(key,min_dict[key])"
      ],
      "execution_count": 33,
      "outputs": [
        {
          "output_type": "stream",
          "text": [
            "/usr/local/lib/python3.6/dist-packages/ipykernel_launcher.py:2: TqdmDeprecationWarning: This function will be removed in tqdm==5.0.0\n",
            "Please use `tqdm.notebook.tqdm` instead of `tqdm.tqdm_notebook`\n",
            "  \n"
          ],
          "name": "stderr"
        },
        {
          "output_type": "display_data",
          "data": {
            "application/vnd.jupyter.widget-view+json": {
              "model_id": "e6186b95549f4d859256d66af5a2a12c",
              "version_minor": 0,
              "version_major": 2
            },
            "text/plain": [
              "HBox(children=(FloatProgress(value=0.0, max=531990.0), HTML(value='')))"
            ]
          },
          "metadata": {
            "tags": []
          }
        },
        {
          "output_type": "stream",
          "text": [
            "\n"
          ],
          "name": "stdout"
        }
      ]
    },
    {
      "cell_type": "code",
      "metadata": {
        "colab": {
          "base_uri": "https://localhost:8080/",
          "height": 117,
          "referenced_widgets": [
            "074e47a8ac4349c8a86843c2b168e319",
            "0abc90595c114cf8ad5c3e730eaf49a0",
            "7629bf0ac62b4e73acbbcfef837f897c",
            "7739e46f52e0437b8cbfb7282be2bf5d",
            "dfa573cd2133478e919c30359f54c070",
            "d36d358bef4a42e3803bd5658b4f165b",
            "acc6bf97cd2b4dbda8ee6f4064ac5c5e",
            "d9aef2765fa046b997d595855526f103"
          ]
        },
        "id": "n2EEm1M4awZH",
        "outputId": "b7227ea2-c3aa-4ef6-e876-0cfabc579241"
      },
      "source": [
        "#for test corpus\r\n",
        "for key in tqdm_notebook(min_dict_test.keys()):\r\n",
        "  lsh.insert(\"m\"+ str(int(re.sub(\"[^0-9]\", \"\", key)) + 531990),min_dict_test[key])"
      ],
      "execution_count": 34,
      "outputs": [
        {
          "output_type": "stream",
          "text": [
            "/usr/local/lib/python3.6/dist-packages/ipykernel_launcher.py:2: TqdmDeprecationWarning: This function will be removed in tqdm==5.0.0\n",
            "Please use `tqdm.notebook.tqdm` instead of `tqdm.tqdm_notebook`\n",
            "  \n"
          ],
          "name": "stderr"
        },
        {
          "output_type": "display_data",
          "data": {
            "application/vnd.jupyter.widget-view+json": {
              "model_id": "074e47a8ac4349c8a86843c2b168e319",
              "version_minor": 0,
              "version_major": 2
            },
            "text/plain": [
              "HBox(children=(FloatProgress(value=0.0, max=5374.0), HTML(value='')))"
            ]
          },
          "metadata": {
            "tags": []
          }
        },
        {
          "output_type": "stream",
          "text": [
            "\n"
          ],
          "name": "stdout"
        }
      ]
    },
    {
      "cell_type": "markdown",
      "metadata": {
        "id": "SXiomwycCCxL"
      },
      "source": [
        "##Create candidate pairs"
      ]
    },
    {
      "cell_type": "markdown",
      "metadata": {
        "id": "u6lV31cQCKF5"
      },
      "source": [
        "Method to create the candidate pairs in the LSH index. We need to keep in those from the train set."
      ]
    },
    {
      "cell_type": "code",
      "metadata": {
        "id": "CxQKLBHQI2oH"
      },
      "source": [
        "def create_cand_pairs():\r\n",
        "    big_list = []\r\n",
        "    #query the test corpus\r\n",
        "    for query in min_dict_test.keys():\r\n",
        "        bucket = lsh.query(min_dict_test[query])\r\n",
        "        if len(bucket)==1:\r\n",
        "            big_list.append([bucket[0],\"None\"])\r\n",
        "        if len(bucket)>1:\r\n",
        "            first_val = bucket[0]\r\n",
        "            for val in bucket[1:]:\r\n",
        "                second_val = val\r\n",
        "                big_list.append([first_val,second_val])\r\n",
        "    return big_list\r\n",
        "        \r\n",
        "        \r\n",
        "cand_pairs = create_cand_pairs()"
      ],
      "execution_count": 35,
      "outputs": []
    },
    {
      "cell_type": "code",
      "metadata": {
        "colab": {
          "base_uri": "https://localhost:8080/"
        },
        "id": "z5DC16srVWty",
        "outputId": "440de103-46d9-4cb8-ed56-ca0eaf61c92d"
      },
      "source": [
        "import re\r\n",
        "count = 0\r\n",
        "lsh_dup_cand = []\r\n",
        "for c in cand_pairs: \r\n",
        "  if c[0] != \"None\" and c[1] != \"None\":\r\n",
        "    first = int(re.sub(\"[^0-9]\", \"\", c[0]))\r\n",
        "    second = int(re.sub(\"[^0-9]\", \"\", c[1]))\r\n",
        "    if first > 531989 and second <= 531989:\r\n",
        "      count = count + 1 \r\n",
        "      lsh_dup_cand.append([first, second])\r\n",
        "      continue\r\n",
        "    elif second > 531989 and first <= 531989:\r\n",
        "      count = count + 1 \r\n",
        "      lsh_dup_cand.append([second, first])\r\n",
        "print(\"candidate duplicate pairs = \" + str(count))"
      ],
      "execution_count": 36,
      "outputs": [
        {
          "output_type": "stream",
          "text": [
            "candidate duplicate pairs = 1092\n"
          ],
          "name": "stdout"
        }
      ]
    },
    {
      "cell_type": "markdown",
      "metadata": {
        "id": "GjSS64Pfu_fN"
      },
      "source": [
        "#Exact Cosine Similarity"
      ]
    },
    {
      "cell_type": "code",
      "metadata": {
        "id": "Jx-zFgcDg2i9"
      },
      "source": [
        "from sklearn.metrics.pairwise import cosine_similarity"
      ],
      "execution_count": 19,
      "outputs": []
    },
    {
      "cell_type": "code",
      "metadata": {
        "colab": {
          "base_uri": "https://localhost:8080/"
        },
        "id": "IrKYGizdufCs",
        "outputId": "bcc367e8-3bfb-4f43-9beb-3d230b6a4dff"
      },
      "source": [
        "count = 0\r\n",
        "i = 0\r\n",
        "similar = []\r\n",
        "res = cosine_similarity(vectorized_combined_content[0:5374], vectorized_combined_content[5374:100000])\r\n",
        "for inner_res in res:\r\n",
        "  for c in inner_res:\r\n",
        "    if c > 0.8: \r\n",
        "      similar.append(i)\r\n",
        "      count = count + 1\r\n",
        "      break\r\n",
        "  i = i + 1\r\n",
        "print(count)"
      ],
      "execution_count": 20,
      "outputs": [
        {
          "output_type": "stream",
          "text": [
            "1116\n"
          ],
          "name": "stdout"
        }
      ]
    },
    {
      "cell_type": "code",
      "metadata": {
        "colab": {
          "base_uri": "https://localhost:8080/"
        },
        "id": "nhd9DH2IBsFq",
        "outputId": "b1b6cf75-3618-4d61-e158-bf1543e46064"
      },
      "source": [
        "i = 0\r\n",
        "res = cosine_similarity(vectorized_combined_content[0:5374], vectorized_combined_content[100000:200000])\r\n",
        "for inner_res in res:\r\n",
        "  for c in inner_res:\r\n",
        "    if c > 0.8 and i not in similar: \r\n",
        "      similar.append(i)\r\n",
        "      count = count + 1\r\n",
        "      break\r\n",
        "  i = i +1\r\n",
        "print(count)"
      ],
      "execution_count": 21,
      "outputs": [
        {
          "output_type": "stream",
          "text": [
            "1529\n"
          ],
          "name": "stdout"
        }
      ]
    },
    {
      "cell_type": "code",
      "metadata": {
        "colab": {
          "base_uri": "https://localhost:8080/"
        },
        "id": "02YkG2rhDa37",
        "outputId": "ba709bb7-0c12-4b7c-a2bf-0bcc55c3c764"
      },
      "source": [
        "i = 0\r\n",
        "res = cosine_similarity(vectorized_combined_content[0:5374], vectorized_combined_content[200000:300000])\r\n",
        "for inner_res in res:\r\n",
        "  for c in inner_res:\r\n",
        "    if c > 0.8 and i not in similar: \r\n",
        "      similar.append(i)\r\n",
        "      count = count + 1\r\n",
        "      break\r\n",
        "  i = i +1\r\n",
        "print(count)"
      ],
      "execution_count": 22,
      "outputs": [
        {
          "output_type": "stream",
          "text": [
            "1790\n"
          ],
          "name": "stdout"
        }
      ]
    },
    {
      "cell_type": "code",
      "metadata": {
        "colab": {
          "base_uri": "https://localhost:8080/"
        },
        "id": "xaeuWEluIfFB",
        "outputId": "6b325847-a47d-48ed-c89f-17745d4cced4"
      },
      "source": [
        "i = 0\r\n",
        "res = cosine_similarity(vectorized_combined_content[0:5374], vectorized_combined_content[300000:400000])\r\n",
        "for inner_res in res:\r\n",
        "  for c in inner_res:\r\n",
        "    if c > 0.8 and i not in similar: \r\n",
        "      similar.append(i)\r\n",
        "      count = count + 1\r\n",
        "      break\r\n",
        "  i = i +1\r\n",
        "print(count)"
      ],
      "execution_count": 23,
      "outputs": [
        {
          "output_type": "stream",
          "text": [
            "1998\n"
          ],
          "name": "stdout"
        }
      ]
    },
    {
      "cell_type": "code",
      "metadata": {
        "colab": {
          "base_uri": "https://localhost:8080/"
        },
        "id": "tfO--wrGJbZc",
        "outputId": "dbba8bbf-1005-4f1b-abe3-9e6e59563529"
      },
      "source": [
        "i = 0\r\n",
        "res = cosine_similarity(vectorized_combined_content[0:5374], vectorized_combined_content[400000:])\r\n",
        "for inner_res in res:\r\n",
        "  for c in inner_res:\r\n",
        "    if c > 0.8 and i not in similar: \r\n",
        "      similar.append(i)\r\n",
        "      count = count + 1\r\n",
        "      break\r\n",
        "  i = i +1\r\n",
        "print(count)"
      ],
      "execution_count": 24,
      "outputs": [
        {
          "output_type": "stream",
          "text": [
            "2218\n"
          ],
          "name": "stdout"
        }
      ]
    },
    {
      "cell_type": "code",
      "metadata": {
        "colab": {
          "base_uri": "https://localhost:8080/"
        },
        "id": "mc2Gvq2wJGcI",
        "outputId": "f6a1de3b-5856-4aab-c714-b9f0b384d632"
      },
      "source": [
        "print(\"Duplicates identified with exact cosine: \" + str(len(similar)))"
      ],
      "execution_count": 25,
      "outputs": [
        {
          "output_type": "stream",
          "text": [
            "Duplicates identified with exact cosine: 2218\n"
          ],
          "name": "stdout"
        }
      ]
    },
    {
      "cell_type": "markdown",
      "metadata": {
        "id": "AwWAqoiovLUk"
      },
      "source": [
        "#Exact Jaccard Similarity"
      ]
    },
    {
      "cell_type": "code",
      "metadata": {
        "id": "EoKT9FIsY_4D"
      },
      "source": [
        "import numpy as np\n",
        "from sklearn.metrics import jaccard_score, accuracy_score"
      ],
      "execution_count": null,
      "outputs": []
    },
    {
      "cell_type": "code",
      "metadata": {
        "id": "9CR2L1jpvZh9"
      },
      "source": [
        "vectorized_test_arr = vectorized_combined_content[0:5374].toarray()"
      ],
      "execution_count": null,
      "outputs": []
    },
    {
      "cell_type": "code",
      "metadata": {
        "id": "zF5JrSWhIoII"
      },
      "source": [
        "def jaccard(list1, list2):\r\n",
        "    intersection = len(list(set(list1).intersection(list2)))\r\n",
        "    union = (len(list1) + len(list2)) - intersection\r\n",
        "    return float(intersection) / union"
      ],
      "execution_count": null,
      "outputs": []
    },
    {
      "cell_type": "code",
      "metadata": {
        "id": "fDku_3pJIt7Q"
      },
      "source": [
        "for j in range(5374):\r\n",
        "  c = jaccard_score(vectorized_test_arr[5373], vectorized_test_arr[j], average='macro')\r\n",
        "  if c > 0.8: \r\n",
        "    count = count + 1"
      ],
      "execution_count": null,
      "outputs": []
    },
    {
      "cell_type": "code",
      "metadata": {
        "colab": {
          "base_uri": "https://localhost:8080/"
        },
        "id": "xscLqKQpvQ1s",
        "outputId": "ecb73d30-b42a-4f53-c5b5-49bcc0440bf3"
      },
      "source": [
        "count = 0\n",
        "temp = []\n",
        "for i in range(5374, 6000):\n",
        "  temp = vectorized_combined_content[i].toarray()\n",
        "  for j in range(5374):\n",
        "    c = jaccard_score(temp[0], vectorized_test_arr[j], average='macro')\n",
        "    if c > 0.8: \n",
        "      count = count + 1\n",
        "      break\n",
        "print(count)"
      ],
      "execution_count": null,
      "outputs": [
        {
          "output_type": "stream",
          "text": [
            "38\n"
          ],
          "name": "stdout"
        }
      ]
    },
    {
      "cell_type": "markdown",
      "metadata": {
        "id": "1UBwcps4Yvzk"
      },
      "source": [
        "#LSH-Cosine"
      ]
    },
    {
      "cell_type": "code",
      "metadata": {
        "colab": {
          "base_uri": "https://localhost:8080/"
        },
        "id": "ajiwUp8nY4rH",
        "outputId": "d4fbbee4-672d-4737-92fd-95afd1d2af34"
      },
      "source": [
        "count = 0\r\n",
        "i = 0\r\n",
        "similar_lsh_con = []\r\n",
        "for cand in lsh_dup_cand:\r\n",
        "  res = cosine_similarity(vectorized_combined_content[cand[0]], vectorized_combined_content[5375:])\r\n",
        "  for inner_res in res:\r\n",
        "    for c in inner_res:\r\n",
        "      if c > 0.8: \r\n",
        "        similar_lsh_con.append(i)\r\n",
        "        count = count + 1\r\n",
        "        break\r\n",
        "  i = i + 1\r\n",
        "print(count)"
      ],
      "execution_count": 44,
      "outputs": [
        {
          "output_type": "stream",
          "text": [
            "1082\n"
          ],
          "name": "stdout"
        }
      ]
    },
    {
      "cell_type": "code",
      "metadata": {
        "colab": {
          "base_uri": "https://localhost:8080/"
        },
        "id": "T-1c_irwfOrH",
        "outputId": "f10ee88c-c1d5-43f3-abcd-7af1fd9cfdde"
      },
      "source": [
        "lsh_dup_cand[0]\r\n",
        "res = cosine_similarity(vectorized_combined_content[lsh_dup_cand[0]], vectorized_combined_content[5375:])\r\n",
        "res"
      ],
      "execution_count": 41,
      "outputs": [
        {
          "output_type": "execute_result",
          "data": {
            "text/plain": [
              "array([[0.        , 0.        , 0.        , ..., 0.        , 0.        ,\n",
              "        0.        ],\n",
              "       [0.        , 0.        , 0.25819889, ..., 0.        , 0.        ,\n",
              "        0.        ]])"
            ]
          },
          "metadata": {
            "tags": []
          },
          "execution_count": 41
        }
      ]
    },
    {
      "cell_type": "markdown",
      "metadata": {
        "id": "Ouy3mhYXgK3t"
      },
      "source": [
        "# LSH Jaccard\r\n"
      ]
    }
  ]
}