{
  "nbformat": 4,
  "nbformat_minor": 0,
  "metadata": {
    "colab": {
      "name": "Q2A.ipynb",
      "provenance": [],
      "collapsed_sections": []
    },
    "kernelspec": {
      "display_name": "Python 3",
      "name": "python3"
    },
    "widgets": {
      "application/vnd.jupyter.widget-state+json": {
        "09340fb2455a4ed5bab0339999275ae2": {
          "model_module": "@jupyter-widgets/controls",
          "model_name": "HBoxModel",
          "state": {
            "_view_name": "HBoxView",
            "_dom_classes": [],
            "_model_name": "HBoxModel",
            "_view_module": "@jupyter-widgets/controls",
            "_model_module_version": "1.5.0",
            "_view_count": null,
            "_view_module_version": "1.5.0",
            "box_style": "",
            "layout": "IPY_MODEL_41dc6116c3f64d58a3fdf0b3b0765f92",
            "_model_module": "@jupyter-widgets/controls",
            "children": [
              "IPY_MODEL_0589c35c4c0a4adeaac20361516689db",
              "IPY_MODEL_160a2df7ef444f5fa785902fd327e555"
            ]
          }
        },
        "41dc6116c3f64d58a3fdf0b3b0765f92": {
          "model_module": "@jupyter-widgets/base",
          "model_name": "LayoutModel",
          "state": {
            "_view_name": "LayoutView",
            "grid_template_rows": null,
            "right": null,
            "justify_content": null,
            "_view_module": "@jupyter-widgets/base",
            "overflow": null,
            "_model_module_version": "1.2.0",
            "_view_count": null,
            "flex_flow": null,
            "width": null,
            "min_width": null,
            "border": null,
            "align_items": null,
            "bottom": null,
            "_model_module": "@jupyter-widgets/base",
            "top": null,
            "grid_column": null,
            "overflow_y": null,
            "overflow_x": null,
            "grid_auto_flow": null,
            "grid_area": null,
            "grid_template_columns": null,
            "flex": null,
            "_model_name": "LayoutModel",
            "justify_items": null,
            "grid_row": null,
            "max_height": null,
            "align_content": null,
            "visibility": null,
            "align_self": null,
            "height": null,
            "min_height": null,
            "padding": null,
            "grid_auto_rows": null,
            "grid_gap": null,
            "max_width": null,
            "order": null,
            "_view_module_version": "1.2.0",
            "grid_template_areas": null,
            "object_position": null,
            "object_fit": null,
            "grid_auto_columns": null,
            "margin": null,
            "display": null,
            "left": null
          }
        },
        "0589c35c4c0a4adeaac20361516689db": {
          "model_module": "@jupyter-widgets/controls",
          "model_name": "FloatProgressModel",
          "state": {
            "_view_name": "ProgressView",
            "style": "IPY_MODEL_20262a3ca800462c97409f5be9cbe3a2",
            "_dom_classes": [],
            "description": "100%",
            "_model_name": "FloatProgressModel",
            "bar_style": "success",
            "max": 537364,
            "_view_module": "@jupyter-widgets/controls",
            "_model_module_version": "1.5.0",
            "value": 537364,
            "_view_count": null,
            "_view_module_version": "1.5.0",
            "orientation": "horizontal",
            "min": 0,
            "description_tooltip": null,
            "_model_module": "@jupyter-widgets/controls",
            "layout": "IPY_MODEL_932f24be225d48d5b4af8a30dfd931a7"
          }
        },
        "160a2df7ef444f5fa785902fd327e555": {
          "model_module": "@jupyter-widgets/controls",
          "model_name": "HTMLModel",
          "state": {
            "_view_name": "HTMLView",
            "style": "IPY_MODEL_d12d64c9f5d44c768b28bb2e1b23c6d1",
            "_dom_classes": [],
            "description": "",
            "_model_name": "HTMLModel",
            "placeholder": "​",
            "_view_module": "@jupyter-widgets/controls",
            "_model_module_version": "1.5.0",
            "value": " 537364/537364 [03:15&lt;00:00, 2745.38it/s]",
            "_view_count": null,
            "_view_module_version": "1.5.0",
            "description_tooltip": null,
            "_model_module": "@jupyter-widgets/controls",
            "layout": "IPY_MODEL_b8e22d5be605445581a4c571073c09ac"
          }
        },
        "20262a3ca800462c97409f5be9cbe3a2": {
          "model_module": "@jupyter-widgets/controls",
          "model_name": "ProgressStyleModel",
          "state": {
            "_view_name": "StyleView",
            "_model_name": "ProgressStyleModel",
            "description_width": "initial",
            "_view_module": "@jupyter-widgets/base",
            "_model_module_version": "1.5.0",
            "_view_count": null,
            "_view_module_version": "1.2.0",
            "bar_color": null,
            "_model_module": "@jupyter-widgets/controls"
          }
        },
        "932f24be225d48d5b4af8a30dfd931a7": {
          "model_module": "@jupyter-widgets/base",
          "model_name": "LayoutModel",
          "state": {
            "_view_name": "LayoutView",
            "grid_template_rows": null,
            "right": null,
            "justify_content": null,
            "_view_module": "@jupyter-widgets/base",
            "overflow": null,
            "_model_module_version": "1.2.0",
            "_view_count": null,
            "flex_flow": null,
            "width": null,
            "min_width": null,
            "border": null,
            "align_items": null,
            "bottom": null,
            "_model_module": "@jupyter-widgets/base",
            "top": null,
            "grid_column": null,
            "overflow_y": null,
            "overflow_x": null,
            "grid_auto_flow": null,
            "grid_area": null,
            "grid_template_columns": null,
            "flex": null,
            "_model_name": "LayoutModel",
            "justify_items": null,
            "grid_row": null,
            "max_height": null,
            "align_content": null,
            "visibility": null,
            "align_self": null,
            "height": null,
            "min_height": null,
            "padding": null,
            "grid_auto_rows": null,
            "grid_gap": null,
            "max_width": null,
            "order": null,
            "_view_module_version": "1.2.0",
            "grid_template_areas": null,
            "object_position": null,
            "object_fit": null,
            "grid_auto_columns": null,
            "margin": null,
            "display": null,
            "left": null
          }
        },
        "d12d64c9f5d44c768b28bb2e1b23c6d1": {
          "model_module": "@jupyter-widgets/controls",
          "model_name": "DescriptionStyleModel",
          "state": {
            "_view_name": "StyleView",
            "_model_name": "DescriptionStyleModel",
            "description_width": "",
            "_view_module": "@jupyter-widgets/base",
            "_model_module_version": "1.5.0",
            "_view_count": null,
            "_view_module_version": "1.2.0",
            "_model_module": "@jupyter-widgets/controls"
          }
        },
        "b8e22d5be605445581a4c571073c09ac": {
          "model_module": "@jupyter-widgets/base",
          "model_name": "LayoutModel",
          "state": {
            "_view_name": "LayoutView",
            "grid_template_rows": null,
            "right": null,
            "justify_content": null,
            "_view_module": "@jupyter-widgets/base",
            "overflow": null,
            "_model_module_version": "1.2.0",
            "_view_count": null,
            "flex_flow": null,
            "width": null,
            "min_width": null,
            "border": null,
            "align_items": null,
            "bottom": null,
            "_model_module": "@jupyter-widgets/base",
            "top": null,
            "grid_column": null,
            "overflow_y": null,
            "overflow_x": null,
            "grid_auto_flow": null,
            "grid_area": null,
            "grid_template_columns": null,
            "flex": null,
            "_model_name": "LayoutModel",
            "justify_items": null,
            "grid_row": null,
            "max_height": null,
            "align_content": null,
            "visibility": null,
            "align_self": null,
            "height": null,
            "min_height": null,
            "padding": null,
            "grid_auto_rows": null,
            "grid_gap": null,
            "max_width": null,
            "order": null,
            "_view_module_version": "1.2.0",
            "grid_template_areas": null,
            "object_position": null,
            "object_fit": null,
            "grid_auto_columns": null,
            "margin": null,
            "display": null,
            "left": null
          }
        },
        "97004825b9f740909116fcf3013cb160": {
          "model_module": "@jupyter-widgets/controls",
          "model_name": "HBoxModel",
          "state": {
            "_view_name": "HBoxView",
            "_dom_classes": [],
            "_model_name": "HBoxModel",
            "_view_module": "@jupyter-widgets/controls",
            "_model_module_version": "1.5.0",
            "_view_count": null,
            "_view_module_version": "1.5.0",
            "box_style": "",
            "layout": "IPY_MODEL_12b92b3876b94da0b59190645af84593",
            "_model_module": "@jupyter-widgets/controls",
            "children": [
              "IPY_MODEL_5f8390bab099412083d7d66dde1c6a93",
              "IPY_MODEL_4aca51ddc588407ea2d747d44acc57d7"
            ]
          }
        },
        "12b92b3876b94da0b59190645af84593": {
          "model_module": "@jupyter-widgets/base",
          "model_name": "LayoutModel",
          "state": {
            "_view_name": "LayoutView",
            "grid_template_rows": null,
            "right": null,
            "justify_content": null,
            "_view_module": "@jupyter-widgets/base",
            "overflow": null,
            "_model_module_version": "1.2.0",
            "_view_count": null,
            "flex_flow": null,
            "width": null,
            "min_width": null,
            "border": null,
            "align_items": null,
            "bottom": null,
            "_model_module": "@jupyter-widgets/base",
            "top": null,
            "grid_column": null,
            "overflow_y": null,
            "overflow_x": null,
            "grid_auto_flow": null,
            "grid_area": null,
            "grid_template_columns": null,
            "flex": null,
            "_model_name": "LayoutModel",
            "justify_items": null,
            "grid_row": null,
            "max_height": null,
            "align_content": null,
            "visibility": null,
            "align_self": null,
            "height": null,
            "min_height": null,
            "padding": null,
            "grid_auto_rows": null,
            "grid_gap": null,
            "max_width": null,
            "order": null,
            "_view_module_version": "1.2.0",
            "grid_template_areas": null,
            "object_position": null,
            "object_fit": null,
            "grid_auto_columns": null,
            "margin": null,
            "display": null,
            "left": null
          }
        },
        "5f8390bab099412083d7d66dde1c6a93": {
          "model_module": "@jupyter-widgets/controls",
          "model_name": "FloatProgressModel",
          "state": {
            "_view_name": "ProgressView",
            "style": "IPY_MODEL_c6f20ae05e354f318abd2ad595a923ca",
            "_dom_classes": [],
            "description": "100%",
            "_model_name": "FloatProgressModel",
            "bar_style": "success",
            "max": 531989,
            "_view_module": "@jupyter-widgets/controls",
            "_model_module_version": "1.5.0",
            "value": 531989,
            "_view_count": null,
            "_view_module_version": "1.5.0",
            "orientation": "horizontal",
            "min": 0,
            "description_tooltip": null,
            "_model_module": "@jupyter-widgets/controls",
            "layout": "IPY_MODEL_2d409b6bde1b49bda3b030cf1bc988d0"
          }
        },
        "4aca51ddc588407ea2d747d44acc57d7": {
          "model_module": "@jupyter-widgets/controls",
          "model_name": "HTMLModel",
          "state": {
            "_view_name": "HTMLView",
            "style": "IPY_MODEL_0402874a3f3e4156adb4d640aecc208d",
            "_dom_classes": [],
            "description": "",
            "_model_name": "HTMLModel",
            "placeholder": "​",
            "_view_module": "@jupyter-widgets/controls",
            "_model_module_version": "1.5.0",
            "value": " 531989/531989 [07:22&lt;00:00, 1202.64it/s]",
            "_view_count": null,
            "_view_module_version": "1.5.0",
            "description_tooltip": null,
            "_model_module": "@jupyter-widgets/controls",
            "layout": "IPY_MODEL_bf34dcb51e5a444287d2bed12c626b61"
          }
        },
        "c6f20ae05e354f318abd2ad595a923ca": {
          "model_module": "@jupyter-widgets/controls",
          "model_name": "ProgressStyleModel",
          "state": {
            "_view_name": "StyleView",
            "_model_name": "ProgressStyleModel",
            "description_width": "initial",
            "_view_module": "@jupyter-widgets/base",
            "_model_module_version": "1.5.0",
            "_view_count": null,
            "_view_module_version": "1.2.0",
            "bar_color": null,
            "_model_module": "@jupyter-widgets/controls"
          }
        },
        "2d409b6bde1b49bda3b030cf1bc988d0": {
          "model_module": "@jupyter-widgets/base",
          "model_name": "LayoutModel",
          "state": {
            "_view_name": "LayoutView",
            "grid_template_rows": null,
            "right": null,
            "justify_content": null,
            "_view_module": "@jupyter-widgets/base",
            "overflow": null,
            "_model_module_version": "1.2.0",
            "_view_count": null,
            "flex_flow": null,
            "width": null,
            "min_width": null,
            "border": null,
            "align_items": null,
            "bottom": null,
            "_model_module": "@jupyter-widgets/base",
            "top": null,
            "grid_column": null,
            "overflow_y": null,
            "overflow_x": null,
            "grid_auto_flow": null,
            "grid_area": null,
            "grid_template_columns": null,
            "flex": null,
            "_model_name": "LayoutModel",
            "justify_items": null,
            "grid_row": null,
            "max_height": null,
            "align_content": null,
            "visibility": null,
            "align_self": null,
            "height": null,
            "min_height": null,
            "padding": null,
            "grid_auto_rows": null,
            "grid_gap": null,
            "max_width": null,
            "order": null,
            "_view_module_version": "1.2.0",
            "grid_template_areas": null,
            "object_position": null,
            "object_fit": null,
            "grid_auto_columns": null,
            "margin": null,
            "display": null,
            "left": null
          }
        },
        "0402874a3f3e4156adb4d640aecc208d": {
          "model_module": "@jupyter-widgets/controls",
          "model_name": "DescriptionStyleModel",
          "state": {
            "_view_name": "StyleView",
            "_model_name": "DescriptionStyleModel",
            "description_width": "",
            "_view_module": "@jupyter-widgets/base",
            "_model_module_version": "1.5.0",
            "_view_count": null,
            "_view_module_version": "1.2.0",
            "_model_module": "@jupyter-widgets/controls"
          }
        },
        "bf34dcb51e5a444287d2bed12c626b61": {
          "model_module": "@jupyter-widgets/base",
          "model_name": "LayoutModel",
          "state": {
            "_view_name": "LayoutView",
            "grid_template_rows": null,
            "right": null,
            "justify_content": null,
            "_view_module": "@jupyter-widgets/base",
            "overflow": null,
            "_model_module_version": "1.2.0",
            "_view_count": null,
            "flex_flow": null,
            "width": null,
            "min_width": null,
            "border": null,
            "align_items": null,
            "bottom": null,
            "_model_module": "@jupyter-widgets/base",
            "top": null,
            "grid_column": null,
            "overflow_y": null,
            "overflow_x": null,
            "grid_auto_flow": null,
            "grid_area": null,
            "grid_template_columns": null,
            "flex": null,
            "_model_name": "LayoutModel",
            "justify_items": null,
            "grid_row": null,
            "max_height": null,
            "align_content": null,
            "visibility": null,
            "align_self": null,
            "height": null,
            "min_height": null,
            "padding": null,
            "grid_auto_rows": null,
            "grid_gap": null,
            "max_width": null,
            "order": null,
            "_view_module_version": "1.2.0",
            "grid_template_areas": null,
            "object_position": null,
            "object_fit": null,
            "grid_auto_columns": null,
            "margin": null,
            "display": null,
            "left": null
          }
        },
        "5b1f2943e7a145abac579e08c705eec1": {
          "model_module": "@jupyter-widgets/controls",
          "model_name": "HBoxModel",
          "state": {
            "_view_name": "HBoxView",
            "_dom_classes": [],
            "_model_name": "HBoxModel",
            "_view_module": "@jupyter-widgets/controls",
            "_model_module_version": "1.5.0",
            "_view_count": null,
            "_view_module_version": "1.5.0",
            "box_style": "",
            "layout": "IPY_MODEL_1a8ec06967244924bb5151aee030ac56",
            "_model_module": "@jupyter-widgets/controls",
            "children": [
              "IPY_MODEL_1634eea49bcc4c1686456fe06624e69b",
              "IPY_MODEL_9f0e4557244e423fad108d33c656ed9e"
            ]
          }
        },
        "1a8ec06967244924bb5151aee030ac56": {
          "model_module": "@jupyter-widgets/base",
          "model_name": "LayoutModel",
          "state": {
            "_view_name": "LayoutView",
            "grid_template_rows": null,
            "right": null,
            "justify_content": null,
            "_view_module": "@jupyter-widgets/base",
            "overflow": null,
            "_model_module_version": "1.2.0",
            "_view_count": null,
            "flex_flow": null,
            "width": null,
            "min_width": null,
            "border": null,
            "align_items": null,
            "bottom": null,
            "_model_module": "@jupyter-widgets/base",
            "top": null,
            "grid_column": null,
            "overflow_y": null,
            "overflow_x": null,
            "grid_auto_flow": null,
            "grid_area": null,
            "grid_template_columns": null,
            "flex": null,
            "_model_name": "LayoutModel",
            "justify_items": null,
            "grid_row": null,
            "max_height": null,
            "align_content": null,
            "visibility": null,
            "align_self": null,
            "height": null,
            "min_height": null,
            "padding": null,
            "grid_auto_rows": null,
            "grid_gap": null,
            "max_width": null,
            "order": null,
            "_view_module_version": "1.2.0",
            "grid_template_areas": null,
            "object_position": null,
            "object_fit": null,
            "grid_auto_columns": null,
            "margin": null,
            "display": null,
            "left": null
          }
        },
        "1634eea49bcc4c1686456fe06624e69b": {
          "model_module": "@jupyter-widgets/controls",
          "model_name": "FloatProgressModel",
          "state": {
            "_view_name": "ProgressView",
            "style": "IPY_MODEL_09a6646e645a465cb239fca3322f7ee7",
            "_dom_classes": [],
            "description": "100%",
            "_model_name": "FloatProgressModel",
            "bar_style": "success",
            "max": 5375,
            "_view_module": "@jupyter-widgets/controls",
            "_model_module_version": "1.5.0",
            "value": 5375,
            "_view_count": null,
            "_view_module_version": "1.5.0",
            "orientation": "horizontal",
            "min": 0,
            "description_tooltip": null,
            "_model_module": "@jupyter-widgets/controls",
            "layout": "IPY_MODEL_2b583ff75b22400882f5a8a4cce17014"
          }
        },
        "9f0e4557244e423fad108d33c656ed9e": {
          "model_module": "@jupyter-widgets/controls",
          "model_name": "HTMLModel",
          "state": {
            "_view_name": "HTMLView",
            "style": "IPY_MODEL_b832ec16298b41d5b996bc1f6b8957d5",
            "_dom_classes": [],
            "description": "",
            "_model_name": "HTMLModel",
            "placeholder": "​",
            "_view_module": "@jupyter-widgets/controls",
            "_model_module_version": "1.5.0",
            "value": " 5375/5375 [01:25&lt;00:00, 63.18it/s]",
            "_view_count": null,
            "_view_module_version": "1.5.0",
            "description_tooltip": null,
            "_model_module": "@jupyter-widgets/controls",
            "layout": "IPY_MODEL_ae06b61c69f54d4785505f74138de3cd"
          }
        },
        "09a6646e645a465cb239fca3322f7ee7": {
          "model_module": "@jupyter-widgets/controls",
          "model_name": "ProgressStyleModel",
          "state": {
            "_view_name": "StyleView",
            "_model_name": "ProgressStyleModel",
            "description_width": "initial",
            "_view_module": "@jupyter-widgets/base",
            "_model_module_version": "1.5.0",
            "_view_count": null,
            "_view_module_version": "1.2.0",
            "bar_color": null,
            "_model_module": "@jupyter-widgets/controls"
          }
        },
        "2b583ff75b22400882f5a8a4cce17014": {
          "model_module": "@jupyter-widgets/base",
          "model_name": "LayoutModel",
          "state": {
            "_view_name": "LayoutView",
            "grid_template_rows": null,
            "right": null,
            "justify_content": null,
            "_view_module": "@jupyter-widgets/base",
            "overflow": null,
            "_model_module_version": "1.2.0",
            "_view_count": null,
            "flex_flow": null,
            "width": null,
            "min_width": null,
            "border": null,
            "align_items": null,
            "bottom": null,
            "_model_module": "@jupyter-widgets/base",
            "top": null,
            "grid_column": null,
            "overflow_y": null,
            "overflow_x": null,
            "grid_auto_flow": null,
            "grid_area": null,
            "grid_template_columns": null,
            "flex": null,
            "_model_name": "LayoutModel",
            "justify_items": null,
            "grid_row": null,
            "max_height": null,
            "align_content": null,
            "visibility": null,
            "align_self": null,
            "height": null,
            "min_height": null,
            "padding": null,
            "grid_auto_rows": null,
            "grid_gap": null,
            "max_width": null,
            "order": null,
            "_view_module_version": "1.2.0",
            "grid_template_areas": null,
            "object_position": null,
            "object_fit": null,
            "grid_auto_columns": null,
            "margin": null,
            "display": null,
            "left": null
          }
        },
        "b832ec16298b41d5b996bc1f6b8957d5": {
          "model_module": "@jupyter-widgets/controls",
          "model_name": "DescriptionStyleModel",
          "state": {
            "_view_name": "StyleView",
            "_model_name": "DescriptionStyleModel",
            "description_width": "",
            "_view_module": "@jupyter-widgets/base",
            "_model_module_version": "1.5.0",
            "_view_count": null,
            "_view_module_version": "1.2.0",
            "_model_module": "@jupyter-widgets/controls"
          }
        },
        "ae06b61c69f54d4785505f74138de3cd": {
          "model_module": "@jupyter-widgets/base",
          "model_name": "LayoutModel",
          "state": {
            "_view_name": "LayoutView",
            "grid_template_rows": null,
            "right": null,
            "justify_content": null,
            "_view_module": "@jupyter-widgets/base",
            "overflow": null,
            "_model_module_version": "1.2.0",
            "_view_count": null,
            "flex_flow": null,
            "width": null,
            "min_width": null,
            "border": null,
            "align_items": null,
            "bottom": null,
            "_model_module": "@jupyter-widgets/base",
            "top": null,
            "grid_column": null,
            "overflow_y": null,
            "overflow_x": null,
            "grid_auto_flow": null,
            "grid_area": null,
            "grid_template_columns": null,
            "flex": null,
            "_model_name": "LayoutModel",
            "justify_items": null,
            "grid_row": null,
            "max_height": null,
            "align_content": null,
            "visibility": null,
            "align_self": null,
            "height": null,
            "min_height": null,
            "padding": null,
            "grid_auto_rows": null,
            "grid_gap": null,
            "max_width": null,
            "order": null,
            "_view_module_version": "1.2.0",
            "grid_template_areas": null,
            "object_position": null,
            "object_fit": null,
            "grid_auto_columns": null,
            "margin": null,
            "display": null,
            "left": null
          }
        },
        "7c17310d186f4fd99e4e934103f43198": {
          "model_module": "@jupyter-widgets/controls",
          "model_name": "HBoxModel",
          "state": {
            "_view_name": "HBoxView",
            "_dom_classes": [],
            "_model_name": "HBoxModel",
            "_view_module": "@jupyter-widgets/controls",
            "_model_module_version": "1.5.0",
            "_view_count": null,
            "_view_module_version": "1.5.0",
            "box_style": "",
            "layout": "IPY_MODEL_26f2963823784664bcb1ec97c864ee1b",
            "_model_module": "@jupyter-widgets/controls",
            "children": [
              "IPY_MODEL_e3959e840e714c59b3dfa49f3a84983a",
              "IPY_MODEL_e5423167911b481daaf229ec718867f1"
            ]
          }
        },
        "26f2963823784664bcb1ec97c864ee1b": {
          "model_module": "@jupyter-widgets/base",
          "model_name": "LayoutModel",
          "state": {
            "_view_name": "LayoutView",
            "grid_template_rows": null,
            "right": null,
            "justify_content": null,
            "_view_module": "@jupyter-widgets/base",
            "overflow": null,
            "_model_module_version": "1.2.0",
            "_view_count": null,
            "flex_flow": null,
            "width": null,
            "min_width": null,
            "border": null,
            "align_items": null,
            "bottom": null,
            "_model_module": "@jupyter-widgets/base",
            "top": null,
            "grid_column": null,
            "overflow_y": null,
            "overflow_x": null,
            "grid_auto_flow": null,
            "grid_area": null,
            "grid_template_columns": null,
            "flex": null,
            "_model_name": "LayoutModel",
            "justify_items": null,
            "grid_row": null,
            "max_height": null,
            "align_content": null,
            "visibility": null,
            "align_self": null,
            "height": null,
            "min_height": null,
            "padding": null,
            "grid_auto_rows": null,
            "grid_gap": null,
            "max_width": null,
            "order": null,
            "_view_module_version": "1.2.0",
            "grid_template_areas": null,
            "object_position": null,
            "object_fit": null,
            "grid_auto_columns": null,
            "margin": null,
            "display": null,
            "left": null
          }
        },
        "e3959e840e714c59b3dfa49f3a84983a": {
          "model_module": "@jupyter-widgets/controls",
          "model_name": "FloatProgressModel",
          "state": {
            "_view_name": "ProgressView",
            "style": "IPY_MODEL_d1a5e5c547ab40d0aab652d79c7de079",
            "_dom_classes": [],
            "description": "100%",
            "_model_name": "FloatProgressModel",
            "bar_style": "success",
            "max": 531989,
            "_view_module": "@jupyter-widgets/controls",
            "_model_module_version": "1.5.0",
            "value": 531989,
            "_view_count": null,
            "_view_module_version": "1.5.0",
            "orientation": "horizontal",
            "min": 0,
            "description_tooltip": null,
            "_model_module": "@jupyter-widgets/controls",
            "layout": "IPY_MODEL_5e7c033bc47f4990a4ebecf5d2be82f8"
          }
        },
        "e5423167911b481daaf229ec718867f1": {
          "model_module": "@jupyter-widgets/controls",
          "model_name": "HTMLModel",
          "state": {
            "_view_name": "HTMLView",
            "style": "IPY_MODEL_3dbbd751793d4cd8bdabbef31451c149",
            "_dom_classes": [],
            "description": "",
            "_model_name": "HTMLModel",
            "placeholder": "​",
            "_view_module": "@jupyter-widgets/controls",
            "_model_module_version": "1.5.0",
            "value": " 531989/531989 [00:08&lt;00:00, 60558.82it/s]",
            "_view_count": null,
            "_view_module_version": "1.5.0",
            "description_tooltip": null,
            "_model_module": "@jupyter-widgets/controls",
            "layout": "IPY_MODEL_7049a1614d414485a928a5b3afba48fc"
          }
        },
        "d1a5e5c547ab40d0aab652d79c7de079": {
          "model_module": "@jupyter-widgets/controls",
          "model_name": "ProgressStyleModel",
          "state": {
            "_view_name": "StyleView",
            "_model_name": "ProgressStyleModel",
            "description_width": "initial",
            "_view_module": "@jupyter-widgets/base",
            "_model_module_version": "1.5.0",
            "_view_count": null,
            "_view_module_version": "1.2.0",
            "bar_color": null,
            "_model_module": "@jupyter-widgets/controls"
          }
        },
        "5e7c033bc47f4990a4ebecf5d2be82f8": {
          "model_module": "@jupyter-widgets/base",
          "model_name": "LayoutModel",
          "state": {
            "_view_name": "LayoutView",
            "grid_template_rows": null,
            "right": null,
            "justify_content": null,
            "_view_module": "@jupyter-widgets/base",
            "overflow": null,
            "_model_module_version": "1.2.0",
            "_view_count": null,
            "flex_flow": null,
            "width": null,
            "min_width": null,
            "border": null,
            "align_items": null,
            "bottom": null,
            "_model_module": "@jupyter-widgets/base",
            "top": null,
            "grid_column": null,
            "overflow_y": null,
            "overflow_x": null,
            "grid_auto_flow": null,
            "grid_area": null,
            "grid_template_columns": null,
            "flex": null,
            "_model_name": "LayoutModel",
            "justify_items": null,
            "grid_row": null,
            "max_height": null,
            "align_content": null,
            "visibility": null,
            "align_self": null,
            "height": null,
            "min_height": null,
            "padding": null,
            "grid_auto_rows": null,
            "grid_gap": null,
            "max_width": null,
            "order": null,
            "_view_module_version": "1.2.0",
            "grid_template_areas": null,
            "object_position": null,
            "object_fit": null,
            "grid_auto_columns": null,
            "margin": null,
            "display": null,
            "left": null
          }
        },
        "3dbbd751793d4cd8bdabbef31451c149": {
          "model_module": "@jupyter-widgets/controls",
          "model_name": "DescriptionStyleModel",
          "state": {
            "_view_name": "StyleView",
            "_model_name": "DescriptionStyleModel",
            "description_width": "",
            "_view_module": "@jupyter-widgets/base",
            "_model_module_version": "1.5.0",
            "_view_count": null,
            "_view_module_version": "1.2.0",
            "_model_module": "@jupyter-widgets/controls"
          }
        },
        "7049a1614d414485a928a5b3afba48fc": {
          "model_module": "@jupyter-widgets/base",
          "model_name": "LayoutModel",
          "state": {
            "_view_name": "LayoutView",
            "grid_template_rows": null,
            "right": null,
            "justify_content": null,
            "_view_module": "@jupyter-widgets/base",
            "overflow": null,
            "_model_module_version": "1.2.0",
            "_view_count": null,
            "flex_flow": null,
            "width": null,
            "min_width": null,
            "border": null,
            "align_items": null,
            "bottom": null,
            "_model_module": "@jupyter-widgets/base",
            "top": null,
            "grid_column": null,
            "overflow_y": null,
            "overflow_x": null,
            "grid_auto_flow": null,
            "grid_area": null,
            "grid_template_columns": null,
            "flex": null,
            "_model_name": "LayoutModel",
            "justify_items": null,
            "grid_row": null,
            "max_height": null,
            "align_content": null,
            "visibility": null,
            "align_self": null,
            "height": null,
            "min_height": null,
            "padding": null,
            "grid_auto_rows": null,
            "grid_gap": null,
            "max_width": null,
            "order": null,
            "_view_module_version": "1.2.0",
            "grid_template_areas": null,
            "object_position": null,
            "object_fit": null,
            "grid_auto_columns": null,
            "margin": null,
            "display": null,
            "left": null
          }
        },
        "912ba14fb288493abf06017b58108f98": {
          "model_module": "@jupyter-widgets/controls",
          "model_name": "HBoxModel",
          "state": {
            "_view_name": "HBoxView",
            "_dom_classes": [],
            "_model_name": "HBoxModel",
            "_view_module": "@jupyter-widgets/controls",
            "_model_module_version": "1.5.0",
            "_view_count": null,
            "_view_module_version": "1.5.0",
            "box_style": "",
            "layout": "IPY_MODEL_b2f8ea661bfd4074a2cc5e422e6453e5",
            "_model_module": "@jupyter-widgets/controls",
            "children": [
              "IPY_MODEL_19080ba9a2804cc083f41ab983ede937",
              "IPY_MODEL_399e7e57a30d40c58fa5f6e6c1165fb3"
            ]
          }
        },
        "b2f8ea661bfd4074a2cc5e422e6453e5": {
          "model_module": "@jupyter-widgets/base",
          "model_name": "LayoutModel",
          "state": {
            "_view_name": "LayoutView",
            "grid_template_rows": null,
            "right": null,
            "justify_content": null,
            "_view_module": "@jupyter-widgets/base",
            "overflow": null,
            "_model_module_version": "1.2.0",
            "_view_count": null,
            "flex_flow": null,
            "width": null,
            "min_width": null,
            "border": null,
            "align_items": null,
            "bottom": null,
            "_model_module": "@jupyter-widgets/base",
            "top": null,
            "grid_column": null,
            "overflow_y": null,
            "overflow_x": null,
            "grid_auto_flow": null,
            "grid_area": null,
            "grid_template_columns": null,
            "flex": null,
            "_model_name": "LayoutModel",
            "justify_items": null,
            "grid_row": null,
            "max_height": null,
            "align_content": null,
            "visibility": null,
            "align_self": null,
            "height": null,
            "min_height": null,
            "padding": null,
            "grid_auto_rows": null,
            "grid_gap": null,
            "max_width": null,
            "order": null,
            "_view_module_version": "1.2.0",
            "grid_template_areas": null,
            "object_position": null,
            "object_fit": null,
            "grid_auto_columns": null,
            "margin": null,
            "display": null,
            "left": null
          }
        },
        "19080ba9a2804cc083f41ab983ede937": {
          "model_module": "@jupyter-widgets/controls",
          "model_name": "FloatProgressModel",
          "state": {
            "_view_name": "ProgressView",
            "style": "IPY_MODEL_7ae17af345d345e4ad0579369b757ebf",
            "_dom_classes": [],
            "description": "100%",
            "_model_name": "FloatProgressModel",
            "bar_style": "success",
            "max": 5375,
            "_view_module": "@jupyter-widgets/controls",
            "_model_module_version": "1.5.0",
            "value": 5375,
            "_view_count": null,
            "_view_module_version": "1.5.0",
            "orientation": "horizontal",
            "min": 0,
            "description_tooltip": null,
            "_model_module": "@jupyter-widgets/controls",
            "layout": "IPY_MODEL_90d66c9c213f4b178c26f5c50c62e12b"
          }
        },
        "399e7e57a30d40c58fa5f6e6c1165fb3": {
          "model_module": "@jupyter-widgets/controls",
          "model_name": "HTMLModel",
          "state": {
            "_view_name": "HTMLView",
            "style": "IPY_MODEL_79dd9839bda249cfacad7fe9ff9d3d42",
            "_dom_classes": [],
            "description": "",
            "_model_name": "HTMLModel",
            "placeholder": "​",
            "_view_module": "@jupyter-widgets/controls",
            "_model_module_version": "1.5.0",
            "value": " 5375/5375 [00:00&lt;00:00, 38714.30it/s]",
            "_view_count": null,
            "_view_module_version": "1.5.0",
            "description_tooltip": null,
            "_model_module": "@jupyter-widgets/controls",
            "layout": "IPY_MODEL_8103517a8cf647e7acbb0fc1a1cdd346"
          }
        },
        "7ae17af345d345e4ad0579369b757ebf": {
          "model_module": "@jupyter-widgets/controls",
          "model_name": "ProgressStyleModel",
          "state": {
            "_view_name": "StyleView",
            "_model_name": "ProgressStyleModel",
            "description_width": "initial",
            "_view_module": "@jupyter-widgets/base",
            "_model_module_version": "1.5.0",
            "_view_count": null,
            "_view_module_version": "1.2.0",
            "bar_color": null,
            "_model_module": "@jupyter-widgets/controls"
          }
        },
        "90d66c9c213f4b178c26f5c50c62e12b": {
          "model_module": "@jupyter-widgets/base",
          "model_name": "LayoutModel",
          "state": {
            "_view_name": "LayoutView",
            "grid_template_rows": null,
            "right": null,
            "justify_content": null,
            "_view_module": "@jupyter-widgets/base",
            "overflow": null,
            "_model_module_version": "1.2.0",
            "_view_count": null,
            "flex_flow": null,
            "width": null,
            "min_width": null,
            "border": null,
            "align_items": null,
            "bottom": null,
            "_model_module": "@jupyter-widgets/base",
            "top": null,
            "grid_column": null,
            "overflow_y": null,
            "overflow_x": null,
            "grid_auto_flow": null,
            "grid_area": null,
            "grid_template_columns": null,
            "flex": null,
            "_model_name": "LayoutModel",
            "justify_items": null,
            "grid_row": null,
            "max_height": null,
            "align_content": null,
            "visibility": null,
            "align_self": null,
            "height": null,
            "min_height": null,
            "padding": null,
            "grid_auto_rows": null,
            "grid_gap": null,
            "max_width": null,
            "order": null,
            "_view_module_version": "1.2.0",
            "grid_template_areas": null,
            "object_position": null,
            "object_fit": null,
            "grid_auto_columns": null,
            "margin": null,
            "display": null,
            "left": null
          }
        },
        "79dd9839bda249cfacad7fe9ff9d3d42": {
          "model_module": "@jupyter-widgets/controls",
          "model_name": "DescriptionStyleModel",
          "state": {
            "_view_name": "StyleView",
            "_model_name": "DescriptionStyleModel",
            "description_width": "",
            "_view_module": "@jupyter-widgets/base",
            "_model_module_version": "1.5.0",
            "_view_count": null,
            "_view_module_version": "1.2.0",
            "_model_module": "@jupyter-widgets/controls"
          }
        },
        "8103517a8cf647e7acbb0fc1a1cdd346": {
          "model_module": "@jupyter-widgets/base",
          "model_name": "LayoutModel",
          "state": {
            "_view_name": "LayoutView",
            "grid_template_rows": null,
            "right": null,
            "justify_content": null,
            "_view_module": "@jupyter-widgets/base",
            "overflow": null,
            "_model_module_version": "1.2.0",
            "_view_count": null,
            "flex_flow": null,
            "width": null,
            "min_width": null,
            "border": null,
            "align_items": null,
            "bottom": null,
            "_model_module": "@jupyter-widgets/base",
            "top": null,
            "grid_column": null,
            "overflow_y": null,
            "overflow_x": null,
            "grid_auto_flow": null,
            "grid_area": null,
            "grid_template_columns": null,
            "flex": null,
            "_model_name": "LayoutModel",
            "justify_items": null,
            "grid_row": null,
            "max_height": null,
            "align_content": null,
            "visibility": null,
            "align_self": null,
            "height": null,
            "min_height": null,
            "padding": null,
            "grid_auto_rows": null,
            "grid_gap": null,
            "max_width": null,
            "order": null,
            "_view_module_version": "1.2.0",
            "grid_template_areas": null,
            "object_position": null,
            "object_fit": null,
            "grid_auto_columns": null,
            "margin": null,
            "display": null,
            "left": null
          }
        }
      }
    }
  },
  "cells": [
    {
      "cell_type": "code",
      "metadata": {
        "id": "pTqFXINK1_jx"
      },
      "source": [
        "!pip install --upgrade datasketch"
      ],
      "execution_count": null,
      "outputs": []
    },
    {
      "cell_type": "code",
      "metadata": {
        "id": "ZNB548OE2emb"
      },
      "source": [
        "import pandas as pd\r\n",
        "import numpy as np\r\n",
        "import matplotlib.pyplot as plt\r\n",
        "import seaborn as sns\r\n",
        "from nltk import wordpunct_tokenize\r\n",
        "from collections import defaultdict\r\n",
        "from nltk import tokenize\r\n",
        "from sklearn.feature_extraction.text import CountVectorizer\r\n",
        "from nltk.tokenize import RegexpTokenizer\r\n",
        "from nltk.corpus import stopwords\r\n",
        "import nltk\r\n",
        "from tqdm import tqdm\r\n",
        "from sklearn.metrics.pairwise import cosine_similarity\r\n",
        "from sklearn import metrics\r\n",
        "import random\r\n",
        "import pylab\r\n",
        "from sklearn.metrics import log_loss\r\n",
        "from sklearn.metrics import average_precision_score\r\n",
        "from sklearn.metrics import precision_recall_curve\r\n",
        "import matplotlib.pyplot as plt\r\n",
        "from tqdm import tnrange, tqdm_notebook\r\n",
        "from datasketch import MinHash, MinHashLSH\r\n",
        "from tqdm import tqdm"
      ],
      "execution_count": null,
      "outputs": []
    },
    {
      "cell_type": "code",
      "metadata": {
        "colab": {
          "base_uri": "https://localhost:8080/"
        },
        "id": "kvoI0YgF1I0O",
        "outputId": "9f425d4d-74bd-4f93-e1d7-67a7952a81d3"
      },
      "source": [
        "nltk.download('stopwords')\r\n",
        "stop_words = set(nltk.corpus.stopwords.words('english'))"
      ],
      "execution_count": null,
      "outputs": [
        {
          "output_type": "stream",
          "text": [
            "[nltk_data] Downloading package stopwords to /root/nltk_data...\n",
            "[nltk_data]   Package stopwords is already up-to-date!\n"
          ],
          "name": "stdout"
        }
      ]
    },
    {
      "cell_type": "code",
      "metadata": {
        "id": "vSNozrocH7-n",
        "colab": {
          "base_uri": "https://localhost:8080/",
          "height": 173
        },
        "outputId": "4373656d-91ff-4f21-88d2-9a0b8e4a5cb1"
      },
      "source": [
        "corpus_test = pd.read_csv(\"/content/drive/MyDrive/Colab Notebooks/corpusTest.csv\")\n",
        "corpus_test.shape\n",
        "corpus_test[5370:5374]"
      ],
      "execution_count": null,
      "outputs": [
        {
          "output_type": "execute_result",
          "data": {
            "text/html": [
              "<div>\n",
              "<style scoped>\n",
              "    .dataframe tbody tr th:only-of-type {\n",
              "        vertical-align: middle;\n",
              "    }\n",
              "\n",
              "    .dataframe tbody tr th {\n",
              "        vertical-align: top;\n",
              "    }\n",
              "\n",
              "    .dataframe thead th {\n",
              "        text-align: right;\n",
              "    }\n",
              "</style>\n",
              "<table border=\"1\" class=\"dataframe\">\n",
              "  <thead>\n",
              "    <tr style=\"text-align: right;\">\n",
              "      <th></th>\n",
              "      <th>Id</th>\n",
              "      <th>Content</th>\n",
              "    </tr>\n",
              "  </thead>\n",
              "  <tbody>\n",
              "    <tr>\n",
              "      <th>5370</th>\n",
              "      <td>5370</td>\n",
              "      <td>What role does music play in our life?\\n</td>\n",
              "    </tr>\n",
              "    <tr>\n",
              "      <th>5371</th>\n",
              "      <td>5371</td>\n",
              "      <td>Which is the best coaching for MP psc?\\n</td>\n",
              "    </tr>\n",
              "    <tr>\n",
              "      <th>5372</th>\n",
              "      <td>5372</td>\n",
              "      <td>Which mail server is used for messaging in AT&amp;...</td>\n",
              "    </tr>\n",
              "    <tr>\n",
              "      <th>5373</th>\n",
              "      <td>5373</td>\n",
              "      <td>What are the programming languages dev uses on...</td>\n",
              "    </tr>\n",
              "  </tbody>\n",
              "</table>\n",
              "</div>"
            ],
            "text/plain": [
              "        Id                                            Content\n",
              "5370  5370           What role does music play in our life?\\n\n",
              "5371  5371           Which is the best coaching for MP psc?\\n\n",
              "5372  5372  Which mail server is used for messaging in AT&...\n",
              "5373  5373  What are the programming languages dev uses on..."
            ]
          },
          "metadata": {
            "tags": []
          },
          "execution_count": 3
        }
      ]
    },
    {
      "cell_type": "code",
      "metadata": {
        "id": "7YT8MrxSI1C0",
        "colab": {
          "base_uri": "https://localhost:8080/"
        },
        "outputId": "05d950ec-2404-4315-99e2-809715463858"
      },
      "source": [
        "corpus_train = pd.read_csv(\"/content/drive/MyDrive/Colab Notebooks/corpusTrain.csv\")\n",
        "corpus_train.shape\n",
        "#corpus_train.head()"
      ],
      "execution_count": null,
      "outputs": [
        {
          "output_type": "execute_result",
          "data": {
            "text/plain": [
              "(531990, 2)"
            ]
          },
          "metadata": {
            "tags": []
          },
          "execution_count": 12
        }
      ]
    },
    {
      "cell_type": "code",
      "metadata": {
        "id": "YzV1Wz2Pb8Ai"
      },
      "source": [
        "corpus_test['Content'] = corpus_test['Content'].str.strip()\n",
        "corpus_test['Content'] = corpus_test['Content'].str.lower()\n",
        "\n",
        "corpus_train['Content'] = corpus_train['Content'].str.strip()\n",
        "corpus_train['Content'] = corpus_train['Content'].str.lower()"
      ],
      "execution_count": null,
      "outputs": []
    },
    {
      "cell_type": "code",
      "metadata": {
        "id": "AmeRnYxrceol"
      },
      "source": [
        "spec_chars = [\"!\", '\"', \"#\", \"%\", \"&\", \"'\", \"(\", \")\", \"*\", \"+\", \",\", \"-\", \".\", \"/\", \":\", \";\", \"<\",\n",
        "              \"=\", \">\", \"?\", \"@\", \"[\", \"\\\\\", \"]\", \"^\", \"_\", \"`\", \"{\", \"|\", \"}\", \"~\", \"–\"]\n",
        "\n",
        "for char in spec_chars:\n",
        "    corpus_test['Content'] = corpus_test['Content'].str.replace(char, '')\n",
        "\n",
        "for char in spec_chars:\n",
        "    corpus_train['Content'] = corpus_train['Content'].str.replace(char, '')"
      ],
      "execution_count": null,
      "outputs": []
    },
    {
      "cell_type": "code",
      "metadata": {
        "colab": {
          "base_uri": "https://localhost:8080/",
          "height": 204
        },
        "id": "4KwkM4ld35dZ",
        "outputId": "33d5b98f-e87f-4801-b257-fa94ac80f526"
      },
      "source": [
        "comb_ques = corpus_train['Content'].append(corpus_test['Content']).reset_index()\r\n",
        "comb_ques.head()"
      ],
      "execution_count": null,
      "outputs": [
        {
          "output_type": "execute_result",
          "data": {
            "text/html": [
              "<div>\n",
              "<style scoped>\n",
              "    .dataframe tbody tr th:only-of-type {\n",
              "        vertical-align: middle;\n",
              "    }\n",
              "\n",
              "    .dataframe tbody tr th {\n",
              "        vertical-align: top;\n",
              "    }\n",
              "\n",
              "    .dataframe thead th {\n",
              "        text-align: right;\n",
              "    }\n",
              "</style>\n",
              "<table border=\"1\" class=\"dataframe\">\n",
              "  <thead>\n",
              "    <tr style=\"text-align: right;\">\n",
              "      <th></th>\n",
              "      <th>index</th>\n",
              "      <th>Content</th>\n",
              "    </tr>\n",
              "  </thead>\n",
              "  <tbody>\n",
              "    <tr>\n",
              "      <th>0</th>\n",
              "      <td>0</td>\n",
              "      <td>how many people are going towards using phones...</td>\n",
              "    </tr>\n",
              "    <tr>\n",
              "      <th>1</th>\n",
              "      <td>1</td>\n",
              "      <td>what audio format should i use for getting aud...</td>\n",
              "    </tr>\n",
              "    <tr>\n",
              "      <th>2</th>\n",
              "      <td>2</td>\n",
              "      <td>what is the corporate culture like at edwards ...</td>\n",
              "    </tr>\n",
              "    <tr>\n",
              "      <th>3</th>\n",
              "      <td>3</td>\n",
              "      <td>what is the best barbecue in kansas city</td>\n",
              "    </tr>\n",
              "    <tr>\n",
              "      <th>4</th>\n",
              "      <td>4</td>\n",
              "      <td>can i combine the output of two bolts to one b...</td>\n",
              "    </tr>\n",
              "  </tbody>\n",
              "</table>\n",
              "</div>"
            ],
            "text/plain": [
              "   index                                            Content\n",
              "0      0  how many people are going towards using phones...\n",
              "1      1  what audio format should i use for getting aud...\n",
              "2      2  what is the corporate culture like at edwards ...\n",
              "3      3           what is the best barbecue in kansas city\n",
              "4      4  can i combine the output of two bolts to one b..."
            ]
          },
          "metadata": {
            "tags": []
          },
          "execution_count": 15
        }
      ]
    },
    {
      "cell_type": "code",
      "metadata": {
        "colab": {
          "base_uri": "https://localhost:8080/",
          "height": 117,
          "referenced_widgets": [
            "09340fb2455a4ed5bab0339999275ae2",
            "41dc6116c3f64d58a3fdf0b3b0765f92",
            "0589c35c4c0a4adeaac20361516689db",
            "160a2df7ef444f5fa785902fd327e555",
            "20262a3ca800462c97409f5be9cbe3a2",
            "932f24be225d48d5b4af8a30dfd931a7",
            "d12d64c9f5d44c768b28bb2e1b23c6d1",
            "b8e22d5be605445581a4c571073c09ac"
          ]
        },
        "id": "LaTBNsAO5b49",
        "outputId": "1a2c7db7-c92a-4916-c39c-6ed392bb4914"
      },
      "source": [
        "set_dict={} # maps question id (eg 'm23') to set representation of question\r\n",
        "set_dict_test={}\r\n",
        "count=1\r\n",
        "for question in tqdm_notebook([x for x in comb_ques['Content'] if type(x)==str]):\r\n",
        "    temp_list = []\r\n",
        "    for shingle in question.split(' '):\r\n",
        "        if shingle not in stop_words:\r\n",
        "            temp_list.append(shingle.lower())\r\n",
        "    if count < 531990:\r\n",
        "      set_dict[\"m{0}\".format(count)] = set(temp_list)\r\n",
        "    else:\r\n",
        "      set_dict_test[\"m{0}\".format(count)] = set(temp_list)\r\n",
        "    count +=1"
      ],
      "execution_count": null,
      "outputs": [
        {
          "output_type": "stream",
          "text": [
            "/usr/local/lib/python3.6/dist-packages/ipykernel_launcher.py:4: TqdmDeprecationWarning: This function will be removed in tqdm==5.0.0\n",
            "Please use `tqdm.notebook.tqdm` instead of `tqdm.tqdm_notebook`\n",
            "  after removing the cwd from sys.path.\n"
          ],
          "name": "stderr"
        },
        {
          "output_type": "display_data",
          "data": {
            "application/vnd.jupyter.widget-view+json": {
              "model_id": "09340fb2455a4ed5bab0339999275ae2",
              "version_minor": 0,
              "version_major": 2
            },
            "text/plain": [
              "HBox(children=(FloatProgress(value=0.0, max=537364.0), HTML(value='')))"
            ]
          },
          "metadata": {
            "tags": []
          }
        },
        {
          "output_type": "stream",
          "text": [
            "\n"
          ],
          "name": "stdout"
        }
      ]
    },
    {
      "cell_type": "code",
      "metadata": {
        "colab": {
          "base_uri": "https://localhost:8080/",
          "height": 217,
          "referenced_widgets": [
            "97004825b9f740909116fcf3013cb160",
            "12b92b3876b94da0b59190645af84593",
            "5f8390bab099412083d7d66dde1c6a93",
            "4aca51ddc588407ea2d747d44acc57d7",
            "c6f20ae05e354f318abd2ad595a923ca",
            "2d409b6bde1b49bda3b030cf1bc988d0",
            "0402874a3f3e4156adb4d640aecc208d",
            "bf34dcb51e5a444287d2bed12c626b61",
            "5b1f2943e7a145abac579e08c705eec1",
            "1a8ec06967244924bb5151aee030ac56",
            "1634eea49bcc4c1686456fe06624e69b",
            "9f0e4557244e423fad108d33c656ed9e",
            "09a6646e645a465cb239fca3322f7ee7",
            "2b583ff75b22400882f5a8a4cce17014",
            "b832ec16298b41d5b996bc1f6b8957d5",
            "ae06b61c69f54d4785505f74138de3cd"
          ]
        },
        "id": "oBAsyPEY7Fhy",
        "outputId": "5729d3f4-d37d-46a8-f2e3-17000a6b8cf4"
      },
      "source": [
        "# Create minHash signatures\r\n",
        "\r\n",
        "num_perm = 32\r\n",
        "min_dict = {} # maps question id (eg 'm23') to min hash signatures\r\n",
        "count2 = 1\r\n",
        "for val in tqdm_notebook(set_dict.values()): \r\n",
        "    m = MinHash(num_perm=num_perm)\r\n",
        "    for shingle in val:\r\n",
        "        m.update(shingle.encode('utf8'))\r\n",
        "    min_dict[\"m{}\".format(count2)] = m\r\n",
        "    count2+=1\r\n",
        "\r\n",
        "min_dict_test = {}\r\n",
        "for val in tqdm_notebook(set_dict_test.values()): \r\n",
        "    m = MinHash(num_perm=num_perm)\r\n",
        "    for shingle in val:\r\n",
        "        m.update(shingle.encode('utf8'))\r\n",
        "    min_dict_test[\"m{}\".format(count2)] = m\r\n",
        "    count2+=1"
      ],
      "execution_count": null,
      "outputs": [
        {
          "output_type": "stream",
          "text": [
            "/usr/local/lib/python3.6/dist-packages/ipykernel_launcher.py:6: TqdmDeprecationWarning: This function will be removed in tqdm==5.0.0\n",
            "Please use `tqdm.notebook.tqdm` instead of `tqdm.tqdm_notebook`\n",
            "  \n"
          ],
          "name": "stderr"
        },
        {
          "output_type": "display_data",
          "data": {
            "application/vnd.jupyter.widget-view+json": {
              "model_id": "97004825b9f740909116fcf3013cb160",
              "version_minor": 0,
              "version_major": 2
            },
            "text/plain": [
              "HBox(children=(FloatProgress(value=0.0, max=531989.0), HTML(value='')))"
            ]
          },
          "metadata": {
            "tags": []
          }
        },
        {
          "output_type": "stream",
          "text": [
            "\n"
          ],
          "name": "stdout"
        },
        {
          "output_type": "stream",
          "text": [
            "/usr/local/lib/python3.6/dist-packages/ipykernel_launcher.py:14: TqdmDeprecationWarning: This function will be removed in tqdm==5.0.0\n",
            "Please use `tqdm.notebook.tqdm` instead of `tqdm.tqdm_notebook`\n",
            "  \n"
          ],
          "name": "stderr"
        },
        {
          "output_type": "display_data",
          "data": {
            "application/vnd.jupyter.widget-view+json": {
              "model_id": "5b1f2943e7a145abac579e08c705eec1",
              "version_minor": 0,
              "version_major": 2
            },
            "text/plain": [
              "HBox(children=(FloatProgress(value=0.0, max=5375.0), HTML(value='')))"
            ]
          },
          "metadata": {
            "tags": []
          }
        },
        {
          "output_type": "stream",
          "text": [
            "\n"
          ],
          "name": "stdout"
        }
      ]
    },
    {
      "cell_type": "code",
      "metadata": {
        "colab": {
          "base_uri": "https://localhost:8080/",
          "height": 117,
          "referenced_widgets": [
            "7c17310d186f4fd99e4e934103f43198",
            "26f2963823784664bcb1ec97c864ee1b",
            "e3959e840e714c59b3dfa49f3a84983a",
            "e5423167911b481daaf229ec718867f1",
            "d1a5e5c547ab40d0aab652d79c7de079",
            "5e7c033bc47f4990a4ebecf5d2be82f8",
            "3dbbd751793d4cd8bdabbef31451c149",
            "7049a1614d414485a928a5b3afba48fc"
          ]
        },
        "id": "yeKloi-7IEoW",
        "outputId": "6fcf4327-ddf8-48d6-a9bd-25da6f753664"
      },
      "source": [
        "# Create LSH index\r\n",
        "#from train corpus\r\n",
        "\r\n",
        "lsh = MinHashLSH(threshold=0.8, num_perm=num_perm)\r\n",
        "for key in tqdm_notebook(min_dict.keys()):\r\n",
        "    lsh.insert(key,min_dict[key])"
      ],
      "execution_count": null,
      "outputs": [
        {
          "output_type": "stream",
          "text": [
            "/usr/local/lib/python3.6/dist-packages/ipykernel_launcher.py:5: TqdmDeprecationWarning: This function will be removed in tqdm==5.0.0\n",
            "Please use `tqdm.notebook.tqdm` instead of `tqdm.tqdm_notebook`\n",
            "  \"\"\"\n"
          ],
          "name": "stderr"
        },
        {
          "output_type": "display_data",
          "data": {
            "application/vnd.jupyter.widget-view+json": {
              "model_id": "7c17310d186f4fd99e4e934103f43198",
              "version_minor": 0,
              "version_major": 2
            },
            "text/plain": [
              "HBox(children=(FloatProgress(value=0.0, max=531989.0), HTML(value='')))"
            ]
          },
          "metadata": {
            "tags": []
          }
        },
        {
          "output_type": "stream",
          "text": [
            "\n"
          ],
          "name": "stdout"
        }
      ]
    },
    {
      "cell_type": "code",
      "metadata": {
        "colab": {
          "base_uri": "https://localhost:8080/",
          "height": 117,
          "referenced_widgets": [
            "912ba14fb288493abf06017b58108f98",
            "b2f8ea661bfd4074a2cc5e422e6453e5",
            "19080ba9a2804cc083f41ab983ede937",
            "399e7e57a30d40c58fa5f6e6c1165fb3",
            "7ae17af345d345e4ad0579369b757ebf",
            "90d66c9c213f4b178c26f5c50c62e12b",
            "79dd9839bda249cfacad7fe9ff9d3d42",
            "8103517a8cf647e7acbb0fc1a1cdd346"
          ]
        },
        "id": "n2EEm1M4awZH",
        "outputId": "e6496f9b-46ed-457e-97f7-8f91b35645a2"
      },
      "source": [
        "for key in tqdm_notebook(min_dict_test.keys()):\r\n",
        "  lsh.insert(key,min_dict_test[key])"
      ],
      "execution_count": null,
      "outputs": [
        {
          "output_type": "stream",
          "text": [
            "/usr/local/lib/python3.6/dist-packages/ipykernel_launcher.py:1: TqdmDeprecationWarning: This function will be removed in tqdm==5.0.0\n",
            "Please use `tqdm.notebook.tqdm` instead of `tqdm.tqdm_notebook`\n",
            "  \"\"\"Entry point for launching an IPython kernel.\n"
          ],
          "name": "stderr"
        },
        {
          "output_type": "display_data",
          "data": {
            "application/vnd.jupyter.widget-view+json": {
              "model_id": "912ba14fb288493abf06017b58108f98",
              "version_minor": 0,
              "version_major": 2
            },
            "text/plain": [
              "HBox(children=(FloatProgress(value=0.0, max=5375.0), HTML(value='')))"
            ]
          },
          "metadata": {
            "tags": []
          }
        },
        {
          "output_type": "stream",
          "text": [
            "\n"
          ],
          "name": "stdout"
        }
      ]
    },
    {
      "cell_type": "code",
      "metadata": {
        "colab": {
          "base_uri": "https://localhost:8080/"
        },
        "id": "UceBkMXsXcP0",
        "outputId": "d38ad4cf-964b-4192-a3e5-93d5a248b256"
      },
      "source": [
        "len(min_dict)"
      ],
      "execution_count": null,
      "outputs": [
        {
          "output_type": "execute_result",
          "data": {
            "text/plain": [
              "531989"
            ]
          },
          "metadata": {
            "tags": []
          },
          "execution_count": 83
        }
      ]
    },
    {
      "cell_type": "code",
      "metadata": {
        "id": "CxQKLBHQI2oH"
      },
      "source": [
        "def create_cand_pairs():\r\n",
        "    big_list = []\r\n",
        "    #query the test corpus\r\n",
        "    for query in min_dict_test.keys():\r\n",
        "        bucket = lsh.query(min_dict_test[query])\r\n",
        "        #if len(bucket)==1:\r\n",
        "            #big_list.append([bucket[0],\"None\"])\r\n",
        "        if len(bucket)>1:\r\n",
        "            first_val = bucket[0]\r\n",
        "            for val in bucket[1:]:\r\n",
        "                second_val = val\r\n",
        "                big_list.append([first_val,second_val])\r\n",
        "    return big_list\r\n",
        "        \r\n",
        "        \r\n",
        "cand_pairs = create_cand_pairs()"
      ],
      "execution_count": null,
      "outputs": []
    },
    {
      "cell_type": "code",
      "metadata": {
        "colab": {
          "base_uri": "https://localhost:8080/"
        },
        "id": "z5DC16srVWty",
        "outputId": "3bfda9c7-a243-4734-e22b-b091a5cd62ad"
      },
      "source": [
        "import re\r\n",
        "count = 0\r\n",
        "for c in cand_pairs: \r\n",
        "  if int(re.sub(\"[^0-9]\", \"\", c[0])) > 531989 and int(re.sub(\"[^0-9]\", \"\", c[1])) < 531989 :\r\n",
        "    count = count + 1 \r\n",
        "    #print(c)\r\n",
        "    continue\r\n",
        "  elif int(re.sub(\"[^0-9]\", \"\", c[1])) > 531989 and int(re.sub(\"[^0-9]\", \"\", c[0])) > 531989:\r\n",
        "    count = count + 1 \r\n",
        "    #print(c)\r\n",
        "print(\"candidate duplicate pairs = \" + str(count))"
      ],
      "execution_count": null,
      "outputs": [
        {
          "output_type": "stream",
          "text": [
            "candidate duplicate pairs = 530\n"
          ],
          "name": "stdout"
        }
      ]
    },
    {
      "cell_type": "code",
      "metadata": {
        "id": "dvNmkxxgVfIh"
      },
      "source": [
        "from sklearn.feature_extraction.text import CountVectorizer"
      ],
      "execution_count": null,
      "outputs": []
    },
    {
      "cell_type": "code",
      "metadata": {
        "colab": {
          "base_uri": "https://localhost:8080/"
        },
        "id": "wp_bTw_OVg-g",
        "outputId": "ab07a420-4d47-444b-bd60-66bf757a5692"
      },
      "source": [
        "vectorizer = CountVectorizer(lowercase = True, stop_words = 'english', max_features = 10000)\n",
        "vectorizer.fit(corpus_test['Content'])\n",
        "vectorized_test_content = vectorizer.transform(corpus_test['Content'])\n",
        "print(vectorized_test_content.shape)"
      ],
      "execution_count": null,
      "outputs": [
        {
          "output_type": "stream",
          "text": [
            "(5374, 9011)\n"
          ],
          "name": "stdout"
        }
      ]
    },
    {
      "cell_type": "code",
      "metadata": {
        "colab": {
          "base_uri": "https://localhost:8080/"
        },
        "id": "giZ0bsM8KAgY",
        "outputId": "84dbcdcd-f520-4c29-930a-dc427a60899f"
      },
      "source": [
        "vectorizer = CountVectorizer(lowercase = True, stop_words = 'english', max_features = 10000)\n",
        "vectorizer.fit(corpus_train['Content'])\n",
        "vectorized_train_content = vectorizer.transform(corpus_train['Content'])\n",
        "print(vectorized_train_content.shape)"
      ],
      "execution_count": null,
      "outputs": [
        {
          "output_type": "stream",
          "text": [
            "(531990, 10000)\n"
          ],
          "name": "stdout"
        }
      ]
    },
    {
      "cell_type": "code",
      "metadata": {
        "id": "t172lVSUGcAM"
      },
      "source": [
        "corpus_compined = pd.DataFrame(corpus_test['Content'].append(corpus_train['Content'], ignore_index = True)) \n",
        "#corpus_compined['Content']"
      ],
      "execution_count": null,
      "outputs": []
    },
    {
      "cell_type": "code",
      "metadata": {
        "colab": {
          "base_uri": "https://localhost:8080/"
        },
        "id": "cFM4gCczJ_zM",
        "outputId": "dcd6540a-d126-4adb-973d-305893aa0522"
      },
      "source": [
        "vectorizer = CountVectorizer(lowercase = True, stop_words = 'english', max_features = 10000)\n",
        "vectorizer.fit(corpus_compined['Content'])\n",
        "vectorized_combined_content = vectorizer.transform(corpus_compined['Content'])\n",
        "print(vectorized_combined_content.shape)"
      ],
      "execution_count": null,
      "outputs": [
        {
          "output_type": "stream",
          "text": [
            "(537364, 10000)\n"
          ],
          "name": "stdout"
        }
      ]
    },
    {
      "cell_type": "markdown",
      "metadata": {
        "id": "GjSS64Pfu_fN"
      },
      "source": [
        "Exact Cosine Similarity"
      ]
    },
    {
      "cell_type": "code",
      "metadata": {
        "id": "Jx-zFgcDg2i9"
      },
      "source": [
        "from sklearn.metrics.pairwise import cosine_similarity"
      ],
      "execution_count": null,
      "outputs": []
    },
    {
      "cell_type": "code",
      "metadata": {
        "colab": {
          "base_uri": "https://localhost:8080/"
        },
        "id": "IrKYGizdufCs",
        "outputId": "1188c462-8b53-4547-9721-1d7e71f369bb"
      },
      "source": [
        "count = 0\r\n",
        "i = 0\r\n",
        "similar = []\r\n",
        "res = cosine_similarity(vectorized_combined_content[0:5374], vectorized_combined_content[5374:100000])\r\n",
        "for inner_res in res:\r\n",
        "  for c in inner_res:\r\n",
        "    if c > 0.8: \r\n",
        "      similar.append(i)\r\n",
        "      count = count + 1\r\n",
        "      break\r\n",
        "  i = i + 1\r\n",
        "print(count)"
      ],
      "execution_count": null,
      "outputs": [
        {
          "output_type": "stream",
          "text": [
            "1098\n"
          ],
          "name": "stdout"
        }
      ]
    },
    {
      "cell_type": "code",
      "metadata": {
        "colab": {
          "base_uri": "https://localhost:8080/"
        },
        "id": "nhd9DH2IBsFq",
        "outputId": "540d8622-116c-4094-b17a-d68092306fb5"
      },
      "source": [
        "i = 0\r\n",
        "res = cosine_similarity(vectorized_combined_content[0:5374], vectorized_combined_content[100000:200000])\r\n",
        "for inner_res in res:\r\n",
        "  for c in inner_res:\r\n",
        "    if c > 0.8 and i not in similar: \r\n",
        "      similar.append(i)\r\n",
        "      count = count + 1\r\n",
        "      break\r\n",
        "  i = i +1\r\n",
        "print(count)"
      ],
      "execution_count": null,
      "outputs": [
        {
          "output_type": "stream",
          "text": [
            "1914\n"
          ],
          "name": "stdout"
        }
      ]
    },
    {
      "cell_type": "code",
      "metadata": {
        "colab": {
          "base_uri": "https://localhost:8080/"
        },
        "id": "02YkG2rhDa37",
        "outputId": "981be2b4-b729-49cd-a695-d98bf0d265a8"
      },
      "source": [
        "i = 0\r\n",
        "res = cosine_similarity(vectorized_combined_content[0:5374], vectorized_combined_content[200000:300000])\r\n",
        "for inner_res in res:\r\n",
        "  for c in inner_res:\r\n",
        "    if c > 0.8 and i not in similar: \r\n",
        "      similar.append(i)\r\n",
        "      count = count + 1\r\n",
        "      break\r\n",
        "  i = i +1\r\n",
        "print(count)"
      ],
      "execution_count": null,
      "outputs": [
        {
          "output_type": "stream",
          "text": [
            "2176\n"
          ],
          "name": "stdout"
        }
      ]
    },
    {
      "cell_type": "code",
      "metadata": {
        "colab": {
          "base_uri": "https://localhost:8080/"
        },
        "id": "xaeuWEluIfFB",
        "outputId": "7255fefe-0880-4b86-f3bb-8418a94be523"
      },
      "source": [
        "i = 0\r\n",
        "res = cosine_similarity(vectorized_combined_content[0:5374], vectorized_combined_content[300000:400000])\r\n",
        "for inner_res in res:\r\n",
        "  for c in inner_res:\r\n",
        "    if c > 0.8 and i not in similar: \r\n",
        "      similar.append(i)\r\n",
        "      count = count + 1\r\n",
        "      break\r\n",
        "  i = i +1\r\n",
        "print(count)"
      ],
      "execution_count": null,
      "outputs": [
        {
          "output_type": "stream",
          "text": [
            "2381\n"
          ],
          "name": "stdout"
        }
      ]
    },
    {
      "cell_type": "code",
      "metadata": {
        "colab": {
          "base_uri": "https://localhost:8080/"
        },
        "id": "tfO--wrGJbZc",
        "outputId": "f96dc634-487c-475f-d567-f99789c7f9d0"
      },
      "source": [
        "i = 0\r\n",
        "res = cosine_similarity(vectorized_combined_content[0:5374], vectorized_combined_content[400000:])\r\n",
        "for inner_res in res:\r\n",
        "  for c in inner_res:\r\n",
        "    if c > 0.8 and i not in similar: \r\n",
        "      similar.append(i)\r\n",
        "      count = count + 1\r\n",
        "      break\r\n",
        "  i = i +1\r\n",
        "print(count)"
      ],
      "execution_count": null,
      "outputs": [
        {
          "output_type": "stream",
          "text": [
            "2604\n"
          ],
          "name": "stdout"
        }
      ]
    },
    {
      "cell_type": "code",
      "metadata": {
        "colab": {
          "base_uri": "https://localhost:8080/"
        },
        "id": "mc2Gvq2wJGcI",
        "outputId": "69adf00f-a98b-4bfb-9c78-b6409c4ac9d5"
      },
      "source": [
        "print(\"Duplicates identified with exact cosine: \" + str(len(similar)))"
      ],
      "execution_count": null,
      "outputs": [
        {
          "output_type": "stream",
          "text": [
            "Duplicates identified: 2196\n"
          ],
          "name": "stdout"
        }
      ]
    },
    {
      "cell_type": "markdown",
      "metadata": {
        "id": "AwWAqoiovLUk"
      },
      "source": [
        "Exact Jaccard Similarity"
      ]
    },
    {
      "cell_type": "code",
      "metadata": {
        "id": "EoKT9FIsY_4D"
      },
      "source": [
        "import numpy as np\n",
        "from sklearn.metrics import jaccard_score, accuracy_score"
      ],
      "execution_count": null,
      "outputs": []
    },
    {
      "cell_type": "code",
      "metadata": {
        "id": "9CR2L1jpvZh9"
      },
      "source": [
        "vectorized_test_arr = vectorized_combined_content[0:5374].toarray()"
      ],
      "execution_count": null,
      "outputs": []
    },
    {
      "cell_type": "code",
      "metadata": {
        "id": "zF5JrSWhIoII"
      },
      "source": [
        "def jaccard(list1, list2):\r\n",
        "    intersection = len(list(set(list1).intersection(list2)))\r\n",
        "    union = (len(list1) + len(list2)) - intersection\r\n",
        "    return float(intersection) / union"
      ],
      "execution_count": null,
      "outputs": []
    },
    {
      "cell_type": "code",
      "metadata": {
        "id": "fDku_3pJIt7Q"
      },
      "source": [
        "for j in range(5374):\r\n",
        "  c = jaccard_score(vectorized_test_arr[5373], vectorized_test_arr[j], average='macro')\r\n",
        "  if c > 0.8: \r\n",
        "    count = count + 1"
      ],
      "execution_count": null,
      "outputs": []
    },
    {
      "cell_type": "code",
      "metadata": {
        "colab": {
          "base_uri": "https://localhost:8080/"
        },
        "id": "xscLqKQpvQ1s",
        "outputId": "ecb73d30-b42a-4f53-c5b5-49bcc0440bf3"
      },
      "source": [
        "count = 0\n",
        "temp = []\n",
        "for i in range(5374, 6000):\n",
        "  temp = vectorized_combined_content[i].toarray()\n",
        "  for j in range(5374):\n",
        "    c = jaccard_score(temp[0], vectorized_test_arr[j], average='macro')\n",
        "    if c > 0.8: \n",
        "      count = count + 1\n",
        "      break\n",
        "print(count)"
      ],
      "execution_count": null,
      "outputs": [
        {
          "output_type": "stream",
          "text": [
            "38\n"
          ],
          "name": "stdout"
        }
      ]
    },
    {
      "cell_type": "markdown",
      "metadata": {
        "id": "6hQEC6VVP11P"
      },
      "source": [
        "MinHash LSH"
      ]
    },
    {
      "cell_type": "code",
      "metadata": {
        "id": "A28ppIbOQBVV"
      },
      "source": [
        "!pip install --upgrade datasketch"
      ],
      "execution_count": null,
      "outputs": []
    },
    {
      "cell_type": "code",
      "metadata": {
        "id": "M5RAFcNHaNOS"
      },
      "source": [
        "from datasketch import MinHash, MinHashLSH"
      ],
      "execution_count": null,
      "outputs": []
    },
    {
      "cell_type": "code",
      "metadata": {
        "id": "CU3PdlSBnpPw"
      },
      "source": [
        "num_permutations = 32\r\n",
        "count = 0\r\n",
        "removed_items_indexes = []\r\n",
        "for i in range(5374, 537364):\r\n",
        "  set1 = set(corpus_train['Content'][i].split(\" \"))\r\n",
        "  m1 = MinHash(num_perm=num_permutations)\r\n",
        "\r\n",
        "  for d in set1:\r\n",
        "      m1.update(d.encode('utf8'))\r\n",
        "\r\n",
        "  for j in range(5374):\r\n",
        "    set2 = set(corpus_test['Content'][j].split(\" \"))\r\n",
        "    m2 = MinHash(num_perm=num_permutations)\r\n",
        "\r\n",
        "    for d in set2:\r\n",
        "        m2.update(d.encode('utf8'))\r\n",
        "\r\n",
        "    # Create LSH index\r\n",
        "    lsh = MinHashLSH(threshold=0.5, num_perm=num_permutations)\r\n",
        "    lsh.insert(\"m2\", m2)\r\n",
        "    result = lsh.query(m1)\r\n",
        "    if len(result) > 0: \r\n",
        "      count = count + 1\r\n",
        "    else: \r\n",
        "      removed_ items_indexes.append(j)\r\n",
        "print(count)"
      ],
      "execution_count": null,
      "outputs": []
    },
    {
      "cell_type": "markdown",
      "metadata": {
        "id": "OiEnSRzT6cRN"
      },
      "source": [
        "LSH-Cosine"
      ]
    },
    {
      "cell_type": "code",
      "metadata": {
        "id": "EXRSmvyu6ZYi"
      },
      "source": [
        "from sklearn.neighbors import LSHForest"
      ],
      "execution_count": null,
      "outputs": []
    },
    {
      "cell_type": "code",
      "metadata": {
        "id": "ekTn12Fvd28T"
      },
      "source": [
        "train_indexes_arr = []\r\n",
        "for j in range(5374, 537364):\r\n",
        "  temp = []\r\n",
        "  for i in range(len(vectorized_combined_content[j].nonzero()[0])):\r\n",
        "    temp.append(vectorized_combined_content[j].nonzero()[1][i])\r\n",
        "  train_indexes_arr.append(temp)"
      ],
      "execution_count": null,
      "outputs": []
    },
    {
      "cell_type": "code",
      "metadata": {
        "id": "GHuvYOoLJKOG"
      },
      "source": [
        "test_indexes_arr = []\r\n",
        "for j in range(5374):\r\n",
        "  temp = []\r\n",
        "  for i in range(len(vectorized_combined_content[j].nonzero()[0])):\r\n",
        "    temp.append(vectorized_combined_content[j].nonzero()[1][i])\r\n",
        "  test_indexes_arr.append(temp)"
      ],
      "execution_count": null,
      "outputs": []
    },
    {
      "cell_type": "code",
      "metadata": {
        "id": "rbehxLeu6bKS"
      },
      "source": [
        "lshf = LSHForest()\r\n",
        "lshf.fit(train_indexes_arr) \r\n",
        "distances, indices = lshf.kneighbors(test_indexes_arr, n_neighbors=2)"
      ],
      "execution_count": null,
      "outputs": []
    },
    {
      "cell_type": "markdown",
      "metadata": {
        "id": "XG45Aq4TJ0jP"
      },
      "source": [
        "LSH-Jaccard"
      ]
    },
    {
      "cell_type": "code",
      "metadata": {
        "id": "qD8B5nIoJ50B"
      },
      "source": [
        "#updated arrays, contain only the test rows with lsh similarity > 0.5\r\n",
        "count = 0\r\n",
        "for i in range(5374, 537364):\r\n",
        "  for j in range(5374):\r\n",
        "    c = jaccard_score(vectorized_train_arr[i], vectorized_test_arr[j])\r\n",
        "    if c > 0.8: \r\n",
        "      count = count + 1\r\n",
        "print(count)"
      ],
      "execution_count": null,
      "outputs": []
    }
  ]
}