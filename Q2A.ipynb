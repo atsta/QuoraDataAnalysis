{
  "nbformat": 4,
  "nbformat_minor": 0,
  "metadata": {
    "colab": {
      "name": "Q2A.ipynb",
      "provenance": [],
      "collapsed_sections": [],
      "toc_visible": true
    },
    "kernelspec": {
      "display_name": "Python 3",
      "name": "python3"
    },
    "widgets": {
      "application/vnd.jupyter.widget-state+json": {
        "a4e8253bf117411690e04507c0d30625": {
          "model_module": "@jupyter-widgets/controls",
          "model_name": "HBoxModel",
          "state": {
            "_view_name": "HBoxView",
            "_dom_classes": [],
            "_model_name": "HBoxModel",
            "_view_module": "@jupyter-widgets/controls",
            "_model_module_version": "1.5.0",
            "_view_count": null,
            "_view_module_version": "1.5.0",
            "box_style": "",
            "layout": "IPY_MODEL_097d329c8ee84c9d8907bc281cf2e3c3",
            "_model_module": "@jupyter-widgets/controls",
            "children": [
              "IPY_MODEL_f19f394f50cd4cd9b0c4021215812606",
              "IPY_MODEL_b7becadb7d814437ae5b73f7bc20a678"
            ]
          }
        },
        "097d329c8ee84c9d8907bc281cf2e3c3": {
          "model_module": "@jupyter-widgets/base",
          "model_name": "LayoutModel",
          "state": {
            "_view_name": "LayoutView",
            "grid_template_rows": null,
            "right": null,
            "justify_content": null,
            "_view_module": "@jupyter-widgets/base",
            "overflow": null,
            "_model_module_version": "1.2.0",
            "_view_count": null,
            "flex_flow": null,
            "width": null,
            "min_width": null,
            "border": null,
            "align_items": null,
            "bottom": null,
            "_model_module": "@jupyter-widgets/base",
            "top": null,
            "grid_column": null,
            "overflow_y": null,
            "overflow_x": null,
            "grid_auto_flow": null,
            "grid_area": null,
            "grid_template_columns": null,
            "flex": null,
            "_model_name": "LayoutModel",
            "justify_items": null,
            "grid_row": null,
            "max_height": null,
            "align_content": null,
            "visibility": null,
            "align_self": null,
            "height": null,
            "min_height": null,
            "padding": null,
            "grid_auto_rows": null,
            "grid_gap": null,
            "max_width": null,
            "order": null,
            "_view_module_version": "1.2.0",
            "grid_template_areas": null,
            "object_position": null,
            "object_fit": null,
            "grid_auto_columns": null,
            "margin": null,
            "display": null,
            "left": null
          }
        },
        "f19f394f50cd4cd9b0c4021215812606": {
          "model_module": "@jupyter-widgets/controls",
          "model_name": "FloatProgressModel",
          "state": {
            "_view_name": "ProgressView",
            "style": "IPY_MODEL_55f7882fff71424ca05ae168d01c1d16",
            "_dom_classes": [],
            "description": "100%",
            "_model_name": "FloatProgressModel",
            "bar_style": "success",
            "max": 531990,
            "_view_module": "@jupyter-widgets/controls",
            "_model_module_version": "1.5.0",
            "value": 531990,
            "_view_count": null,
            "_view_module_version": "1.5.0",
            "orientation": "horizontal",
            "min": 0,
            "description_tooltip": null,
            "_model_module": "@jupyter-widgets/controls",
            "layout": "IPY_MODEL_eaa8c851d0764d9896a737f5ce95bcbb"
          }
        },
        "b7becadb7d814437ae5b73f7bc20a678": {
          "model_module": "@jupyter-widgets/controls",
          "model_name": "HTMLModel",
          "state": {
            "_view_name": "HTMLView",
            "style": "IPY_MODEL_1b5ca647685f4af88063c4ef8d56e527",
            "_dom_classes": [],
            "description": "",
            "_model_name": "HTMLModel",
            "placeholder": "​",
            "_view_module": "@jupyter-widgets/controls",
            "_model_module_version": "1.5.0",
            "value": " 531990/531990 [00:40&lt;00:00, 13023.21it/s]",
            "_view_count": null,
            "_view_module_version": "1.5.0",
            "description_tooltip": null,
            "_model_module": "@jupyter-widgets/controls",
            "layout": "IPY_MODEL_f82962aaf70040609296913644b1c670"
          }
        },
        "55f7882fff71424ca05ae168d01c1d16": {
          "model_module": "@jupyter-widgets/controls",
          "model_name": "ProgressStyleModel",
          "state": {
            "_view_name": "StyleView",
            "_model_name": "ProgressStyleModel",
            "description_width": "initial",
            "_view_module": "@jupyter-widgets/base",
            "_model_module_version": "1.5.0",
            "_view_count": null,
            "_view_module_version": "1.2.0",
            "bar_color": null,
            "_model_module": "@jupyter-widgets/controls"
          }
        },
        "eaa8c851d0764d9896a737f5ce95bcbb": {
          "model_module": "@jupyter-widgets/base",
          "model_name": "LayoutModel",
          "state": {
            "_view_name": "LayoutView",
            "grid_template_rows": null,
            "right": null,
            "justify_content": null,
            "_view_module": "@jupyter-widgets/base",
            "overflow": null,
            "_model_module_version": "1.2.0",
            "_view_count": null,
            "flex_flow": null,
            "width": null,
            "min_width": null,
            "border": null,
            "align_items": null,
            "bottom": null,
            "_model_module": "@jupyter-widgets/base",
            "top": null,
            "grid_column": null,
            "overflow_y": null,
            "overflow_x": null,
            "grid_auto_flow": null,
            "grid_area": null,
            "grid_template_columns": null,
            "flex": null,
            "_model_name": "LayoutModel",
            "justify_items": null,
            "grid_row": null,
            "max_height": null,
            "align_content": null,
            "visibility": null,
            "align_self": null,
            "height": null,
            "min_height": null,
            "padding": null,
            "grid_auto_rows": null,
            "grid_gap": null,
            "max_width": null,
            "order": null,
            "_view_module_version": "1.2.0",
            "grid_template_areas": null,
            "object_position": null,
            "object_fit": null,
            "grid_auto_columns": null,
            "margin": null,
            "display": null,
            "left": null
          }
        },
        "1b5ca647685f4af88063c4ef8d56e527": {
          "model_module": "@jupyter-widgets/controls",
          "model_name": "DescriptionStyleModel",
          "state": {
            "_view_name": "StyleView",
            "_model_name": "DescriptionStyleModel",
            "description_width": "",
            "_view_module": "@jupyter-widgets/base",
            "_model_module_version": "1.5.0",
            "_view_count": null,
            "_view_module_version": "1.2.0",
            "_model_module": "@jupyter-widgets/controls"
          }
        },
        "f82962aaf70040609296913644b1c670": {
          "model_module": "@jupyter-widgets/base",
          "model_name": "LayoutModel",
          "state": {
            "_view_name": "LayoutView",
            "grid_template_rows": null,
            "right": null,
            "justify_content": null,
            "_view_module": "@jupyter-widgets/base",
            "overflow": null,
            "_model_module_version": "1.2.0",
            "_view_count": null,
            "flex_flow": null,
            "width": null,
            "min_width": null,
            "border": null,
            "align_items": null,
            "bottom": null,
            "_model_module": "@jupyter-widgets/base",
            "top": null,
            "grid_column": null,
            "overflow_y": null,
            "overflow_x": null,
            "grid_auto_flow": null,
            "grid_area": null,
            "grid_template_columns": null,
            "flex": null,
            "_model_name": "LayoutModel",
            "justify_items": null,
            "grid_row": null,
            "max_height": null,
            "align_content": null,
            "visibility": null,
            "align_self": null,
            "height": null,
            "min_height": null,
            "padding": null,
            "grid_auto_rows": null,
            "grid_gap": null,
            "max_width": null,
            "order": null,
            "_view_module_version": "1.2.0",
            "grid_template_areas": null,
            "object_position": null,
            "object_fit": null,
            "grid_auto_columns": null,
            "margin": null,
            "display": null,
            "left": null
          }
        },
        "9a8ffbee1c264a248a85aeba4448a203": {
          "model_module": "@jupyter-widgets/controls",
          "model_name": "HBoxModel",
          "state": {
            "_view_name": "HBoxView",
            "_dom_classes": [],
            "_model_name": "HBoxModel",
            "_view_module": "@jupyter-widgets/controls",
            "_model_module_version": "1.5.0",
            "_view_count": null,
            "_view_module_version": "1.5.0",
            "box_style": "",
            "layout": "IPY_MODEL_6b84c0211a4d477cba86fc0f6c0bb682",
            "_model_module": "@jupyter-widgets/controls",
            "children": [
              "IPY_MODEL_72d1bc5f78d943fe86b28b415bfc2317",
              "IPY_MODEL_54661b7631f440658298adfe0a67a9ec"
            ]
          }
        },
        "6b84c0211a4d477cba86fc0f6c0bb682": {
          "model_module": "@jupyter-widgets/base",
          "model_name": "LayoutModel",
          "state": {
            "_view_name": "LayoutView",
            "grid_template_rows": null,
            "right": null,
            "justify_content": null,
            "_view_module": "@jupyter-widgets/base",
            "overflow": null,
            "_model_module_version": "1.2.0",
            "_view_count": null,
            "flex_flow": null,
            "width": null,
            "min_width": null,
            "border": null,
            "align_items": null,
            "bottom": null,
            "_model_module": "@jupyter-widgets/base",
            "top": null,
            "grid_column": null,
            "overflow_y": null,
            "overflow_x": null,
            "grid_auto_flow": null,
            "grid_area": null,
            "grid_template_columns": null,
            "flex": null,
            "_model_name": "LayoutModel",
            "justify_items": null,
            "grid_row": null,
            "max_height": null,
            "align_content": null,
            "visibility": null,
            "align_self": null,
            "height": null,
            "min_height": null,
            "padding": null,
            "grid_auto_rows": null,
            "grid_gap": null,
            "max_width": null,
            "order": null,
            "_view_module_version": "1.2.0",
            "grid_template_areas": null,
            "object_position": null,
            "object_fit": null,
            "grid_auto_columns": null,
            "margin": null,
            "display": null,
            "left": null
          }
        },
        "72d1bc5f78d943fe86b28b415bfc2317": {
          "model_module": "@jupyter-widgets/controls",
          "model_name": "FloatProgressModel",
          "state": {
            "_view_name": "ProgressView",
            "style": "IPY_MODEL_b70167d093214d48a9422dfd43c89e6d",
            "_dom_classes": [],
            "description": "100%",
            "_model_name": "FloatProgressModel",
            "bar_style": "success",
            "max": 5374,
            "_view_module": "@jupyter-widgets/controls",
            "_model_module_version": "1.5.0",
            "value": 5374,
            "_view_count": null,
            "_view_module_version": "1.5.0",
            "orientation": "horizontal",
            "min": 0,
            "description_tooltip": null,
            "_model_module": "@jupyter-widgets/controls",
            "layout": "IPY_MODEL_c5d65402ad6247209282ae9cabb1286a"
          }
        },
        "54661b7631f440658298adfe0a67a9ec": {
          "model_module": "@jupyter-widgets/controls",
          "model_name": "HTMLModel",
          "state": {
            "_view_name": "HTMLView",
            "style": "IPY_MODEL_ca50f82e12de4101a6693f53cf107302",
            "_dom_classes": [],
            "description": "",
            "_model_name": "HTMLModel",
            "placeholder": "​",
            "_view_module": "@jupyter-widgets/controls",
            "_model_module_version": "1.5.0",
            "value": " 5374/5374 [00:37&lt;00:00, 144.16it/s]",
            "_view_count": null,
            "_view_module_version": "1.5.0",
            "description_tooltip": null,
            "_model_module": "@jupyter-widgets/controls",
            "layout": "IPY_MODEL_c9643160f8d64bec9b6eb536552b2745"
          }
        },
        "b70167d093214d48a9422dfd43c89e6d": {
          "model_module": "@jupyter-widgets/controls",
          "model_name": "ProgressStyleModel",
          "state": {
            "_view_name": "StyleView",
            "_model_name": "ProgressStyleModel",
            "description_width": "initial",
            "_view_module": "@jupyter-widgets/base",
            "_model_module_version": "1.5.0",
            "_view_count": null,
            "_view_module_version": "1.2.0",
            "bar_color": null,
            "_model_module": "@jupyter-widgets/controls"
          }
        },
        "c5d65402ad6247209282ae9cabb1286a": {
          "model_module": "@jupyter-widgets/base",
          "model_name": "LayoutModel",
          "state": {
            "_view_name": "LayoutView",
            "grid_template_rows": null,
            "right": null,
            "justify_content": null,
            "_view_module": "@jupyter-widgets/base",
            "overflow": null,
            "_model_module_version": "1.2.0",
            "_view_count": null,
            "flex_flow": null,
            "width": null,
            "min_width": null,
            "border": null,
            "align_items": null,
            "bottom": null,
            "_model_module": "@jupyter-widgets/base",
            "top": null,
            "grid_column": null,
            "overflow_y": null,
            "overflow_x": null,
            "grid_auto_flow": null,
            "grid_area": null,
            "grid_template_columns": null,
            "flex": null,
            "_model_name": "LayoutModel",
            "justify_items": null,
            "grid_row": null,
            "max_height": null,
            "align_content": null,
            "visibility": null,
            "align_self": null,
            "height": null,
            "min_height": null,
            "padding": null,
            "grid_auto_rows": null,
            "grid_gap": null,
            "max_width": null,
            "order": null,
            "_view_module_version": "1.2.0",
            "grid_template_areas": null,
            "object_position": null,
            "object_fit": null,
            "grid_auto_columns": null,
            "margin": null,
            "display": null,
            "left": null
          }
        },
        "ca50f82e12de4101a6693f53cf107302": {
          "model_module": "@jupyter-widgets/controls",
          "model_name": "DescriptionStyleModel",
          "state": {
            "_view_name": "StyleView",
            "_model_name": "DescriptionStyleModel",
            "description_width": "",
            "_view_module": "@jupyter-widgets/base",
            "_model_module_version": "1.5.0",
            "_view_count": null,
            "_view_module_version": "1.2.0",
            "_model_module": "@jupyter-widgets/controls"
          }
        },
        "c9643160f8d64bec9b6eb536552b2745": {
          "model_module": "@jupyter-widgets/base",
          "model_name": "LayoutModel",
          "state": {
            "_view_name": "LayoutView",
            "grid_template_rows": null,
            "right": null,
            "justify_content": null,
            "_view_module": "@jupyter-widgets/base",
            "overflow": null,
            "_model_module_version": "1.2.0",
            "_view_count": null,
            "flex_flow": null,
            "width": null,
            "min_width": null,
            "border": null,
            "align_items": null,
            "bottom": null,
            "_model_module": "@jupyter-widgets/base",
            "top": null,
            "grid_column": null,
            "overflow_y": null,
            "overflow_x": null,
            "grid_auto_flow": null,
            "grid_area": null,
            "grid_template_columns": null,
            "flex": null,
            "_model_name": "LayoutModel",
            "justify_items": null,
            "grid_row": null,
            "max_height": null,
            "align_content": null,
            "visibility": null,
            "align_self": null,
            "height": null,
            "min_height": null,
            "padding": null,
            "grid_auto_rows": null,
            "grid_gap": null,
            "max_width": null,
            "order": null,
            "_view_module_version": "1.2.0",
            "grid_template_areas": null,
            "object_position": null,
            "object_fit": null,
            "grid_auto_columns": null,
            "margin": null,
            "display": null,
            "left": null
          }
        },
        "fe4837c08ed44f30afe6b11ae6f5d7ef": {
          "model_module": "@jupyter-widgets/controls",
          "model_name": "HBoxModel",
          "state": {
            "_view_name": "HBoxView",
            "_dom_classes": [],
            "_model_name": "HBoxModel",
            "_view_module": "@jupyter-widgets/controls",
            "_model_module_version": "1.5.0",
            "_view_count": null,
            "_view_module_version": "1.5.0",
            "box_style": "",
            "layout": "IPY_MODEL_2532fa1e498f4b2b9724f5b0f8850efc",
            "_model_module": "@jupyter-widgets/controls",
            "children": [
              "IPY_MODEL_69184721f5ee48339a30321cbe9d2fa9",
              "IPY_MODEL_dcee844cabe34b53bebfc51f88215f2c"
            ]
          }
        },
        "2532fa1e498f4b2b9724f5b0f8850efc": {
          "model_module": "@jupyter-widgets/base",
          "model_name": "LayoutModel",
          "state": {
            "_view_name": "LayoutView",
            "grid_template_rows": null,
            "right": null,
            "justify_content": null,
            "_view_module": "@jupyter-widgets/base",
            "overflow": null,
            "_model_module_version": "1.2.0",
            "_view_count": null,
            "flex_flow": null,
            "width": null,
            "min_width": null,
            "border": null,
            "align_items": null,
            "bottom": null,
            "_model_module": "@jupyter-widgets/base",
            "top": null,
            "grid_column": null,
            "overflow_y": null,
            "overflow_x": null,
            "grid_auto_flow": null,
            "grid_area": null,
            "grid_template_columns": null,
            "flex": null,
            "_model_name": "LayoutModel",
            "justify_items": null,
            "grid_row": null,
            "max_height": null,
            "align_content": null,
            "visibility": null,
            "align_self": null,
            "height": null,
            "min_height": null,
            "padding": null,
            "grid_auto_rows": null,
            "grid_gap": null,
            "max_width": null,
            "order": null,
            "_view_module_version": "1.2.0",
            "grid_template_areas": null,
            "object_position": null,
            "object_fit": null,
            "grid_auto_columns": null,
            "margin": null,
            "display": null,
            "left": null
          }
        },
        "69184721f5ee48339a30321cbe9d2fa9": {
          "model_module": "@jupyter-widgets/controls",
          "model_name": "FloatProgressModel",
          "state": {
            "_view_name": "ProgressView",
            "style": "IPY_MODEL_26fb644fa7fc438a815c84d93696ddcd",
            "_dom_classes": [],
            "description": "100%",
            "_model_name": "FloatProgressModel",
            "bar_style": "success",
            "max": 531990,
            "_view_module": "@jupyter-widgets/controls",
            "_model_module_version": "1.5.0",
            "value": 531990,
            "_view_count": null,
            "_view_module_version": "1.5.0",
            "orientation": "horizontal",
            "min": 0,
            "description_tooltip": null,
            "_model_module": "@jupyter-widgets/controls",
            "layout": "IPY_MODEL_e2e5bf1e981248b0b01cb5abae931c4b"
          }
        },
        "dcee844cabe34b53bebfc51f88215f2c": {
          "model_module": "@jupyter-widgets/controls",
          "model_name": "HTMLModel",
          "state": {
            "_view_name": "HTMLView",
            "style": "IPY_MODEL_0c72fd1e569d4da18b85779205ad5be4",
            "_dom_classes": [],
            "description": "",
            "_model_name": "HTMLModel",
            "placeholder": "​",
            "_view_module": "@jupyter-widgets/controls",
            "_model_module_version": "1.5.0",
            "value": " 531990/531990 [08:37&lt;00:00, 1028.19it/s]",
            "_view_count": null,
            "_view_module_version": "1.5.0",
            "description_tooltip": null,
            "_model_module": "@jupyter-widgets/controls",
            "layout": "IPY_MODEL_f082f07171a94900be0337c3c053b508"
          }
        },
        "26fb644fa7fc438a815c84d93696ddcd": {
          "model_module": "@jupyter-widgets/controls",
          "model_name": "ProgressStyleModel",
          "state": {
            "_view_name": "StyleView",
            "_model_name": "ProgressStyleModel",
            "description_width": "initial",
            "_view_module": "@jupyter-widgets/base",
            "_model_module_version": "1.5.0",
            "_view_count": null,
            "_view_module_version": "1.2.0",
            "bar_color": null,
            "_model_module": "@jupyter-widgets/controls"
          }
        },
        "e2e5bf1e981248b0b01cb5abae931c4b": {
          "model_module": "@jupyter-widgets/base",
          "model_name": "LayoutModel",
          "state": {
            "_view_name": "LayoutView",
            "grid_template_rows": null,
            "right": null,
            "justify_content": null,
            "_view_module": "@jupyter-widgets/base",
            "overflow": null,
            "_model_module_version": "1.2.0",
            "_view_count": null,
            "flex_flow": null,
            "width": null,
            "min_width": null,
            "border": null,
            "align_items": null,
            "bottom": null,
            "_model_module": "@jupyter-widgets/base",
            "top": null,
            "grid_column": null,
            "overflow_y": null,
            "overflow_x": null,
            "grid_auto_flow": null,
            "grid_area": null,
            "grid_template_columns": null,
            "flex": null,
            "_model_name": "LayoutModel",
            "justify_items": null,
            "grid_row": null,
            "max_height": null,
            "align_content": null,
            "visibility": null,
            "align_self": null,
            "height": null,
            "min_height": null,
            "padding": null,
            "grid_auto_rows": null,
            "grid_gap": null,
            "max_width": null,
            "order": null,
            "_view_module_version": "1.2.0",
            "grid_template_areas": null,
            "object_position": null,
            "object_fit": null,
            "grid_auto_columns": null,
            "margin": null,
            "display": null,
            "left": null
          }
        },
        "0c72fd1e569d4da18b85779205ad5be4": {
          "model_module": "@jupyter-widgets/controls",
          "model_name": "DescriptionStyleModel",
          "state": {
            "_view_name": "StyleView",
            "_model_name": "DescriptionStyleModel",
            "description_width": "",
            "_view_module": "@jupyter-widgets/base",
            "_model_module_version": "1.5.0",
            "_view_count": null,
            "_view_module_version": "1.2.0",
            "_model_module": "@jupyter-widgets/controls"
          }
        },
        "f082f07171a94900be0337c3c053b508": {
          "model_module": "@jupyter-widgets/base",
          "model_name": "LayoutModel",
          "state": {
            "_view_name": "LayoutView",
            "grid_template_rows": null,
            "right": null,
            "justify_content": null,
            "_view_module": "@jupyter-widgets/base",
            "overflow": null,
            "_model_module_version": "1.2.0",
            "_view_count": null,
            "flex_flow": null,
            "width": null,
            "min_width": null,
            "border": null,
            "align_items": null,
            "bottom": null,
            "_model_module": "@jupyter-widgets/base",
            "top": null,
            "grid_column": null,
            "overflow_y": null,
            "overflow_x": null,
            "grid_auto_flow": null,
            "grid_area": null,
            "grid_template_columns": null,
            "flex": null,
            "_model_name": "LayoutModel",
            "justify_items": null,
            "grid_row": null,
            "max_height": null,
            "align_content": null,
            "visibility": null,
            "align_self": null,
            "height": null,
            "min_height": null,
            "padding": null,
            "grid_auto_rows": null,
            "grid_gap": null,
            "max_width": null,
            "order": null,
            "_view_module_version": "1.2.0",
            "grid_template_areas": null,
            "object_position": null,
            "object_fit": null,
            "grid_auto_columns": null,
            "margin": null,
            "display": null,
            "left": null
          }
        },
        "fc9e4dc79d4e47eab6c5807b30a3e7db": {
          "model_module": "@jupyter-widgets/controls",
          "model_name": "HBoxModel",
          "state": {
            "_view_name": "HBoxView",
            "_dom_classes": [],
            "_model_name": "HBoxModel",
            "_view_module": "@jupyter-widgets/controls",
            "_model_module_version": "1.5.0",
            "_view_count": null,
            "_view_module_version": "1.5.0",
            "box_style": "",
            "layout": "IPY_MODEL_4ecb0172b6b4460080fd004ee9b25455",
            "_model_module": "@jupyter-widgets/controls",
            "children": [
              "IPY_MODEL_9ed1828534cd430a86e574ad6f2557f1",
              "IPY_MODEL_a8085bd690a94a1eb86f2b729c00c8c7"
            ]
          }
        },
        "4ecb0172b6b4460080fd004ee9b25455": {
          "model_module": "@jupyter-widgets/base",
          "model_name": "LayoutModel",
          "state": {
            "_view_name": "LayoutView",
            "grid_template_rows": null,
            "right": null,
            "justify_content": null,
            "_view_module": "@jupyter-widgets/base",
            "overflow": null,
            "_model_module_version": "1.2.0",
            "_view_count": null,
            "flex_flow": null,
            "width": null,
            "min_width": null,
            "border": null,
            "align_items": null,
            "bottom": null,
            "_model_module": "@jupyter-widgets/base",
            "top": null,
            "grid_column": null,
            "overflow_y": null,
            "overflow_x": null,
            "grid_auto_flow": null,
            "grid_area": null,
            "grid_template_columns": null,
            "flex": null,
            "_model_name": "LayoutModel",
            "justify_items": null,
            "grid_row": null,
            "max_height": null,
            "align_content": null,
            "visibility": null,
            "align_self": null,
            "height": null,
            "min_height": null,
            "padding": null,
            "grid_auto_rows": null,
            "grid_gap": null,
            "max_width": null,
            "order": null,
            "_view_module_version": "1.2.0",
            "grid_template_areas": null,
            "object_position": null,
            "object_fit": null,
            "grid_auto_columns": null,
            "margin": null,
            "display": null,
            "left": null
          }
        },
        "9ed1828534cd430a86e574ad6f2557f1": {
          "model_module": "@jupyter-widgets/controls",
          "model_name": "FloatProgressModel",
          "state": {
            "_view_name": "ProgressView",
            "style": "IPY_MODEL_13d64f9d63864d569a3460e822069c09",
            "_dom_classes": [],
            "description": "100%",
            "_model_name": "FloatProgressModel",
            "bar_style": "success",
            "max": 5374,
            "_view_module": "@jupyter-widgets/controls",
            "_model_module_version": "1.5.0",
            "value": 5374,
            "_view_count": null,
            "_view_module_version": "1.5.0",
            "orientation": "horizontal",
            "min": 0,
            "description_tooltip": null,
            "_model_module": "@jupyter-widgets/controls",
            "layout": "IPY_MODEL_7d418b00229a4b43b8bfcdde6f20582d"
          }
        },
        "a8085bd690a94a1eb86f2b729c00c8c7": {
          "model_module": "@jupyter-widgets/controls",
          "model_name": "HTMLModel",
          "state": {
            "_view_name": "HTMLView",
            "style": "IPY_MODEL_cab20cdcdbff4fcba7915be311945885",
            "_dom_classes": [],
            "description": "",
            "_model_name": "HTMLModel",
            "placeholder": "​",
            "_view_module": "@jupyter-widgets/controls",
            "_model_module_version": "1.5.0",
            "value": " 5374/5374 [00:07&lt;00:00, 692.46it/s]",
            "_view_count": null,
            "_view_module_version": "1.5.0",
            "description_tooltip": null,
            "_model_module": "@jupyter-widgets/controls",
            "layout": "IPY_MODEL_2fea1244a6ed46b4b117839c41287c95"
          }
        },
        "13d64f9d63864d569a3460e822069c09": {
          "model_module": "@jupyter-widgets/controls",
          "model_name": "ProgressStyleModel",
          "state": {
            "_view_name": "StyleView",
            "_model_name": "ProgressStyleModel",
            "description_width": "initial",
            "_view_module": "@jupyter-widgets/base",
            "_model_module_version": "1.5.0",
            "_view_count": null,
            "_view_module_version": "1.2.0",
            "bar_color": null,
            "_model_module": "@jupyter-widgets/controls"
          }
        },
        "7d418b00229a4b43b8bfcdde6f20582d": {
          "model_module": "@jupyter-widgets/base",
          "model_name": "LayoutModel",
          "state": {
            "_view_name": "LayoutView",
            "grid_template_rows": null,
            "right": null,
            "justify_content": null,
            "_view_module": "@jupyter-widgets/base",
            "overflow": null,
            "_model_module_version": "1.2.0",
            "_view_count": null,
            "flex_flow": null,
            "width": null,
            "min_width": null,
            "border": null,
            "align_items": null,
            "bottom": null,
            "_model_module": "@jupyter-widgets/base",
            "top": null,
            "grid_column": null,
            "overflow_y": null,
            "overflow_x": null,
            "grid_auto_flow": null,
            "grid_area": null,
            "grid_template_columns": null,
            "flex": null,
            "_model_name": "LayoutModel",
            "justify_items": null,
            "grid_row": null,
            "max_height": null,
            "align_content": null,
            "visibility": null,
            "align_self": null,
            "height": null,
            "min_height": null,
            "padding": null,
            "grid_auto_rows": null,
            "grid_gap": null,
            "max_width": null,
            "order": null,
            "_view_module_version": "1.2.0",
            "grid_template_areas": null,
            "object_position": null,
            "object_fit": null,
            "grid_auto_columns": null,
            "margin": null,
            "display": null,
            "left": null
          }
        },
        "cab20cdcdbff4fcba7915be311945885": {
          "model_module": "@jupyter-widgets/controls",
          "model_name": "DescriptionStyleModel",
          "state": {
            "_view_name": "StyleView",
            "_model_name": "DescriptionStyleModel",
            "description_width": "",
            "_view_module": "@jupyter-widgets/base",
            "_model_module_version": "1.5.0",
            "_view_count": null,
            "_view_module_version": "1.2.0",
            "_model_module": "@jupyter-widgets/controls"
          }
        },
        "2fea1244a6ed46b4b117839c41287c95": {
          "model_module": "@jupyter-widgets/base",
          "model_name": "LayoutModel",
          "state": {
            "_view_name": "LayoutView",
            "grid_template_rows": null,
            "right": null,
            "justify_content": null,
            "_view_module": "@jupyter-widgets/base",
            "overflow": null,
            "_model_module_version": "1.2.0",
            "_view_count": null,
            "flex_flow": null,
            "width": null,
            "min_width": null,
            "border": null,
            "align_items": null,
            "bottom": null,
            "_model_module": "@jupyter-widgets/base",
            "top": null,
            "grid_column": null,
            "overflow_y": null,
            "overflow_x": null,
            "grid_auto_flow": null,
            "grid_area": null,
            "grid_template_columns": null,
            "flex": null,
            "_model_name": "LayoutModel",
            "justify_items": null,
            "grid_row": null,
            "max_height": null,
            "align_content": null,
            "visibility": null,
            "align_self": null,
            "height": null,
            "min_height": null,
            "padding": null,
            "grid_auto_rows": null,
            "grid_gap": null,
            "max_width": null,
            "order": null,
            "_view_module_version": "1.2.0",
            "grid_template_areas": null,
            "object_position": null,
            "object_fit": null,
            "grid_auto_columns": null,
            "margin": null,
            "display": null,
            "left": null
          }
        },
        "f2e01d3209334cc1823c9c306e44e753": {
          "model_module": "@jupyter-widgets/controls",
          "model_name": "HBoxModel",
          "state": {
            "_view_name": "HBoxView",
            "_dom_classes": [],
            "_model_name": "HBoxModel",
            "_view_module": "@jupyter-widgets/controls",
            "_model_module_version": "1.5.0",
            "_view_count": null,
            "_view_module_version": "1.5.0",
            "box_style": "",
            "layout": "IPY_MODEL_240b817c722240a5882b1d81af17e308",
            "_model_module": "@jupyter-widgets/controls",
            "children": [
              "IPY_MODEL_50df9d58c9c9468b93ee421e93763930",
              "IPY_MODEL_113f06a006d54c8cb9838b9749de1b05"
            ]
          }
        },
        "240b817c722240a5882b1d81af17e308": {
          "model_module": "@jupyter-widgets/base",
          "model_name": "LayoutModel",
          "state": {
            "_view_name": "LayoutView",
            "grid_template_rows": null,
            "right": null,
            "justify_content": null,
            "_view_module": "@jupyter-widgets/base",
            "overflow": null,
            "_model_module_version": "1.2.0",
            "_view_count": null,
            "flex_flow": null,
            "width": null,
            "min_width": null,
            "border": null,
            "align_items": null,
            "bottom": null,
            "_model_module": "@jupyter-widgets/base",
            "top": null,
            "grid_column": null,
            "overflow_y": null,
            "overflow_x": null,
            "grid_auto_flow": null,
            "grid_area": null,
            "grid_template_columns": null,
            "flex": null,
            "_model_name": "LayoutModel",
            "justify_items": null,
            "grid_row": null,
            "max_height": null,
            "align_content": null,
            "visibility": null,
            "align_self": null,
            "height": null,
            "min_height": null,
            "padding": null,
            "grid_auto_rows": null,
            "grid_gap": null,
            "max_width": null,
            "order": null,
            "_view_module_version": "1.2.0",
            "grid_template_areas": null,
            "object_position": null,
            "object_fit": null,
            "grid_auto_columns": null,
            "margin": null,
            "display": null,
            "left": null
          }
        },
        "50df9d58c9c9468b93ee421e93763930": {
          "model_module": "@jupyter-widgets/controls",
          "model_name": "FloatProgressModel",
          "state": {
            "_view_name": "ProgressView",
            "style": "IPY_MODEL_82e13ac5509f4312878529d3c0749287",
            "_dom_classes": [],
            "description": "100%",
            "_model_name": "FloatProgressModel",
            "bar_style": "success",
            "max": 531990,
            "_view_module": "@jupyter-widgets/controls",
            "_model_module_version": "1.5.0",
            "value": 531990,
            "_view_count": null,
            "_view_module_version": "1.5.0",
            "orientation": "horizontal",
            "min": 0,
            "description_tooltip": null,
            "_model_module": "@jupyter-widgets/controls",
            "layout": "IPY_MODEL_98fa520db8194d4084b8a89327bcefd8"
          }
        },
        "113f06a006d54c8cb9838b9749de1b05": {
          "model_module": "@jupyter-widgets/controls",
          "model_name": "HTMLModel",
          "state": {
            "_view_name": "HTMLView",
            "style": "IPY_MODEL_8d87a7a80f224ebb9dc79a958abde957",
            "_dom_classes": [],
            "description": "",
            "_model_name": "HTMLModel",
            "placeholder": "​",
            "_view_module": "@jupyter-widgets/controls",
            "_model_module_version": "1.5.0",
            "value": " 531990/531990 [1:24:25&lt;00:00, 105.03it/s]",
            "_view_count": null,
            "_view_module_version": "1.5.0",
            "description_tooltip": null,
            "_model_module": "@jupyter-widgets/controls",
            "layout": "IPY_MODEL_84bf2640887147918879804f188ac8bf"
          }
        },
        "82e13ac5509f4312878529d3c0749287": {
          "model_module": "@jupyter-widgets/controls",
          "model_name": "ProgressStyleModel",
          "state": {
            "_view_name": "StyleView",
            "_model_name": "ProgressStyleModel",
            "description_width": "initial",
            "_view_module": "@jupyter-widgets/base",
            "_model_module_version": "1.5.0",
            "_view_count": null,
            "_view_module_version": "1.2.0",
            "bar_color": null,
            "_model_module": "@jupyter-widgets/controls"
          }
        },
        "98fa520db8194d4084b8a89327bcefd8": {
          "model_module": "@jupyter-widgets/base",
          "model_name": "LayoutModel",
          "state": {
            "_view_name": "LayoutView",
            "grid_template_rows": null,
            "right": null,
            "justify_content": null,
            "_view_module": "@jupyter-widgets/base",
            "overflow": null,
            "_model_module_version": "1.2.0",
            "_view_count": null,
            "flex_flow": null,
            "width": null,
            "min_width": null,
            "border": null,
            "align_items": null,
            "bottom": null,
            "_model_module": "@jupyter-widgets/base",
            "top": null,
            "grid_column": null,
            "overflow_y": null,
            "overflow_x": null,
            "grid_auto_flow": null,
            "grid_area": null,
            "grid_template_columns": null,
            "flex": null,
            "_model_name": "LayoutModel",
            "justify_items": null,
            "grid_row": null,
            "max_height": null,
            "align_content": null,
            "visibility": null,
            "align_self": null,
            "height": null,
            "min_height": null,
            "padding": null,
            "grid_auto_rows": null,
            "grid_gap": null,
            "max_width": null,
            "order": null,
            "_view_module_version": "1.2.0",
            "grid_template_areas": null,
            "object_position": null,
            "object_fit": null,
            "grid_auto_columns": null,
            "margin": null,
            "display": null,
            "left": null
          }
        },
        "8d87a7a80f224ebb9dc79a958abde957": {
          "model_module": "@jupyter-widgets/controls",
          "model_name": "DescriptionStyleModel",
          "state": {
            "_view_name": "StyleView",
            "_model_name": "DescriptionStyleModel",
            "description_width": "",
            "_view_module": "@jupyter-widgets/base",
            "_model_module_version": "1.5.0",
            "_view_count": null,
            "_view_module_version": "1.2.0",
            "_model_module": "@jupyter-widgets/controls"
          }
        },
        "84bf2640887147918879804f188ac8bf": {
          "model_module": "@jupyter-widgets/base",
          "model_name": "LayoutModel",
          "state": {
            "_view_name": "LayoutView",
            "grid_template_rows": null,
            "right": null,
            "justify_content": null,
            "_view_module": "@jupyter-widgets/base",
            "overflow": null,
            "_model_module_version": "1.2.0",
            "_view_count": null,
            "flex_flow": null,
            "width": null,
            "min_width": null,
            "border": null,
            "align_items": null,
            "bottom": null,
            "_model_module": "@jupyter-widgets/base",
            "top": null,
            "grid_column": null,
            "overflow_y": null,
            "overflow_x": null,
            "grid_auto_flow": null,
            "grid_area": null,
            "grid_template_columns": null,
            "flex": null,
            "_model_name": "LayoutModel",
            "justify_items": null,
            "grid_row": null,
            "max_height": null,
            "align_content": null,
            "visibility": null,
            "align_self": null,
            "height": null,
            "min_height": null,
            "padding": null,
            "grid_auto_rows": null,
            "grid_gap": null,
            "max_width": null,
            "order": null,
            "_view_module_version": "1.2.0",
            "grid_template_areas": null,
            "object_position": null,
            "object_fit": null,
            "grid_auto_columns": null,
            "margin": null,
            "display": null,
            "left": null
          }
        }
      }
    }
  },
  "cells": [
    {
      "cell_type": "code",
      "metadata": {
        "id": "ZNB548OE2emb"
      },
      "source": [
        "import pandas as pd\r\n",
        "\r\n",
        "from nltk import wordpunct_tokenize\r\n",
        "from nltk import tokenize\r\n",
        "import numpy as np\r\n",
        "\r\n",
        "import time\r\n",
        "\r\n",
        "from string import digits\r\n",
        "import re"
      ],
      "execution_count": 4,
      "outputs": []
    },
    {
      "cell_type": "markdown",
      "metadata": {
        "id": "EA7RlHDf_HeR"
      },
      "source": [
        "#Data Pre-processing"
      ]
    },
    {
      "cell_type": "code",
      "metadata": {
        "id": "-yMXYhT7Zix4"
      },
      "source": [
        "from nltk.corpus import stopwords\r\n",
        "import nltk"
      ],
      "execution_count": 5,
      "outputs": []
    },
    {
      "cell_type": "code",
      "metadata": {
        "colab": {
          "base_uri": "https://localhost:8080/"
        },
        "id": "kvoI0YgF1I0O",
        "outputId": "9033b6ff-c732-4a4c-e113-7c3d51c8e495"
      },
      "source": [
        "nltk.download('stopwords')\r\n",
        "stop_words = set(nltk.corpus.stopwords.words('english'))"
      ],
      "execution_count": 6,
      "outputs": [
        {
          "output_type": "stream",
          "text": [
            "[nltk_data] Downloading package stopwords to /root/nltk_data...\n",
            "[nltk_data]   Package stopwords is already up-to-date!\n"
          ],
          "name": "stdout"
        }
      ]
    },
    {
      "cell_type": "markdown",
      "metadata": {
        "id": "cSm9H7Xg_RIF"
      },
      "source": [
        "##Reading"
      ]
    },
    {
      "cell_type": "markdown",
      "metadata": {
        "id": "Fp6r-XEM40xY"
      },
      "source": [
        "Read test corpus "
      ]
    },
    {
      "cell_type": "code",
      "metadata": {
        "id": "vSNozrocH7-n",
        "colab": {
          "base_uri": "https://localhost:8080/"
        },
        "outputId": "fc445d5b-ac30-43a9-fd5a-26f4190bde99"
      },
      "source": [
        "corpus_test = pd.read_csv(\"/content/drive/MyDrive/Colab Notebooks/corpusTest.csv\")\n",
        "print(corpus_test.shape)\n",
        "print(corpus_test.head())"
      ],
      "execution_count": 7,
      "outputs": [
        {
          "output_type": "stream",
          "text": [
            "(5374, 2)\n",
            "   Id                                            Content\n",
            "0   0              How do I get good marks in college?\\n\n",
            "1   1  Can an android app use SMS only to communicate...\n",
            "2   2  What small detail from an Indian movie do you ...\n",
            "3   3  Why can not Hindu women be the soldier of Hind...\n",
            "4   4  How would you write out twelve lakh twelve tho...\n"
          ],
          "name": "stdout"
        }
      ]
    },
    {
      "cell_type": "markdown",
      "metadata": {
        "id": "o0fXmn-i5QYg"
      },
      "source": [
        "Read train corpus"
      ]
    },
    {
      "cell_type": "code",
      "metadata": {
        "id": "7YT8MrxSI1C0",
        "colab": {
          "base_uri": "https://localhost:8080/"
        },
        "outputId": "11186595-26e0-4c11-b544-affc1a6bae9b"
      },
      "source": [
        "corpus_train = pd.read_csv(\"/content/drive/MyDrive/Colab Notebooks/corpusTrain.csv\")\n",
        "print(corpus_train.shape)\n",
        "print(corpus_train.head())"
      ],
      "execution_count": 8,
      "outputs": [
        {
          "output_type": "stream",
          "text": [
            "(531990, 2)\n",
            "   Id                                            Content\n",
            "0   0  How many people are going towards using phones...\n",
            "1   1  What audio format should I use for getting aud...\n",
            "2   2  What is the corporate culture like at Edwards ...\n",
            "3   3        What is the best barbecue in Kansas City?\\n\n",
            "4   4  \"Can I combine the output of two bolts to one ...\n"
          ],
          "name": "stdout"
        }
      ]
    },
    {
      "cell_type": "markdown",
      "metadata": {
        "id": "YXh1eaDc_VdV"
      },
      "source": [
        "##Shallow Cleaning"
      ]
    },
    {
      "cell_type": "code",
      "metadata": {
        "id": "Wvrdrw8iw_Pq"
      },
      "source": [
        "def blank_space(x):\r\n",
        "  return re.sub('[^A-Za-z0-9]+', ' ', x)\r\n",
        "\r\n",
        "def numbers(x):\r\n",
        "  return re.sub(r'[0-9]+', '', x)\r\n",
        "\r\n",
        "def standarize_sentence(x):\r\n",
        "  return ''.join(''.join(word)[:2] for word in x) \r\n",
        "\r\n",
        "def apostrophe_words(x):\r\n",
        "  Apos_dict={\"'s\":\" is\",\"n't\":\" not\",\"'m\":\" am\",\"'ll\":\" will\", \r\n",
        "           \"'d\":\" would\",\"'ve\":\" have\",\"'re\":\" are\"} \r\n",
        "  for key,value in Apos_dict.items(): \r\n",
        "      if key in x: \r\n",
        "          return x.replace(key,value)\r\n",
        "  return x\r\n",
        "\r\n",
        "def split_words(x):\r\n",
        "  return \" \".join([word for word in re.split(\"([A-Z][a-z]+[^A-Z]*)\",x) if word])\r\n",
        "\r\n",
        "def shallow_cleaning(df):\r\n",
        "  remove_digits = str.maketrans('', '', digits)\r\n",
        "  df['Content'] = df['Content'].apply(lambda x: blank_space(str(x)))\r\n",
        "  df['Content'] = df['Content'].apply(lambda x: numbers(str(x)))\r\n",
        "  df['Content'] = df['Content'].apply(lambda x: split_words(str(x)))\r\n",
        "  df['Content'] = df['Content'].apply(lambda x: standarize_sentence(str(x)))\r\n",
        "  df['Content'] = df['Content'].apply(lambda x: apostrophe_words(str(x)))\r\n",
        "  df['Content'] = df['Content'].str.strip()\r\n",
        "  df['Content'] = df['Content'].str.lower()\r\n",
        "  df['Content'].apply(lambda x: [item for item in x if item not in stop_words])\r\n",
        "  return df"
      ],
      "execution_count": 9,
      "outputs": []
    },
    {
      "cell_type": "code",
      "metadata": {
        "id": "YzV1Wz2Pb8Ai"
      },
      "source": [
        "corpus_train = shallow_cleaning(corpus_train)\n",
        "corpus_test = shallow_cleaning(corpus_test)"
      ],
      "execution_count": 10,
      "outputs": []
    },
    {
      "cell_type": "markdown",
      "metadata": {
        "id": "v5dkImE9_dR3"
      },
      "source": [
        "##Special Characters"
      ]
    },
    {
      "cell_type": "markdown",
      "metadata": {
        "id": "uPYXQcCf7lsk"
      },
      "source": [
        "Remove special characters from \"Content\" column since they do not contribute to the duplicates identification"
      ]
    },
    {
      "cell_type": "code",
      "metadata": {
        "id": "AmeRnYxrceol"
      },
      "source": [
        "spec_chars = [\"!\", '\"', \"#\", \"%\", \"&\", \"'\", \"(\", \")\", \"*\", \"+\", \",\", \"-\", \".\", \"/\", \":\", \";\", \"<\",\n",
        "              \"=\", \">\", \"?\", \"@\", \"[\", \"\\\\\", \"]\", \"^\", \"_\", \"`\", \"{\", \"|\", \"}\", \"~\", \"–\"]\n",
        "\n",
        "for char in spec_chars:\n",
        "    corpus_test['Content'] = corpus_test['Content'].str.replace(char, '')\n",
        "\n",
        "for char in spec_chars:\n",
        "    corpus_train['Content'] = corpus_train['Content'].str.replace(char, '')"
      ],
      "execution_count": 11,
      "outputs": []
    },
    {
      "cell_type": "code",
      "metadata": {
        "colab": {
          "base_uri": "https://localhost:8080/"
        },
        "id": "bxMSlltTybm2",
        "outputId": "80bb05ca-ed9e-4515-ecb0-78a85a01dd5a"
      },
      "source": [
        "print(corpus_test.head())"
      ],
      "execution_count": 12,
      "outputs": [
        {
          "output_type": "stream",
          "text": [
            "   Id                                            Content\n",
            "0   0                how do  i get good marks in college\n",
            "1   1  can an android app use  sms only to communicat...\n",
            "2   2  what small detail from an  indian movie do you...\n",
            "3   3  why can not  hindu women be the soldier of  hi...\n",
            "4   4  how would you write out twelve lakh twelve tho...\n"
          ],
          "name": "stdout"
        }
      ]
    },
    {
      "cell_type": "code",
      "metadata": {
        "colab": {
          "base_uri": "https://localhost:8080/"
        },
        "id": "wvbBxktcydkd",
        "outputId": "f7a6f97f-2aac-47ba-b5b5-75745697209c"
      },
      "source": [
        "print(corpus_train.head())"
      ],
      "execution_count": 13,
      "outputs": [
        {
          "output_type": "stream",
          "text": [
            "   Id                                            Content\n",
            "0   0  how many people are going towards using phones...\n",
            "1   1  what audio format should  i use for getting au...\n",
            "2   2  what is the corporate culture like at  edwards...\n",
            "3   3         what is the best barbecue in  kansas  city\n",
            "4   4  can  i combine the output of two bolts to one ...\n"
          ],
          "name": "stdout"
        }
      ]
    },
    {
      "cell_type": "markdown",
      "metadata": {
        "id": "nBm1BJIVLvk1"
      },
      "source": [
        "##Vectorization"
      ]
    },
    {
      "cell_type": "code",
      "metadata": {
        "id": "tIrBjjoOZ2ji"
      },
      "source": [
        "from sklearn.feature_extraction.text import TfidfVectorizer"
      ],
      "execution_count": 14,
      "outputs": []
    },
    {
      "cell_type": "code",
      "metadata": {
        "id": "oOsu9xJQZ0V5"
      },
      "source": [
        "vectorizer=TfidfVectorizer(max_features=10000, stop_words= stop_words, ngram_range=(1, 2))\r\n",
        "\r\n",
        "temp = corpus_train['Content']\r\n",
        "\r\n",
        "train_vector = vectorizer.fit_transform(temp)\r\n",
        "\r\n",
        "temp = corpus_test['Content']\r\n",
        "\r\n",
        "test_vector = vectorizer.fit_transform(temp)"
      ],
      "execution_count": 15,
      "outputs": []
    },
    {
      "cell_type": "code",
      "metadata": {
        "colab": {
          "base_uri": "https://localhost:8080/"
        },
        "id": "AQxpiimy--vn",
        "outputId": "2102a9fc-b553-49b1-b682-86d3da02948b"
      },
      "source": [
        "print(train_vector.shape)\r\n",
        "print(test_vector.shape)"
      ],
      "execution_count": 16,
      "outputs": [
        {
          "output_type": "stream",
          "text": [
            "(531990, 10000)\n",
            "(5374, 10000)\n"
          ],
          "name": "stdout"
        }
      ]
    },
    {
      "cell_type": "code",
      "metadata": {
        "id": "vUOrCLRWYyz0"
      },
      "source": [
        "from sklearn.feature_extraction.text import CountVectorizer\r\n",
        "\r\n",
        "vectorizer=CountVectorizer(max_features=10000)\r\n",
        "\r\n",
        "corpus_compined = pd.DataFrame(corpus_test['Content'].append(corpus_train['Content'], ignore_index = True)) \r\n",
        "temp = corpus_compined['Content']\r\n",
        "\r\n",
        "vectorized_combined_content = vectorizer.fit_transform(temp)\r\n"
      ],
      "execution_count": 17,
      "outputs": []
    },
    {
      "cell_type": "code",
      "metadata": {
        "colab": {
          "base_uri": "https://localhost:8080/"
        },
        "id": "rjPPEwRnXorU",
        "outputId": "5aeab7a6-483d-4cf2-83e1-644bce17e43c"
      },
      "source": [
        "print(vectorized_combined_content.shape)"
      ],
      "execution_count": 61,
      "outputs": [
        {
          "output_type": "stream",
          "text": [
            "(537364, 10000)\n"
          ],
          "name": "stdout"
        }
      ]
    },
    {
      "cell_type": "code",
      "metadata": {
        "colab": {
          "base_uri": "https://localhost:8080/",
          "height": 52
        },
        "id": "Hf5mvq2ka9Pi",
        "outputId": "49acefc6-929a-46fe-eb2f-986f85bce616"
      },
      "source": [
        "vectorizer=CountVectorizer(max_features=10000)\r\n",
        "\r\n",
        "corpus_compined = pd.DataFrame(corpus_test['Content'].append(corpus_train['Content'], ignore_index = True)) \r\n",
        "temp = corpus_compined['Content']\r\n",
        "\r\n",
        "vectorized_combined_content_extended = vectorizer.fit_transform(temp)"
      ],
      "execution_count": 18,
      "outputs": [
        {
          "output_type": "execute_result",
          "data": {
            "application/vnd.google.colaboratory.intrinsic+json": {
              "type": "string"
            },
            "text/plain": [
              "\"\\nvectorizer=CountVectorizer(max_features=10000)\\n\\ncorpus_compined = pd.DataFrame(corpus_test['Content'].append(corpus_train['Content'], ignore_index = True)) \\ntemp = corpus_compined['Content']\\n\\nvectorized_combined_content_extended = vectorizer.fit_transform(temp)\\n\""
            ]
          },
          "metadata": {
            "tags": []
          },
          "execution_count": 18
        }
      ]
    },
    {
      "cell_type": "markdown",
      "metadata": {
        "id": "F7fSeW7n8CB6"
      },
      "source": [
        "#MinHash LSH\r\n",
        "http://ekzhu.com/datasketch/lsh.html\r\n"
      ]
    },
    {
      "cell_type": "markdown",
      "metadata": {
        "id": "iyWVG_HZAQrg"
      },
      "source": [
        "MinHash LSH contribution to this project, in order to eliminate the big runtime complexity of Cosine Similarty and especially Jaccard Similaty metrics. With thousands of questions, it is not computationally feasible to compare all to all questions in real time. We wish to only compare questions that are “similar” in order to save computational resources.\r\n",
        "\r\n",
        "LSH is is an algorithmic technique that hashes similar input items into the same “buckets” with high probability. This technique is commonly paired with MinHashing to de-duplicate documents."
      ]
    },
    {
      "cell_type": "code",
      "metadata": {
        "id": "pTqFXINK1_jx",
        "colab": {
          "base_uri": "https://localhost:8080/"
        },
        "outputId": "c59a3b7c-7dd9-4288-bcfb-58c43d909323"
      },
      "source": [
        "!pip install --upgrade datasketch"
      ],
      "execution_count": 62,
      "outputs": [
        {
          "output_type": "stream",
          "text": [
            "Requirement already up-to-date: datasketch in /usr/local/lib/python3.6/dist-packages (1.5.3)\n",
            "Requirement already satisfied, skipping upgrade: numpy>=1.11 in /usr/local/lib/python3.6/dist-packages (from datasketch) (1.19.5)\n"
          ],
          "name": "stdout"
        }
      ]
    },
    {
      "cell_type": "code",
      "metadata": {
        "id": "VQouD1G29VtZ"
      },
      "source": [
        "from tqdm import tqdm, tnrange, tqdm_notebook\r\n",
        "from datasketch import MinHash, MinHashLSH"
      ],
      "execution_count": 63,
      "outputs": []
    },
    {
      "cell_type": "markdown",
      "metadata": {
        "id": "kUWbcFt_Ap0S"
      },
      "source": [
        "##Map question id to set representation of question"
      ]
    },
    {
      "cell_type": "markdown",
      "metadata": {
        "id": "RsRGjjVhpPBB"
      },
      "source": [
        "The representation is the following. \r\n",
        "For example, if question with id = 19 is \"What is the best barbecue in Kansas City?\", it will be represented as *{'m19': 'What is the best barbecue in Kansas City?'}*. This applies to both train and test corpus. "
      ]
    },
    {
      "cell_type": "code",
      "metadata": {
        "colab": {
          "base_uri": "https://localhost:8080/",
          "height": 117,
          "referenced_widgets": [
            "a4e8253bf117411690e04507c0d30625",
            "097d329c8ee84c9d8907bc281cf2e3c3",
            "f19f394f50cd4cd9b0c4021215812606",
            "b7becadb7d814437ae5b73f7bc20a678",
            "55f7882fff71424ca05ae168d01c1d16",
            "eaa8c851d0764d9896a737f5ce95bcbb",
            "1b5ca647685f4af88063c4ef8d56e527",
            "f82962aaf70040609296913644b1c670"
          ]
        },
        "id": "LaTBNsAO5b49",
        "outputId": "b53d8c08-fd52-4970-9178-8e275eb140a6"
      },
      "source": [
        "#for train corpus\r\n",
        "train_dict={} \r\n",
        "count = 1\r\n",
        "for question in tqdm_notebook([x for x in corpus_train['Content'] if type(x)==str]):\r\n",
        "    temp = []\r\n",
        "    for shingle in question.split(' '):\r\n",
        "        if shingle not in stop_words:\r\n",
        "            temp.append(shingle)\r\n",
        "    \r\n",
        "    train_dict[\"m{0}\".format(count)] = set(temp)\r\n",
        "    count +=1"
      ],
      "execution_count": 64,
      "outputs": [
        {
          "output_type": "stream",
          "text": [
            "/usr/local/lib/python3.6/dist-packages/ipykernel_launcher.py:4: TqdmDeprecationWarning: This function will be removed in tqdm==5.0.0\n",
            "Please use `tqdm.notebook.tqdm` instead of `tqdm.tqdm_notebook`\n",
            "  after removing the cwd from sys.path.\n"
          ],
          "name": "stderr"
        },
        {
          "output_type": "display_data",
          "data": {
            "application/vnd.jupyter.widget-view+json": {
              "model_id": "a4e8253bf117411690e04507c0d30625",
              "version_minor": 0,
              "version_major": 2
            },
            "text/plain": [
              "HBox(children=(FloatProgress(value=0.0, max=531990.0), HTML(value='')))"
            ]
          },
          "metadata": {
            "tags": []
          }
        },
        {
          "output_type": "stream",
          "text": [
            "\n"
          ],
          "name": "stdout"
        }
      ]
    },
    {
      "cell_type": "code",
      "metadata": {
        "colab": {
          "base_uri": "https://localhost:8080/",
          "height": 117,
          "referenced_widgets": [
            "9a8ffbee1c264a248a85aeba4448a203",
            "6b84c0211a4d477cba86fc0f6c0bb682",
            "72d1bc5f78d943fe86b28b415bfc2317",
            "54661b7631f440658298adfe0a67a9ec",
            "b70167d093214d48a9422dfd43c89e6d",
            "c5d65402ad6247209282ae9cabb1286a",
            "ca50f82e12de4101a6693f53cf107302",
            "c9643160f8d64bec9b6eb536552b2745"
          ]
        },
        "id": "eM7l-TDt_nQv",
        "outputId": "4101fd6d-e732-4d60-abe4-29826aec3b43"
      },
      "source": [
        "#for test corpus\r\n",
        "test_dict={}\r\n",
        "count=1\r\n",
        "\r\n",
        "for question in tqdm_notebook([x for x in corpus_test['Content'] if type(x)==str]):\r\n",
        "    temp = []\r\n",
        "    for shingle in question.split(' '):\r\n",
        "        if shingle not in stop_words:\r\n",
        "            temp.append(shingle)\r\n",
        "\r\n",
        "    test_dict[\"m{0}\".format(count)] = set(temp)\r\n",
        "    count += 1"
      ],
      "execution_count": 65,
      "outputs": [
        {
          "output_type": "stream",
          "text": [
            "/usr/local/lib/python3.6/dist-packages/ipykernel_launcher.py:5: TqdmDeprecationWarning: This function will be removed in tqdm==5.0.0\n",
            "Please use `tqdm.notebook.tqdm` instead of `tqdm.tqdm_notebook`\n",
            "  \"\"\"\n"
          ],
          "name": "stderr"
        },
        {
          "output_type": "display_data",
          "data": {
            "application/vnd.jupyter.widget-view+json": {
              "model_id": "9a8ffbee1c264a248a85aeba4448a203",
              "version_minor": 0,
              "version_major": 2
            },
            "text/plain": [
              "HBox(children=(FloatProgress(value=0.0, max=5374.0), HTML(value='')))"
            ]
          },
          "metadata": {
            "tags": []
          }
        },
        {
          "output_type": "stream",
          "text": [
            "\n"
          ],
          "name": "stdout"
        }
      ]
    },
    {
      "cell_type": "code",
      "metadata": {
        "id": "RZ-FvIR_IPvN"
      },
      "source": [
        "prem_list = [16, 32, 64]\r\n",
        "l = [0, 0, 0]\r\n",
        "minhash_lsh_res = {'#Permutations': prem_list, 'BuildTime':l,'QueryTime':l, 'TotalTime':l, 'Candidate Duplicates':l}\r\n",
        "\r\n",
        "minhash_lsh = pd.DataFrame(minhash_lsh_res)"
      ],
      "execution_count": null,
      "outputs": []
    },
    {
      "cell_type": "markdown",
      "metadata": {
        "id": "4Aq6I2PEA8OD"
      },
      "source": [
        "##Create minHash signatures: map question to MinHash signatures\r\n",
        "\r\n"
      ]
    },
    {
      "cell_type": "markdown",
      "metadata": {
        "id": "9dr7_lkG5zid"
      },
      "source": [
        "Compute the MinHash signatures for each question. MinHash creates a numeric representation for each question based on the number of permutations. \r\n",
        "To compare the similarity between two questions we compare their respective numeric representations and calculate their Jaccard Index."
      ]
    },
    {
      "cell_type": "code",
      "metadata": {
        "id": "oNXPZ0YMA66W"
      },
      "source": [
        "num_perm = 64"
      ],
      "execution_count": 88,
      "outputs": []
    },
    {
      "cell_type": "code",
      "metadata": {
        "colab": {
          "base_uri": "https://localhost:8080/",
          "height": 117,
          "referenced_widgets": [
            "fe4837c08ed44f30afe6b11ae6f5d7ef",
            "2532fa1e498f4b2b9724f5b0f8850efc",
            "69184721f5ee48339a30321cbe9d2fa9",
            "dcee844cabe34b53bebfc51f88215f2c",
            "26fb644fa7fc438a815c84d93696ddcd",
            "e2e5bf1e981248b0b01cb5abae931c4b",
            "0c72fd1e569d4da18b85779205ad5be4",
            "f082f07171a94900be0337c3c053b508"
          ]
        },
        "id": "F-7TGb2rBD2t",
        "outputId": "d2ded0ab-643d-4f8f-d23e-27b037fae55c"
      },
      "source": [
        "min_train_dict = {}\r\n",
        "count = 1\r\n",
        "\r\n",
        "start = time.time() \r\n",
        "\r\n",
        "for val in tqdm_notebook(train_dict.values()): \r\n",
        "    m = MinHash(num_perm=num_perm)\r\n",
        "    for shingle in val:\r\n",
        "        m.update(shingle.encode('utf8'))\r\n",
        "\r\n",
        "    min_train_dict[\"m{}\".format(count)] = m\r\n",
        "    count += 1\r\n",
        "\r\n",
        "end = time.time()\r\n",
        " \r\n",
        "for i in range(3):\r\n",
        "  if minhash_lsh['#Permutations'][i] == num_perm:\r\n",
        "    minhash_lsh['BuildTime'][i] = minhash_lsh['BuildTime'][i] + (end - start)"
      ],
      "execution_count": 89,
      "outputs": [
        {
          "output_type": "stream",
          "text": [
            "/usr/local/lib/python3.6/dist-packages/ipykernel_launcher.py:6: TqdmDeprecationWarning: This function will be removed in tqdm==5.0.0\n",
            "Please use `tqdm.notebook.tqdm` instead of `tqdm.tqdm_notebook`\n",
            "  \n"
          ],
          "name": "stderr"
        },
        {
          "output_type": "display_data",
          "data": {
            "application/vnd.jupyter.widget-view+json": {
              "model_id": "fe4837c08ed44f30afe6b11ae6f5d7ef",
              "version_minor": 0,
              "version_major": 2
            },
            "text/plain": [
              "HBox(children=(FloatProgress(value=0.0, max=531990.0), HTML(value='')))"
            ]
          },
          "metadata": {
            "tags": []
          }
        },
        {
          "output_type": "stream",
          "text": [
            "\n"
          ],
          "name": "stdout"
        }
      ]
    },
    {
      "cell_type": "code",
      "metadata": {
        "colab": {
          "base_uri": "https://localhost:8080/",
          "height": 117,
          "referenced_widgets": [
            "fc9e4dc79d4e47eab6c5807b30a3e7db",
            "4ecb0172b6b4460080fd004ee9b25455",
            "9ed1828534cd430a86e574ad6f2557f1",
            "a8085bd690a94a1eb86f2b729c00c8c7",
            "13d64f9d63864d569a3460e822069c09",
            "7d418b00229a4b43b8bfcdde6f20582d",
            "cab20cdcdbff4fcba7915be311945885",
            "2fea1244a6ed46b4b117839c41287c95"
          ]
        },
        "id": "oBAsyPEY7Fhy",
        "outputId": "d9c72a66-b0a2-4503-9ece-43109e7171c7"
      },
      "source": [
        "min_test_dict = {}\r\n",
        "count = 1\r\n",
        "\r\n",
        "start = time.time() \r\n",
        "\r\n",
        "for val in tqdm_notebook(test_dict.values()): \r\n",
        "    m = MinHash(num_perm=num_perm)\r\n",
        "    for shingle in val:\r\n",
        "        m.update(shingle.encode('utf8'))\r\n",
        "\r\n",
        "    min_test_dict[\"m{}\".format(count)] = m\r\n",
        "    count += 1\r\n",
        "\r\n",
        "end = time.time()\r\n",
        " \r\n",
        "for i in range(3):\r\n",
        "  if minhash_lsh['#Permutations'][i] == num_perm:\r\n",
        "    minhash_lsh['BuildTime'][i] = minhash_lsh['BuildTime'][i] + (end - start)"
      ],
      "execution_count": 90,
      "outputs": [
        {
          "output_type": "stream",
          "text": [
            "/usr/local/lib/python3.6/dist-packages/ipykernel_launcher.py:6: TqdmDeprecationWarning: This function will be removed in tqdm==5.0.0\n",
            "Please use `tqdm.notebook.tqdm` instead of `tqdm.tqdm_notebook`\n",
            "  \n"
          ],
          "name": "stderr"
        },
        {
          "output_type": "display_data",
          "data": {
            "application/vnd.jupyter.widget-view+json": {
              "model_id": "fc9e4dc79d4e47eab6c5807b30a3e7db",
              "version_minor": 0,
              "version_major": 2
            },
            "text/plain": [
              "HBox(children=(FloatProgress(value=0.0, max=5374.0), HTML(value='')))"
            ]
          },
          "metadata": {
            "tags": []
          }
        },
        {
          "output_type": "stream",
          "text": [
            "\n"
          ],
          "name": "stdout"
        }
      ]
    },
    {
      "cell_type": "markdown",
      "metadata": {
        "id": "F7z8FKaoBVqf"
      },
      "source": [
        "##Create LSH index"
      ]
    },
    {
      "cell_type": "markdown",
      "metadata": {
        "id": "o9VezoWj9zhH"
      },
      "source": [
        "\r\n",
        "We loop through the MinHash signatures created in the train and test dictionary and apply to them a fixed number of hash functions. We then bucket those hash functions into bands. \r\n",
        "Datasketch stores these in a dictionary format, where the key is 'm'+ question id and the values are all the questions deemed similar based on the defined threshold. "
      ]
    },
    {
      "cell_type": "code",
      "metadata": {
        "colab": {
          "base_uri": "https://localhost:8080/",
          "height": 117,
          "referenced_widgets": [
            "f2e01d3209334cc1823c9c306e44e753",
            "240b817c722240a5882b1d81af17e308",
            "50df9d58c9c9468b93ee421e93763930",
            "113f06a006d54c8cb9838b9749de1b05",
            "82e13ac5509f4312878529d3c0749287",
            "98fa520db8194d4084b8a89327bcefd8",
            "8d87a7a80f224ebb9dc79a958abde957",
            "84bf2640887147918879804f188ac8bf"
          ]
        },
        "id": "yeKloi-7IEoW",
        "outputId": "98461398-3fdd-4e63-b4a8-7e3f7aa52d4f"
      },
      "source": [
        "start = time.time() \r\n",
        "\r\n",
        "lsh = MinHashLSH(threshold=0.8, num_perm=num_perm)\r\n",
        "\r\n",
        "for key in tqdm_notebook(min_train_dict.keys()):\r\n",
        "    lsh.insert(key,min_train_dict[key])\r\n",
        "\r\n",
        "end = time.time()\r\n",
        " \r\n",
        "for i in range(3):\r\n",
        "  if minhash_lsh['#Permutations'][i] == num_perm:\r\n",
        "    minhash_lsh['BuildTime'][i] = minhash_lsh['BuildTime'][i] + (end - start)"
      ],
      "execution_count": 91,
      "outputs": [
        {
          "output_type": "stream",
          "text": [
            "/usr/local/lib/python3.6/dist-packages/ipykernel_launcher.py:5: TqdmDeprecationWarning: This function will be removed in tqdm==5.0.0\n",
            "Please use `tqdm.notebook.tqdm` instead of `tqdm.tqdm_notebook`\n",
            "  \"\"\"\n"
          ],
          "name": "stderr"
        },
        {
          "output_type": "display_data",
          "data": {
            "application/vnd.jupyter.widget-view+json": {
              "model_id": "f2e01d3209334cc1823c9c306e44e753",
              "version_minor": 0,
              "version_major": 2
            },
            "text/plain": [
              "HBox(children=(FloatProgress(value=0.0, max=531990.0), HTML(value='')))"
            ]
          },
          "metadata": {
            "tags": []
          }
        },
        {
          "output_type": "stream",
          "text": [
            "\n"
          ],
          "name": "stdout"
        }
      ]
    },
    {
      "cell_type": "markdown",
      "metadata": {
        "id": "SXiomwycCCxL"
      },
      "source": [
        "##Create candidate pairs"
      ]
    },
    {
      "cell_type": "markdown",
      "metadata": {
        "id": "pkupCg49-Vum"
      },
      "source": [
        "We used the function called create_cand_pairs in order to combine the similar questions into pairs, as a very helpful step for next stage evaluation. It simply changes the format of the dictionary to be a list of lists with each sub-list being a candidate pair."
      ]
    },
    {
      "cell_type": "markdown",
      "metadata": {
        "id": "u6lV31cQCKF5"
      },
      "source": [
        "Method to create the candidate pairs in the LSH index. We need to keep in those from the train set."
      ]
    },
    {
      "cell_type": "code",
      "metadata": {
        "id": "CxQKLBHQI2oH"
      },
      "source": [
        "def create_cand_pairs():\r\n",
        "  l = []\r\n",
        "\r\n",
        "  #query the test corpus\r\n",
        "  for query in min_test_dict.keys():\r\n",
        "    bucket = lsh.query(min_test_dict[query])\r\n",
        "    if len(bucket) > 0: \r\n",
        "      l.append(query)\r\n",
        "\r\n",
        "  return l\r\n",
        "  \r\n",
        "start = time.time()\r\n",
        "        \r\n",
        "cand_pairs = create_cand_pairs()\r\n",
        "\r\n",
        "end = time.time()\r\n",
        "\r\n",
        "for i in range(3):\r\n",
        "  if minhash_lsh['#Permutations'][i] == num_perm:\r\n",
        "    minhash_lsh['QueryTime'][i] = minhash_lsh['QueryTime'][i] + (end - start)\r\n",
        "    k = i\r\n",
        "    break\r\n",
        "\r\n",
        "minhash_lsh['TotalTime'][k] = minhash_lsh['BuildTime'][k] + minhash_lsh['QueryTime'][k]\r\n",
        "minhash_lsh['Candidate Duplicates'][k] = len(cand_pairs)"
      ],
      "execution_count": 92,
      "outputs": []
    },
    {
      "cell_type": "code",
      "metadata": {
        "colab": {
          "base_uri": "https://localhost:8080/"
        },
        "id": "j_ujHWc8EcpK",
        "outputId": "6fe7bdbf-a9f0-452d-8c52-4b6d8c9fa9fc"
      },
      "source": [
        "print(\"LSH Jaccard #Duplicates = \" + str(len(cand_pairs))) \r\n",
        "print(\"Build Time = \" + str(minhash_lsh['BuildTime'][k])) \r\n",
        "print(\"Query Time = \" + str(minhash_lsh['QueryTime'][k])) "
      ],
      "execution_count": 93,
      "outputs": [
        {
          "output_type": "stream",
          "text": [
            "LSH Jaccard #Duplicates = 920\n",
            "Build Time = 531\n",
            "Query Time = 0\n"
          ],
          "name": "stdout"
        }
      ]
    },
    {
      "cell_type": "code",
      "metadata": {
        "colab": {
          "base_uri": "https://localhost:8080/",
          "height": 142
        },
        "id": "dLqV23PQaum0",
        "outputId": "530eb861-0012-41e6-f808-8681bc3bbb3b"
      },
      "source": [
        "minhash_lsh"
      ],
      "execution_count": 94,
      "outputs": [
        {
          "output_type": "execute_result",
          "data": {
            "text/html": [
              "<div>\n",
              "<style scoped>\n",
              "    .dataframe tbody tr th:only-of-type {\n",
              "        vertical-align: middle;\n",
              "    }\n",
              "\n",
              "    .dataframe tbody tr th {\n",
              "        vertical-align: top;\n",
              "    }\n",
              "\n",
              "    .dataframe thead th {\n",
              "        text-align: right;\n",
              "    }\n",
              "</style>\n",
              "<table border=\"1\" class=\"dataframe\">\n",
              "  <thead>\n",
              "    <tr style=\"text-align: right;\">\n",
              "      <th></th>\n",
              "      <th>#Permutations</th>\n",
              "      <th>BuildTime</th>\n",
              "      <th>QueryTime</th>\n",
              "      <th>TotalTime</th>\n",
              "      <th>Candidate Duplicates</th>\n",
              "    </tr>\n",
              "  </thead>\n",
              "  <tbody>\n",
              "    <tr>\n",
              "      <th>0</th>\n",
              "      <td>16</td>\n",
              "      <td>289</td>\n",
              "      <td>0</td>\n",
              "      <td>289</td>\n",
              "      <td>954</td>\n",
              "    </tr>\n",
              "    <tr>\n",
              "      <th>1</th>\n",
              "      <td>32</td>\n",
              "      <td>368</td>\n",
              "      <td>0</td>\n",
              "      <td>368</td>\n",
              "      <td>857</td>\n",
              "    </tr>\n",
              "    <tr>\n",
              "      <th>2</th>\n",
              "      <td>64</td>\n",
              "      <td>531</td>\n",
              "      <td>0</td>\n",
              "      <td>531</td>\n",
              "      <td>920</td>\n",
              "    </tr>\n",
              "  </tbody>\n",
              "</table>\n",
              "</div>"
            ],
            "text/plain": [
              "   #Permutations  BuildTime  QueryTime  TotalTime  Candidate Duplicates\n",
              "0             16        289          0        289                   954\n",
              "1             32        368          0        368                   857\n",
              "2             64        531          0        531                   920"
            ]
          },
          "metadata": {
            "tags": []
          },
          "execution_count": 94
        }
      ]
    },
    {
      "cell_type": "markdown",
      "metadata": {
        "id": "CXssFOGGhlar"
      },
      "source": [
        "#Random Projection LSH"
      ]
    },
    {
      "cell_type": "markdown",
      "metadata": {
        "id": "I4CT7N3YhvRm"
      },
      "source": [
        "We have used the following LSH cosine-based implementation for the LSH-Cosine requirement: \r\n",
        "http://ethen8181.github.io/machine-learning/recsys/content_based/lsh_text.html#Locality-Sensitive-Hashing-(LSH)---Cosine-Distance"
      ]
    },
    {
      "cell_type": "code",
      "metadata": {
        "id": "BrYlly99u5Jl"
      },
      "source": [
        "k_list = [1, 2, 3, 4, 5, 6, 7, 8, 9, 10]\r\n",
        "l = [0, 0, 0, 0, 0, 0, 0, 0, 0, 0]\r\n",
        "lsh_res = {'Parameter k': k_list, 'BuildTime':l,'QueryTime':l, 'TotalTime':l, 'Candidate Duplicates':l}\r\n",
        "\r\n",
        "random_projection_lsh = pd.DataFrame(lsh_res)"
      ],
      "execution_count": null,
      "outputs": []
    },
    {
      "cell_type": "markdown",
      "metadata": {
        "id": "LD-YsQxe3J0X"
      },
      "source": [
        "First step is to generate a collection of random vectors from the standard Gaussian distribution. Each vector can be used to compute one bit in the bin encoding. We generate 16 vectors, leading to a 16-bit encoding of the bin index for each document."
      ]
    },
    {
      "cell_type": "code",
      "metadata": {
        "id": "22TkUk8piGOm"
      },
      "source": [
        "def generate_random_vectors(dim, n_vectors):\r\n",
        "    return np.random.randn(dim, n_vectors)"
      ],
      "execution_count": 55,
      "outputs": []
    },
    {
      "cell_type": "markdown",
      "metadata": {
        "id": "BVrEyV4GkfaY"
      },
      "source": [
        "##Train LSH"
      ]
    },
    {
      "cell_type": "code",
      "metadata": {
        "id": "T2wzN9FMiPLG"
      },
      "source": [
        "from collections import defaultdict\r\n",
        "\r\n",
        "def train_lsh(train_bow, n_vectors, seed=None):    \r\n",
        "    if seed is not None:\r\n",
        "        np.random.seed(seed)\r\n",
        "\r\n",
        "    dim = train_bow.shape[1]\r\n",
        "    random_vectors = generate_random_vectors(dim, n_vectors)  \r\n",
        "\r\n",
        "    bin_indices_bits = train_bow.dot(random_vectors) >= 0\r\n",
        "    powers_of_two = 1 << np.arange(n_vectors - 1, -1, step=-1)\r\n",
        "    bin_indices = bin_indices_bits.dot(powers_of_two)\r\n",
        "\r\n",
        "    table = defaultdict(list)\r\n",
        "    for idx, bin_index in enumerate(bin_indices):\r\n",
        "        table[bin_index].append(idx)\r\n",
        "    \r\n",
        "    model = {'table': table,\r\n",
        "             'random_vectors': random_vectors,\r\n",
        "             'bin_indices': bin_indices,\r\n",
        "             'bin_indices_bits': bin_indices_bits}\r\n",
        "             \r\n",
        "    return model"
      ],
      "execution_count": 56,
      "outputs": []
    },
    {
      "cell_type": "markdown",
      "metadata": {
        "id": "CRO6RLHfkkhI"
      },
      "source": [
        "##Search Nearby Bins"
      ]
    },
    {
      "cell_type": "code",
      "metadata": {
        "id": "cvJoaCApiZ4P"
      },
      "source": [
        "from itertools import combinations\r\n",
        "\r\n",
        "def search_nearby_bins(query_bin_bits, table, search_radius, candidate_set):\r\n",
        "  \r\n",
        "    if candidate_set is None:\r\n",
        "        candidate_set = set()\r\n",
        "\r\n",
        "    n_vectors = query_bin_bits.shape[0]\r\n",
        "    powers_of_two = 1 << np.arange(n_vectors - 1, -1, step=-1)\r\n",
        "\r\n",
        "    for different_bits in combinations(range(n_vectors), search_radius):\r\n",
        "        index = list(different_bits)\r\n",
        "        alternate_bits = query_bin_bits.copy()\r\n",
        "        alternate_bits[index] = np.logical_not(alternate_bits[index])\r\n",
        "\r\n",
        "        nearby_bin = alternate_bits.dot(powers_of_two)\r\n",
        "\r\n",
        "        if nearby_bin in table:\r\n",
        "            candidate_set.update(table[nearby_bin])\r\n",
        "\r\n",
        "    return candidate_set"
      ],
      "execution_count": 57,
      "outputs": []
    },
    {
      "cell_type": "markdown",
      "metadata": {
        "id": "H5TeCDWgkosz"
      },
      "source": [
        "##Get Nearest Neighbors"
      ]
    },
    {
      "cell_type": "code",
      "metadata": {
        "id": "n3NqHHatjXE3"
      },
      "source": [
        "from sklearn.metrics.pairwise import pairwise_distances\r\n",
        "\r\n",
        "def get_nearest_neighbors(train_bow, query_vector, model, max_search_radius):\r\n",
        "    table = model['table']\r\n",
        "    random_vectors = model['random_vectors']\r\n",
        "\r\n",
        "    bin_index_bits = np.ravel(query_vector.dot(random_vectors) >= 0)\r\n",
        "\r\n",
        "    candidate_set = set()\r\n",
        "    for search_radius in range(max_search_radius + 1):\r\n",
        "        candidate_set = search_nearby_bins(bin_index_bits, table, search_radius, candidate_set)\r\n",
        "\r\n",
        "    candidate_list = list(candidate_set)\r\n",
        "    candidates = train_bow[candidate_list]\r\n",
        "    distance = pairwise_distances(candidates, query_vector, metric='cosine').flatten()\r\n",
        "    \r\n",
        "    distance_col = 'distance'\r\n",
        "    nearest_neighbors = pd.DataFrame({\r\n",
        "        'id': candidate_list, distance_col: distance\r\n",
        "    }).sort_values(distance_col).reset_index(drop=True)\r\n",
        "    \r\n",
        "    return nearest_neighbors"
      ],
      "execution_count": 58,
      "outputs": []
    },
    {
      "cell_type": "markdown",
      "metadata": {
        "id": "O-n8lyf6kzhj"
      },
      "source": [
        "##Query LSH"
      ]
    },
    {
      "cell_type": "code",
      "metadata": {
        "id": "7d0WnOBkoloW"
      },
      "source": [
        "k = 5"
      ],
      "execution_count": 112,
      "outputs": []
    },
    {
      "cell_type": "code",
      "metadata": {
        "id": "MKXdTBVBAXah"
      },
      "source": [
        "start = time.time() \r\n",
        "# build the model\r\n",
        "n_vectors = k\r\n",
        "model = train_lsh(vectorized_combined_content, n_vectors, seed=143)\r\n",
        "\r\n",
        "end = time.time()\r\n",
        "build_time = end - start\r\n",
        "\r\n",
        "lsh_cands = []\r\n",
        "\r\n",
        "start = time.time() \r\n",
        "\r\n",
        "for i in range(5374):\r\n",
        "  query_vector = vectorized_combined_content[i]\r\n",
        "    \r\n",
        "  nearest_neighbors = get_nearest_neighbors(vectorized_combined_content, query_vector, model, 0)\r\n",
        "\r\n",
        "  num_candidates = nearest_neighbors.shape[0]\r\n",
        "  count = 0 \r\n",
        "\r\n",
        "  for l in range(num_candidates): \r\n",
        "    if nearest_neighbors['distance'][l] < 0.2 and nearest_neighbors['id'][l] >= 5374: \r\n",
        "      count = count + 1\r\n",
        "    if count >= 1: \r\n",
        "      lsh_cands.append(i)\r\n",
        "      break\r\n",
        "\r\n",
        "end = time.time()\r\n",
        "query_time = end - start"
      ],
      "execution_count": 113,
      "outputs": []
    },
    {
      "cell_type": "code",
      "metadata": {
        "id": "m-9vuXOEo8kq"
      },
      "source": [
        "random_projection_lsh['QueryTime'][k-1] = query_time\r\n",
        "random_projection_lsh['BuildTime'][k-1] = build_time\r\n",
        "random_projection_lsh['TotalTime'][k-1] = query_time + build_time\r\n",
        "random_projection_lsh['Candidate Duplicates'][k-1] = len(lsh_cands)"
      ],
      "execution_count": 114,
      "outputs": []
    },
    {
      "cell_type": "code",
      "metadata": {
        "colab": {
          "base_uri": "https://localhost:8080/",
          "height": 359
        },
        "id": "w5KjxkP_pZ4U",
        "outputId": "d8b98725-0d1c-4f37-99cd-41fd82fdd3f0"
      },
      "source": [
        "random_projection_lsh"
      ],
      "execution_count": 115,
      "outputs": [
        {
          "output_type": "execute_result",
          "data": {
            "text/html": [
              "<div>\n",
              "<style scoped>\n",
              "    .dataframe tbody tr th:only-of-type {\n",
              "        vertical-align: middle;\n",
              "    }\n",
              "\n",
              "    .dataframe tbody tr th {\n",
              "        vertical-align: top;\n",
              "    }\n",
              "\n",
              "    .dataframe thead th {\n",
              "        text-align: right;\n",
              "    }\n",
              "</style>\n",
              "<table border=\"1\" class=\"dataframe\">\n",
              "  <thead>\n",
              "    <tr style=\"text-align: right;\">\n",
              "      <th></th>\n",
              "      <th>Parameter k</th>\n",
              "      <th>BuildTime</th>\n",
              "      <th>QueryTime</th>\n",
              "      <th>TotalTime</th>\n",
              "      <th>Candidate Duplicates</th>\n",
              "    </tr>\n",
              "  </thead>\n",
              "  <tbody>\n",
              "    <tr>\n",
              "      <th>0</th>\n",
              "      <td>1</td>\n",
              "      <td>0</td>\n",
              "      <td>0</td>\n",
              "      <td>0</td>\n",
              "      <td>0</td>\n",
              "    </tr>\n",
              "    <tr>\n",
              "      <th>1</th>\n",
              "      <td>2</td>\n",
              "      <td>0</td>\n",
              "      <td>0</td>\n",
              "      <td>0</td>\n",
              "      <td>0</td>\n",
              "    </tr>\n",
              "    <tr>\n",
              "      <th>2</th>\n",
              "      <td>3</td>\n",
              "      <td>0</td>\n",
              "      <td>0</td>\n",
              "      <td>0</td>\n",
              "      <td>0</td>\n",
              "    </tr>\n",
              "    <tr>\n",
              "      <th>3</th>\n",
              "      <td>4</td>\n",
              "      <td>0</td>\n",
              "      <td>0</td>\n",
              "      <td>0</td>\n",
              "      <td>0</td>\n",
              "    </tr>\n",
              "    <tr>\n",
              "      <th>4</th>\n",
              "      <td>5</td>\n",
              "      <td>0</td>\n",
              "      <td>660</td>\n",
              "      <td>660</td>\n",
              "      <td>1351</td>\n",
              "    </tr>\n",
              "    <tr>\n",
              "      <th>5</th>\n",
              "      <td>6</td>\n",
              "      <td>0</td>\n",
              "      <td>0</td>\n",
              "      <td>0</td>\n",
              "      <td>0</td>\n",
              "    </tr>\n",
              "    <tr>\n",
              "      <th>6</th>\n",
              "      <td>7</td>\n",
              "      <td>0</td>\n",
              "      <td>0</td>\n",
              "      <td>0</td>\n",
              "      <td>0</td>\n",
              "    </tr>\n",
              "    <tr>\n",
              "      <th>7</th>\n",
              "      <td>8</td>\n",
              "      <td>0</td>\n",
              "      <td>0</td>\n",
              "      <td>0</td>\n",
              "      <td>0</td>\n",
              "    </tr>\n",
              "    <tr>\n",
              "      <th>8</th>\n",
              "      <td>9</td>\n",
              "      <td>0</td>\n",
              "      <td>0</td>\n",
              "      <td>0</td>\n",
              "      <td>0</td>\n",
              "    </tr>\n",
              "    <tr>\n",
              "      <th>9</th>\n",
              "      <td>10</td>\n",
              "      <td>0</td>\n",
              "      <td>45</td>\n",
              "      <td>45</td>\n",
              "      <td>854</td>\n",
              "    </tr>\n",
              "  </tbody>\n",
              "</table>\n",
              "</div>"
            ],
            "text/plain": [
              "   Parameter k  BuildTime  QueryTime  TotalTime  Candidate Duplicates\n",
              "0            1          0          0          0                     0\n",
              "1            2          0          0          0                     0\n",
              "2            3          0          0          0                     0\n",
              "3            4          0          0          0                     0\n",
              "4            5          0        660        660                  1351\n",
              "5            6          0          0          0                     0\n",
              "6            7          0          0          0                     0\n",
              "7            8          0          0          0                     0\n",
              "8            9          0          0          0                     0\n",
              "9           10          0         45         45                   854"
            ]
          },
          "metadata": {
            "tags": []
          },
          "execution_count": 115
        }
      ]
    },
    {
      "cell_type": "markdown",
      "metadata": {
        "id": "a20Il52cNeGc"
      },
      "source": [
        "#Random Projection 2\r\n",
        "https://pypi.org/project/lshashpy3/"
      ]
    },
    {
      "cell_type": "code",
      "metadata": {
        "colab": {
          "base_uri": "https://localhost:8080/"
        },
        "id": "CSQNdop4Nld4",
        "outputId": "22d5a1a5-c751-4e38-81c0-e34e56900dba"
      },
      "source": [
        "!pip install --upgrade lshashpy3"
      ],
      "execution_count": 109,
      "outputs": [
        {
          "output_type": "stream",
          "text": [
            "Collecting lshashpy3\n",
            "  Downloading https://files.pythonhosted.org/packages/0a/5e/746d7c54f883b1c0b216771d023b8e91e86b41eb9240b97baee8a849962f/lshashpy3-0.0.8.tar.gz\n",
            "Building wheels for collected packages: lshashpy3\n",
            "  Building wheel for lshashpy3 (setup.py) ... \u001b[?25l\u001b[?25hdone\n",
            "  Created wheel for lshashpy3: filename=lshashpy3-0.0.8-cp36-none-any.whl size=8877 sha256=5e5e8e4d08787f1ad89813b7b545c0fe05f38e34dd7590f34ad9798e34c4290e\n",
            "  Stored in directory: /root/.cache/pip/wheels/c6/81/29/a48985e27d56ddea4e601fda82b9be9962d20801b3cfa82c2d\n",
            "Successfully built lshashpy3\n",
            "Installing collected packages: lshashpy3\n",
            "Successfully installed lshashpy3-0.0.8\n"
          ],
          "name": "stdout"
        }
      ]
    },
    {
      "cell_type": "code",
      "metadata": {
        "id": "f5HYFbP3OV5h"
      },
      "source": [
        "from lshashpy3 import LSHash"
      ],
      "execution_count": 110,
      "outputs": []
    },
    {
      "cell_type": "code",
      "metadata": {
        "colab": {
          "base_uri": "https://localhost:8080/"
        },
        "id": "ISJvK_-tLgfL",
        "outputId": "f516a550-1397-441a-ad64-8b9acc9e5924"
      },
      "source": [
        "vectorized_combined_content"
      ],
      "execution_count": 26,
      "outputs": [
        {
          "output_type": "execute_result",
          "data": {
            "text/plain": [
              "<537364x77866 sparse matrix of type '<class 'numpy.int64'>'\n",
              "\twith 5498066 stored elements in Compressed Sparse Row format>"
            ]
          },
          "metadata": {
            "tags": []
          },
          "execution_count": 26
        }
      ]
    },
    {
      "cell_type": "code",
      "metadata": {
        "id": "IFAUy8UxObIa"
      },
      "source": [
        "#def create_lsh_index(k):\r\n",
        "d = 10000 # Dimension of Feature vector\r\n",
        "lsh = LSHash(hash_size=k, input_dim=d)\r\n",
        "for i in range(5374,100000):\r\n",
        "  lsh.index(vectorized_combined_content[i].toarray().ravel().astype('int8'), extra_data=str(i))\r\n",
        "  #return lsh"
      ],
      "execution_count": null,
      "outputs": []
    },
    {
      "cell_type": "code",
      "metadata": {
        "id": "vbHn6QIcqeQe"
      },
      "source": [
        "def create_lsh_index(k):\r\n",
        " # d = 10000 # Dimension of Feature vector\r\n",
        "  #lsh = LSHash(hash_size=k, input_dim=d)\r\n",
        "  for i in range(100000, 200000):\r\n",
        "    lsh.index(vectorized_combined_content[i].toarray().ravel().astype('int8'), extra_data=str(i))\r\n",
        "  return lsh"
      ],
      "execution_count": 107,
      "outputs": []
    },
    {
      "cell_type": "code",
      "metadata": {
        "id": "xKQmYFISmpD_"
      },
      "source": [
        "def query_data(lsh):\r\n",
        "  cands = []\r\n",
        "  for i in range(5374):\r\n",
        "    nn = lsh.query(vectorized_combined_content[i].toarray().ravel().astype('int8'), num_results=1, distance_func=\"cosine\")\r\n",
        "    for ((vec,extra_data),distance) in nn:\r\n",
        "      print(extra_data)\r\n",
        "      if 1 - distance >= 0.8:\r\n",
        "        if i not in cands: \r\n",
        "          cands.append(i)\r\n",
        "          #print(len(cands))\r\n",
        "  return cands"
      ],
      "execution_count": 29,
      "outputs": []
    },
    {
      "cell_type": "code",
      "metadata": {
        "id": "lHC9bcrFwBVC"
      },
      "source": [
        "for k in k_list:\r\n",
        "  lsh = create_lsh_index(k)\r\n",
        "  cands = query_data(lsh)\r\n",
        "  print(len(cands))\r\n",
        "  break"
      ],
      "execution_count": null,
      "outputs": []
    },
    {
      "cell_type": "code",
      "metadata": {
        "colab": {
          "base_uri": "https://localhost:8080/"
        },
        "id": "50it6YzRP5C6",
        "outputId": "29b33433-8fff-4bd4-e7de-52fc35143380"
      },
      "source": [
        "!pip install --upgrade lshashing"
      ],
      "execution_count": 1,
      "outputs": [
        {
          "output_type": "stream",
          "text": [
            "Requirement already up-to-date: lshashing in /usr/local/lib/python3.6/dist-packages (1.0.1)\n",
            "Requirement already satisfied, skipping upgrade: numpy in /usr/local/lib/python3.6/dist-packages (from lshashing) (1.19.5)\n",
            "Requirement already satisfied, skipping upgrade: joblib in /usr/local/lib/python3.6/dist-packages (from lshashing) (1.0.0)\n"
          ],
          "name": "stdout"
        }
      ]
    },
    {
      "cell_type": "code",
      "metadata": {
        "id": "0jTDJN-BP-fU"
      },
      "source": [
        ""
      ],
      "execution_count": null,
      "outputs": []
    },
    {
      "cell_type": "markdown",
      "metadata": {
        "id": "GjSS64Pfu_fN"
      },
      "source": [
        "#Exact Cosine Similarity\r\n",
        "https://scikit-learn.org/stable/modules/generated/sklearn.metrics.pairwise.cosine_similarity.html"
      ]
    },
    {
      "cell_type": "code",
      "metadata": {
        "id": "Jx-zFgcDg2i9"
      },
      "source": [
        "from sklearn.metrics.pairwise import cosine_similarity"
      ],
      "execution_count": 15,
      "outputs": []
    },
    {
      "cell_type": "code",
      "metadata": {
        "id": "0Oo06bCjYd2Z"
      },
      "source": [
        "dupcs_exact_cosine = []\r\n",
        "query_time_exact_cosine = 0"
      ],
      "execution_count": 16,
      "outputs": []
    },
    {
      "cell_type": "code",
      "metadata": {
        "id": "UIyAG_F3frRl"
      },
      "source": [
        "def check_threshold(res):\r\n",
        "  for i in range(len(res)):\r\n",
        "    for c in res[i]:\r\n",
        "      if c >= 0.8 and i not in dupcs_exact_cosine: \r\n",
        "        dupcs_exact_cosine.append(i)\r\n",
        "        break"
      ],
      "execution_count": 17,
      "outputs": []
    },
    {
      "cell_type": "code",
      "metadata": {
        "id": "IrKYGizdufCs"
      },
      "source": [
        "start = time.time() \r\n",
        "res = cosine_similarity(vectorized_combined_content_extended[0:500], vectorized_combined_content_extended[5374:])\r\n",
        "check_threshold(res)\r\n",
        "end = time.time()\r\n",
        "query_time_exact_cosine = query_time_exact_cosine + (end - start)"
      ],
      "execution_count": 18,
      "outputs": []
    },
    {
      "cell_type": "code",
      "metadata": {
        "colab": {
          "base_uri": "https://localhost:8080/"
        },
        "id": "5vwj-1BhaxjK",
        "outputId": "01d2cf95-10c6-4337-c5c4-0f059655bd77"
      },
      "source": [
        "print(\"Duplicates found until test data row 500: \" + str(len(dupcs_exact_cosine)))"
      ],
      "execution_count": 19,
      "outputs": [
        {
          "output_type": "stream",
          "text": [
            "Duplicates found until test data row 500: 183\n"
          ],
          "name": "stdout"
        }
      ]
    },
    {
      "cell_type": "code",
      "metadata": {
        "id": "nhd9DH2IBsFq"
      },
      "source": [
        "start = time.time() \r\n",
        "res = cosine_similarity(vectorized_combined_content_extended[500:1100], vectorized_combined_content_extended[5374:])\r\n",
        "check_threshold(res)\r\n",
        "end = time.time()\r\n",
        "query_time_exact_cosine = query_time_exact_cosine + (end - start)"
      ],
      "execution_count": 20,
      "outputs": []
    },
    {
      "cell_type": "code",
      "metadata": {
        "colab": {
          "base_uri": "https://localhost:8080/"
        },
        "id": "AmUc8HrGfYH8",
        "outputId": "5424d141-08fc-4d66-c9cc-c7396ad8a5bb"
      },
      "source": [
        "print(\"Duplicates found until test data row 1100: \" + str(len(dupcs_exact_cosine)))"
      ],
      "execution_count": 21,
      "outputs": [
        {
          "output_type": "stream",
          "text": [
            "Duplicates found until test data row 1100: 344\n"
          ],
          "name": "stdout"
        }
      ]
    },
    {
      "cell_type": "code",
      "metadata": {
        "id": "02YkG2rhDa37"
      },
      "source": [
        "start = time.time() \r\n",
        "res = cosine_similarity(vectorized_combined_content_extended[1100:1700], vectorized_combined_content_extended[5374:])\r\n",
        "check_threshold(res)\r\n",
        "end = time.time()\r\n",
        "query_time_exact_cosine = query_time_exact_cosine + (end - start)"
      ],
      "execution_count": 22,
      "outputs": []
    },
    {
      "cell_type": "code",
      "metadata": {
        "colab": {
          "base_uri": "https://localhost:8080/"
        },
        "id": "7Sy37Z2Jfarx",
        "outputId": "0a2f3f91-29dc-4979-f538-14a04eda0a34"
      },
      "source": [
        "print(\"Duplicates found until train data row 1700: \" + str(len(dupcs_exact_cosine)))"
      ],
      "execution_count": 23,
      "outputs": [
        {
          "output_type": "stream",
          "text": [
            "Duplicates found until train data row 1700: 436\n"
          ],
          "name": "stdout"
        }
      ]
    },
    {
      "cell_type": "code",
      "metadata": {
        "id": "xaeuWEluIfFB"
      },
      "source": [
        "start = time.time() \r\n",
        "res = cosine_similarity(vectorized_combined_content_extended[1700:2400], vectorized_combined_content_extended[5374:])\r\n",
        "check_threshold(res)\r\n",
        "end = time.time()\r\n",
        "query_time_exact_cosine = query_time_exact_cosine + (end - start)"
      ],
      "execution_count": 24,
      "outputs": []
    },
    {
      "cell_type": "code",
      "metadata": {
        "colab": {
          "base_uri": "https://localhost:8080/"
        },
        "id": "_nYjjSOJffrb",
        "outputId": "d906de4e-7c44-42ea-a71c-4fd27d6f8590"
      },
      "source": [
        "print(\"Duplicates found until test data row 2400: \" + str(len(dupcs_exact_cosine)))"
      ],
      "execution_count": 25,
      "outputs": [
        {
          "output_type": "stream",
          "text": [
            "Duplicates found until test data row 2400: 528\n"
          ],
          "name": "stdout"
        }
      ]
    },
    {
      "cell_type": "code",
      "metadata": {
        "id": "tfO--wrGJbZc"
      },
      "source": [
        "start = time.time() \r\n",
        "res = cosine_similarity(vectorized_combined_content_extended[2400:3100], vectorized_combined_content_extended[5374:])\r\n",
        "check_threshold(res)\r\n",
        "end = time.time()\r\n",
        "query_time_exact_cosine = query_time_exact_cosine + (end - start)"
      ],
      "execution_count": 26,
      "outputs": []
    },
    {
      "cell_type": "code",
      "metadata": {
        "colab": {
          "base_uri": "https://localhost:8080/"
        },
        "id": "5Q2HXI_urhHy",
        "outputId": "0db679a9-6a06-4a06-ddf6-96f5ad9b269f"
      },
      "source": [
        "print(\"Duplicates found until test data row 3100: \" + str(len(dupcs_exact_cosine)))"
      ],
      "execution_count": 27,
      "outputs": [
        {
          "output_type": "stream",
          "text": [
            "Duplicates found until test data row 3100: 593\n"
          ],
          "name": "stdout"
        }
      ]
    },
    {
      "cell_type": "code",
      "metadata": {
        "id": "lkVIGfIdr77L"
      },
      "source": [
        "start = time.time() \r\n",
        "res = cosine_similarity(vectorized_combined_content_extended[3100:4000], vectorized_combined_content_extended[5374:])\r\n",
        "check_threshold(res)\r\n",
        "end = time.time()\r\n",
        "query_time_exact_cosine = query_time_exact_cosine + (end - start)"
      ],
      "execution_count": 28,
      "outputs": []
    },
    {
      "cell_type": "code",
      "metadata": {
        "colab": {
          "base_uri": "https://localhost:8080/"
        },
        "id": "bkdfNsy0r8MN",
        "outputId": "10fb9b68-2c00-4818-b92e-3ba9ac109248"
      },
      "source": [
        "print(\"Duplicates found until test data row 4000: \" + str(len(dupcs_exact_cosine)))"
      ],
      "execution_count": 29,
      "outputs": [
        {
          "output_type": "stream",
          "text": [
            "Duplicates found until test data row 4000: 703\n"
          ],
          "name": "stdout"
        }
      ]
    },
    {
      "cell_type": "code",
      "metadata": {
        "id": "VC9ovZCKr8mh"
      },
      "source": [
        "start = time.time() \r\n",
        "res = cosine_similarity(vectorized_combined_content_extended[4000:4700], vectorized_combined_content_extended[5374:])\r\n",
        "check_threshold(res)\r\n",
        "end = time.time()\r\n",
        "query_time_exact_cosine = query_time_exact_cosine + (end - start)"
      ],
      "execution_count": 30,
      "outputs": []
    },
    {
      "cell_type": "code",
      "metadata": {
        "colab": {
          "base_uri": "https://localhost:8080/"
        },
        "id": "koG1DgXTr8uX",
        "outputId": "e9f9961e-122c-4d36-db91-b26e9d200d35"
      },
      "source": [
        "print(\"Duplicates found until test data row 4700: \" + str(len(dupcs_exact_cosine)))"
      ],
      "execution_count": 31,
      "outputs": [
        {
          "output_type": "stream",
          "text": [
            "Duplicates found until test data row 4700: 727\n"
          ],
          "name": "stdout"
        }
      ]
    },
    {
      "cell_type": "code",
      "metadata": {
        "id": "M_B9lnFhs7Yn"
      },
      "source": [
        "start = time.time() \r\n",
        "res = cosine_similarity(vectorized_combined_content_extended[4700:5374], vectorized_combined_content_extended[5374:])\r\n",
        "check_threshold(res)\r\n",
        "end = time.time()\r\n",
        "query_time_exact_cosine = query_time_exact_cosine + (end - start)"
      ],
      "execution_count": 32,
      "outputs": []
    },
    {
      "cell_type": "code",
      "metadata": {
        "colab": {
          "base_uri": "https://localhost:8080/"
        },
        "id": "mc2Gvq2wJGcI",
        "outputId": "feb54ece-0a4b-453a-940a-3617bbe5c335"
      },
      "source": [
        "print(\"Duplicates identified with exact cosine: \" + str(len(dupcs_exact_cosine)))\r\n",
        "print(\"Total query time with exact cosine: \" + str(query_time_exact_cosine) + \" s\")"
      ],
      "execution_count": 33,
      "outputs": [
        {
          "output_type": "stream",
          "text": [
            "Duplicates identified with exact cosine: 739\n",
            "Total query time with exact cosine: 532.7807335853577 s\n"
          ],
          "name": "stdout"
        }
      ]
    },
    {
      "cell_type": "code",
      "metadata": {
        "colab": {
          "base_uri": "https://localhost:8080/"
        },
        "id": "NWeJRq5rtm8_",
        "outputId": "e7d8addf-8b71-457f-a2bb-74f5c9213a6e"
      },
      "source": [
        "print(dupcs_exact_cosine[0:100])"
      ],
      "execution_count": 38,
      "outputs": [
        {
          "output_type": "stream",
          "text": [
            "[0, 2, 5, 7, 9, 12, 18, 22, 23, 28, 29, 31, 35, 40, 43, 49, 50, 51, 52, 54, 57, 59, 60, 61, 65, 67, 72, 73, 76, 80, 91, 92, 94, 95, 101, 104, 107, 108, 110, 114, 115, 116, 117, 118, 123, 129, 133, 135, 137, 138, 144, 149, 156, 159, 161, 164, 166, 167, 169, 172, 177, 178, 180, 181, 183, 184, 186, 189, 193, 199, 200, 201, 202, 203, 208, 214, 219, 220, 222, 224, 227, 233, 234, 236, 238, 239, 240, 244, 246, 248, 252, 259, 264, 271, 272, 273, 274, 277, 280, 285]\n"
          ],
          "name": "stdout"
        }
      ]
    },
    {
      "cell_type": "markdown",
      "metadata": {
        "id": "AwWAqoiovLUk"
      },
      "source": [
        "#Exact Jaccard Similarity"
      ]
    },
    {
      "cell_type": "code",
      "metadata": {
        "id": "S9rVpSaz3555"
      },
      "source": [
        "def jaccard(list1, list2):\r\n",
        "  intersection = len(list(set(list1).intersection(list2)))\r\n",
        "  union = (len(list1) + len(list2)) - intersection\r\n",
        "  return float(\"{:.2f}\".format(float(intersection) / union))"
      ],
      "execution_count": 116,
      "outputs": []
    },
    {
      "cell_type": "code",
      "metadata": {
        "id": "ee9gH22K9ZSW"
      },
      "source": [
        "splitted_train_corpus = []\r\n",
        "\r\n",
        "for j in range(len(corpus_train)):\r\n",
        "  splitted_train_corpus.append(corpus_train['Content'][j].split(\" \"))"
      ],
      "execution_count": 117,
      "outputs": []
    },
    {
      "cell_type": "code",
      "metadata": {
        "id": "A2TBHuDP8-FM"
      },
      "source": [
        "jaccard_dups = []\r\n",
        "start_time = time.time()\r\n",
        "\r\n",
        "l = len(corpus_train)\r\n",
        "\r\n",
        "for i in range(6):\r\n",
        "  for j in range(l):\r\n",
        "    j = jaccard(corpus_test['Content'][i].split(\" \"), splitted_train_corpus[j])\r\n",
        "    if j > 0.8: \r\n",
        "      dups.append(i)\r\n",
        "      break\r\n",
        "\r\n",
        "end_time = time.time()\r\n",
        "jaccard_query_time = end_time-start_time\r\n",
        "\r\n",
        "print(\"Duplicates identified with exact jaccard: \" + str(len(jaccard_dups)))\r\n",
        "print(\"Total query time with exact jaccard: \" + str(jaccard_query_time) + \" s\")"
      ],
      "execution_count": null,
      "outputs": []
    },
    {
      "cell_type": "code",
      "metadata": {
        "id": "Eg2JcqFXWgmn"
      },
      "source": [
        "print(\"Duplicates identified with exact jaccard: \" + str(len(jaccard_dups)))\r\n",
        "print(\"Total query time with exact jaccard: \" + str(jaccard_query_time) + \" s\")"
      ],
      "execution_count": null,
      "outputs": []
    },
    {
      "cell_type": "markdown",
      "metadata": {
        "id": "2VLI2Zz_UHAL"
      },
      "source": [
        "#Results"
      ]
    },
    {
      "cell_type": "code",
      "metadata": {
        "id": "-P_n4-37UGXk",
        "colab": {
          "base_uri": "https://localhost:8080/",
          "height": 173
        },
        "outputId": "f4fad17d-4b17-4b95-c8d1-7d5e3a4945a8"
      },
      "source": [
        "l = ['-', '-','-', '-']\r\n",
        "res = {'Type': [\"Exact-Jaccard\", \"Exact-Cosine\", \"LSH-Cosine\", \"LSH-Jaccard\"], \r\n",
        "      'BuildTime':l,\r\n",
        "      'QueryTime':l,\r\n",
        "       'TotalTime':l, \r\n",
        "       '#Duplicates':l, \r\n",
        "       'Parameters':l} \r\n",
        "\r\n",
        "res_df = pd.DataFrame(res)\r\n",
        "\r\n",
        "#exact-cosine results\r\n",
        "res_df['QueryTime'][1] = \"532.8 s\"\r\n",
        "res_df['TotalTime'][1] = \"532.8 s\"\r\n",
        "res_df['#Duplicates'][1] = 739\r\n",
        "\r\n",
        "res_df"
      ],
      "execution_count": 34,
      "outputs": [
        {
          "output_type": "execute_result",
          "data": {
            "text/html": [
              "<div>\n",
              "<style scoped>\n",
              "    .dataframe tbody tr th:only-of-type {\n",
              "        vertical-align: middle;\n",
              "    }\n",
              "\n",
              "    .dataframe tbody tr th {\n",
              "        vertical-align: top;\n",
              "    }\n",
              "\n",
              "    .dataframe thead th {\n",
              "        text-align: right;\n",
              "    }\n",
              "</style>\n",
              "<table border=\"1\" class=\"dataframe\">\n",
              "  <thead>\n",
              "    <tr style=\"text-align: right;\">\n",
              "      <th></th>\n",
              "      <th>Type</th>\n",
              "      <th>BuildTime</th>\n",
              "      <th>QueryTime</th>\n",
              "      <th>TotalTime</th>\n",
              "      <th>#Duplicates</th>\n",
              "      <th>Parameters</th>\n",
              "    </tr>\n",
              "  </thead>\n",
              "  <tbody>\n",
              "    <tr>\n",
              "      <th>0</th>\n",
              "      <td>Exact-Jaccard</td>\n",
              "      <td>-</td>\n",
              "      <td>-</td>\n",
              "      <td>-</td>\n",
              "      <td>-</td>\n",
              "      <td>-</td>\n",
              "    </tr>\n",
              "    <tr>\n",
              "      <th>1</th>\n",
              "      <td>Exact-Cosine</td>\n",
              "      <td>-</td>\n",
              "      <td>532.8 s</td>\n",
              "      <td>532.8 s</td>\n",
              "      <td>739</td>\n",
              "      <td>-</td>\n",
              "    </tr>\n",
              "    <tr>\n",
              "      <th>2</th>\n",
              "      <td>LSH-Cosine</td>\n",
              "      <td>-</td>\n",
              "      <td>-</td>\n",
              "      <td>-</td>\n",
              "      <td>-</td>\n",
              "      <td>-</td>\n",
              "    </tr>\n",
              "    <tr>\n",
              "      <th>3</th>\n",
              "      <td>LSH-Jaccard</td>\n",
              "      <td>-</td>\n",
              "      <td>-</td>\n",
              "      <td>-</td>\n",
              "      <td>-</td>\n",
              "      <td>-</td>\n",
              "    </tr>\n",
              "  </tbody>\n",
              "</table>\n",
              "</div>"
            ],
            "text/plain": [
              "            Type BuildTime QueryTime TotalTime #Duplicates Parameters\n",
              "0  Exact-Jaccard         -         -         -           -          -\n",
              "1   Exact-Cosine         -   532.8 s   532.8 s         739          -\n",
              "2     LSH-Cosine         -         -         -           -          -\n",
              "3    LSH-Jaccard         -         -         -           -          -"
            ]
          },
          "metadata": {
            "tags": []
          },
          "execution_count": 34
        }
      ]
    }
  ]
}